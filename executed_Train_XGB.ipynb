{
 "cells": [
  {
   "cell_type": "code",
   "execution_count": 1,
   "id": "c35b8359-af28-4fb4-98f5-a4ff39fd5b52",
   "metadata": {
    "execution": {
     "iopub.execute_input": "2025-03-02T21:32:24.550059Z",
     "iopub.status.busy": "2025-03-02T21:32:24.549772Z",
     "iopub.status.idle": "2025-03-02T21:32:24.559903Z",
     "shell.execute_reply": "2025-03-02T21:32:24.559198Z"
    },
    "papermill": {
     "duration": 0.020273,
     "end_time": "2025-03-02T21:32:24.561190",
     "exception": false,
     "start_time": "2025-03-02T21:32:24.540917",
     "status": "completed"
    },
    "tags": []
   },
   "outputs": [],
   "source": [
    "import json\n",
    "\n",
    "# Load configuration from JSON\n",
    "config_file = \"pipeline_config.json\"\n",
    "\n",
    "# Read the N_Trials value\n",
    "try:\n",
    "    with open(config_file, \"r\") as f:\n",
    "        config = json.load(f)\n",
    "        N_TRIALS = config.get(\"N_Trials\", 1)  # Default to 1 if not found\n",
    "except FileNotFoundError:\n",
    "    print(f\"Config file {config_file} not found. Using default values.\")\n",
    "    N_TRIALS = 1\n",
    "except json.JSONDecodeError:\n",
    "    print(f\"Error parsing {config_file}. Using default values.\")\n",
    "    N_TRIALS = 1\n"
   ]
  },
  {
   "cell_type": "code",
   "execution_count": 2,
   "id": "cb3bdd35-ac77-435c-831b-8769a3ae297d",
   "metadata": {
    "execution": {
     "iopub.execute_input": "2025-03-02T21:32:24.577334Z",
     "iopub.status.busy": "2025-03-02T21:32:24.576958Z",
     "iopub.status.idle": "2025-03-02T21:32:28.299817Z",
     "shell.execute_reply": "2025-03-02T21:32:28.298981Z"
    },
    "papermill": {
     "duration": 3.732466,
     "end_time": "2025-03-02T21:32:28.301289",
     "exception": false,
     "start_time": "2025-03-02T21:32:24.568823",
     "status": "completed"
    },
    "tags": []
   },
   "outputs": [
    {
     "name": "stdout",
     "output_type": "stream",
     "text": [
      "Requirement already satisfied: shap in /opt/conda/lib/python3.11/site-packages (0.46.0)\r\n",
      "Requirement already satisfied: numpy in /opt/conda/lib/python3.11/site-packages (from shap) (1.26.4)\r\n",
      "Requirement already satisfied: scipy in /opt/conda/lib/python3.11/site-packages (from shap) (1.15.1)\r\n",
      "Requirement already satisfied: scikit-learn in /opt/conda/lib/python3.11/site-packages (from shap) (1.5.2)\r\n",
      "Requirement already satisfied: pandas in /opt/conda/lib/python3.11/site-packages (from shap) (2.2.3)\r\n",
      "Requirement already satisfied: tqdm>=4.27.0 in /opt/conda/lib/python3.11/site-packages (from shap) (4.67.1)\r\n",
      "Requirement already satisfied: packaging>20.9 in /opt/conda/lib/python3.11/site-packages (from shap) (24.2)\r\n",
      "Requirement already satisfied: slicer==0.0.8 in /opt/conda/lib/python3.11/site-packages (from shap) (0.0.8)\r\n",
      "Requirement already satisfied: numba in /opt/conda/lib/python3.11/site-packages (from shap) (0.61.0)\r\n",
      "Requirement already satisfied: cloudpickle in /opt/conda/lib/python3.11/site-packages (from shap) (2.2.1)\r\n",
      "Requirement already satisfied: llvmlite<0.45,>=0.44.0dev0 in /opt/conda/lib/python3.11/site-packages (from numba->shap) (0.44.0)\r\n"
     ]
    },
    {
     "name": "stdout",
     "output_type": "stream",
     "text": [
      "Requirement already satisfied: python-dateutil>=2.8.2 in /opt/conda/lib/python3.11/site-packages (from pandas->shap) (2.9.0.post0)\r\n",
      "Requirement already satisfied: pytz>=2020.1 in /opt/conda/lib/python3.11/site-packages (from pandas->shap) (2024.1)\r\n",
      "Requirement already satisfied: tzdata>=2022.7 in /opt/conda/lib/python3.11/site-packages (from pandas->shap) (2025.1)\r\n",
      "Requirement already satisfied: joblib>=1.2.0 in /opt/conda/lib/python3.11/site-packages (from scikit-learn->shap) (1.4.2)\r\n",
      "Requirement already satisfied: threadpoolctl>=3.1.0 in /opt/conda/lib/python3.11/site-packages (from scikit-learn->shap) (3.5.0)\r\n",
      "Requirement already satisfied: six>=1.5 in /opt/conda/lib/python3.11/site-packages (from python-dateutil>=2.8.2->pandas->shap) (1.17.0)\r\n"
     ]
    },
    {
     "name": "stdout",
     "output_type": "stream",
     "text": [
      "Requirement already satisfied: xgboost in /opt/conda/lib/python3.11/site-packages (2.1.4)\r\n",
      "Requirement already satisfied: numpy in /opt/conda/lib/python3.11/site-packages (from xgboost) (1.26.4)\r\n",
      "Requirement already satisfied: scipy in /opt/conda/lib/python3.11/site-packages (from xgboost) (1.15.1)\r\n"
     ]
    }
   ],
   "source": [
    "!pip install shap\n",
    "!pip install xgboost"
   ]
  },
  {
   "cell_type": "code",
   "execution_count": 3,
   "id": "7a22c632-1ac0-4dd1-ae10-93a2483ef5c9",
   "metadata": {
    "execution": {
     "iopub.execute_input": "2025-03-02T21:32:28.317888Z",
     "iopub.status.busy": "2025-03-02T21:32:28.317181Z",
     "iopub.status.idle": "2025-03-02T21:32:32.090541Z",
     "shell.execute_reply": "2025-03-02T21:32:32.088865Z"
    },
    "papermill": {
     "duration": 3.78373,
     "end_time": "2025-03-02T21:32:32.092441",
     "exception": false,
     "start_time": "2025-03-02T21:32:28.308711",
     "status": "completed"
    },
    "tags": []
   },
   "outputs": [
    {
     "name": "stdout",
     "output_type": "stream",
     "text": [
      "sagemaker.config INFO - Not applying SDK defaults from location: /etc/xdg/sagemaker/config.yaml\n"
     ]
    },
    {
     "name": "stdout",
     "output_type": "stream",
     "text": [
      "sagemaker.config INFO - Not applying SDK defaults from location: /home/sagemaker-user/.config/sagemaker/config.yaml\n"
     ]
    }
   ],
   "source": [
    "import pandas as pd\n",
    "import numpy as np\n",
    "\n",
    "import boto3\n",
    "from pyathena import connect\n",
    "import sagemaker\n",
    "from sagemaker.feature_store.feature_group import FeatureGroup, FeatureDefinition, FeatureTypeEnum\n",
    "from sagemaker.session import Session\n",
    "from sagemaker import get_execution_role\n",
    "\n",
    "from pyathena import connect\n",
    "\n",
    "import time\n",
    "import shap\n",
    "import json\n",
    "import joblib\n",
    "import io\n",
    "\n",
    "import xgboost as xgb\n",
    "import matplotlib.pyplot as plt\n",
    "from sklearn.preprocessing import OneHotEncoder, LabelEncoder\n",
    "from sklearn.model_selection import train_test_split\n",
    "from sklearn.metrics import log_loss, accuracy_score, roc_auc_score, precision_score, recall_score\n",
    "\n",
    "from itertools import combinations\n",
    "import pickle\n",
    "import warnings\n",
    "\n",
    "import model_methods\n",
    "\n",
    "\n",
    "# S3 and Athena details\n",
    "bucket_name = \"group3-project-bucket\"\n",
    "database_name = \"group_project_db\"\n",
    "table_name = \"hospital_readmissions\"\n",
    "s3_output = f\"s3://{bucket_name}/athena-results/\"\n",
    "region = \"us-east-1\"\n",
    "s3_client = boto3.client(\"s3\", region_name=region)"
   ]
  },
  {
   "cell_type": "markdown",
   "id": "0b6b1314-f8dd-4e91-bfb4-0ad4ae6b1e70",
   "metadata": {
    "papermill": {
     "duration": 0.007492,
     "end_time": "2025-03-02T21:32:32.109045",
     "exception": false,
     "start_time": "2025-03-02T21:32:32.101553",
     "status": "completed"
    },
    "tags": []
   },
   "source": [
    "## Find the latest feature store to generate a new model!"
   ]
  },
  {
   "cell_type": "code",
   "execution_count": 4,
   "id": "4d572e43-c3ad-4047-946a-c9c00167d5c3",
   "metadata": {
    "execution": {
     "iopub.execute_input": "2025-03-02T21:32:32.126275Z",
     "iopub.status.busy": "2025-03-02T21:32:32.125585Z",
     "iopub.status.idle": "2025-03-02T21:32:32.527316Z",
     "shell.execute_reply": "2025-03-02T21:32:32.526193Z"
    },
    "papermill": {
     "duration": 0.411998,
     "end_time": "2025-03-02T21:32:32.529154",
     "exception": false,
     "start_time": "2025-03-02T21:32:32.117156",
     "status": "completed"
    },
    "tags": []
   },
   "outputs": [
    {
     "name": "stdout",
     "output_type": "stream",
     "text": [
      "\n",
      "Available Databases in Glue:\n",
      "- default\n",
      "- group_project_db\n",
      "- sagemaker_featurestore\n",
      "\n",
      "Tables in `sagemaker_featurestore` database:\n",
      "- hospital_readmissions_features_1740354579\n",
      "- hospital_readmissions_features_1740867183_1740867183\n",
      "- hospital_readmissions_features_1740867247_1740867247\n",
      "- hospital_readmissions_features_1740867455_1740867455\n",
      "- hospital_readmissions_features_1740867741_1740867741\n",
      "- hospital_readmissions_features_1740868107_1740868107\n",
      "- hospital_readmissions_features_1740868421_1740868421\n",
      "- hospital_readmissions_features_1740868692_1740868692\n",
      "- hospital_readmissions_features_1740869180_1740869180\n",
      "- hospital_readmissions_features_1740869682_1740869682\n",
      "- hospital_readmissions_features_1740871225_1740871225\n",
      "- hospital_readmissions_features_1740871778_1740871779\n",
      "- hospital_readmissions_features_1740872136_1740872136\n",
      "- hospital_readmissions_features_1740950588_1740950588\n",
      "- hospital_readmissions_features_1740951018_1740951018\n"
     ]
    }
   ],
   "source": [
    "glue_client = boto3.client(\"glue\")\n",
    "\n",
    "# List databases in AWS Glue\n",
    "response = glue_client.get_databases()\n",
    "print(\"\\nAvailable Databases in Glue:\")\n",
    "for db in response[\"DatabaseList\"]:\n",
    "    print(f\"- {db['Name']}\")\n",
    "\n",
    "# List tables in the `sagemaker_featurestore` database (if it exists)\n",
    "database_name = \"sagemaker_featurestore\"\n",
    "\n",
    "try:\n",
    "    response = glue_client.get_tables(DatabaseName=database_name)\n",
    "    print(f\"\\nTables in `{database_name}` database:\")\n",
    "    for table in response[\"TableList\"]:\n",
    "        print(f\"- {table['Name']}\")\n",
    "except glue_client.exceptions.EntityNotFoundException:\n",
    "    print(f\"\\nDatabase `{database_name}` not found in Glue.\")"
   ]
  },
  {
   "cell_type": "markdown",
   "id": "cd9fc34f-1b05-42f8-a424-ae687ddfa81e",
   "metadata": {
    "papermill": {
     "duration": 0.007487,
     "end_time": "2025-03-02T21:32:32.547025",
     "exception": false,
     "start_time": "2025-03-02T21:32:32.539538",
     "status": "completed"
    },
    "tags": []
   },
   "source": [
    "Query Athenta Tables for Data Splitting"
   ]
  },
  {
   "cell_type": "code",
   "execution_count": 5,
   "id": "96d3ad70-65eb-4bc7-a66e-617246728924",
   "metadata": {
    "execution": {
     "iopub.execute_input": "2025-03-02T21:32:32.565045Z",
     "iopub.status.busy": "2025-03-02T21:32:32.564510Z",
     "iopub.status.idle": "2025-03-02T21:32:39.921576Z",
     "shell.execute_reply": "2025-03-02T21:32:39.920374Z"
    },
    "papermill": {
     "duration": 7.368604,
     "end_time": "2025-03-02T21:32:39.923944",
     "exception": false,
     "start_time": "2025-03-02T21:32:32.555340",
     "status": "completed"
    },
    "tags": []
   },
   "outputs": [
    {
     "name": "stderr",
     "output_type": "stream",
     "text": [
      "/tmp/ipykernel_837/530253379.py:16: UserWarning: pandas only supports SQLAlchemy connectable (engine/connection) or database string URI or sqlite3 DBAPI2 connection. Other DBAPI2 objects are not tested. Please consider using SQLAlchemy.\n",
      "  df = pd.read_sql(query, connection)\n"
     ]
    }
   ],
   "source": [
    "# Query the feature store in Athena\n",
    "\n",
    "latest_table = response[\"TableList\"][-1]\n",
    "query = f\"\"\"\n",
    "SELECT * \n",
    "FROM \"sagemaker_featurestore\".\"{latest_table[\"Name\"]}\"\n",
    "\"\"\"\n",
    "\n",
    "# Connect to Athena\n",
    "connection = connect(\n",
    "    s3_staging_dir=f\"s3://{bucket_name}/athena-results/\",\n",
    "    region_name=\"us-east-1\"\n",
    ")\n",
    "\n",
    "# Retrieve all feature data\n",
    "df = pd.read_sql(query, connection)"
   ]
  },
  {
   "cell_type": "code",
   "execution_count": 6,
   "id": "1149d328-434f-4744-9293-e2fcb5410f47",
   "metadata": {
    "execution": {
     "iopub.execute_input": "2025-03-02T21:32:39.953827Z",
     "iopub.status.busy": "2025-03-02T21:32:39.953202Z",
     "iopub.status.idle": "2025-03-02T21:32:40.070556Z",
     "shell.execute_reply": "2025-03-02T21:32:40.069301Z"
    },
    "papermill": {
     "duration": 0.135974,
     "end_time": "2025-03-02T21:32:40.072305",
     "exception": false,
     "start_time": "2025-03-02T21:32:39.936331",
     "status": "completed"
    },
    "tags": []
   },
   "outputs": [
    {
     "data": {
      "text/html": [
       "<div>\n",
       "<style scoped>\n",
       "    .dataframe tbody tr th:only-of-type {\n",
       "        vertical-align: middle;\n",
       "    }\n",
       "\n",
       "    .dataframe tbody tr th {\n",
       "        vertical-align: top;\n",
       "    }\n",
       "\n",
       "    .dataframe thead th {\n",
       "        text-align: right;\n",
       "    }\n",
       "</style>\n",
       "<table border=\"1\" class=\"dataframe\">\n",
       "  <thead>\n",
       "    <tr style=\"text-align: right;\">\n",
       "      <th></th>\n",
       "      <th>age</th>\n",
       "      <th>time_in_hospital</th>\n",
       "      <th>n_lab_procedures</th>\n",
       "      <th>n_procedures</th>\n",
       "      <th>n_medications</th>\n",
       "      <th>n_outpatient</th>\n",
       "      <th>n_inpatient</th>\n",
       "      <th>n_emergency</th>\n",
       "      <th>medical_specialty</th>\n",
       "      <th>diag_1</th>\n",
       "      <th>diag_2</th>\n",
       "      <th>diag_3</th>\n",
       "      <th>glucose_test</th>\n",
       "      <th>a1ctest</th>\n",
       "      <th>change</th>\n",
       "      <th>diabetes_med</th>\n",
       "      <th>readmitted</th>\n",
       "    </tr>\n",
       "  </thead>\n",
       "  <tbody>\n",
       "    <tr>\n",
       "      <th>0</th>\n",
       "      <td>1</td>\n",
       "      <td>5</td>\n",
       "      <td>45</td>\n",
       "      <td>0</td>\n",
       "      <td>18</td>\n",
       "      <td>0</td>\n",
       "      <td>0</td>\n",
       "      <td>0</td>\n",
       "      <td>4</td>\n",
       "      <td>0</td>\n",
       "      <td>0</td>\n",
       "      <td>0</td>\n",
       "      <td>1</td>\n",
       "      <td>1</td>\n",
       "      <td>1</td>\n",
       "      <td>1</td>\n",
       "      <td>1</td>\n",
       "    </tr>\n",
       "    <tr>\n",
       "      <th>1</th>\n",
       "      <td>3</td>\n",
       "      <td>2</td>\n",
       "      <td>73</td>\n",
       "      <td>0</td>\n",
       "      <td>14</td>\n",
       "      <td>0</td>\n",
       "      <td>0</td>\n",
       "      <td>0</td>\n",
       "      <td>0</td>\n",
       "      <td>7</td>\n",
       "      <td>0</td>\n",
       "      <td>1</td>\n",
       "      <td>1</td>\n",
       "      <td>1</td>\n",
       "      <td>0</td>\n",
       "      <td>1</td>\n",
       "      <td>0</td>\n",
       "    </tr>\n",
       "    <tr>\n",
       "      <th>2</th>\n",
       "      <td>4</td>\n",
       "      <td>5</td>\n",
       "      <td>60</td>\n",
       "      <td>0</td>\n",
       "      <td>16</td>\n",
       "      <td>0</td>\n",
       "      <td>2</td>\n",
       "      <td>0</td>\n",
       "      <td>3</td>\n",
       "      <td>6</td>\n",
       "      <td>3</td>\n",
       "      <td>6</td>\n",
       "      <td>1</td>\n",
       "      <td>1</td>\n",
       "      <td>1</td>\n",
       "      <td>1</td>\n",
       "      <td>0</td>\n",
       "    </tr>\n",
       "    <tr>\n",
       "      <th>3</th>\n",
       "      <td>2</td>\n",
       "      <td>1</td>\n",
       "      <td>46</td>\n",
       "      <td>0</td>\n",
       "      <td>8</td>\n",
       "      <td>0</td>\n",
       "      <td>0</td>\n",
       "      <td>0</td>\n",
       "      <td>1</td>\n",
       "      <td>7</td>\n",
       "      <td>0</td>\n",
       "      <td>6</td>\n",
       "      <td>1</td>\n",
       "      <td>1</td>\n",
       "      <td>0</td>\n",
       "      <td>1</td>\n",
       "      <td>0</td>\n",
       "    </tr>\n",
       "    <tr>\n",
       "      <th>4</th>\n",
       "      <td>2</td>\n",
       "      <td>1</td>\n",
       "      <td>42</td>\n",
       "      <td>0</td>\n",
       "      <td>7</td>\n",
       "      <td>0</td>\n",
       "      <td>0</td>\n",
       "      <td>0</td>\n",
       "      <td>3</td>\n",
       "      <td>6</td>\n",
       "      <td>0</td>\n",
       "      <td>7</td>\n",
       "      <td>1</td>\n",
       "      <td>1</td>\n",
       "      <td>0</td>\n",
       "      <td>1</td>\n",
       "      <td>0</td>\n",
       "    </tr>\n",
       "  </tbody>\n",
       "</table>\n",
       "</div>"
      ],
      "text/plain": [
       "   age  time_in_hospital  n_lab_procedures  n_procedures  n_medications  \\\n",
       "0    1                 5                45             0             18   \n",
       "1    3                 2                73             0             14   \n",
       "2    4                 5                60             0             16   \n",
       "3    2                 1                46             0              8   \n",
       "4    2                 1                42             0              7   \n",
       "\n",
       "   n_outpatient  n_inpatient  n_emergency  medical_specialty  diag_1  diag_2  \\\n",
       "0             0            0            0                  4       0       0   \n",
       "1             0            0            0                  0       7       0   \n",
       "2             0            2            0                  3       6       3   \n",
       "3             0            0            0                  1       7       0   \n",
       "4             0            0            0                  3       6       0   \n",
       "\n",
       "   diag_3  glucose_test  a1ctest  change  diabetes_med  readmitted  \n",
       "0       0             1        1       1             1           1  \n",
       "1       1             1        1       0             1           0  \n",
       "2       6             1        1       1             1           0  \n",
       "3       6             1        1       0             1           0  \n",
       "4       7             1        1       0             1           0  "
      ]
     },
     "metadata": {},
     "output_type": "display_data"
    },
    {
     "name": "stdout",
     "output_type": "stream",
     "text": [
      "Base Features:  17\n",
      "Data Samples:  16459\n",
      "Identified categorical columns: ['glucose_test', 'A1Ctest', 'age', 'medical_specialty', 'diag_1', 'diag_2', 'diag_3', 'change', 'diabetes_med', 'readmitted']\n",
      "Category counts per categorical column: {'glucose_test': 3, 'A1Ctest': 3, 'age': 6, 'medical_specialty': 7, 'diag_1': 8, 'diag_2': 8, 'diag_3': 8, 'change': 2, 'diabetes_med': 2, 'readmitted': 2}\n",
      "Categorical columns:  ['glucose_test', 'A1Ctest', 'age', 'medical_specialty', 'diag_1', 'diag_2', 'diag_3', 'change', 'diabetes_med', 'readmitted']\n",
      "Num classes per category:  {'glucose_test': 3, 'A1Ctest': 3, 'age': 6, 'medical_specialty': 7, 'diag_1': 8, 'diag_2': 8, 'diag_3': 8, 'change': 2, 'diabetes_med': 2, 'readmitted': 2}\n"
     ]
    }
   ],
   "source": [
    "df = df.drop(columns=[\"event_time\", \"write_time\", \"api_invocation_time\", \"is_deleted\"])\n",
    "display(df.head())\n",
    "\n",
    "\n",
    "print(\"Base Features: \", len(df.columns))\n",
    "print(\"Data Samples: \", len(df))\n",
    "\n",
    "categorical_columns, num_cats = model_methods.get_categorical_columns_from_s3(bucket_name, s3_client)\n",
    "print(\"Categorical columns: \", categorical_columns)\n",
    "print(\"Num classes per category: \", num_cats)"
   ]
  },
  {
   "cell_type": "markdown",
   "id": "696deb1d-9946-4876-b1d8-c47bd9bec2ad",
   "metadata": {
    "papermill": {
     "duration": 0.028776,
     "end_time": "2025-03-02T21:32:40.112144",
     "exception": false,
     "start_time": "2025-03-02T21:32:40.083368",
     "status": "completed"
    },
    "tags": []
   },
   "source": [
    "Train an XGB model raw, use SHAP to visual feature importance."
   ]
  },
  {
   "cell_type": "code",
   "execution_count": 7,
   "id": "07779d43-4bdf-4d8e-8cb1-7c02ee9c4015",
   "metadata": {
    "execution": {
     "iopub.execute_input": "2025-03-02T21:32:40.131774Z",
     "iopub.status.busy": "2025-03-02T21:32:40.131271Z",
     "iopub.status.idle": "2025-03-02T21:32:40.435936Z",
     "shell.execute_reply": "2025-03-02T21:32:40.434915Z"
    },
    "papermill": {
     "duration": 0.317787,
     "end_time": "2025-03-02T21:32:40.439688",
     "exception": false,
     "start_time": "2025-03-02T21:32:40.121901",
     "status": "completed"
    },
    "tags": []
   },
   "outputs": [
    {
     "name": "stdout",
     "output_type": "stream",
     "text": [
      "✅ Test Log Loss: 0.7097\n",
      "✅ Test Accuracy: 0.5923\n",
      "✅ Test AUC: 0.6200\n",
      "✅ Test Precision: 0.5795\n",
      "✅ Test Recall: 0.5331\n"
     ]
    },
    {
     "data": {
      "text/plain": [
       "(0.5923450789793439,\n",
       " 0.6200100597668501,\n",
       " 0.5795297372060858,\n",
       " 0.5330788804071247)"
      ]
     },
     "execution_count": 7,
     "metadata": {},
     "output_type": "execute_result"
    }
   ],
   "source": [
    "# Split data into train (50%), test (10%), production (40%)\n",
    "train_df, temp_df = train_test_split(df, test_size=0.5, random_state=42)\n",
    "test_df, prod_df = train_test_split(temp_df, test_size=0.8, random_state=42)\n",
    "\n",
    "# Separate features and target variable\n",
    "target_column = \"readmitted\"\n",
    "X_train = train_df.drop(columns=[target_column])\n",
    "y_train = train_df[target_column]\n",
    "X_test = test_df.drop(columns=[target_column])\n",
    "y_test = test_df[target_column]\n",
    "\n",
    "# Train XGBoost model on production dataset\n",
    "dmatrix_train = xgb.DMatrix(X_train, label=y_train)\n",
    "params = {\n",
    "    \"objective\": \"binary:logistic\",\n",
    "    \"eval_metric\": \"logloss\",\n",
    "    \"seed\": 42\n",
    "}\n",
    "model = xgb.train(params, dmatrix_train, num_boost_round=100)\n",
    "\n",
    "def eval_model(model, X_test, y_test):\n",
    "    \"\"\"\n",
    "    Evaluates the XGBoost model and returns evaluation metrics.\n",
    "    Ensures all relevant metrics are logged for the model card.\n",
    "    \"\"\"\n",
    "    # Convert test data into DMatrix\n",
    "    dmatrix_test = xgb.DMatrix(X_test, label=y_test, enable_categorical=True)\n",
    "    \n",
    "    # Make predictions\n",
    "    y_pred_proba = model.predict(dmatrix_test)\n",
    "    y_pred = (y_pred_proba >= 0.5).astype(int)  # Convert probabilities to binary predictions\n",
    "    \n",
    "    # Compute evaluation metrics\n",
    "    test_log_loss = log_loss(y_test, y_pred_proba)\n",
    "    test_accuracy = accuracy_score(y_test, y_pred)\n",
    "    test_auc = roc_auc_score(y_test, y_pred_proba)\n",
    "    test_precision = precision_score(y_test, y_pred)\n",
    "    test_recall = recall_score(y_test, y_pred)\n",
    "\n",
    "    # Print evaluation metrics\n",
    "    print(f\"✅ Test Log Loss: {test_log_loss:.4f}\")\n",
    "    print(f\"✅ Test Accuracy: {test_accuracy:.4f}\")\n",
    "    print(f\"✅ Test AUC: {test_auc:.4f}\")\n",
    "    print(f\"✅ Test Precision: {test_precision:.4f}\")\n",
    "    print(f\"✅ Test Recall: {test_recall:.4f}\")\n",
    "\n",
    "    return test_accuracy, test_auc, test_precision, test_recall\n",
    "\n",
    "\n",
    "eval_model(model, X_test, y_test)"
   ]
  },
  {
   "cell_type": "markdown",
   "id": "695f75d6-85bb-4150-a8a0-d11e51e1ebe7",
   "metadata": {
    "papermill": {
     "duration": 0.012936,
     "end_time": "2025-03-02T21:32:40.467583",
     "exception": false,
     "start_time": "2025-03-02T21:32:40.454647",
     "status": "completed"
    },
    "tags": []
   },
   "source": [
    "Extract Important Features from XGBoost Model.. create interacting features from statistitically most important features."
   ]
  },
  {
   "cell_type": "code",
   "execution_count": 8,
   "id": "ade02a7e-dfe9-45e0-b75e-ddfe7e10fafd",
   "metadata": {
    "execution": {
     "iopub.execute_input": "2025-03-02T21:32:40.504273Z",
     "iopub.status.busy": "2025-03-02T21:32:40.503934Z",
     "iopub.status.idle": "2025-03-02T21:32:49.295899Z",
     "shell.execute_reply": "2025-03-02T21:32:49.295156Z"
    },
    "papermill": {
     "duration": 8.815016,
     "end_time": "2025-03-02T21:32:49.297193",
     "exception": false,
     "start_time": "2025-03-02T21:32:40.482177",
     "status": "completed"
    },
    "tags": []
   },
   "outputs": [
    {
     "name": "stdout",
     "output_type": "stream",
     "text": [
      "Identified categorical columns: ['glucose_test', 'A1Ctest', 'age', 'medical_specialty', 'diag_1', 'diag_2', 'diag_3', 'change', 'diabetes_med', 'readmitted']\n",
      "Category counts per categorical column: {'glucose_test': 3, 'A1Ctest': 3, 'age': 6, 'medical_specialty': 7, 'diag_1': 8, 'diag_2': 8, 'diag_3': 8, 'change': 2, 'diabetes_med': 2, 'readmitted': 2}\n"
     ]
    },
    {
     "name": "stdout",
     "output_type": "stream",
     "text": [
      "Top Features: ['n_inpatient', 'n_lab_procedures', 'n_medications', 'medical_specialty', 'n_outpatient', 'time_in_hospital', 'n_procedures', 'diag_3', 'diag_2', 'age', 'diag_1', 'n_emergency', 'a1ctest', 'change', 'diabetes_med', 'glucose_test']\n",
      "Skipping interaction: n_inpatient × medical_specialty (Categorical × Numeric)\n",
      "Skipping interaction: n_lab_procedures × medical_specialty (Categorical × Numeric)\n",
      "Skipping interaction: n_medications × medical_specialty (Categorical × Numeric)\n",
      "Skipping interaction: medical_specialty × n_outpatient (Categorical × Numeric)\n",
      "Interaction features saved to s3://group3-project-bucket/config/interaction_features.json\n"
     ]
    },
    {
     "data": {
      "text/html": [
       "<div>\n",
       "<style scoped>\n",
       "    .dataframe tbody tr th:only-of-type {\n",
       "        vertical-align: middle;\n",
       "    }\n",
       "\n",
       "    .dataframe tbody tr th {\n",
       "        vertical-align: top;\n",
       "    }\n",
       "\n",
       "    .dataframe thead th {\n",
       "        text-align: right;\n",
       "    }\n",
       "</style>\n",
       "<table border=\"1\" class=\"dataframe\">\n",
       "  <thead>\n",
       "    <tr style=\"text-align: right;\">\n",
       "      <th></th>\n",
       "      <th>n_inpatient</th>\n",
       "      <th>n_lab_procedures</th>\n",
       "      <th>n_medications</th>\n",
       "      <th>medical_specialty</th>\n",
       "      <th>n_outpatient</th>\n",
       "      <th>time_in_hospital</th>\n",
       "      <th>n_procedures</th>\n",
       "      <th>diag_3</th>\n",
       "      <th>diag_2</th>\n",
       "      <th>age</th>\n",
       "      <th>...</th>\n",
       "      <th>a1ctest</th>\n",
       "      <th>change</th>\n",
       "      <th>diabetes_med</th>\n",
       "      <th>glucose_test</th>\n",
       "      <th>n_inpatient_x_n_lab_procedures</th>\n",
       "      <th>n_inpatient_x_n_medications</th>\n",
       "      <th>n_inpatient_x_n_outpatient</th>\n",
       "      <th>n_lab_procedures_x_n_medications</th>\n",
       "      <th>n_lab_procedures_x_n_outpatient</th>\n",
       "      <th>n_medications_x_n_outpatient</th>\n",
       "    </tr>\n",
       "  </thead>\n",
       "  <tbody>\n",
       "    <tr>\n",
       "      <th>1603</th>\n",
       "      <td>0</td>\n",
       "      <td>57</td>\n",
       "      <td>12</td>\n",
       "      <td>3</td>\n",
       "      <td>0</td>\n",
       "      <td>1</td>\n",
       "      <td>0</td>\n",
       "      <td>6</td>\n",
       "      <td>1</td>\n",
       "      <td>3</td>\n",
       "      <td>...</td>\n",
       "      <td>1</td>\n",
       "      <td>0</td>\n",
       "      <td>0</td>\n",
       "      <td>1</td>\n",
       "      <td>0</td>\n",
       "      <td>0</td>\n",
       "      <td>0</td>\n",
       "      <td>684</td>\n",
       "      <td>0</td>\n",
       "      <td>0</td>\n",
       "    </tr>\n",
       "    <tr>\n",
       "      <th>8014</th>\n",
       "      <td>1</td>\n",
       "      <td>53</td>\n",
       "      <td>21</td>\n",
       "      <td>3</td>\n",
       "      <td>0</td>\n",
       "      <td>6</td>\n",
       "      <td>0</td>\n",
       "      <td>1</td>\n",
       "      <td>6</td>\n",
       "      <td>3</td>\n",
       "      <td>...</td>\n",
       "      <td>1</td>\n",
       "      <td>1</td>\n",
       "      <td>1</td>\n",
       "      <td>1</td>\n",
       "      <td>53</td>\n",
       "      <td>21</td>\n",
       "      <td>0</td>\n",
       "      <td>1113</td>\n",
       "      <td>0</td>\n",
       "      <td>0</td>\n",
       "    </tr>\n",
       "    <tr>\n",
       "      <th>4065</th>\n",
       "      <td>1</td>\n",
       "      <td>73</td>\n",
       "      <td>20</td>\n",
       "      <td>1</td>\n",
       "      <td>0</td>\n",
       "      <td>10</td>\n",
       "      <td>3</td>\n",
       "      <td>6</td>\n",
       "      <td>0</td>\n",
       "      <td>4</td>\n",
       "      <td>...</td>\n",
       "      <td>1</td>\n",
       "      <td>1</td>\n",
       "      <td>1</td>\n",
       "      <td>1</td>\n",
       "      <td>73</td>\n",
       "      <td>20</td>\n",
       "      <td>0</td>\n",
       "      <td>1460</td>\n",
       "      <td>0</td>\n",
       "      <td>0</td>\n",
       "    </tr>\n",
       "    <tr>\n",
       "      <th>1294</th>\n",
       "      <td>0</td>\n",
       "      <td>51</td>\n",
       "      <td>18</td>\n",
       "      <td>5</td>\n",
       "      <td>0</td>\n",
       "      <td>6</td>\n",
       "      <td>2</td>\n",
       "      <td>0</td>\n",
       "      <td>7</td>\n",
       "      <td>4</td>\n",
       "      <td>...</td>\n",
       "      <td>1</td>\n",
       "      <td>1</td>\n",
       "      <td>1</td>\n",
       "      <td>1</td>\n",
       "      <td>0</td>\n",
       "      <td>0</td>\n",
       "      <td>0</td>\n",
       "      <td>918</td>\n",
       "      <td>0</td>\n",
       "      <td>0</td>\n",
       "    </tr>\n",
       "    <tr>\n",
       "      <th>15494</th>\n",
       "      <td>0</td>\n",
       "      <td>44</td>\n",
       "      <td>11</td>\n",
       "      <td>3</td>\n",
       "      <td>0</td>\n",
       "      <td>6</td>\n",
       "      <td>0</td>\n",
       "      <td>1</td>\n",
       "      <td>0</td>\n",
       "      <td>3</td>\n",
       "      <td>...</td>\n",
       "      <td>2</td>\n",
       "      <td>1</td>\n",
       "      <td>1</td>\n",
       "      <td>1</td>\n",
       "      <td>0</td>\n",
       "      <td>0</td>\n",
       "      <td>0</td>\n",
       "      <td>484</td>\n",
       "      <td>0</td>\n",
       "      <td>0</td>\n",
       "    </tr>\n",
       "  </tbody>\n",
       "</table>\n",
       "<p>5 rows × 22 columns</p>\n",
       "</div>"
      ],
      "text/plain": [
       "       n_inpatient  n_lab_procedures  n_medications  medical_specialty  \\\n",
       "1603             0                57             12                  3   \n",
       "8014             1                53             21                  3   \n",
       "4065             1                73             20                  1   \n",
       "1294             0                51             18                  5   \n",
       "15494            0                44             11                  3   \n",
       "\n",
       "       n_outpatient  time_in_hospital  n_procedures  diag_3  diag_2  age  ...  \\\n",
       "1603              0                 1             0       6       1    3  ...   \n",
       "8014              0                 6             0       1       6    3  ...   \n",
       "4065              0                10             3       6       0    4  ...   \n",
       "1294              0                 6             2       0       7    4  ...   \n",
       "15494             0                 6             0       1       0    3  ...   \n",
       "\n",
       "       a1ctest  change  diabetes_med  glucose_test  \\\n",
       "1603         1       0             0             1   \n",
       "8014         1       1             1             1   \n",
       "4065         1       1             1             1   \n",
       "1294         1       1             1             1   \n",
       "15494        2       1             1             1   \n",
       "\n",
       "       n_inpatient_x_n_lab_procedures  n_inpatient_x_n_medications  \\\n",
       "1603                                0                            0   \n",
       "8014                               53                           21   \n",
       "4065                               73                           20   \n",
       "1294                                0                            0   \n",
       "15494                               0                            0   \n",
       "\n",
       "       n_inpatient_x_n_outpatient  n_lab_procedures_x_n_medications  \\\n",
       "1603                            0                               684   \n",
       "8014                            0                              1113   \n",
       "4065                            0                              1460   \n",
       "1294                            0                               918   \n",
       "15494                           0                               484   \n",
       "\n",
       "       n_lab_procedures_x_n_outpatient  n_medications_x_n_outpatient  \n",
       "1603                                 0                             0  \n",
       "8014                                 0                             0  \n",
       "4065                                 0                             0  \n",
       "1294                                 0                             0  \n",
       "15494                                0                             0  \n",
       "\n",
       "[5 rows x 22 columns]"
      ]
     },
     "metadata": {},
     "output_type": "display_data"
    },
    {
     "data": {
      "text/html": [
       "<div>\n",
       "<style scoped>\n",
       "    .dataframe tbody tr th:only-of-type {\n",
       "        vertical-align: middle;\n",
       "    }\n",
       "\n",
       "    .dataframe tbody tr th {\n",
       "        vertical-align: top;\n",
       "    }\n",
       "\n",
       "    .dataframe thead th {\n",
       "        text-align: right;\n",
       "    }\n",
       "</style>\n",
       "<table border=\"1\" class=\"dataframe\">\n",
       "  <thead>\n",
       "    <tr style=\"text-align: right;\">\n",
       "      <th></th>\n",
       "      <th>n_inpatient</th>\n",
       "      <th>n_lab_procedures</th>\n",
       "      <th>n_medications</th>\n",
       "      <th>medical_specialty</th>\n",
       "      <th>n_outpatient</th>\n",
       "      <th>time_in_hospital</th>\n",
       "      <th>n_procedures</th>\n",
       "      <th>diag_3</th>\n",
       "      <th>diag_2</th>\n",
       "      <th>age</th>\n",
       "      <th>...</th>\n",
       "      <th>a1ctest</th>\n",
       "      <th>change</th>\n",
       "      <th>diabetes_med</th>\n",
       "      <th>glucose_test</th>\n",
       "      <th>n_inpatient_x_n_lab_procedures</th>\n",
       "      <th>n_inpatient_x_n_medications</th>\n",
       "      <th>n_inpatient_x_n_outpatient</th>\n",
       "      <th>n_lab_procedures_x_n_medications</th>\n",
       "      <th>n_lab_procedures_x_n_outpatient</th>\n",
       "      <th>n_medications_x_n_outpatient</th>\n",
       "    </tr>\n",
       "  </thead>\n",
       "  <tbody>\n",
       "    <tr>\n",
       "      <th>5064</th>\n",
       "      <td>1</td>\n",
       "      <td>34</td>\n",
       "      <td>5</td>\n",
       "      <td>1</td>\n",
       "      <td>0</td>\n",
       "      <td>1</td>\n",
       "      <td>0</td>\n",
       "      <td>6</td>\n",
       "      <td>1</td>\n",
       "      <td>1</td>\n",
       "      <td>...</td>\n",
       "      <td>1</td>\n",
       "      <td>0</td>\n",
       "      <td>0</td>\n",
       "      <td>1</td>\n",
       "      <td>34</td>\n",
       "      <td>5</td>\n",
       "      <td>0</td>\n",
       "      <td>170</td>\n",
       "      <td>0</td>\n",
       "      <td>0</td>\n",
       "    </tr>\n",
       "    <tr>\n",
       "      <th>6561</th>\n",
       "      <td>4</td>\n",
       "      <td>54</td>\n",
       "      <td>12</td>\n",
       "      <td>4</td>\n",
       "      <td>5</td>\n",
       "      <td>3</td>\n",
       "      <td>0</td>\n",
       "      <td>6</td>\n",
       "      <td>6</td>\n",
       "      <td>4</td>\n",
       "      <td>...</td>\n",
       "      <td>1</td>\n",
       "      <td>0</td>\n",
       "      <td>0</td>\n",
       "      <td>1</td>\n",
       "      <td>216</td>\n",
       "      <td>48</td>\n",
       "      <td>20</td>\n",
       "      <td>648</td>\n",
       "      <td>270</td>\n",
       "      <td>60</td>\n",
       "    </tr>\n",
       "    <tr>\n",
       "      <th>14458</th>\n",
       "      <td>3</td>\n",
       "      <td>32</td>\n",
       "      <td>21</td>\n",
       "      <td>5</td>\n",
       "      <td>0</td>\n",
       "      <td>4</td>\n",
       "      <td>2</td>\n",
       "      <td>0</td>\n",
       "      <td>0</td>\n",
       "      <td>3</td>\n",
       "      <td>...</td>\n",
       "      <td>1</td>\n",
       "      <td>0</td>\n",
       "      <td>0</td>\n",
       "      <td>1</td>\n",
       "      <td>96</td>\n",
       "      <td>63</td>\n",
       "      <td>0</td>\n",
       "      <td>672</td>\n",
       "      <td>0</td>\n",
       "      <td>0</td>\n",
       "    </tr>\n",
       "    <tr>\n",
       "      <th>13293</th>\n",
       "      <td>0</td>\n",
       "      <td>39</td>\n",
       "      <td>19</td>\n",
       "      <td>4</td>\n",
       "      <td>0</td>\n",
       "      <td>4</td>\n",
       "      <td>0</td>\n",
       "      <td>7</td>\n",
       "      <td>0</td>\n",
       "      <td>3</td>\n",
       "      <td>...</td>\n",
       "      <td>1</td>\n",
       "      <td>0</td>\n",
       "      <td>1</td>\n",
       "      <td>1</td>\n",
       "      <td>0</td>\n",
       "      <td>0</td>\n",
       "      <td>0</td>\n",
       "      <td>741</td>\n",
       "      <td>0</td>\n",
       "      <td>0</td>\n",
       "    </tr>\n",
       "    <tr>\n",
       "      <th>10114</th>\n",
       "      <td>0</td>\n",
       "      <td>75</td>\n",
       "      <td>31</td>\n",
       "      <td>1</td>\n",
       "      <td>0</td>\n",
       "      <td>9</td>\n",
       "      <td>1</td>\n",
       "      <td>6</td>\n",
       "      <td>0</td>\n",
       "      <td>2</td>\n",
       "      <td>...</td>\n",
       "      <td>0</td>\n",
       "      <td>1</td>\n",
       "      <td>1</td>\n",
       "      <td>1</td>\n",
       "      <td>0</td>\n",
       "      <td>0</td>\n",
       "      <td>0</td>\n",
       "      <td>2325</td>\n",
       "      <td>0</td>\n",
       "      <td>0</td>\n",
       "    </tr>\n",
       "  </tbody>\n",
       "</table>\n",
       "<p>5 rows × 22 columns</p>\n",
       "</div>"
      ],
      "text/plain": [
       "       n_inpatient  n_lab_procedures  n_medications  medical_specialty  \\\n",
       "5064             1                34              5                  1   \n",
       "6561             4                54             12                  4   \n",
       "14458            3                32             21                  5   \n",
       "13293            0                39             19                  4   \n",
       "10114            0                75             31                  1   \n",
       "\n",
       "       n_outpatient  time_in_hospital  n_procedures  diag_3  diag_2  age  ...  \\\n",
       "5064              0                 1             0       6       1    1  ...   \n",
       "6561              5                 3             0       6       6    4  ...   \n",
       "14458             0                 4             2       0       0    3  ...   \n",
       "13293             0                 4             0       7       0    3  ...   \n",
       "10114             0                 9             1       6       0    2  ...   \n",
       "\n",
       "       a1ctest  change  diabetes_med  glucose_test  \\\n",
       "5064         1       0             0             1   \n",
       "6561         1       0             0             1   \n",
       "14458        1       0             0             1   \n",
       "13293        1       0             1             1   \n",
       "10114        0       1             1             1   \n",
       "\n",
       "       n_inpatient_x_n_lab_procedures  n_inpatient_x_n_medications  \\\n",
       "5064                               34                            5   \n",
       "6561                              216                           48   \n",
       "14458                              96                           63   \n",
       "13293                               0                            0   \n",
       "10114                               0                            0   \n",
       "\n",
       "       n_inpatient_x_n_outpatient  n_lab_procedures_x_n_medications  \\\n",
       "5064                            0                               170   \n",
       "6561                           20                               648   \n",
       "14458                           0                               672   \n",
       "13293                           0                               741   \n",
       "10114                           0                              2325   \n",
       "\n",
       "       n_lab_procedures_x_n_outpatient  n_medications_x_n_outpatient  \n",
       "5064                                 0                             0  \n",
       "6561                               270                            60  \n",
       "14458                                0                             0  \n",
       "13293                                0                             0  \n",
       "10114                                0                             0  \n",
       "\n",
       "[5 rows x 22 columns]"
      ]
     },
     "metadata": {},
     "output_type": "display_data"
    },
    {
     "name": "stdout",
     "output_type": "stream",
     "text": [
      "n_inpatient                         int64\n",
      "n_lab_procedures                    int64\n",
      "n_medications                       int64\n",
      "medical_specialty                   int64\n",
      "n_outpatient                        int64\n",
      "time_in_hospital                    int64\n",
      "n_procedures                        int64\n",
      "diag_3                              int64\n",
      "diag_2                              int64\n",
      "age                                 int64\n",
      "diag_1                              int64\n",
      "n_emergency                         int64\n",
      "a1ctest                             int64\n",
      "change                              int64\n",
      "diabetes_med                        int64\n",
      "glucose_test                        int64\n",
      "n_inpatient_x_n_lab_procedures      int64\n",
      "n_inpatient_x_n_medications         int64\n",
      "n_inpatient_x_n_outpatient          int64\n",
      "n_lab_procedures_x_n_medications    int64\n",
      "n_lab_procedures_x_n_outpatient     int64\n",
      "n_medications_x_n_outpatient        int64\n",
      "dtype: object\n"
     ]
    }
   ],
   "source": [
    "X_train_final, X_test_final = model_methods.shap_feature_engineering(model, X_train, X_test, bucket_name, s3_client)\n",
    "display(X_train_final.head())\n",
    "display(X_test_final.head())\n",
    "\n",
    "print(X_train_final.dtypes)"
   ]
  },
  {
   "cell_type": "markdown",
   "id": "7bed330f-5856-4862-8bea-47a8049ff2cb",
   "metadata": {
    "papermill": {
     "duration": 0.020607,
     "end_time": "2025-03-02T21:32:49.333154",
     "exception": false,
     "start_time": "2025-03-02T21:32:49.312547",
     "status": "completed"
    },
    "tags": []
   },
   "source": [
    "## Save Production Data to an s3 bucket for Later"
   ]
  },
  {
   "cell_type": "code",
   "execution_count": 9,
   "id": "6c6f8b4d-90e1-4abc-9d85-e9dec672820c",
   "metadata": {
    "execution": {
     "iopub.execute_input": "2025-03-02T21:32:49.356541Z",
     "iopub.status.busy": "2025-03-02T21:32:49.355534Z",
     "iopub.status.idle": "2025-03-02T21:32:49.407811Z",
     "shell.execute_reply": "2025-03-02T21:32:49.406972Z"
    },
    "papermill": {
     "duration": 0.066012,
     "end_time": "2025-03-02T21:32:49.409505",
     "exception": false,
     "start_time": "2025-03-02T21:32:49.343493",
     "status": "completed"
    },
    "tags": []
   },
   "outputs": [
    {
     "name": "stdout",
     "output_type": "stream",
     "text": [
      "Index(['age', 'time_in_hospital', 'n_lab_procedures', 'n_procedures',\n",
      "       'n_medications', 'n_outpatient', 'n_inpatient', 'n_emergency',\n",
      "       'medical_specialty', 'diag_1', 'diag_2', 'diag_3', 'glucose_test',\n",
      "       'a1ctest', 'change', 'diabetes_med', 'n_inpatient_x_n_lab_procedures',\n",
      "       'n_inpatient_x_n_medications', 'n_inpatient_x_n_outpatient',\n",
      "       'n_lab_procedures_x_n_medications', 'n_lab_procedures_x_n_outpatient',\n",
      "       'n_medications_x_n_outpatient'],\n",
      "      dtype='object')\n"
     ]
    }
   ],
   "source": [
    "X_prod = prod_df.drop(columns=[target_column])\n",
    "y_prod = prod_df[target_column]\n",
    "\n",
    "X_prod_final = model_methods.apply_interaction_features(X_prod, bucket_name, s3_client)\n",
    "print(X_prod_final.columns)"
   ]
  },
  {
   "cell_type": "code",
   "execution_count": 10,
   "id": "671dd1a6-1a75-49bf-ad16-497fc955cfa2",
   "metadata": {
    "execution": {
     "iopub.execute_input": "2025-03-02T21:32:49.444109Z",
     "iopub.status.busy": "2025-03-02T21:32:49.443436Z",
     "iopub.status.idle": "2025-03-02T21:32:49.815168Z",
     "shell.execute_reply": "2025-03-02T21:32:49.814333Z"
    },
    "papermill": {
     "duration": 0.390825,
     "end_time": "2025-03-02T21:32:49.816635",
     "exception": false,
     "start_time": "2025-03-02T21:32:49.425810",
     "status": "completed"
    },
    "tags": []
   },
   "outputs": [
    {
     "name": "stdout",
     "output_type": "stream",
     "text": [
      "Data saved to S3: s3://group3-project-bucket/production_data/X_prod_final.csv\n",
      "Data saved to S3: s3://group3-project-bucket/production_data/y_prod.csv\n",
      "Data saved to S3: s3://group3-project-bucket/production_data/X_train_final.csv\n",
      "Data saved to S3: s3://group3-project-bucket/production_data/y_train.csv\n"
     ]
    }
   ],
   "source": [
    "# Define S3 bucket and file path\n",
    "def save_to_prod(df, name):\n",
    "    s3_filename = f\"production_data/{name}.csv\"\n",
    "    s3_uri = f\"s3://{bucket_name}/{s3_filename}\"\n",
    "    \n",
    "    # Convert DataFrame to CSV in memory\n",
    "    csv_buffer = io.StringIO()\n",
    "    df.to_csv(csv_buffer, index=False)\n",
    "    \n",
    "    # Upload CSV file to S3\n",
    "    s3_client.put_object(\n",
    "        Bucket=bucket_name,\n",
    "        Key=s3_filename,\n",
    "        Body=csv_buffer.getvalue()\n",
    "    )\n",
    "    \n",
    "    print(f\"Data saved to S3: {s3_uri}\")\n",
    "\n",
    "save_to_prod(X_prod_final, \"X_prod_final\")\n",
    "save_to_prod(y_prod, \"y_prod\")\n",
    "save_to_prod(X_train_final, \"X_train_final\")\n",
    "save_to_prod(y_train, \"y_train\")"
   ]
  },
  {
   "cell_type": "markdown",
   "id": "c2b73533-c29c-4fc3-a7d7-231617871b61",
   "metadata": {
    "papermill": {
     "duration": 0.009254,
     "end_time": "2025-03-02T21:32:49.834199",
     "exception": false,
     "start_time": "2025-03-02T21:32:49.824945",
     "status": "completed"
    },
    "tags": []
   },
   "source": [
    "Bayesian Optimization Procedure to find best XGB model"
   ]
  },
  {
   "cell_type": "code",
   "execution_count": 11,
   "id": "11b0d03a-a550-4855-82b3-38818be0948d",
   "metadata": {
    "execution": {
     "iopub.execute_input": "2025-03-02T21:32:49.851302Z",
     "iopub.status.busy": "2025-03-02T21:32:49.850898Z",
     "iopub.status.idle": "2025-03-02T21:32:51.998984Z",
     "shell.execute_reply": "2025-03-02T21:32:51.997984Z"
    },
    "papermill": {
     "duration": 2.160823,
     "end_time": "2025-03-02T21:32:52.003165",
     "exception": false,
     "start_time": "2025-03-02T21:32:49.842342",
     "status": "completed"
    },
    "tags": []
   },
   "outputs": [
    {
     "name": "stdout",
     "output_type": "stream",
     "text": [
      "Requirement already satisfied: optuna in /opt/conda/lib/python3.11/site-packages (4.2.0)\r\n",
      "Requirement already satisfied: alembic>=1.5.0 in /opt/conda/lib/python3.11/site-packages (from optuna) (1.14.1)\r\n",
      "Requirement already satisfied: colorlog in /opt/conda/lib/python3.11/site-packages (from optuna) (6.9.0)\r\n",
      "Requirement already satisfied: numpy in /opt/conda/lib/python3.11/site-packages (from optuna) (1.26.4)\r\n",
      "Requirement already satisfied: packaging>=20.0 in /opt/conda/lib/python3.11/site-packages (from optuna) (24.2)\r\n",
      "Requirement already satisfied: sqlalchemy>=1.4.2 in /opt/conda/lib/python3.11/site-packages (from optuna) (2.0.38)\r\n",
      "Requirement already satisfied: tqdm in /opt/conda/lib/python3.11/site-packages (from optuna) (4.67.1)\r\n",
      "Requirement already satisfied: PyYAML in /opt/conda/lib/python3.11/site-packages (from optuna) (6.0.2)\r\n",
      "Requirement already satisfied: Mako in /opt/conda/lib/python3.11/site-packages (from alembic>=1.5.0->optuna) (1.3.9)\r\n",
      "Requirement already satisfied: typing-extensions>=4 in /opt/conda/lib/python3.11/site-packages (from alembic>=1.5.0->optuna) (4.12.2)\r\n",
      "Requirement already satisfied: greenlet!=0.4.17 in /opt/conda/lib/python3.11/site-packages (from sqlalchemy>=1.4.2->optuna) (3.1.1)\r\n",
      "Requirement already satisfied: MarkupSafe>=0.9.2 in /opt/conda/lib/python3.11/site-packages (from Mako->alembic>=1.5.0->optuna) (3.0.2)\r\n"
     ]
    }
   ],
   "source": [
    "!pip install optuna"
   ]
  },
  {
   "cell_type": "code",
   "execution_count": 12,
   "id": "8cad3fef-96c0-441d-bdee-1be4a6ecc7b2",
   "metadata": {
    "execution": {
     "iopub.execute_input": "2025-03-02T21:32:52.032905Z",
     "iopub.status.busy": "2025-03-02T21:32:52.032412Z",
     "iopub.status.idle": "2025-03-02T21:36:30.300332Z",
     "shell.execute_reply": "2025-03-02T21:36:30.299432Z"
    },
    "papermill": {
     "duration": 218.284994,
     "end_time": "2025-03-02T21:36:30.301915",
     "exception": false,
     "start_time": "2025-03-02T21:32:52.016921",
     "status": "completed"
    },
    "tags": []
   },
   "outputs": [
    {
     "name": "stderr",
     "output_type": "stream",
     "text": [
      "[I 2025-03-02 21:32:52,163] A new study created in memory with name: no-name-5a4e90e0-aa3a-4f4a-bd64-445cbb1b2e57\n"
     ]
    },
    {
     "name": "stderr",
     "output_type": "stream",
     "text": [
      "[I 2025-03-02 21:32:52,393] Trial 0 finished with value: 0.6370214213858809 and parameters: {'learning_rate': 0.18960849349554365, 'max_depth': 5, 'min_child_weight': 6.34158821166558, 'colsample_bytree': 0.35158547345322544, 'subsample': 0.8292140641566549}. Best is trial 0 with value: 0.6370214213858809.\n"
     ]
    },
    {
     "name": "stderr",
     "output_type": "stream",
     "text": [
      "[I 2025-03-02 21:32:52,596] Trial 1 finished with value: 0.640515710988816 and parameters: {'learning_rate': 0.1359193727263146, 'max_depth': 6, 'min_child_weight': 2.6450293002099037, 'colsample_bytree': 0.36802521618836925, 'subsample': 0.8407364175263596}. Best is trial 1 with value: 0.640515710988816.\n"
     ]
    },
    {
     "name": "stderr",
     "output_type": "stream",
     "text": [
      "[I 2025-03-02 21:32:52,818] Trial 2 finished with value: 0.6602861116042369 and parameters: {'learning_rate': 0.050869536160763756, 'max_depth': 6, 'min_child_weight': 9.295225637797456, 'colsample_bytree': 0.30929093568101634, 'subsample': 0.7039251258132115}. Best is trial 2 with value: 0.6602861116042369.\n"
     ]
    },
    {
     "name": "stderr",
     "output_type": "stream",
     "text": [
      "[I 2025-03-02 21:32:52,977] Trial 3 finished with value: 0.6382759334871886 and parameters: {'learning_rate': 0.2705152074840462, 'max_depth': 3, 'min_child_weight': 7.536937318052674, 'colsample_bytree': 0.8596631363634335, 'subsample': 0.8017182510802531}. Best is trial 2 with value: 0.6602861116042369.\n"
     ]
    },
    {
     "name": "stderr",
     "output_type": "stream",
     "text": [
      "[I 2025-03-02 21:32:53,176] Trial 4 finished with value: 0.6396147701047399 and parameters: {'learning_rate': 0.17255419137835734, 'max_depth': 5, 'min_child_weight': 9.147870109812898, 'colsample_bytree': 0.9454778351035986, 'subsample': 0.769097832062867}. Best is trial 2 with value: 0.6602861116042369.\n"
     ]
    },
    {
     "name": "stderr",
     "output_type": "stream",
     "text": [
      "[I 2025-03-02 21:32:53,422] Trial 5 finished with value: 0.6097402213148707 and parameters: {'learning_rate': 0.2812272342981592, 'max_depth': 6, 'min_child_weight': 9.60943413543406, 'colsample_bytree': 0.4283692520328969, 'subsample': 0.684615339030668}. Best is trial 2 with value: 0.6602861116042369.\n"
     ]
    },
    {
     "name": "stderr",
     "output_type": "stream",
     "text": [
      "[I 2025-03-02 21:32:53,668] Trial 6 finished with value: 0.6351270785253565 and parameters: {'learning_rate': 0.09615226551626503, 'max_depth': 6, 'min_child_weight': 3.367229521891514, 'colsample_bytree': 0.6737330096523062, 'subsample': 0.7740276384999494}. Best is trial 2 with value: 0.6602861116042369.\n"
     ]
    },
    {
     "name": "stderr",
     "output_type": "stream",
     "text": [
      "[I 2025-03-02 21:32:53,905] Trial 7 finished with value: 0.619251139120658 and parameters: {'learning_rate': 0.1778496386275502, 'max_depth': 7, 'min_child_weight': 6.9419546271115955, 'colsample_bytree': 0.9883195853194029, 'subsample': 0.7358865890019375}. Best is trial 2 with value: 0.6602861116042369.\n"
     ]
    },
    {
     "name": "stderr",
     "output_type": "stream",
     "text": [
      "[I 2025-03-02 21:32:54,076] Trial 8 finished with value: 0.6343289543759987 and parameters: {'learning_rate': 0.1695602815079725, 'max_depth': 5, 'min_child_weight': 4.616433555641899, 'colsample_bytree': 0.5444007805902883, 'subsample': 0.8457624503473038}. Best is trial 2 with value: 0.6602861116042369.\n"
     ]
    },
    {
     "name": "stderr",
     "output_type": "stream",
     "text": [
      "[I 2025-03-02 21:32:54,438] Trial 9 finished with value: 0.6411740339665069 and parameters: {'learning_rate': 0.059275871091117954, 'max_depth': 10, 'min_child_weight': 4.590223785388381, 'colsample_bytree': 0.5113398742011418, 'subsample': 0.7198473463024165}. Best is trial 2 with value: 0.6602861116042369.\n"
     ]
    },
    {
     "name": "stderr",
     "output_type": "stream",
     "text": [
      "[I 2025-03-02 21:32:54,808] Trial 10 finished with value: 0.6638233031540328 and parameters: {'learning_rate': 0.02020432487160867, 'max_depth': 9, 'min_child_weight': 8.194719124579608, 'colsample_bytree': 0.6984941793345913, 'subsample': 0.5435073183264444}. Best is trial 10 with value: 0.6638233031540328.\n"
     ]
    },
    {
     "name": "stderr",
     "output_type": "stream",
     "text": [
      "[I 2025-03-02 21:32:55,147] Trial 11 finished with value: 0.6600553287176756 and parameters: {'learning_rate': 0.027338953334168692, 'max_depth': 9, 'min_child_weight': 8.281762255601011, 'colsample_bytree': 0.7215649636879196, 'subsample': 0.5218343876835566}. Best is trial 10 with value: 0.6638233031540328.\n"
     ]
    },
    {
     "name": "stderr",
     "output_type": "stream",
     "text": [
      "[I 2025-03-02 21:32:55,510] Trial 12 finished with value: 0.6616752470560388 and parameters: {'learning_rate': 0.021844880489104497, 'max_depth': 8, 'min_child_weight': 9.840940909736792, 'colsample_bytree': 0.7588413183233274, 'subsample': 0.5843189165259741}. Best is trial 10 with value: 0.6638233031540328.\n"
     ]
    },
    {
     "name": "stderr",
     "output_type": "stream",
     "text": [
      "[I 2025-03-02 21:32:55,835] Trial 13 finished with value: 0.6610302384756495 and parameters: {'learning_rate': 0.011209317693148807, 'max_depth': 8, 'min_child_weight': 8.3285161551312, 'colsample_bytree': 0.7751545316184435, 'subsample': 0.5270236523286891}. Best is trial 10 with value: 0.6638233031540328.\n"
     ]
    },
    {
     "name": "stderr",
     "output_type": "stream",
     "text": [
      "[I 2025-03-02 21:32:56,270] Trial 14 finished with value: 0.6437274394934611 and parameters: {'learning_rate': 0.09439436539874832, 'max_depth': 10, 'min_child_weight': 9.991752986405075, 'colsample_bytree': 0.5886034240461453, 'subsample': 0.6179130876338137}. Best is trial 10 with value: 0.6638233031540328.\n"
     ]
    },
    {
     "name": "stderr",
     "output_type": "stream",
     "text": [
      "[I 2025-03-02 21:32:56,679] Trial 15 finished with value: 0.6282472335641162 and parameters: {'learning_rate': 0.09541201595109175, 'max_depth': 8, 'min_child_weight': 1.0561901945907932, 'colsample_bytree': 0.8181213898824106, 'subsample': 0.9624746097167505}. Best is trial 10 with value: 0.6638233031540328.\n"
     ]
    },
    {
     "name": "stderr",
     "output_type": "stream",
     "text": [
      "[I 2025-03-02 21:32:57,013] Trial 16 finished with value: 0.6173930410083437 and parameters: {'learning_rate': 0.22069697258766624, 'max_depth': 8, 'min_child_weight': 8.132724183524394, 'colsample_bytree': 0.621561354827904, 'subsample': 0.5988423386913861}. Best is trial 10 with value: 0.6638233031540328.\n"
     ]
    },
    {
     "name": "stderr",
     "output_type": "stream",
     "text": [
      "[I 2025-03-02 21:32:57,432] Trial 17 finished with value: 0.6470826676134682 and parameters: {'learning_rate': 0.06185199933928433, 'max_depth': 9, 'min_child_weight': 6.240780946353711, 'colsample_bytree': 0.8888471384240806, 'subsample': 0.5830541315875082}. Best is trial 10 with value: 0.6638233031540328.\n"
     ]
    },
    {
     "name": "stderr",
     "output_type": "stream",
     "text": [
      "[I 2025-03-02 21:32:57,853] Trial 18 finished with value: 0.6269291082312562 and parameters: {'learning_rate': 0.12439199962720868, 'max_depth': 9, 'min_child_weight': 8.783206593600875, 'colsample_bytree': 0.7222550184830359, 'subsample': 0.6448111231487816}. Best is trial 10 with value: 0.6638233031540328.\n"
     ]
    },
    {
     "name": "stderr",
     "output_type": "stream",
     "text": [
      "[I 2025-03-02 21:32:58,172] Trial 19 finished with value: 0.6545165394402035 and parameters: {'learning_rate': 0.03570896659154116, 'max_depth': 7, 'min_child_weight': 7.5766336658482825, 'colsample_bytree': 0.7814872516106472, 'subsample': 0.5002814540031387}. Best is trial 10 with value: 0.6638233031540328.\n"
     ]
    },
    {
     "name": "stderr",
     "output_type": "stream",
     "text": [
      "[I 2025-03-02 21:32:58,608] Trial 20 finished with value: 0.6604695544115036 and parameters: {'learning_rate': 0.012516787359059572, 'max_depth': 10, 'min_child_weight': 5.470565098615036, 'colsample_bytree': 0.6766298137054504, 'subsample': 0.5619373051309079}. Best is trial 10 with value: 0.6638233031540328.\n"
     ]
    },
    {
     "name": "stderr",
     "output_type": "stream",
     "text": [
      "[I 2025-03-02 21:32:58,930] Trial 21 finished with value: 0.6627019350257413 and parameters: {'learning_rate': 0.013643438464514712, 'max_depth': 8, 'min_child_weight': 8.59778633873116, 'colsample_bytree': 0.7713757654087288, 'subsample': 0.5454219323665781}. Best is trial 10 with value: 0.6638233031540328.\n"
     ]
    },
    {
     "name": "stderr",
     "output_type": "stream",
     "text": [
      "[I 2025-03-02 21:32:59,247] Trial 22 finished with value: 0.6443029173323866 and parameters: {'learning_rate': 0.07483866712337756, 'max_depth': 8, 'min_child_weight': 7.399030041881769, 'colsample_bytree': 0.7204310106299786, 'subsample': 0.6544270704531134}. Best is trial 10 with value: 0.6638233031540328.\n"
     ]
    },
    {
     "name": "stderr",
     "output_type": "stream",
     "text": [
      "[I 2025-03-02 21:32:59,637] Trial 23 finished with value: 0.6574678975087282 and parameters: {'learning_rate': 0.041379834168862234, 'max_depth': 9, 'min_child_weight': 8.699718631079188, 'colsample_bytree': 0.8726614973632495, 'subsample': 0.5595707843836127}. Best is trial 10 with value: 0.6638233031540328.\n"
     ]
    },
    {
     "name": "stderr",
     "output_type": "stream",
     "text": [
      "[I 2025-03-02 21:33:00,074] Trial 24 finished with value: 0.6503935144091366 and parameters: {'learning_rate': 0.07971014512395937, 'max_depth': 7, 'min_child_weight': 9.909276886704513, 'colsample_bytree': 0.7900834595919668, 'subsample': 0.5380169200281617}. Best is trial 10 with value: 0.6638233031540328.\n"
     ]
    },
    {
     "name": "stderr",
     "output_type": "stream",
     "text": [
      "[I 2025-03-02 21:33:00,423] Trial 25 finished with value: 0.6611411917864962 and parameters: {'learning_rate': 0.011541703759377298, 'max_depth': 8, 'min_child_weight': 9.055862141668428, 'colsample_bytree': 0.6294537600362022, 'subsample': 0.6320305095445182}. Best is trial 10 with value: 0.6638233031540328.\n"
     ]
    },
    {
     "name": "stderr",
     "output_type": "stream",
     "text": [
      "[I 2025-03-02 21:33:00,725] Trial 26 finished with value: 0.6306674951180543 and parameters: {'learning_rate': 0.11567138643628849, 'max_depth': 9, 'min_child_weight': 6.265018762573363, 'colsample_bytree': 0.7280789215869364, 'subsample': 0.581798389681996}. Best is trial 10 with value: 0.6638233031540328.\n"
     ]
    },
    {
     "name": "stderr",
     "output_type": "stream",
     "text": [
      "[I 2025-03-02 21:33:01,060] Trial 27 finished with value: 0.6532620273388958 and parameters: {'learning_rate': 0.03521187310209501, 'max_depth': 7, 'min_child_weight': 7.896438292583353, 'colsample_bytree': 0.8315377498415296, 'subsample': 0.8985282940758759}. Best is trial 10 with value: 0.6638233031540328.\n"
     ]
    },
    {
     "name": "stderr",
     "output_type": "stream",
     "text": [
      "[I 2025-03-02 21:33:01,337] Trial 28 finished with value: 0.6416311616071957 and parameters: {'learning_rate': 0.23768406352776744, 'max_depth': 3, 'min_child_weight': 6.948753302026218, 'colsample_bytree': 0.9222579894897365, 'subsample': 0.6752858308754002}. Best is trial 10 with value: 0.6638233031540328.\n"
     ]
    },
    {
     "name": "stderr",
     "output_type": "stream",
     "text": [
      "[I 2025-03-02 21:33:01,872] Trial 29 finished with value: 0.6453222084146991 and parameters: {'learning_rate': 0.06434314940139466, 'max_depth': 10, 'min_child_weight': 6.825918367532516, 'colsample_bytree': 0.5544179753770098, 'subsample': 0.6032701915843814}. Best is trial 10 with value: 0.6638233031540328.\n"
     ]
    },
    {
     "name": "stderr",
     "output_type": "stream",
     "text": [
      "[I 2025-03-02 21:33:02,235] Trial 30 finished with value: 0.6348156695662466 and parameters: {'learning_rate': 0.14454545790493, 'max_depth': 8, 'min_child_weight': 8.605545266402006, 'colsample_bytree': 0.48756298258919295, 'subsample': 0.5052999897239016}. Best is trial 10 with value: 0.6638233031540328.\n"
     ]
    },
    {
     "name": "stderr",
     "output_type": "stream",
     "text": [
      "[I 2025-03-02 21:33:02,677] Trial 31 finished with value: 0.662290668086869 and parameters: {'learning_rate': 0.011461432431143169, 'max_depth': 8, 'min_child_weight': 9.228419969400427, 'colsample_bytree': 0.6287511848868739, 'subsample': 0.6326048877609717}. Best is trial 10 with value: 0.6638233031540328.\n"
     ]
    },
    {
     "name": "stderr",
     "output_type": "stream",
     "text": [
      "[I 2025-03-02 21:33:02,965] Trial 32 finished with value: 0.664992011361619 and parameters: {'learning_rate': 0.025550249090370125, 'max_depth': 9, 'min_child_weight': 9.48015428062228, 'colsample_bytree': 0.6668174689535844, 'subsample': 0.5501560244340497}. Best is trial 32 with value: 0.664992011361619.\n"
     ]
    },
    {
     "name": "stderr",
     "output_type": "stream",
     "text": [
      "[I 2025-03-02 21:33:03,265] Trial 33 finished with value: 0.6599562104266524 and parameters: {'learning_rate': 0.04333648222612387, 'max_depth': 9, 'min_child_weight': 9.326000720186855, 'colsample_bytree': 0.6693251471796384, 'subsample': 0.5454246769014568}. Best is trial 32 with value: 0.664992011361619.\n"
     ]
    },
    {
     "name": "stderr",
     "output_type": "stream",
     "text": [
      "[I 2025-03-02 21:33:03,549] Trial 34 finished with value: 0.6601781170483461 and parameters: {'learning_rate': 0.04973130994584516, 'max_depth': 9, 'min_child_weight': 9.330934278480314, 'colsample_bytree': 0.5910192570885467, 'subsample': 0.552940221473975}. Best is trial 32 with value: 0.664992011361619.\n"
     ]
    },
    {
     "name": "stderr",
     "output_type": "stream",
     "text": [
      "[I 2025-03-02 21:33:03,880] Trial 35 finished with value: 0.6667909343748151 and parameters: {'learning_rate': 0.026450956991208207, 'max_depth': 10, 'min_child_weight': 7.938111466774848, 'colsample_bytree': 0.6466636635999584, 'subsample': 0.6232356450309605}. Best is trial 35 with value: 0.6667909343748151.\n"
     ]
    },
    {
     "name": "stderr",
     "output_type": "stream",
     "text": [
      "[I 2025-03-02 21:33:04,243] Trial 36 finished with value: 0.6558435410379312 and parameters: {'learning_rate': 0.028020982707559157, 'max_depth': 10, 'min_child_weight': 5.5909631771207415, 'colsample_bytree': 0.6935433335695639, 'subsample': 0.6794638188071545}. Best is trial 35 with value: 0.6667909343748151.\n"
     ]
    },
    {
     "name": "stderr",
     "output_type": "stream",
     "text": [
      "[I 2025-03-02 21:33:04,531] Trial 37 finished with value: 0.6523048701106574 and parameters: {'learning_rate': 0.07532399145500396, 'max_depth': 10, 'min_child_weight': 7.8924254188079335, 'colsample_bytree': 0.40786260125230667, 'subsample': 0.5700149217452735}. Best is trial 35 with value: 0.6667909343748151.\n"
     ]
    },
    {
     "name": "stderr",
     "output_type": "stream",
     "text": [
      "[I 2025-03-02 21:33:04,821] Trial 38 finished with value: 0.6446993904964791 and parameters: {'learning_rate': 0.052478842456922234, 'max_depth': 9, 'min_child_weight': 7.335365190131875, 'colsample_bytree': 0.5948699612796207, 'subsample': 0.5280507539573631}. Best is trial 35 with value: 0.6667909343748151.\n"
     ]
    },
    {
     "name": "stderr",
     "output_type": "stream",
     "text": [
      "[I 2025-03-02 21:33:05,127] Trial 39 finished with value: 0.621709864489023 and parameters: {'learning_rate': 0.11028601830219421, 'max_depth': 10, 'min_child_weight': 8.390150730840197, 'colsample_bytree': 0.7574497100563761, 'subsample': 0.6174571820452781}. Best is trial 35 with value: 0.6667909343748151.\n"
     ]
    },
    {
     "name": "stderr",
     "output_type": "stream",
     "text": [
      "[I 2025-03-02 21:33:05,347] Trial 40 finished with value: 0.6583148411148588 and parameters: {'learning_rate': 0.037531820938186675, 'max_depth': 5, 'min_child_weight': 8.956278059485912, 'colsample_bytree': 0.8229967936319669, 'subsample': 0.5004078354698449}. Best is trial 35 with value: 0.6667909343748151.\n"
     ]
    },
    {
     "name": "stderr",
     "output_type": "stream",
     "text": [
      "[I 2025-03-02 21:33:05,644] Trial 41 finished with value: 0.6609873365287886 and parameters: {'learning_rate': 0.023393963317024202, 'max_depth': 9, 'min_child_weight': 9.445741079695699, 'colsample_bytree': 0.6334285744632233, 'subsample': 0.6477676991113557}. Best is trial 35 with value: 0.6667909343748151.\n"
     ]
    },
    {
     "name": "stderr",
     "output_type": "stream",
     "text": [
      "[I 2025-03-02 21:33:05,927] Trial 42 finished with value: 0.6601381738564412 and parameters: {'learning_rate': 0.012504508455368163, 'max_depth': 8, 'min_child_weight': 8.92285389246816, 'colsample_bytree': 0.6524372286873781, 'subsample': 0.6959637844410017}. Best is trial 35 with value: 0.6667909343748151.\n"
     ]
    },
    {
     "name": "stderr",
     "output_type": "stream",
     "text": [
      "[I 2025-03-02 21:33:06,158] Trial 43 finished with value: 0.6138632463459376 and parameters: {'learning_rate': 0.2973898732241028, 'max_depth': 7, 'min_child_weight': 7.798221380117831, 'colsample_bytree': 0.5451735210354569, 'subsample': 0.6001946086418575}. Best is trial 35 with value: 0.6667909343748151.\n"
     ]
    },
    {
     "name": "stderr",
     "output_type": "stream",
     "text": [
      "[I 2025-03-02 21:33:06,395] Trial 44 finished with value: 0.6627640688798153 and parameters: {'learning_rate': 0.029647958002259316, 'max_depth': 6, 'min_child_weight': 9.371459893011835, 'colsample_bytree': 0.6967458879284046, 'subsample': 0.7642985585641777}. Best is trial 35 with value: 0.6667909343748151.\n"
     ]
    },
    {
     "name": "stderr",
     "output_type": "stream",
     "text": [
      "[I 2025-03-02 21:33:06,616] Trial 45 finished with value: 0.6572430321320788 and parameters: {'learning_rate': 0.050945225705326364, 'max_depth': 6, 'min_child_weight': 9.618598429532184, 'colsample_bytree': 0.6931318822016084, 'subsample': 0.8107570394196078}. Best is trial 35 with value: 0.6667909343748151.\n"
     ]
    },
    {
     "name": "stderr",
     "output_type": "stream",
     "text": [
      "[I 2025-03-02 21:33:06,800] Trial 46 finished with value: 0.6598289839635483 and parameters: {'learning_rate': 0.029126422281325007, 'max_depth': 4, 'min_child_weight': 8.466675941389441, 'colsample_bytree': 0.7468030089698845, 'subsample': 0.7821958093681252}. Best is trial 35 with value: 0.6667909343748151.\n"
     ]
    },
    {
     "name": "stderr",
     "output_type": "stream",
     "text": [
      "[I 2025-03-02 21:33:06,996] Trial 47 finished with value: 0.6391635599739629 and parameters: {'learning_rate': 0.19567104296709825, 'max_depth': 5, 'min_child_weight': 7.065662237880475, 'colsample_bytree': 0.6884306186692616, 'subsample': 0.7496368457353305}. Best is trial 35 with value: 0.6667909343748151.\n"
     ]
    },
    {
     "name": "stderr",
     "output_type": "stream",
     "text": [
      "[I 2025-03-02 21:33:07,187] Trial 48 finished with value: 0.6559485768388662 and parameters: {'learning_rate': 0.08726271430877423, 'max_depth': 4, 'min_child_weight': 3.0168279947133856, 'colsample_bytree': 0.8007749910119565, 'subsample': 0.7156666980401502}. Best is trial 35 with value: 0.6667909343748151.\n"
     ]
    },
    {
     "name": "stderr",
     "output_type": "stream",
     "text": [
      "[I 2025-03-02 21:33:07,406] Trial 49 finished with value: 0.6524853541629683 and parameters: {'learning_rate': 0.06673198179652484, 'max_depth': 6, 'min_child_weight': 4.135238237745962, 'colsample_bytree': 0.3252431007990657, 'subsample': 0.8700162305112469}. Best is trial 35 with value: 0.6667909343748151.\n"
     ]
    },
    {
     "name": "stderr",
     "output_type": "stream",
     "text": [
      "[I 2025-03-02 21:33:07,720] Trial 50 finished with value: 0.6568998165571928 and parameters: {'learning_rate': 0.024635759381963326, 'max_depth': 10, 'min_child_weight': 9.651737236086054, 'colsample_bytree': 0.5030933140337566, 'subsample': 0.7420428086914004}. Best is trial 35 with value: 0.6667909343748151.\n"
     ]
    },
    {
     "name": "stderr",
     "output_type": "stream",
     "text": [
      "[I 2025-03-02 21:33:07,980] Trial 51 finished with value: 0.6639076276702763 and parameters: {'learning_rate': 0.017867731635847872, 'max_depth': 7, 'min_child_weight': 8.098359885250927, 'colsample_bytree': 0.6505173579720286, 'subsample': 0.7687875042574241}. Best is trial 35 with value: 0.6667909343748151.\n"
     ]
    },
    {
     "name": "stderr",
     "output_type": "stream",
     "text": [
      "[I 2025-03-02 21:33:08,228] Trial 52 finished with value: 0.6563583644002604 and parameters: {'learning_rate': 0.04595215897198159, 'max_depth': 7, 'min_child_weight': 8.0406319256283, 'colsample_bytree': 0.6575164224594221, 'subsample': 0.7702798574306847}. Best is trial 35 with value: 0.6667909343748151.\n"
     ]
    },
    {
     "name": "stderr",
     "output_type": "stream",
     "text": [
      "[I 2025-03-02 21:33:08,482] Trial 53 finished with value: 0.661323155216285 and parameters: {'learning_rate': 0.023434146234560874, 'max_depth': 6, 'min_child_weight': 8.585605556983609, 'colsample_bytree': 0.7039406347130742, 'subsample': 0.8024965198081476}. Best is trial 35 with value: 0.6667909343748151.\n"
     ]
    },
    {
     "name": "stderr",
     "output_type": "stream",
     "text": [
      "[I 2025-03-02 21:33:08,829] Trial 54 finished with value: 0.6515814545239363 and parameters: {'learning_rate': 0.0572143290317396, 'max_depth': 9, 'min_child_weight': 2.186392316823735, 'colsample_bytree': 0.6082866245511689, 'subsample': 0.8463410536596816}. Best is trial 35 with value: 0.6667909343748151.\n"
     ]
    },
    {
     "name": "stderr",
     "output_type": "stream",
     "text": [
      "[I 2025-03-02 21:33:09,073] Trial 55 finished with value: 0.6586070181667555 and parameters: {'learning_rate': 0.03227437777864128, 'max_depth': 7, 'min_child_weight': 6.682490039230584, 'colsample_bytree': 0.5731191583235533, 'subsample': 0.7288343516812881}. Best is trial 35 with value: 0.6667909343748151.\n"
     ]
    },
    {
     "name": "stderr",
     "output_type": "stream",
     "text": [
      "[I 2025-03-02 21:33:09,384] Trial 56 finished with value: 0.6576232321439138 and parameters: {'learning_rate': 0.018770689019271498, 'max_depth': 8, 'min_child_weight': 7.618337700462213, 'colsample_bytree': 0.7398464323013008, 'subsample': 0.824153689612583}. Best is trial 35 with value: 0.6667909343748151.\n"
     ]
    },
    {
     "name": "stderr",
     "output_type": "stream",
     "text": [
      "[I 2025-03-02 21:33:09,604] Trial 57 finished with value: 0.6625466003905557 and parameters: {'learning_rate': 0.04155494255387727, 'max_depth': 6, 'min_child_weight': 8.091714338165836, 'colsample_bytree': 0.6474503613249175, 'subsample': 0.5152034528248219}. Best is trial 35 with value: 0.6667909343748151.\n"
     ]
    },
    {
     "name": "stderr",
     "output_type": "stream",
     "text": [
      "[I 2025-03-02 21:33:09,915] Trial 58 finished with value: 0.6355035800934966 and parameters: {'learning_rate': 0.06272494216227867, 'max_depth': 9, 'min_child_weight': 5.912238556142323, 'colsample_bytree': 0.7649710390825587, 'subsample': 0.7918583646980961}. Best is trial 35 with value: 0.6667909343748151.\n"
     ]
    },
    {
     "name": "stderr",
     "output_type": "stream",
     "text": [
      "[I 2025-03-02 21:33:10,204] Trial 59 finished with value: 0.6622181785904492 and parameters: {'learning_rate': 0.020199590730891604, 'max_depth': 8, 'min_child_weight': 8.92984837448323, 'colsample_bytree': 0.8449330194183632, 'subsample': 0.5662525764679351}. Best is trial 35 with value: 0.6667909343748151.\n"
     ]
    },
    {
     "name": "stderr",
     "output_type": "stream",
     "text": [
      "[I 2025-03-02 21:33:10,450] Trial 60 finished with value: 0.6244999704124504 and parameters: {'learning_rate': 0.2513094731240698, 'max_depth': 7, 'min_child_weight': 7.319741081403064, 'colsample_bytree': 0.7130877091951917, 'subsample': 0.7604503770417635}. Best is trial 35 with value: 0.6667909343748151.\n"
     ]
    },
    {
     "name": "stderr",
     "output_type": "stream",
     "text": [
      "[I 2025-03-02 21:33:10,672] Trial 61 finished with value: 0.6603260547961418 and parameters: {'learning_rate': 0.03614474856035113, 'max_depth': 6, 'min_child_weight': 8.186752696586073, 'colsample_bytree': 0.6771027609784954, 'subsample': 0.5256588139363608}. Best is trial 35 with value: 0.6667909343748151.\n"
     ]
    },
    {
     "name": "stderr",
     "output_type": "stream",
     "text": [
      "[I 2025-03-02 21:33:10,893] Trial 62 finished with value: 0.664815965441742 and parameters: {'learning_rate': 0.04518130702661366, 'max_depth': 6, 'min_child_weight': 9.973982528046188, 'colsample_bytree': 0.6405278453794188, 'subsample': 0.5441806262633425}. Best is trial 35 with value: 0.6667909343748151.\n"
     ]
    },
    {
     "name": "stderr",
     "output_type": "stream",
     "text": [
      "[I 2025-03-02 21:33:11,092] Trial 63 finished with value: 0.6646325226344755 and parameters: {'learning_rate': 0.019164588418346576, 'max_depth': 5, 'min_child_weight': 9.718147265998997, 'colsample_bytree': 0.5666481960767703, 'subsample': 0.5419793349393768}. Best is trial 35 with value: 0.6667909343748151.\n"
     ]
    },
    {
     "name": "stderr",
     "output_type": "stream",
     "text": [
      "[I 2025-03-02 21:33:11,301] Trial 64 finished with value: 0.6634179537250724 and parameters: {'learning_rate': 0.02943063422775797, 'max_depth': 5, 'min_child_weight': 9.608650788265892, 'colsample_bytree': 0.5291649802372973, 'subsample': 0.581835370548946}. Best is trial 35 with value: 0.6667909343748151.\n"
     ]
    },
    {
     "name": "stderr",
     "output_type": "stream",
     "text": [
      "[I 2025-03-02 21:33:11,497] Trial 65 finished with value: 0.6586188531865791 and parameters: {'learning_rate': 0.04530516875078695, 'max_depth': 5, 'min_child_weight': 9.942580281561028, 'colsample_bytree': 0.47744073560032946, 'subsample': 0.5826286858472787}. Best is trial 35 with value: 0.6667909343748151.\n"
     ]
    },
    {
     "name": "stderr",
     "output_type": "stream",
     "text": [
      "[I 2025-03-02 21:33:11,678] Trial 66 finished with value: 0.6649402331498906 and parameters: {'learning_rate': 0.05718208192601873, 'max_depth': 4, 'min_child_weight': 9.684909222695868, 'colsample_bytree': 0.5284301834259865, 'subsample': 0.5410200056707103}. Best is trial 35 with value: 0.6667909343748151.\n"
     ]
    },
    {
     "name": "stderr",
     "output_type": "stream",
     "text": [
      "[I 2025-03-02 21:33:11,861] Trial 67 finished with value: 0.6581025504467721 and parameters: {'learning_rate': 0.08417146981021636, 'max_depth': 4, 'min_child_weight': 9.736758939109036, 'colsample_bytree': 0.6107076805686298, 'subsample': 0.5331001074870942}. Best is trial 35 with value: 0.6667909343748151.\n"
     ]
    },
    {
     "name": "stderr",
     "output_type": "stream",
     "text": [
      "[I 2025-03-02 21:33:12,027] Trial 68 finished with value: 0.6563376531155689 and parameters: {'learning_rate': 0.16133734490992785, 'max_depth': 3, 'min_child_weight': 9.14268227632185, 'colsample_bytree': 0.5625851749089492, 'subsample': 0.5150583436665798}. Best is trial 35 with value: 0.6667909343748151.\n"
     ]
    },
    {
     "name": "stderr",
     "output_type": "stream",
     "text": [
      "[I 2025-03-02 21:33:12,212] Trial 69 finished with value: 0.6624445233445766 and parameters: {'learning_rate': 0.0715915414351887, 'max_depth': 4, 'min_child_weight': 9.888875751326077, 'colsample_bytree': 0.5209484368525474, 'subsample': 0.5435867664519802}. Best is trial 35 with value: 0.6667909343748151.\n"
     ]
    },
    {
     "name": "stderr",
     "output_type": "stream",
     "text": [
      "[I 2025-03-02 21:33:12,415] Trial 70 finished with value: 0.6595508609976921 and parameters: {'learning_rate': 0.05240980509969286, 'max_depth': 5, 'min_child_weight': 6.562252963938157, 'colsample_bytree': 0.4580215610814032, 'subsample': 0.6124592549796716}. Best is trial 35 with value: 0.6667909343748151.\n"
     ]
    },
    {
     "name": "stderr",
     "output_type": "stream",
     "text": [
      "[I 2025-03-02 21:33:12,615] Trial 71 finished with value: 0.6645740872240962 and parameters: {'learning_rate': 0.018674589737004723, 'max_depth': 5, 'min_child_weight': 9.386707772345318, 'colsample_bytree': 0.43403497138880687, 'subsample': 0.567346723916321}. Best is trial 35 with value: 0.6667909343748151.\n"
     ]
    },
    {
     "name": "stderr",
     "output_type": "stream",
     "text": [
      "[I 2025-03-02 21:33:12,817] Trial 72 finished with value: 0.6646221669921297 and parameters: {'learning_rate': 0.018276511626412157, 'max_depth': 5, 'min_child_weight': 9.525214616329425, 'colsample_bytree': 0.40906045365872135, 'subsample': 0.5618455168897564}. Best is trial 35 with value: 0.6667909343748151.\n"
     ]
    },
    {
     "name": "stderr",
     "output_type": "stream",
     "text": [
      "[I 2025-03-02 21:33:12,997] Trial 73 finished with value: 0.6658337771465767 and parameters: {'learning_rate': 0.017898412748110833, 'max_depth': 4, 'min_child_weight': 9.458275047796786, 'colsample_bytree': 0.40755674713332585, 'subsample': 0.5553997622696778}. Best is trial 35 with value: 0.6667909343748151.\n"
     ]
    },
    {
     "name": "stderr",
     "output_type": "stream",
     "text": [
      "[I 2025-03-02 21:33:13,174] Trial 74 finished with value: 0.6659891117817622 and parameters: {'learning_rate': 0.03841312492683472, 'max_depth': 4, 'min_child_weight': 9.430002016756719, 'colsample_bytree': 0.3945730313285366, 'subsample': 0.5573954096156426}. Best is trial 35 with value: 0.6667909343748151.\n"
     ]
    },
    {
     "name": "stderr",
     "output_type": "stream",
     "text": [
      "[I 2025-03-02 21:33:13,364] Trial 75 finished with value: 0.6668471507189775 and parameters: {'learning_rate': 0.05739218423333921, 'max_depth': 4, 'min_child_weight': 9.987995462070819, 'colsample_bytree': 0.40826188241227884, 'subsample': 0.5505828705334598}. Best is trial 75 with value: 0.6668471507189775.\n"
     ]
    },
    {
     "name": "stderr",
     "output_type": "stream",
     "text": [
      "[I 2025-03-02 21:33:13,542] Trial 76 finished with value: 0.6625221906621694 and parameters: {'learning_rate': 0.03927354075681985, 'max_depth': 4, 'min_child_weight': 9.954785474833455, 'colsample_bytree': 0.38767401320127864, 'subsample': 0.5878302544737309}. Best is trial 75 with value: 0.6668471507189775.\n"
     ]
    },
    {
     "name": "stderr",
     "output_type": "stream",
     "text": [
      "[I 2025-03-02 21:33:13,705] Trial 77 finished with value: 0.666587519971596 and parameters: {'learning_rate': 0.056212992480602325, 'max_depth': 3, 'min_child_weight': 8.789562003696618, 'colsample_bytree': 0.3492623192655677, 'subsample': 0.5515413748131838}. Best is trial 75 with value: 0.6668471507189775.\n"
     ]
    },
    {
     "name": "stderr",
     "output_type": "stream",
     "text": [
      "[I 2025-03-02 21:33:13,868] Trial 78 finished with value: 0.6612994851766376 and parameters: {'learning_rate': 0.09867903996307048, 'max_depth': 3, 'min_child_weight': 9.070353091379985, 'colsample_bytree': 0.3614746336373038, 'subsample': 0.5936378274449535}. Best is trial 75 with value: 0.6668471507189775.\n"
     ]
    },
    {
     "name": "stderr",
     "output_type": "stream",
     "text": [
      "[I 2025-03-02 21:33:14,031] Trial 79 finished with value: 0.6677022309012367 and parameters: {'learning_rate': 0.057657927232410984, 'max_depth': 3, 'min_child_weight': 8.891090538910046, 'colsample_bytree': 0.30332020048242214, 'subsample': 0.552827809668853}. Best is trial 79 with value: 0.6677022309012367.\n"
     ]
    },
    {
     "name": "stderr",
     "output_type": "stream",
     "text": [
      "[I 2025-03-02 21:33:14,196] Trial 80 finished with value: 0.6692807266702172 and parameters: {'learning_rate': 0.056726515541838475, 'max_depth': 3, 'min_child_weight': 8.77190197079294, 'colsample_bytree': 0.32219010840034173, 'subsample': 0.554355797724533}. Best is trial 80 with value: 0.6692807266702172.\n"
     ]
    },
    {
     "name": "stderr",
     "output_type": "stream",
     "text": [
      "[I 2025-03-02 21:33:14,368] Trial 81 finished with value: 0.6683975383158767 and parameters: {'learning_rate': 0.060617891768687815, 'max_depth': 3, 'min_child_weight': 8.779654778518324, 'colsample_bytree': 0.3099119530656267, 'subsample': 0.5528347676438834}. Best is trial 80 with value: 0.6692807266702172.\n"
     ]
    },
    {
     "name": "stderr",
     "output_type": "stream",
     "text": [
      "[I 2025-03-02 21:33:14,531] Trial 82 finished with value: 0.6665727261968164 and parameters: {'learning_rate': 0.07282343023682777, 'max_depth': 3, 'min_child_weight': 8.692670806070419, 'colsample_bytree': 0.3140381636008621, 'subsample': 0.556448415585391}. Best is trial 80 with value: 0.6692807266702172.\n"
     ]
    },
    {
     "name": "stderr",
     "output_type": "stream",
     "text": [
      "[I 2025-03-02 21:33:14,693] Trial 83 finished with value: 0.6636931179359725 and parameters: {'learning_rate': 0.0689027881453938, 'max_depth': 3, 'min_child_weight': 8.656895528121748, 'colsample_bytree': 0.3010962335060126, 'subsample': 0.6332921371700124}. Best is trial 80 with value: 0.6692807266702172.\n"
     ]
    },
    {
     "name": "stderr",
     "output_type": "stream",
     "text": [
      "[I 2025-03-02 21:33:14,856] Trial 84 finished with value: 0.6628217646014557 and parameters: {'learning_rate': 0.09035328803894621, 'max_depth': 3, 'min_child_weight': 8.887704784776918, 'colsample_bytree': 0.33306776751324374, 'subsample': 0.5719042193604115}. Best is trial 80 with value: 0.6692807266702172.\n"
     ]
    },
    {
     "name": "stderr",
     "output_type": "stream",
     "text": [
      "[I 2025-03-02 21:33:15,015] Trial 85 finished with value: 0.6646665483164684 and parameters: {'learning_rate': 0.07903519829730958, 'max_depth': 3, 'min_child_weight': 8.39937635097622, 'colsample_bytree': 0.3328896869836197, 'subsample': 0.6623205053294328}. Best is trial 80 with value: 0.6692807266702172.\n"
     ]
    },
    {
     "name": "stderr",
     "output_type": "stream",
     "text": [
      "[I 2025-03-02 21:33:15,181] Trial 86 finished with value: 0.6639194626900999 and parameters: {'learning_rate': 0.059475245220121965, 'max_depth': 3, 'min_child_weight': 9.165796587389151, 'colsample_bytree': 0.38210451505457393, 'subsample': 0.5124963090434754}. Best is trial 80 with value: 0.6692807266702172.\n"
     ]
    },
    {
     "name": "stderr",
     "output_type": "stream",
     "text": [
      "[I 2025-03-02 21:33:15,356] Trial 87 finished with value: 0.6649505887922361 and parameters: {'learning_rate': 0.0719761602633097, 'max_depth': 3, 'min_child_weight': 8.784561305275117, 'colsample_bytree': 0.34723535873467815, 'subsample': 0.6075120491304956}. Best is trial 80 with value: 0.6692807266702172.\n"
     ]
    },
    {
     "name": "stderr",
     "output_type": "stream",
     "text": [
      "[I 2025-03-02 21:33:15,518] Trial 88 finished with value: 0.6633129179241375 and parameters: {'learning_rate': 0.09794695342771154, 'max_depth': 3, 'min_child_weight': 9.176086772712262, 'colsample_bytree': 0.3111091044245511, 'subsample': 0.5585645856270719}. Best is trial 80 with value: 0.6692807266702172.\n"
     ]
    },
    {
     "name": "stderr",
     "output_type": "stream",
     "text": [
      "[I 2025-03-02 21:33:15,694] Trial 89 finished with value: 0.6644742292443339 and parameters: {'learning_rate': 0.10612722266312252, 'max_depth': 4, 'min_child_weight': 8.732377541833287, 'colsample_bytree': 0.35243633969910354, 'subsample': 0.5287179314538821}. Best is trial 80 with value: 0.6692807266702172.\n"
     ]
    },
    {
     "name": "stderr",
     "output_type": "stream",
     "text": [
      "[I 2025-03-02 21:33:15,860] Trial 90 finished with value: 0.6652612580626072 and parameters: {'learning_rate': 0.0543076954019552, 'max_depth': 3, 'min_child_weight': 8.446447678952708, 'colsample_bytree': 0.37407839623217104, 'subsample': 0.5741567936459392}. Best is trial 80 with value: 0.6692807266702172.\n"
     ]
    },
    {
     "name": "stderr",
     "output_type": "stream",
     "text": [
      "[I 2025-03-02 21:33:16,023] Trial 91 finished with value: 0.6653529794662406 and parameters: {'learning_rate': 0.0636444155793659, 'max_depth': 3, 'min_child_weight': 8.353724654178592, 'colsample_bytree': 0.38500082595704765, 'subsample': 0.5744477164543675}. Best is trial 80 with value: 0.6692807266702172.\n"
     ]
    },
    {
     "name": "stderr",
     "output_type": "stream",
     "text": [
      "[I 2025-03-02 21:33:16,185] Trial 92 finished with value: 0.6617203680691165 and parameters: {'learning_rate': 0.12654704746692153, 'max_depth': 3, 'min_child_weight': 7.712829612415867, 'colsample_bytree': 0.4022210021501064, 'subsample': 0.5991020164059218}. Best is trial 80 with value: 0.6692807266702172.\n"
     ]
    },
    {
     "name": "stderr",
     "output_type": "stream",
     "text": [
      "[I 2025-03-02 21:33:16,374] Trial 93 finished with value: 0.6646029350849163 and parameters: {'learning_rate': 0.0638834867242509, 'max_depth': 4, 'min_child_weight': 8.28429737080991, 'colsample_bytree': 0.3160016648859445, 'subsample': 0.6257586152895214}. Best is trial 80 with value: 0.6692807266702172.\n"
     ]
    },
    {
     "name": "stderr",
     "output_type": "stream",
     "text": [
      "[I 2025-03-02 21:33:16,537] Trial 94 finished with value: 0.664366234688443 and parameters: {'learning_rate': 0.08001443728237384, 'max_depth': 3, 'min_child_weight': 8.97997773909365, 'colsample_bytree': 0.42583387441361104, 'subsample': 0.5584485204316412}. Best is trial 80 with value: 0.6692807266702172.\n"
     ]
    },
    {
     "name": "stderr",
     "output_type": "stream",
     "text": [
      "[I 2025-03-02 21:33:16,713] Trial 95 finished with value: 0.6628779809456181 and parameters: {'learning_rate': 0.04871154785740821, 'max_depth': 4, 'min_child_weight': 8.611154073731555, 'colsample_bytree': 0.3438367808085521, 'subsample': 0.9635202224728197}. Best is trial 80 with value: 0.6692807266702172.\n"
     ]
    },
    {
     "name": "stderr",
     "output_type": "stream",
     "text": [
      "[I 2025-03-02 21:33:16,878] Trial 96 finished with value: 0.6669610627847802 and parameters: {'learning_rate': 0.03933544837654842, 'max_depth': 3, 'min_child_weight': 7.969207761997319, 'colsample_bytree': 0.3634421075290363, 'subsample': 0.5524701349312704}. Best is trial 80 with value: 0.6692807266702172.\n"
     ]
    },
    {
     "name": "stderr",
     "output_type": "stream",
     "text": [
      "[I 2025-03-02 21:33:17,055] Trial 97 finished with value: 0.6618927155452986 and parameters: {'learning_rate': 0.03632788240134034, 'max_depth': 4, 'min_child_weight': 7.91473472564515, 'colsample_bytree': 0.36482445078679393, 'subsample': 0.9903025867374908}. Best is trial 80 with value: 0.6692807266702172.\n"
     ]
    },
    {
     "name": "stderr",
     "output_type": "stream",
     "text": [
      "[I 2025-03-02 21:33:17,294] Trial 98 finished with value: 0.6474673057577371 and parameters: {'learning_rate': 0.20826784599045525, 'max_depth': 3, 'min_child_weight': 9.270122503640996, 'colsample_bytree': 0.3231852432980328, 'subsample': 0.551032559989781}. Best is trial 80 with value: 0.6692807266702172.\n"
     ]
    },
    {
     "name": "stderr",
     "output_type": "stream",
     "text": [
      "[I 2025-03-02 21:33:17,479] Trial 99 finished with value: 0.6698340138469732 and parameters: {'learning_rate': 0.04189975749654899, 'max_depth': 4, 'min_child_weight': 5.113284512231269, 'colsample_bytree': 0.30136556960022487, 'subsample': 0.5088193483340652}. Best is trial 99 with value: 0.6698340138469732.\n"
     ]
    },
    {
     "name": "stderr",
     "output_type": "stream",
     "text": [
      "[I 2025-03-02 21:33:17,660] Trial 100 finished with value: 0.6666429966270193 and parameters: {'learning_rate': 0.05536561100202786, 'max_depth': 3, 'min_child_weight': 4.437758842400037, 'colsample_bytree': 0.30101432483674245, 'subsample': 0.5076488049057317}. Best is trial 99 with value: 0.6698340138469732.\n"
     ]
    },
    {
     "name": "stderr",
     "output_type": "stream",
     "text": [
      "[I 2025-03-02 21:33:17,830] Trial 101 finished with value: 0.6675676075507426 and parameters: {'learning_rate': 0.057752156967863844, 'max_depth': 3, 'min_child_weight': 4.830403224093292, 'colsample_bytree': 0.307415569195493, 'subsample': 0.509275407138738}. Best is trial 99 with value: 0.6698340138469732.\n"
     ]
    },
    {
     "name": "stderr",
     "output_type": "stream",
     "text": [
      "[I 2025-03-02 21:33:17,999] Trial 102 finished with value: 0.6670439079235457 and parameters: {'learning_rate': 0.056231347450145894, 'max_depth': 3, 'min_child_weight': 4.711357787585084, 'colsample_bytree': 0.3050539095810702, 'subsample': 0.5098024660203635}. Best is trial 99 with value: 0.6698340138469732.\n"
     ]
    },
    {
     "name": "stderr",
     "output_type": "stream",
     "text": [
      "[I 2025-03-02 21:33:18,169] Trial 103 finished with value: 0.6659617432984201 and parameters: {'learning_rate': 0.05626877830442948, 'max_depth': 3, 'min_child_weight': 4.459140493528196, 'colsample_bytree': 0.30000475578952635, 'subsample': 0.5109525256064805}. Best is trial 99 with value: 0.6698340138469732.\n"
     ]
    },
    {
     "name": "stderr",
     "output_type": "stream",
     "text": [
      "[I 2025-03-02 21:33:18,356] Trial 104 finished with value: 0.6712985975501509 and parameters: {'learning_rate': 0.05026588609096893, 'max_depth': 3, 'min_child_weight': 5.131614185895246, 'colsample_bytree': 0.3413025109128569, 'subsample': 0.5000996640673241}. Best is trial 104 with value: 0.6712985975501509.\n"
     ]
    },
    {
     "name": "stderr",
     "output_type": "stream",
     "text": [
      "[I 2025-03-02 21:33:18,524] Trial 105 finished with value: 0.6686712231492988 and parameters: {'learning_rate': 0.04845453453888269, 'max_depth': 3, 'min_child_weight': 5.070551823547137, 'colsample_bytree': 0.33269905657213983, 'subsample': 0.5074816621204512}. Best is trial 104 with value: 0.6712985975501509.\n"
     ]
    },
    {
     "name": "stderr",
     "output_type": "stream",
     "text": [
      "[I 2025-03-02 21:33:18,695] Trial 106 finished with value: 0.6656399786969643 and parameters: {'learning_rate': 0.04296598982287096, 'max_depth': 3, 'min_child_weight': 5.202928133587908, 'colsample_bytree': 0.3379516444752521, 'subsample': 0.5201730737897793}. Best is trial 104 with value: 0.6712985975501509.\n"
     ]
    },
    {
     "name": "stderr",
     "output_type": "stream",
     "text": [
      "[I 2025-03-02 21:33:18,873] Trial 107 finished with value: 0.6670845908041896 and parameters: {'learning_rate': 0.04673045256750019, 'max_depth': 3, 'min_child_weight': 5.000012729208076, 'colsample_bytree': 0.35945830406129375, 'subsample': 0.5345178364408052}. Best is trial 104 with value: 0.6712985975501509.\n"
     ]
    },
    {
     "name": "stderr",
     "output_type": "stream",
     "text": [
      "[I 2025-03-02 21:33:19,048] Trial 108 finished with value: 0.6670823717379726 and parameters: {'learning_rate': 0.048589206290450764, 'max_depth': 3, 'min_child_weight': 4.859404345926996, 'colsample_bytree': 0.3653074842095557, 'subsample': 0.5000904249664885}. Best is trial 104 with value: 0.6712985975501509.\n"
     ]
    },
    {
     "name": "stderr",
     "output_type": "stream",
     "text": [
      "[I 2025-03-02 21:33:19,218] Trial 109 finished with value: 0.6701861056867271 and parameters: {'learning_rate': 0.04515235827276125, 'max_depth': 3, 'min_child_weight': 4.852900343281717, 'colsample_bytree': 0.3616316160588555, 'subsample': 0.5017907839896533}. Best is trial 104 with value: 0.6712985975501509.\n"
     ]
    },
    {
     "name": "stderr",
     "output_type": "stream",
     "text": [
      "[I 2025-03-02 21:33:19,399] Trial 110 finished with value: 0.6676016332327357 and parameters: {'learning_rate': 0.048785014009825184, 'max_depth': 3, 'min_child_weight': 5.031129298151912, 'colsample_bytree': 0.326911492621011, 'subsample': 0.5036890779510741}. Best is trial 104 with value: 0.6712985975501509.\n"
     ]
    },
    {
     "name": "stderr",
     "output_type": "stream",
     "text": [
      "[I 2025-03-02 21:33:19,571] Trial 111 finished with value: 0.6714287827682113 and parameters: {'learning_rate': 0.0490743484139412, 'max_depth': 3, 'min_child_weight': 5.074857929206194, 'colsample_bytree': 0.32334150771734005, 'subsample': 0.5008005547865103}. Best is trial 111 with value: 0.6714287827682113.\n"
     ]
    },
    {
     "name": "stderr",
     "output_type": "stream",
     "text": [
      "[I 2025-03-02 21:33:19,747] Trial 112 finished with value: 0.6710855671933251 and parameters: {'learning_rate': 0.048580683449277795, 'max_depth': 3, 'min_child_weight': 5.08412264387626, 'colsample_bytree': 0.3270257873802543, 'subsample': 0.5012332487652836}. Best is trial 111 with value: 0.6714287827682113.\n"
     ]
    },
    {
     "name": "stderr",
     "output_type": "stream",
     "text": [
      "[I 2025-03-02 21:33:19,919] Trial 113 finished with value: 0.6663841055683768 and parameters: {'learning_rate': 0.06683419460494514, 'max_depth': 3, 'min_child_weight': 5.149184002443101, 'colsample_bytree': 0.3247807090624709, 'subsample': 0.5232511324834349}. Best is trial 111 with value: 0.6714287827682113.\n"
     ]
    },
    {
     "name": "stderr",
     "output_type": "stream",
     "text": [
      "[I 2025-03-02 21:33:20,093] Trial 114 finished with value: 0.6696742410793539 and parameters: {'learning_rate': 0.04566680998925172, 'max_depth': 3, 'min_child_weight': 4.009058358962598, 'colsample_bytree': 0.3333762212184154, 'subsample': 0.500209747740167}. Best is trial 111 with value: 0.6714287827682113.\n"
     ]
    },
    {
     "name": "stderr",
     "output_type": "stream",
     "text": [
      "[I 2025-03-02 21:33:20,279] Trial 115 finished with value: 0.6673397834191372 and parameters: {'learning_rate': 0.03178993229153857, 'max_depth': 3, 'min_child_weight': 4.129685349774334, 'colsample_bytree': 0.33307693777184494, 'subsample': 0.5211918002705029}. Best is trial 111 with value: 0.6714287827682113.\n"
     ]
    },
    {
     "name": "stderr",
     "output_type": "stream",
     "text": [
      "[I 2025-03-02 21:33:20,450] Trial 116 finished with value: 0.6679995857743062 and parameters: {'learning_rate': 0.04989983886352029, 'max_depth': 3, 'min_child_weight': 5.613212703196352, 'colsample_bytree': 0.31680071002658244, 'subsample': 0.5020722179032188}. Best is trial 111 with value: 0.6714287827682113.\n"
     ]
    },
    {
     "name": "stderr",
     "output_type": "stream",
     "text": [
      "[I 2025-03-02 21:33:20,620] Trial 117 finished with value: 0.664960944434582 and parameters: {'learning_rate': 0.049629996922780466, 'max_depth': 3, 'min_child_weight': 5.638048168984655, 'colsample_bytree': 0.32186188503456653, 'subsample': 0.5307943935567847}. Best is trial 111 with value: 0.6714287827682113.\n"
     ]
    },
    {
     "name": "stderr",
     "output_type": "stream",
     "text": [
      "[I 2025-03-02 21:33:20,792] Trial 118 finished with value: 0.6668345760104147 and parameters: {'learning_rate': 0.033265775993717654, 'max_depth': 3, 'min_child_weight': 5.321892935063573, 'colsample_bytree': 0.3419050883286649, 'subsample': 0.502198277465205}. Best is trial 111 with value: 0.6714287827682113.\n"
     ]
    },
    {
     "name": "stderr",
     "output_type": "stream",
     "text": [
      "[I 2025-03-02 21:33:20,962] Trial 119 finished with value: 0.6680631990058583 and parameters: {'learning_rate': 0.06295112359147285, 'max_depth': 3, 'min_child_weight': 6.072684771105246, 'colsample_bytree': 0.32062559788325734, 'subsample': 0.5192850334346384}. Best is trial 111 with value: 0.6714287827682113.\n"
     ]
    },
    {
     "name": "stderr",
     "output_type": "stream",
     "text": [
      "[I 2025-03-02 21:33:21,133] Trial 120 finished with value: 0.6618409373335701 and parameters: {'learning_rate': 0.07895044741717773, 'max_depth': 3, 'min_child_weight': 5.9334131058450925, 'colsample_bytree': 0.37466585979925005, 'subsample': 0.5219603445025732}. Best is trial 111 with value: 0.6714287827682113.\n"
     ]
    },
    {
     "name": "stderr",
     "output_type": "stream",
     "text": [
      "[I 2025-03-02 21:33:21,310] Trial 121 finished with value: 0.6692304278359666 and parameters: {'learning_rate': 0.04223956848064245, 'max_depth': 3, 'min_child_weight': 3.8433887520529417, 'colsample_bytree': 0.32063962777850885, 'subsample': 0.5017150863384388}. Best is trial 111 with value: 0.6714287827682113.\n"
     ]
    },
    {
     "name": "stderr",
     "output_type": "stream",
     "text": [
      "[I 2025-03-02 21:33:21,480] Trial 122 finished with value: 0.6658685425173086 and parameters: {'learning_rate': 0.04197414704619836, 'max_depth': 3, 'min_child_weight': 3.6661428895759407, 'colsample_bytree': 0.34880237373825795, 'subsample': 0.5369132748056912}. Best is trial 111 with value: 0.6714287827682113.\n"
     ]
    },
    {
     "name": "stderr",
     "output_type": "stream",
     "text": [
      "[I 2025-03-02 21:33:21,650] Trial 123 finished with value: 0.666795372507249 and parameters: {'learning_rate': 0.06353704910332908, 'max_depth': 3, 'min_child_weight': 3.6296358296487, 'colsample_bytree': 0.3153317089118737, 'subsample': 0.5001783811877041}. Best is trial 111 with value: 0.6714287827682113.\n"
     ]
    },
    {
     "name": "stderr",
     "output_type": "stream",
     "text": [
      "[I 2025-03-02 21:33:21,822] Trial 124 finished with value: 0.6684685484348187 and parameters: {'learning_rate': 0.0671074417145227, 'max_depth': 3, 'min_child_weight': 5.828927910650462, 'colsample_bytree': 0.3373297205098024, 'subsample': 0.5185155241974149}. Best is trial 111 with value: 0.6714287827682113.\n"
     ]
    },
    {
     "name": "stderr",
     "output_type": "stream",
     "text": [
      "[I 2025-03-02 21:33:21,990] Trial 125 finished with value: 0.6682954612698977 and parameters: {'learning_rate': 0.0688027068562012, 'max_depth': 3, 'min_child_weight': 5.463629102439816, 'colsample_bytree': 0.3393758821021731, 'subsample': 0.5178082508624868}. Best is trial 111 with value: 0.6714287827682113.\n"
     ]
    },
    {
     "name": "stderr",
     "output_type": "stream",
     "text": [
      "[I 2025-03-02 21:33:22,165] Trial 126 finished with value: 0.667413752293035 and parameters: {'learning_rate': 0.07095716498536497, 'max_depth': 3, 'min_child_weight': 5.8982752983926465, 'colsample_bytree': 0.3399872875545409, 'subsample': 0.5171067208859272}. Best is trial 111 with value: 0.6714287827682113.\n"
     ]
    },
    {
     "name": "stderr",
     "output_type": "stream",
     "text": [
      "[I 2025-03-02 21:33:22,385] Trial 127 finished with value: 0.6598363808509381 and parameters: {'learning_rate': 0.06416936247848619, 'max_depth': 3, 'min_child_weight': 5.437023651515284, 'colsample_bytree': 0.9986885860522902, 'subsample': 0.5244600122853444}. Best is trial 111 with value: 0.6714287827682113.\n"
     ]
    },
    {
     "name": "stderr",
     "output_type": "stream",
     "text": [
      "[I 2025-03-02 21:33:22,570] Trial 128 finished with value: 0.6681756316941831 and parameters: {'learning_rate': 0.04445934752013378, 'max_depth': 4, 'min_child_weight': 4.049707273762948, 'colsample_bytree': 0.354516975158594, 'subsample': 0.5336121458328946}. Best is trial 111 with value: 0.6714287827682113.\n"
     ]
    },
    {
     "name": "stderr",
     "output_type": "stream",
     "text": [
      "[I 2025-03-02 21:33:22,757] Trial 129 finished with value: 0.6639963903189539 and parameters: {'learning_rate': 0.04222722981829132, 'max_depth': 4, 'min_child_weight': 3.8987767371399737, 'colsample_bytree': 0.3718819505113422, 'subsample': 0.5346638157814501}. Best is trial 111 with value: 0.6714287827682113.\n"
     ]
    },
    {
     "name": "stderr",
     "output_type": "stream",
     "text": [
      "[I 2025-03-02 21:33:22,946] Trial 130 finished with value: 0.6694922776495651 and parameters: {'learning_rate': 0.03445108422309258, 'max_depth': 4, 'min_child_weight': 4.33178436814638, 'colsample_bytree': 0.33512269226258995, 'subsample': 0.5142394594685749}. Best is trial 111 with value: 0.6714287827682113.\n"
     ]
    },
    {
     "name": "stderr",
     "output_type": "stream",
     "text": [
      "[I 2025-03-02 21:33:23,133] Trial 131 finished with value: 0.6704080123084206 and parameters: {'learning_rate': 0.03438194011268696, 'max_depth': 4, 'min_child_weight': 4.207137523721874, 'colsample_bytree': 0.3534821593087268, 'subsample': 0.5269222166607445}. Best is trial 111 with value: 0.6714287827682113.\n"
     ]
    },
    {
     "name": "stderr",
     "output_type": "stream",
     "text": [
      "[I 2025-03-02 21:33:23,327] Trial 132 finished with value: 0.6691564589620688 and parameters: {'learning_rate': 0.026427962215169767, 'max_depth': 4, 'min_child_weight': 4.375700974131426, 'colsample_bytree': 0.33606144014928474, 'subsample': 0.5113089398276495}. Best is trial 111 with value: 0.6714287827682113.\n"
     ]
    },
    {
     "name": "stderr",
     "output_type": "stream",
     "text": [
      "[I 2025-03-02 21:33:23,508] Trial 133 finished with value: 0.6687836558376234 and parameters: {'learning_rate': 0.028011453193765697, 'max_depth': 4, 'min_child_weight': 4.3445889017720205, 'colsample_bytree': 0.3317557410655592, 'subsample': 0.528908665806033}. Best is trial 111 with value: 0.6714287827682113.\n"
     ]
    },
    {
     "name": "stderr",
     "output_type": "stream",
     "text": [
      "[I 2025-03-02 21:33:23,689] Trial 134 finished with value: 0.6670875495591455 and parameters: {'learning_rate': 0.02793849804297996, 'max_depth': 4, 'min_child_weight': 4.46017772291346, 'colsample_bytree': 0.3819098627650549, 'subsample': 0.5093710241397215}. Best is trial 111 with value: 0.6714287827682113.\n"
     ]
    },
    {
     "name": "stderr",
     "output_type": "stream",
     "text": [
      "[I 2025-03-02 21:33:23,871] Trial 135 finished with value: 0.6708281555121605 and parameters: {'learning_rate': 0.0332001638814882, 'max_depth': 4, 'min_child_weight': 4.249380485777804, 'colsample_bytree': 0.35069273976771875, 'subsample': 0.5272574225387625}. Best is trial 111 with value: 0.6714287827682113.\n"
     ]
    },
    {
     "name": "stderr",
     "output_type": "stream",
     "text": [
      "[I 2025-03-02 21:33:24,049] Trial 136 finished with value: 0.6678531274039885 and parameters: {'learning_rate': 0.03354545206555564, 'max_depth': 4, 'min_child_weight': 4.261371745381931, 'colsample_bytree': 0.35785235851330766, 'subsample': 0.5395147527139537}. Best is trial 111 with value: 0.6714287827682113.\n"
     ]
    },
    {
     "name": "stderr",
     "output_type": "stream",
     "text": [
      "[I 2025-03-02 21:33:24,229] Trial 137 finished with value: 0.6690321912539203 and parameters: {'learning_rate': 0.02626783820936031, 'max_depth': 4, 'min_child_weight': 3.2289464093161113, 'colsample_bytree': 0.3288400850501056, 'subsample': 0.5276251353070053}. Best is trial 111 with value: 0.6714287827682113.\n"
     ]
    },
    {
     "name": "stderr",
     "output_type": "stream",
     "text": [
      "[I 2025-03-02 21:33:24,421] Trial 138 finished with value: 0.6671163974199656 and parameters: {'learning_rate': 0.025582550381647112, 'max_depth': 4, 'min_child_weight': 2.954603049008735, 'colsample_bytree': 0.3934317894432207, 'subsample': 0.5316906907029207}. Best is trial 111 with value: 0.6714287827682113.\n"
     ]
    },
    {
     "name": "stderr",
     "output_type": "stream",
     "text": [
      "[I 2025-03-02 21:33:24,610] Trial 139 finished with value: 0.6637774424522161 and parameters: {'learning_rate': 0.012305381496216582, 'max_depth': 4, 'min_child_weight': 3.327856181169817, 'colsample_bytree': 0.4210987308414408, 'subsample': 0.5271030546472257}. Best is trial 111 with value: 0.6714287827682113.\n"
     ]
    },
    {
     "name": "stderr",
     "output_type": "stream",
     "text": [
      "[I 2025-03-02 21:33:24,799] Trial 140 finished with value: 0.669014438724185 and parameters: {'learning_rate': 0.02442328799721234, 'max_depth': 4, 'min_child_weight': 3.886871702189471, 'colsample_bytree': 0.3515739403567045, 'subsample': 0.5153491453945953}. Best is trial 111 with value: 0.6714287827682113.\n"
     ]
    },
    {
     "name": "stderr",
     "output_type": "stream",
     "text": [
      "[I 2025-03-02 21:33:24,984] Trial 141 finished with value: 0.6684537546600391 and parameters: {'learning_rate': 0.024146160655914812, 'max_depth': 4, 'min_child_weight': 3.688563334707962, 'colsample_bytree': 0.34935790243354004, 'subsample': 0.5158114502380012}. Best is trial 111 with value: 0.6714287827682113.\n"
     ]
    },
    {
     "name": "stderr",
     "output_type": "stream",
     "text": [
      "[I 2025-03-02 21:33:25,171] Trial 142 finished with value: 0.6699745547073791 and parameters: {'learning_rate': 0.03507645698399641, 'max_depth': 4, 'min_child_weight': 4.610816060594726, 'colsample_bytree': 0.32603605316413187, 'subsample': 0.5114093708738376}. Best is trial 111 with value: 0.6714287827682113.\n"
     ]
    },
    {
     "name": "stderr",
     "output_type": "stream",
     "text": [
      "[I 2025-03-02 21:33:25,370] Trial 143 finished with value: 0.6661266938872124 and parameters: {'learning_rate': 0.03832565986651024, 'max_depth': 4, 'min_child_weight': 4.632783782824322, 'colsample_bytree': 0.3703568390509594, 'subsample': 0.5007144044762201}. Best is trial 111 with value: 0.6714287827682113.\n"
     ]
    },
    {
     "name": "stderr",
     "output_type": "stream",
     "text": [
      "[I 2025-03-02 21:33:25,556] Trial 144 finished with value: 0.6712793656429374 and parameters: {'learning_rate': 0.03279195077719235, 'max_depth': 4, 'min_child_weight': 3.9559087074346015, 'colsample_bytree': 0.34915779019692017, 'subsample': 0.5126620308133765}. Best is trial 111 with value: 0.6714287827682113.\n"
     ]
    },
    {
     "name": "stderr",
     "output_type": "stream",
     "text": [
      "[I 2025-03-02 21:33:25,741] Trial 145 finished with value: 0.6681800698266169 and parameters: {'learning_rate': 0.032730544474507024, 'max_depth': 4, 'min_child_weight': 3.3279136781536467, 'colsample_bytree': 0.3257136880401182, 'subsample': 0.5422786193831732}. Best is trial 111 with value: 0.6714287827682113.\n"
     ]
    },
    {
     "name": "stderr",
     "output_type": "stream",
     "text": [
      "[I 2025-03-02 21:33:25,928] Trial 146 finished with value: 0.6669462690100005 and parameters: {'learning_rate': 0.036608646601041905, 'max_depth': 4, 'min_child_weight': 4.766848002406194, 'colsample_bytree': 0.3786823980987105, 'subsample': 0.5122818952089239}. Best is trial 111 with value: 0.6714287827682113.\n"
     ]
    },
    {
     "name": "stderr",
     "output_type": "stream",
     "text": [
      "[I 2025-03-02 21:33:26,155] Trial 147 finished with value: 0.6588022959938458 and parameters: {'learning_rate': 0.010572585485649787, 'max_depth': 5, 'min_child_weight': 3.9225436751586584, 'colsample_bytree': 0.9659083214567222, 'subsample': 0.5003988542804612}. Best is trial 111 with value: 0.6714287827682113.\n"
     ]
    },
    {
     "name": "stderr",
     "output_type": "stream",
     "text": [
      "[I 2025-03-02 21:33:26,355] Trial 148 finished with value: 0.6691697733593703 and parameters: {'learning_rate': 0.032400271754681007, 'max_depth': 4, 'min_child_weight': 4.521831322772373, 'colsample_bytree': 0.3615990164440102, 'subsample': 0.5276169595469739}. Best is trial 111 with value: 0.6714287827682113.\n"
     ]
    },
    {
     "name": "stderr",
     "output_type": "stream",
     "text": [
      "[I 2025-03-02 21:33:26,539] Trial 149 finished with value: 0.6645999763299605 and parameters: {'learning_rate': 0.03583668334833993, 'max_depth': 4, 'min_child_weight': 4.29869130136121, 'colsample_bytree': 0.3964580417326078, 'subsample': 0.5139503474427711}. Best is trial 111 with value: 0.6714287827682113.\n"
     ]
    },
    {
     "name": "stderr",
     "output_type": "stream",
     "text": [
      "[I 2025-03-02 21:33:26,724] Trial 150 finished with value: 0.6678213207882122 and parameters: {'learning_rate': 0.03113748381554158, 'max_depth': 4, 'min_child_weight': 4.636448660849639, 'colsample_bytree': 0.36230067243527564, 'subsample': 0.5423307375642313}. Best is trial 111 with value: 0.6714287827682113.\n"
     ]
    },
    {
     "name": "stderr",
     "output_type": "stream",
     "text": [
      "[I 2025-03-02 21:33:26,910] Trial 151 finished with value: 0.6683620332564056 and parameters: {'learning_rate': 0.04248271703911232, 'max_depth': 4, 'min_child_weight': 4.1861040390474455, 'colsample_bytree': 0.31781406641986365, 'subsample': 0.5283472805065064}. Best is trial 111 with value: 0.6714287827682113.\n"
     ]
    },
    {
     "name": "stderr",
     "output_type": "stream",
     "text": [
      "[I 2025-03-02 21:33:27,097] Trial 152 finished with value: 0.6678486892715545 and parameters: {'learning_rate': 0.021200534720190203, 'max_depth': 4, 'min_child_weight': 2.185044103217473, 'colsample_bytree': 0.35038262114355856, 'subsample': 0.509521654812424}. Best is trial 111 with value: 0.6714287827682113.\n"
     ]
    },
    {
     "name": "stderr",
     "output_type": "stream",
     "text": [
      "[I 2025-03-02 21:33:27,285] Trial 153 finished with value: 0.66890940292325 and parameters: {'learning_rate': 0.0294594490860456, 'max_depth': 4, 'min_child_weight': 4.931679794876125, 'colsample_bytree': 0.3383974255476848, 'subsample': 0.5244552478157833}. Best is trial 111 with value: 0.6714287827682113.\n"
     ]
    },
    {
     "name": "stderr",
     "output_type": "stream",
     "text": [
      "[I 2025-03-02 21:33:27,473] Trial 154 finished with value: 0.668385703296053 and parameters: {'learning_rate': 0.03907488062911173, 'max_depth': 4, 'min_child_weight': 4.537562460535589, 'colsample_bytree': 0.31334794696687635, 'subsample': 0.5003665659014037}. Best is trial 111 with value: 0.6714287827682113.\n"
     ]
    },
    {
     "name": "stderr",
     "output_type": "stream",
     "text": [
      "[I 2025-03-02 21:33:27,683] Trial 155 finished with value: 0.6668545476063672 and parameters: {'learning_rate': 0.014612564741980218, 'max_depth': 5, 'min_child_weight': 3.790845005494484, 'colsample_bytree': 0.32754695604365336, 'subsample': 0.5229216673324061}. Best is trial 111 with value: 0.6714287827682113.\n"
     ]
    },
    {
     "name": "stderr",
     "output_type": "stream",
     "text": [
      "[I 2025-03-02 21:33:27,869] Trial 156 finished with value: 0.6574634593762945 and parameters: {'learning_rate': 0.14427263048759933, 'max_depth': 4, 'min_child_weight': 3.4440413836757537, 'colsample_bytree': 0.30177883039135966, 'subsample': 0.5361452385254807}. Best is trial 111 with value: 0.6714287827682113.\n"
     ]
    },
    {
     "name": "stderr",
     "output_type": "stream",
     "text": [
      "[I 2025-03-02 21:33:28,056] Trial 157 finished with value: 0.6692348659684004 and parameters: {'learning_rate': 0.03455678888055423, 'max_depth': 4, 'min_child_weight': 3.9991422856308647, 'colsample_bytree': 0.36261328793665376, 'subsample': 0.5143485021447262}. Best is trial 111 with value: 0.6714287827682113.\n"
     ]
    },
    {
     "name": "stderr",
     "output_type": "stream",
     "text": [
      "[I 2025-03-02 21:33:28,244] Trial 158 finished with value: 0.6670468666785017 and parameters: {'learning_rate': 0.04452688741710359, 'max_depth': 4, 'min_child_weight': 4.0335961629191015, 'colsample_bytree': 0.36984501389483493, 'subsample': 0.5094068660173607}. Best is trial 111 with value: 0.6714287827682113.\n"
     ]
    },
    {
     "name": "stderr",
     "output_type": "stream",
     "text": [
      "[I 2025-03-02 21:33:28,442] Trial 159 finished with value: 0.6634919225989704 and parameters: {'learning_rate': 0.052048499473341656, 'max_depth': 4, 'min_child_weight': 5.2924735935602145, 'colsample_bytree': 0.3847530961031869, 'subsample': 0.5138118345844834}. Best is trial 111 with value: 0.6714287827682113.\n"
     ]
    },
    {
     "name": "stderr",
     "output_type": "stream",
     "text": [
      "[I 2025-03-02 21:33:28,636] Trial 160 finished with value: 0.664236049470383 and parameters: {'learning_rate': 0.03469318240256764, 'max_depth': 4, 'min_child_weight': 4.343054671147371, 'colsample_bytree': 0.43809754086971936, 'subsample': 0.5449500395615022}. Best is trial 111 with value: 0.6714287827682113.\n"
     ]
    },
    {
     "name": "stderr",
     "output_type": "stream",
     "text": [
      "[I 2025-03-02 21:33:28,825] Trial 161 finished with value: 0.6691904846440618 and parameters: {'learning_rate': 0.024845197693279034, 'max_depth': 4, 'min_child_weight': 3.5081540644007756, 'colsample_bytree': 0.3466674746715186, 'subsample': 0.5241489720902693}. Best is trial 111 with value: 0.6714287827682113.\n"
     ]
    },
    {
     "name": "stderr",
     "output_type": "stream",
     "text": [
      "[I 2025-03-02 21:33:29,010] Trial 162 finished with value: 0.6690869282206047 and parameters: {'learning_rate': 0.04007889094085594, 'max_depth': 4, 'min_child_weight': 3.4993809242294285, 'colsample_bytree': 0.3567190884852984, 'subsample': 0.5102810588488813}. Best is trial 111 with value: 0.6714287827682113.\n"
     ]
    },
    {
     "name": "stderr",
     "output_type": "stream",
     "text": [
      "[I 2025-03-02 21:33:29,196] Trial 163 finished with value: 0.668041008343689 and parameters: {'learning_rate': 0.03170445957939507, 'max_depth': 4, 'min_child_weight': 4.701340162601456, 'colsample_bytree': 0.35132685692121546, 'subsample': 0.5002736282102888}. Best is trial 111 with value: 0.6714287827682113.\n"
     ]
    },
    {
     "name": "stderr",
     "output_type": "stream",
     "text": [
      "[I 2025-03-02 21:33:29,418] Trial 164 finished with value: 0.6672909639623645 and parameters: {'learning_rate': 0.02137316488951809, 'max_depth': 5, 'min_child_weight': 4.057791587028083, 'colsample_bytree': 0.3409516412266992, 'subsample': 0.522158561469652}. Best is trial 111 with value: 0.6714287827682113.\n"
     ]
    },
    {
     "name": "stderr",
     "output_type": "stream",
     "text": [
      "[I 2025-03-02 21:33:29,622] Trial 165 finished with value: 0.6657405763654654 and parameters: {'learning_rate': 0.016884506112112223, 'max_depth': 4, 'min_child_weight': 4.941390453571923, 'colsample_bytree': 0.36934135064208706, 'subsample': 0.5164787433439326}. Best is trial 111 with value: 0.6714287827682113.\n"
     ]
    },
    {
     "name": "stderr",
     "output_type": "stream",
     "text": [
      "[I 2025-03-02 21:33:29,810] Trial 166 finished with value: 0.6620110657435352 and parameters: {'learning_rate': 0.04526652483890849, 'max_depth': 4, 'min_child_weight': 4.483397308368563, 'colsample_bytree': 0.31579684760350923, 'subsample': 0.9102702619559786}. Best is trial 111 with value: 0.6714287827682113.\n"
     ]
    },
    {
     "name": "stderr",
     "output_type": "stream",
     "text": [
      "[I 2025-03-02 21:33:29,997] Trial 167 finished with value: 0.6697482099532517 and parameters: {'learning_rate': 0.03718610045444326, 'max_depth': 4, 'min_child_weight': 4.2382395950344085, 'colsample_bytree': 0.3379346414987691, 'subsample': 0.5314665029577504}. Best is trial 111 with value: 0.6714287827682113.\n"
     ]
    },
    {
     "name": "stderr",
     "output_type": "stream",
     "text": [
      "[I 2025-03-02 21:33:30,184] Trial 168 finished with value: 0.6676844783715012 and parameters: {'learning_rate': 0.03646624021355614, 'max_depth': 4, 'min_child_weight': 4.209731858542197, 'colsample_bytree': 0.3589207301307772, 'subsample': 0.5358379173024139}. Best is trial 111 with value: 0.6714287827682113.\n"
     ]
    },
    {
     "name": "stderr",
     "output_type": "stream",
     "text": [
      "[I 2025-03-02 21:33:30,400] Trial 169 finished with value: 0.6677214628084501 and parameters: {'learning_rate': 0.050636662177336624, 'max_depth': 5, 'min_child_weight': 3.822382547485499, 'colsample_bytree': 0.30037342412316614, 'subsample': 0.5297344319122855}. Best is trial 111 with value: 0.6714287827682113.\n"
     ]
    },
    {
     "name": "stderr",
     "output_type": "stream",
     "text": [
      "[I 2025-03-02 21:33:30,578] Trial 170 finished with value: 0.6655726670217172 and parameters: {'learning_rate': 0.04103732124173862, 'max_depth': 3, 'min_child_weight': 4.727244024640966, 'colsample_bytree': 0.3447097260245724, 'subsample': 0.5429845940278568}. Best is trial 111 with value: 0.6714287827682113.\n"
     ]
    },
    {
     "name": "stderr",
     "output_type": "stream",
     "text": [
      "[I 2025-03-02 21:33:30,767] Trial 171 finished with value: 0.6677111071661045 and parameters: {'learning_rate': 0.029790531237286907, 'max_depth': 4, 'min_child_weight': 4.081801189682654, 'colsample_bytree': 0.32185420420143274, 'subsample': 0.5072753596281824}. Best is trial 111 with value: 0.6714287827682113.\n"
     ]
    },
    {
     "name": "stderr",
     "output_type": "stream",
     "text": [
      "[I 2025-03-02 21:33:30,957] Trial 172 finished with value: 0.6683768270311853 and parameters: {'learning_rate': 0.023964491989982274, 'max_depth': 4, 'min_child_weight': 5.150064927449736, 'colsample_bytree': 0.33547222328195686, 'subsample': 0.5185429153410747}. Best is trial 111 with value: 0.6714287827682113.\n"
     ]
    },
    {
     "name": "stderr",
     "output_type": "stream",
     "text": [
      "[I 2025-03-02 21:33:31,150] Trial 173 finished with value: 0.6716040889993491 and parameters: {'learning_rate': 0.035208297855367617, 'max_depth': 4, 'min_child_weight': 4.577155799504957, 'colsample_bytree': 0.32874487844048556, 'subsample': 0.5105780022488136}. Best is trial 173 with value: 0.6716040889993491.\n"
     ]
    },
    {
     "name": "stderr",
     "output_type": "stream",
     "text": [
      "[I 2025-03-02 21:33:31,343] Trial 174 finished with value: 0.6673042783596662 and parameters: {'learning_rate': 0.046148949534554305, 'max_depth': 4, 'min_child_weight': 4.880833290822631, 'colsample_bytree': 0.31532193135758946, 'subsample': 0.52361330734376}. Best is trial 173 with value: 0.6716040889993491.\n"
     ]
    },
    {
     "name": "stderr",
     "output_type": "stream",
     "text": [
      "[I 2025-03-02 21:33:31,517] Trial 175 finished with value: 0.6637700455648263 and parameters: {'learning_rate': 0.03468840777817173, 'max_depth': 3, 'min_child_weight': 4.572580990712241, 'colsample_bytree': 0.3779921968140149, 'subsample': 0.5002588424490055}. Best is trial 173 with value: 0.6716040889993491.\n"
     ]
    },
    {
     "name": "stderr",
     "output_type": "stream",
     "text": [
      "[I 2025-03-02 21:33:31,708] Trial 176 finished with value: 0.6651074028048997 and parameters: {'learning_rate': 0.054147224038323005, 'max_depth': 4, 'min_child_weight': 3.606312445580001, 'colsample_bytree': 0.3468112790804984, 'subsample': 0.5318620100352416}. Best is trial 173 with value: 0.6716040889993491.\n"
     ]
    },
    {
     "name": "stderr",
     "output_type": "stream",
     "text": [
      "[I 2025-03-02 21:33:31,881] Trial 177 finished with value: 0.6666770223090123 and parameters: {'learning_rate': 0.04075769365134832, 'max_depth': 3, 'min_child_weight': 3.938651027722136, 'colsample_bytree': 0.3254691079574717, 'subsample': 0.5127111904222248}. Best is trial 173 with value: 0.6716040889993491.\n"
     ]
    },
    {
     "name": "stderr",
     "output_type": "stream",
     "text": [
      "[I 2025-03-02 21:33:32,079] Trial 178 finished with value: 0.6595967216995089 and parameters: {'learning_rate': 0.04753809737738957, 'max_depth': 4, 'min_child_weight': 4.246802414887465, 'colsample_bytree': 0.8952190342345999, 'subsample': 0.5217678567202997}. Best is trial 173 with value: 0.6716040889993491.\n"
     ]
    },
    {
     "name": "stderr",
     "output_type": "stream",
     "text": [
      "[I 2025-03-02 21:33:32,252] Trial 179 finished with value: 0.6639401739747914 and parameters: {'learning_rate': 0.03272332661090139, 'max_depth': 3, 'min_child_weight': 5.348441173441207, 'colsample_bytree': 0.36137228608016486, 'subsample': 0.5382154977725235}. Best is trial 173 with value: 0.6716040889993491.\n"
     ]
    },
    {
     "name": "stderr",
     "output_type": "stream",
     "text": [
      "[I 2025-03-02 21:33:32,451] Trial 180 finished with value: 0.6699568021776438 and parameters: {'learning_rate': 0.052127861188086495, 'max_depth': 4, 'min_child_weight': 3.1091095449147277, 'colsample_bytree': 0.32878093374688633, 'subsample': 0.5087093459839015}. Best is trial 173 with value: 0.6716040889993491.\n"
     ]
    },
    {
     "name": "stderr",
     "output_type": "stream",
     "text": [
      "[I 2025-03-02 21:33:32,644] Trial 181 finished with value: 0.6700233741641517 and parameters: {'learning_rate': 0.03928658727091034, 'max_depth': 4, 'min_child_weight': 2.9482862056933916, 'colsample_bytree': 0.3308109456741784, 'subsample': 0.5089294901450709}. Best is trial 173 with value: 0.6716040889993491.\n"
     ]
    },
    {
     "name": "stderr",
     "output_type": "stream",
     "text": [
      "[I 2025-03-02 21:33:32,833] Trial 182 finished with value: 0.6667613468252559 and parameters: {'learning_rate': 0.050996301427617144, 'max_depth': 4, 'min_child_weight': 2.812377782472395, 'colsample_bytree': 0.32941871087709795, 'subsample': 0.5004291132273884}. Best is trial 173 with value: 0.6716040889993491.\n"
     ]
    },
    {
     "name": "stderr",
     "output_type": "stream",
     "text": [
      "[I 2025-03-02 21:33:33,018] Trial 183 finished with value: 0.668075034025682 and parameters: {'learning_rate': 0.04021753181529089, 'max_depth': 4, 'min_child_weight': 3.115609877536057, 'colsample_bytree': 0.3104421040538019, 'subsample': 0.5114090257960937}. Best is trial 173 with value: 0.6716040889993491.\n"
     ]
    },
    {
     "name": "stderr",
     "output_type": "stream",
     "text": [
      "[I 2025-03-02 21:33:33,207] Trial 184 finished with value: 0.6695011539144328 and parameters: {'learning_rate': 0.04448283668779407, 'max_depth': 4, 'min_child_weight': 3.7397336035399156, 'colsample_bytree': 0.3441258142736032, 'subsample': 0.5096112428925}. Best is trial 173 with value: 0.6716040889993491.\n"
     ]
    },
    {
     "name": "stderr",
     "output_type": "stream",
     "text": [
      "[I 2025-03-02 21:33:33,395] Trial 185 finished with value: 0.6681815492040949 and parameters: {'learning_rate': 0.0441434555507351, 'max_depth': 3, 'min_child_weight': 2.304159801565488, 'colsample_bytree': 0.32719202467347563, 'subsample': 0.5089096318364136}. Best is trial 173 with value: 0.6716040889993491.\n"
     ]
    },
    {
     "name": "stderr",
     "output_type": "stream",
     "text": [
      "[I 2025-03-02 21:33:33,598] Trial 186 finished with value: 0.6320373986626427 and parameters: {'learning_rate': 0.18318876922172486, 'max_depth': 5, 'min_child_weight': 2.4845183183289787, 'colsample_bytree': 0.31452397888090866, 'subsample': 0.5004092543695138}. Best is trial 173 with value: 0.6716040889993491.\n"
     ]
    },
    {
     "name": "stderr",
     "output_type": "stream",
     "text": [
      "[I 2025-03-02 21:33:33,789] Trial 187 finished with value: 0.6681519616545357 and parameters: {'learning_rate': 0.05051618392917447, 'max_depth': 4, 'min_child_weight': 5.040794057450429, 'colsample_bytree': 0.3390802432188784, 'subsample': 0.5158879491723527}. Best is trial 173 with value: 0.6716040889993491.\n"
     ]
    },
    {
     "name": "stderr",
     "output_type": "stream",
     "text": [
      "[I 2025-03-02 21:33:33,961] Trial 188 finished with value: 0.6667909343748151 and parameters: {'learning_rate': 0.06045347741555118, 'max_depth': 3, 'min_child_weight': 2.76096604977222, 'colsample_bytree': 0.32662973885904617, 'subsample': 0.5094305491528083}. Best is trial 173 with value: 0.6716040889993491.\n"
     ]
    },
    {
     "name": "stderr",
     "output_type": "stream",
     "text": [
      "[I 2025-03-02 21:33:34,147] Trial 189 finished with value: 0.6680262145689094 and parameters: {'learning_rate': 0.05416407581600248, 'max_depth': 4, 'min_child_weight': 3.684847386511767, 'colsample_bytree': 0.30379354619869237, 'subsample': 0.5184096871928511}. Best is trial 173 with value: 0.6716040889993491.\n"
     ]
    },
    {
     "name": "stderr",
     "output_type": "stream",
     "text": [
      "[I 2025-03-02 21:33:34,337] Trial 190 finished with value: 0.6290416592697793 and parameters: {'learning_rate': 0.23660998198660996, 'max_depth': 4, 'min_child_weight': 4.150474548665851, 'colsample_bytree': 0.3454943888126464, 'subsample': 0.5004802177091924}. Best is trial 173 with value: 0.6716040889993491.\n"
     ]
    },
    {
     "name": "stderr",
     "output_type": "stream",
     "text": [
      "[I 2025-03-02 21:33:34,530] Trial 191 finished with value: 0.6694863601396532 and parameters: {'learning_rate': 0.03881120355976946, 'max_depth': 4, 'min_child_weight': 3.0775846914896245, 'colsample_bytree': 0.3406841928409786, 'subsample': 0.5251060191842698}. Best is trial 173 with value: 0.6716040889993491.\n"
     ]
    },
    {
     "name": "stderr",
     "output_type": "stream",
     "text": [
      "[I 2025-03-02 21:33:34,720] Trial 192 finished with value: 0.6674226285579028 and parameters: {'learning_rate': 0.03836774028100228, 'max_depth': 4, 'min_child_weight': 3.163700265796224, 'colsample_bytree': 0.3355418792577946, 'subsample': 0.5194410729869566}. Best is trial 173 with value: 0.6716040889993491.\n"
     ]
    },
    {
     "name": "stderr",
     "output_type": "stream",
     "text": [
      "[I 2025-03-02 21:33:34,909] Trial 193 finished with value: 0.6691002426179065 and parameters: {'learning_rate': 0.04513578388024923, 'max_depth': 4, 'min_child_weight': 3.036618685667134, 'colsample_bytree': 0.3159287862193533, 'subsample': 0.5321577783434583}. Best is trial 173 with value: 0.6716040889993491.\n"
     ]
    },
    {
     "name": "stderr",
     "output_type": "stream",
     "text": [
      "[I 2025-03-02 21:33:35,098] Trial 194 finished with value: 0.6702659920705367 and parameters: {'learning_rate': 0.03775088474521267, 'max_depth': 4, 'min_child_weight': 3.768726217794132, 'colsample_bytree': 0.35550649201027695, 'subsample': 0.5089255475129939}. Best is trial 173 with value: 0.6716040889993491.\n"
     ]
    },
    {
     "name": "stderr",
     "output_type": "stream",
     "text": [
      "[I 2025-03-02 21:33:35,289] Trial 195 finished with value: 0.6654927806379076 and parameters: {'learning_rate': 0.03682211592237229, 'max_depth': 4, 'min_child_weight': 2.60604444647165, 'colsample_bytree': 0.3697278898740554, 'subsample': 0.5114666123605823}. Best is trial 173 with value: 0.6716040889993491.\n"
     ]
    },
    {
     "name": "stderr",
     "output_type": "stream",
     "text": [
      "[I 2025-03-02 21:33:35,494] Trial 196 finished with value: 0.6241419610627847 and parameters: {'learning_rate': 0.2757683533361848, 'max_depth': 4, 'min_child_weight': 4.7671742229309535, 'colsample_bytree': 0.35527638218499913, 'subsample': 0.5235916130772015}. Best is trial 173 with value: 0.6716040889993491.\n"
     ]
    },
    {
     "name": "stderr",
     "output_type": "stream",
     "text": [
      "[I 2025-03-02 21:33:35,683] Trial 197 finished with value: 0.668212616131132 and parameters: {'learning_rate': 0.04858882047380328, 'max_depth': 4, 'min_child_weight': 3.9682244252045242, 'colsample_bytree': 0.3910780727815978, 'subsample': 0.5451900371939847}. Best is trial 173 with value: 0.6716040889993491.\n"
     ]
    },
    {
     "name": "stderr",
     "output_type": "stream",
     "text": [
      "[I 2025-03-02 21:33:35,874] Trial 198 finished with value: 0.6624119770400615 and parameters: {'learning_rate': 0.03062373839569228, 'max_depth': 4, 'min_child_weight': 3.33381757346758, 'colsample_bytree': 0.35054020913604717, 'subsample': 0.6940724173796526}. Best is trial 173 with value: 0.6716040889993491.\n"
     ]
    },
    {
     "name": "stderr",
     "output_type": "stream",
     "text": [
      "[I 2025-03-02 21:33:36,064] Trial 199 finished with value: 0.6651118409373337 and parameters: {'learning_rate': 0.03722417281681445, 'max_depth': 4, 'min_child_weight': 5.204219609628962, 'colsample_bytree': 0.3767737591334521, 'subsample': 0.5338934842511737}. Best is trial 173 with value: 0.6716040889993491.\n"
     ]
    },
    {
     "name": "stderr",
     "output_type": "stream",
     "text": [
      "[I 2025-03-02 21:33:36,253] Trial 200 finished with value: 0.67105302088881 and parameters: {'learning_rate': 0.05384384254629514, 'max_depth': 4, 'min_child_weight': 1.6068104770168494, 'colsample_bytree': 0.33792108310234825, 'subsample': 0.5107231580018724}. Best is trial 173 with value: 0.6716040889993491.\n"
     ]
    },
    {
     "name": "stderr",
     "output_type": "stream",
     "text": [
      "[I 2025-03-02 21:33:36,452] Trial 201 finished with value: 0.6694123912657552 and parameters: {'learning_rate': 0.05550368349864512, 'max_depth': 4, 'min_child_weight': 1.1719116083442933, 'colsample_bytree': 0.3312663167052186, 'subsample': 0.5125246011515733}. Best is trial 173 with value: 0.6716040889993491.\n"
     ]
    },
    {
     "name": "stderr",
     "output_type": "stream",
     "text": [
      "[I 2025-03-02 21:33:36,642] Trial 202 finished with value: 0.671156577312267 and parameters: {'learning_rate': 0.053167443974375096, 'max_depth': 4, 'min_child_weight': 1.551114632919523, 'colsample_bytree': 0.34171692816079646, 'subsample': 0.5085325367003328}. Best is trial 173 with value: 0.6716040889993491.\n"
     ]
    },
    {
     "name": "stderr",
     "output_type": "stream",
     "text": [
      "[I 2025-03-02 21:33:36,830] Trial 203 finished with value: 0.6715737617610509 and parameters: {'learning_rate': 0.054263649389602424, 'max_depth': 4, 'min_child_weight': 4.298626406574182, 'colsample_bytree': 0.33991435557204625, 'subsample': 0.5086882281754125}. Best is trial 173 with value: 0.6716040889993491.\n"
     ]
    },
    {
     "name": "stderr",
     "output_type": "stream",
     "text": [
      "[I 2025-03-02 21:33:37,022] Trial 204 finished with value: 0.6716270193502574 and parameters: {'learning_rate': 0.04650686546209997, 'max_depth': 4, 'min_child_weight': 1.3218905273247386, 'colsample_bytree': 0.34222353446770837, 'subsample': 0.507941370342056}. Best is trial 204 with value: 0.6716270193502574.\n"
     ]
    },
    {
     "name": "stderr",
     "output_type": "stream",
     "text": [
      "[I 2025-03-02 21:33:37,213] Trial 205 finished with value: 0.6695115095567785 and parameters: {'learning_rate': 0.05045038487387448, 'max_depth': 4, 'min_child_weight': 1.5505270027754232, 'colsample_bytree': 0.3472739665552813, 'subsample': 0.5059520294693653}. Best is trial 204 with value: 0.6716270193502574.\n"
     ]
    },
    {
     "name": "stderr",
     "output_type": "stream",
     "text": [
      "[I 2025-03-02 21:33:37,416] Trial 206 finished with value: 0.667725900940884 and parameters: {'learning_rate': 0.05328456059575655, 'max_depth': 4, 'min_child_weight': 1.5037926847017833, 'colsample_bytree': 0.35237255623711583, 'subsample': 0.5006367789864844}. Best is trial 204 with value: 0.6716270193502574.\n"
     ]
    },
    {
     "name": "stderr",
     "output_type": "stream",
     "text": [
      "[I 2025-03-02 21:33:37,611] Trial 207 finished with value: 0.6678205810994734 and parameters: {'learning_rate': 0.0587676776233177, 'max_depth': 4, 'min_child_weight': 1.801631675618402, 'colsample_bytree': 0.3631996934707367, 'subsample': 0.5071797216938441}. Best is trial 204 with value: 0.6716270193502574.\n"
     ]
    },
    {
     "name": "stderr",
     "output_type": "stream",
     "text": [
      "[I 2025-03-02 21:33:37,802] Trial 208 finished with value: 0.6707541866382626 and parameters: {'learning_rate': 0.046487686192582346, 'max_depth': 4, 'min_child_weight': 1.5692832640038117, 'colsample_bytree': 0.3008219315888852, 'subsample': 0.5078901914078863}. Best is trial 204 with value: 0.6716270193502574.\n"
     ]
    },
    {
     "name": "stderr",
     "output_type": "stream",
     "text": [
      "[I 2025-03-02 21:33:37,992] Trial 209 finished with value: 0.6687518492218474 and parameters: {'learning_rate': 0.04928518854073174, 'max_depth': 4, 'min_child_weight': 1.7231545838990383, 'colsample_bytree': 0.3048442430384893, 'subsample': 0.5200007566961848}. Best is trial 204 with value: 0.6716270193502574.\n"
     ]
    },
    {
     "name": "stderr",
     "output_type": "stream",
     "text": [
      "[I 2025-03-02 21:33:38,180] Trial 210 finished with value: 0.6664033374755902 and parameters: {'learning_rate': 0.06118201986841003, 'max_depth': 4, 'min_child_weight': 1.335003533687552, 'colsample_bytree': 0.3165483314297012, 'subsample': 0.5070510126695617}. Best is trial 204 with value: 0.6716270193502574.\n"
     ]
    },
    {
     "name": "stderr",
     "output_type": "stream",
     "text": [
      "[I 2025-03-02 21:33:38,380] Trial 211 finished with value: 0.6717801349192261 and parameters: {'learning_rate': 0.045220573205154296, 'max_depth': 4, 'min_child_weight': 1.6139089861716505, 'colsample_bytree': 0.33804429718309303, 'subsample': 0.5093677112384413}. Best is trial 211 with value: 0.6717801349192261.\n"
     ]
    },
    {
     "name": "stderr",
     "output_type": "stream",
     "text": [
      "[I 2025-03-02 21:33:38,574] Trial 212 finished with value: 0.6707527072607847 and parameters: {'learning_rate': 0.04438986524767075, 'max_depth': 4, 'min_child_weight': 1.7205114478112986, 'colsample_bytree': 0.332428203002679, 'subsample': 0.5002318765190772}. Best is trial 211 with value: 0.6717801349192261.\n"
     ]
    },
    {
     "name": "stderr",
     "output_type": "stream",
     "text": [
      "[I 2025-03-02 21:33:38,766] Trial 213 finished with value: 0.6684315639978697 and parameters: {'learning_rate': 0.04549613709282804, 'max_depth': 4, 'min_child_weight': 2.040599533474563, 'colsample_bytree': 0.32493672232354, 'subsample': 0.5180514492258506}. Best is trial 211 with value: 0.6717801349192261.\n"
     ]
    },
    {
     "name": "stderr",
     "output_type": "stream",
     "text": [
      "[I 2025-03-02 21:33:38,963] Trial 214 finished with value: 0.6674019172732115 and parameters: {'learning_rate': 0.04426886083134965, 'max_depth': 4, 'min_child_weight': 1.0418243869459212, 'colsample_bytree': 0.30238042036688006, 'subsample': 0.5015792011079336}. Best is trial 211 with value: 0.6717801349192261.\n"
     ]
    },
    {
     "name": "stderr",
     "output_type": "stream",
     "text": [
      "[I 2025-03-02 21:33:39,153] Trial 215 finished with value: 0.667764364755311 and parameters: {'learning_rate': 0.05434190071427572, 'max_depth': 4, 'min_child_weight': 1.8042517111117053, 'colsample_bytree': 0.33003470237143656, 'subsample': 0.500422950909142}. Best is trial 211 with value: 0.6717801349192261.\n"
     ]
    },
    {
     "name": "stderr",
     "output_type": "stream",
     "text": [
      "[I 2025-03-02 21:33:39,349] Trial 216 finished with value: 0.6696490916622286 and parameters: {'learning_rate': 0.04306342543534564, 'max_depth': 4, 'min_child_weight': 1.9451839677898402, 'colsample_bytree': 0.3150415048136402, 'subsample': 0.5172275773670948}. Best is trial 211 with value: 0.6717801349192261.\n"
     ]
    },
    {
     "name": "stderr",
     "output_type": "stream",
     "text": [
      "[I 2025-03-02 21:33:39,545] Trial 217 finished with value: 0.6701787087993373 and parameters: {'learning_rate': 0.05108947761579923, 'max_depth': 4, 'min_child_weight': 1.6220490236166598, 'colsample_bytree': 0.3375822814918202, 'subsample': 0.5102624545440878}. Best is trial 211 with value: 0.6717801349192261.\n"
     ]
    },
    {
     "name": "stderr",
     "output_type": "stream",
     "text": [
      "[I 2025-03-02 21:33:39,736] Trial 218 finished with value: 0.6667125273684834 and parameters: {'learning_rate': 0.05917701787235827, 'max_depth': 4, 'min_child_weight': 1.5494691954164463, 'colsample_bytree': 0.3395982746303731, 'subsample': 0.5280948833191751}. Best is trial 211 with value: 0.6717801349192261.\n"
     ]
    },
    {
     "name": "stderr",
     "output_type": "stream",
     "text": [
      "[I 2025-03-02 21:33:39,929] Trial 219 finished with value: 0.669323628617078 and parameters: {'learning_rate': 0.051389460424157395, 'max_depth': 4, 'min_child_weight': 1.301398692162055, 'colsample_bytree': 0.35580683005469527, 'subsample': 0.5133689381421321}. Best is trial 211 with value: 0.6717801349192261.\n"
     ]
    },
    {
     "name": "stderr",
     "output_type": "stream",
     "text": [
      "[I 2025-03-02 21:33:40,119] Trial 220 finished with value: 0.6700892064619208 and parameters: {'learning_rate': 0.04019394399033413, 'max_depth': 4, 'min_child_weight': 1.3518068757795674, 'colsample_bytree': 0.3005712542953788, 'subsample': 0.5245742790337863}. Best is trial 211 with value: 0.6717801349192261.\n"
     ]
    },
    {
     "name": "stderr",
     "output_type": "stream",
     "text": [
      "[I 2025-03-02 21:33:40,312] Trial 221 finished with value: 0.6671556009231315 and parameters: {'learning_rate': 0.04337048656077743, 'max_depth': 4, 'min_child_weight': 1.4440940191377287, 'colsample_bytree': 0.30260994757795695, 'subsample': 0.5235600921193901}. Best is trial 211 with value: 0.6717801349192261.\n"
     ]
    },
    {
     "name": "stderr",
     "output_type": "stream",
     "text": [
      "[I 2025-03-02 21:33:40,508] Trial 222 finished with value: 0.6688975679034264 and parameters: {'learning_rate': 0.04038865374144257, 'max_depth': 4, 'min_child_weight': 1.628328224551133, 'colsample_bytree': 0.31741013111579, 'subsample': 0.5104404360916808}. Best is trial 211 with value: 0.6717801349192261.\n"
     ]
    },
    {
     "name": "stderr",
     "output_type": "stream",
     "text": [
      "[I 2025-03-02 21:33:40,698] Trial 223 finished with value: 0.6673294277767915 and parameters: {'learning_rate': 0.04941006507132545, 'max_depth': 4, 'min_child_weight': 1.3229888389876532, 'colsample_bytree': 0.3268942980650382, 'subsample': 0.5304587055527844}. Best is trial 211 with value: 0.6717801349192261.\n"
     ]
    },
    {
     "name": "stderr",
     "output_type": "stream",
     "text": [
      "[I 2025-03-02 21:33:40,889] Trial 224 finished with value: 0.6675676075507427 and parameters: {'learning_rate': 0.03791578246613163, 'max_depth': 4, 'min_child_weight': 1.6962269969457782, 'colsample_bytree': 0.34076547538211543, 'subsample': 0.5194599874792519}. Best is trial 211 with value: 0.6717801349192261.\n"
     ]
    },
    {
     "name": "stderr",
     "output_type": "stream",
     "text": [
      "[I 2025-03-02 21:33:41,079] Trial 225 finished with value: 0.667212556956033 and parameters: {'learning_rate': 0.028683218968251736, 'max_depth': 4, 'min_child_weight': 1.276996986556539, 'colsample_bytree': 0.3149439243550477, 'subsample': 0.5089662038316022}. Best is trial 211 with value: 0.6717801349192261.\n"
     ]
    },
    {
     "name": "stderr",
     "output_type": "stream",
     "text": [
      "[I 2025-03-02 21:33:41,284] Trial 226 finished with value: 0.6694989348482159 and parameters: {'learning_rate': 0.05256010560269315, 'max_depth': 4, 'min_child_weight': 1.9037382406988588, 'colsample_bytree': 0.3012453242363643, 'subsample': 0.508971875506724}. Best is trial 211 with value: 0.6717801349192261.\n"
     ]
    },
    {
     "name": "stderr",
     "output_type": "stream",
     "text": [
      "[I 2025-03-02 21:33:41,482] Trial 227 finished with value: 0.6673575359488727 and parameters: {'learning_rate': 0.04734312179335324, 'max_depth': 4, 'min_child_weight': 1.1694420530685616, 'colsample_bytree': 0.32944424049690146, 'subsample': 0.521534594664407}. Best is trial 211 with value: 0.6717801349192261.\n"
     ]
    },
    {
     "name": "stderr",
     "output_type": "stream",
     "text": [
      "[I 2025-03-02 21:33:41,673] Trial 228 finished with value: 0.6695795609207644 and parameters: {'learning_rate': 0.03594745226400338, 'max_depth': 4, 'min_child_weight': 1.4320420632179276, 'colsample_bytree': 0.3562643559844549, 'subsample': 0.5002575605882984}. Best is trial 211 with value: 0.6717801349192261.\n"
     ]
    },
    {
     "name": "stderr",
     "output_type": "stream",
     "text": [
      "[I 2025-03-02 21:33:41,858] Trial 229 finished with value: 0.6646340020119534 and parameters: {'learning_rate': 0.059530588667166, 'max_depth': 4, 'min_child_weight': 1.029010209250047, 'colsample_bytree': 0.3377112101675742, 'subsample': 0.5322199422550445}. Best is trial 211 with value: 0.6717801349192261.\n"
     ]
    },
    {
     "name": "stderr",
     "output_type": "stream",
     "text": [
      "[I 2025-03-02 21:33:42,045] Trial 230 finished with value: 0.6644194922776496 and parameters: {'learning_rate': 0.04153437782163182, 'max_depth': 4, 'min_child_weight': 2.0335524588792673, 'colsample_bytree': 0.37204743084717545, 'subsample': 0.5163090987332949}. Best is trial 211 with value: 0.6717801349192261.\n"
     ]
    },
    {
     "name": "stderr",
     "output_type": "stream",
     "text": [
      "[I 2025-03-02 21:33:42,232] Trial 231 finished with value: 0.6707364341085271 and parameters: {'learning_rate': 0.047345587684149704, 'max_depth': 4, 'min_child_weight': 1.6223531035426437, 'colsample_bytree': 0.3229321817994289, 'subsample': 0.5081989948795752}. Best is trial 211 with value: 0.6717801349192261.\n"
     ]
    },
    {
     "name": "stderr",
     "output_type": "stream",
     "text": [
      "[I 2025-03-02 21:33:42,425] Trial 232 finished with value: 0.6706935321616664 and parameters: {'learning_rate': 0.05428603460436457, 'max_depth': 4, 'min_child_weight': 1.6600636709658694, 'colsample_bytree': 0.32121534961806886, 'subsample': 0.5098394444241924}. Best is trial 211 with value: 0.6717801349192261.\n"
     ]
    },
    {
     "name": "stderr",
     "output_type": "stream",
     "text": [
      "[I 2025-03-02 21:33:42,611] Trial 233 finished with value: 0.6703503165867803 and parameters: {'learning_rate': 0.054516005916959716, 'max_depth': 4, 'min_child_weight': 1.583618824597802, 'colsample_bytree': 0.31778875288228536, 'subsample': 0.5099140386972252}. Best is trial 211 with value: 0.6717801349192261.\n"
     ]
    },
    {
     "name": "stderr",
     "output_type": "stream",
     "text": [
      "[I 2025-03-02 21:33:42,798] Trial 234 finished with value: 0.6716995088466774 and parameters: {'learning_rate': 0.05500291493610511, 'max_depth': 4, 'min_child_weight': 1.6755844095078032, 'colsample_bytree': 0.3194247012596611, 'subsample': 0.5092515250654042}. Best is trial 211 with value: 0.6717801349192261.\n"
     ]
    },
    {
     "name": "stderr",
     "output_type": "stream",
     "text": [
      "[I 2025-03-02 21:33:42,983] Trial 235 finished with value: 0.6678198414107345 and parameters: {'learning_rate': 0.06542498522681323, 'max_depth': 4, 'min_child_weight': 1.6566285623312251, 'colsample_bytree': 0.31809732744709, 'subsample': 0.5169365528520592}. Best is trial 211 with value: 0.6717801349192261.\n"
     ]
    },
    {
     "name": "stderr",
     "output_type": "stream",
     "text": [
      "[I 2025-03-02 21:33:43,174] Trial 236 finished with value: 0.6687466714006746 and parameters: {'learning_rate': 0.059806234348125285, 'max_depth': 4, 'min_child_weight': 1.838510512143364, 'colsample_bytree': 0.31557535073009646, 'subsample': 0.5082520394824822}. Best is trial 211 with value: 0.6717801349192261.\n"
     ]
    },
    {
     "name": "stderr",
     "output_type": "stream",
     "text": [
      "[I 2025-03-02 21:33:43,368] Trial 237 finished with value: 0.6676193857624712 and parameters: {'learning_rate': 0.056035800782424955, 'max_depth': 4, 'min_child_weight': 1.5433076678024749, 'colsample_bytree': 0.3473127161122946, 'subsample': 0.5188823450282127}. Best is trial 211 with value: 0.6717801349192261.\n"
     ]
    },
    {
     "name": "stderr",
     "output_type": "stream",
     "text": [
      "[I 2025-03-02 21:33:43,560] Trial 238 finished with value: 0.6692067577963194 and parameters: {'learning_rate': 0.04807157677371171, 'max_depth': 4, 'min_child_weight': 1.6905184272288576, 'colsample_bytree': 0.3241382956850309, 'subsample': 0.5000643038738041}. Best is trial 211 with value: 0.6717801349192261.\n"
     ]
    },
    {
     "name": "stderr",
     "output_type": "stream",
     "text": [
      "[I 2025-03-02 21:33:43,767] Trial 239 finished with value: 0.6643225930528434 and parameters: {'learning_rate': 0.05478243478544158, 'max_depth': 5, 'min_child_weight': 1.3726633350103965, 'colsample_bytree': 0.3335962892745131, 'subsample': 0.5239489135959249}. Best is trial 211 with value: 0.6717801349192261.\n"
     ]
    },
    {
     "name": "stderr",
     "output_type": "stream",
     "text": [
      "[I 2025-03-02 21:33:43,952] Trial 240 finished with value: 0.6680129001716079 and parameters: {'learning_rate': 0.04723522322788507, 'max_depth': 4, 'min_child_weight': 1.492769006200281, 'colsample_bytree': 0.3141757765210865, 'subsample': 0.5001048915513422}. Best is trial 211 with value: 0.6717801349192261.\n"
     ]
    },
    {
     "name": "stderr",
     "output_type": "stream",
     "text": [
      "[I 2025-03-02 21:33:44,139] Trial 241 finished with value: 0.6694819220072193 and parameters: {'learning_rate': 0.054574842527494206, 'max_depth': 4, 'min_child_weight': 2.010007904381169, 'colsample_bytree': 0.33122669138300237, 'subsample': 0.5107987929207187}. Best is trial 211 with value: 0.6717801349192261.\n"
     ]
    },
    {
     "name": "stderr",
     "output_type": "stream",
     "text": [
      "[I 2025-03-02 21:33:44,343] Trial 242 finished with value: 0.6711906029942601 and parameters: {'learning_rate': 0.050616922202912376, 'max_depth': 4, 'min_child_weight': 1.6781604766876264, 'colsample_bytree': 0.3456485539737632, 'subsample': 0.5078724453131482}. Best is trial 211 with value: 0.6717801349192261.\n"
     ]
    },
    {
     "name": "stderr",
     "output_type": "stream",
     "text": [
      "[I 2025-03-02 21:33:44,537] Trial 243 finished with value: 0.6714406177880348 and parameters: {'learning_rate': 0.04697209170866364, 'max_depth': 4, 'min_child_weight': 1.6978081476615277, 'colsample_bytree': 0.3513517356798612, 'subsample': 0.5108964050434853}. Best is trial 211 with value: 0.6717801349192261.\n"
     ]
    },
    {
     "name": "stderr",
     "output_type": "stream",
     "text": [
      "[I 2025-03-02 21:33:44,725] Trial 244 finished with value: 0.6685928161429671 and parameters: {'learning_rate': 0.06461068993583424, 'max_depth': 4, 'min_child_weight': 1.717395590791448, 'colsample_bytree': 0.35329115471188444, 'subsample': 0.509116161843531}. Best is trial 211 with value: 0.6717801349192261.\n"
     ]
    },
    {
     "name": "stderr",
     "output_type": "stream",
     "text": [
      "[I 2025-03-02 21:33:44,914] Trial 245 finished with value: 0.6632137996331144 and parameters: {'learning_rate': 0.04890809624683009, 'max_depth': 4, 'min_child_weight': 1.5850101144625992, 'colsample_bytree': 0.36459191432724364, 'subsample': 0.5190185895138334}. Best is trial 211 with value: 0.6717801349192261.\n"
     ]
    },
    {
     "name": "stderr",
     "output_type": "stream",
     "text": [
      "[I 2025-03-02 21:33:45,102] Trial 246 finished with value: 0.6707364341085271 and parameters: {'learning_rate': 0.058772831713047514, 'max_depth': 4, 'min_child_weight': 2.150587270578464, 'colsample_bytree': 0.3514606796110762, 'subsample': 0.5102130610809069}. Best is trial 211 with value: 0.6717801349192261.\n"
     ]
    },
    {
     "name": "stderr",
     "output_type": "stream",
     "text": [
      "[I 2025-03-02 21:33:45,293] Trial 247 finished with value: 0.6650696786792117 and parameters: {'learning_rate': 0.060959968796295755, 'max_depth': 4, 'min_child_weight': 1.8434099480565413, 'colsample_bytree': 0.34944367155918, 'subsample': 0.5275261702295935}. Best is trial 211 with value: 0.6717801349192261.\n"
     ]
    },
    {
     "name": "stderr",
     "output_type": "stream",
     "text": [
      "[I 2025-03-02 21:33:45,493] Trial 248 finished with value: 0.6438295165394402 and parameters: {'learning_rate': 0.16635586158430418, 'max_depth': 4, 'min_child_weight': 2.168711944943494, 'colsample_bytree': 0.3669773167226293, 'subsample': 0.5165760440772986}. Best is trial 211 with value: 0.6717801349192261.\n"
     ]
    },
    {
     "name": "stderr",
     "output_type": "stream",
     "text": [
      "[I 2025-03-02 21:33:45,682] Trial 249 finished with value: 0.6700795905083141 and parameters: {'learning_rate': 0.05534238081991127, 'max_depth': 4, 'min_child_weight': 1.2790999998318793, 'colsample_bytree': 0.3471749779330637, 'subsample': 0.5080734069577428}. Best is trial 211 with value: 0.6717801349192261.\n"
     ]
    },
    {
     "name": "stderr",
     "output_type": "stream",
     "text": [
      "[I 2025-03-02 21:33:45,872] Trial 250 finished with value: 0.6650334339310018 and parameters: {'learning_rate': 0.04989333720631245, 'max_depth': 4, 'min_child_weight': 1.4859577369372456, 'colsample_bytree': 0.37659919107685585, 'subsample': 0.5003510528247486}. Best is trial 211 with value: 0.6717801349192261.\n"
     ]
    },
    {
     "name": "stderr",
     "output_type": "stream",
     "text": [
      "[I 2025-03-02 21:33:46,059] Trial 251 finished with value: 0.6658470915438783 and parameters: {'learning_rate': 0.05880126341579202, 'max_depth': 4, 'min_child_weight': 1.1810905080294527, 'colsample_bytree': 0.3435937787901955, 'subsample': 0.5241105839014171}. Best is trial 211 with value: 0.6717801349192261.\n"
     ]
    },
    {
     "name": "stderr",
     "output_type": "stream",
     "text": [
      "[I 2025-03-02 21:33:46,247] Trial 252 finished with value: 0.6695958340730219 and parameters: {'learning_rate': 0.04611963563162051, 'max_depth': 4, 'min_child_weight': 1.7556372689742399, 'colsample_bytree': 0.3596916321901908, 'subsample': 0.5152772808704288}. Best is trial 211 with value: 0.6717801349192261.\n"
     ]
    },
    {
     "name": "stderr",
     "output_type": "stream",
     "text": [
      "[I 2025-03-02 21:33:46,440] Trial 253 finished with value: 0.6629963311438547 and parameters: {'learning_rate': 0.07131521947206343, 'max_depth': 4, 'min_child_weight': 1.635869356953965, 'colsample_bytree': 0.3404397066086257, 'subsample': 0.5370026929507297}. Best is trial 211 with value: 0.6717801349192261.\n"
     ]
    },
    {
     "name": "stderr",
     "output_type": "stream",
     "text": [
      "[I 2025-03-02 21:33:46,633] Trial 254 finished with value: 0.6675661281732647 and parameters: {'learning_rate': 0.054297650124742705, 'max_depth': 4, 'min_child_weight': 1.9124857447501356, 'colsample_bytree': 0.3116813017346694, 'subsample': 0.5070541770553795}. Best is trial 211 with value: 0.6717801349192261.\n"
     ]
    },
    {
     "name": "stderr",
     "output_type": "stream",
     "text": [
      "[I 2025-03-02 21:33:46,841] Trial 255 finished with value: 0.6657967927096279 and parameters: {'learning_rate': 0.06573311814650344, 'max_depth': 5, 'min_child_weight': 1.3934850063561437, 'colsample_bytree': 0.3562189706065614, 'subsample': 0.5254677353459359}. Best is trial 211 with value: 0.6717801349192261.\n"
     ]
    },
    {
     "name": "stderr",
     "output_type": "stream",
     "text": [
      "[I 2025-03-02 21:33:47,042] Trial 256 finished with value: 0.6682362861707793 and parameters: {'learning_rate': 0.043888062948349585, 'max_depth': 4, 'min_child_weight': 1.591880240653919, 'colsample_bytree': 0.32278761234967446, 'subsample': 0.5007263463853765}. Best is trial 211 with value: 0.6717801349192261.\n"
     ]
    },
    {
     "name": "stderr",
     "output_type": "stream",
     "text": [
      "[I 2025-03-02 21:33:47,231] Trial 257 finished with value: 0.6706151251553347 and parameters: {'learning_rate': 0.05357191262747688, 'max_depth': 4, 'min_child_weight': 2.1094963239245224, 'colsample_bytree': 0.3390273676411717, 'subsample': 0.5162576986451871}. Best is trial 211 with value: 0.6717801349192261.\n"
     ]
    },
    {
     "name": "stderr",
     "output_type": "stream",
     "text": [
      "[I 2025-03-02 21:33:47,425] Trial 258 finished with value: 0.668520326646547 and parameters: {'learning_rate': 0.052213411604280044, 'max_depth': 4, 'min_child_weight': 2.205102099432202, 'colsample_bytree': 0.34254570282033914, 'subsample': 0.5158478421760168}. Best is trial 211 with value: 0.6717801349192261.\n"
     ]
    },
    {
     "name": "stderr",
     "output_type": "stream",
     "text": [
      "[I 2025-03-02 21:33:47,617] Trial 259 finished with value: 0.6644683117344221 and parameters: {'learning_rate': 0.0615914033834583, 'max_depth': 4, 'min_child_weight': 2.013710336101476, 'colsample_bytree': 0.38574874309096385, 'subsample': 0.5099697625004203}. Best is trial 211 with value: 0.6717801349192261.\n"
     ]
    },
    {
     "name": "stderr",
     "output_type": "stream",
     "text": [
      "[I 2025-03-02 21:33:47,807] Trial 260 finished with value: 0.668320610687023 and parameters: {'learning_rate': 0.05657647096864618, 'max_depth': 4, 'min_child_weight': 1.8540136699527883, 'colsample_bytree': 0.3607931016502227, 'subsample': 0.50067414969019}. Best is trial 211 with value: 0.6717801349192261.\n"
     ]
    },
    {
     "name": "stderr",
     "output_type": "stream",
     "text": [
      "[I 2025-03-02 21:33:47,995] Trial 261 finished with value: 0.667418190425469 and parameters: {'learning_rate': 0.04849860706977986, 'max_depth': 4, 'min_child_weight': 2.295053890191685, 'colsample_bytree': 0.3385255026205561, 'subsample': 0.5155545958729973}. Best is trial 211 with value: 0.6717801349192261.\n"
     ]
    },
    {
     "name": "stderr",
     "output_type": "stream",
     "text": [
      "[I 2025-03-02 21:33:48,184] Trial 262 finished with value: 0.6520518965619267 and parameters: {'learning_rate': 0.1306013689121029, 'max_depth': 4, 'min_child_weight': 1.7369534574006291, 'colsample_bytree': 0.36967002908686897, 'subsample': 0.5371325901332394}. Best is trial 211 with value: 0.6717801349192261.\n"
     ]
    },
    {
     "name": "stderr",
     "output_type": "stream",
     "text": [
      "[I 2025-03-02 21:33:48,382] Trial 263 finished with value: 0.6709420675779632 and parameters: {'learning_rate': 0.05228228553830482, 'max_depth': 4, 'min_child_weight': 2.068670652944548, 'colsample_bytree': 0.3484393326796794, 'subsample': 0.5093295704572653}. Best is trial 211 with value: 0.6717801349192261.\n"
     ]
    },
    {
     "name": "stderr",
     "output_type": "stream",
     "text": [
      "[I 2025-03-02 21:33:48,579] Trial 264 finished with value: 0.6694094325107993 and parameters: {'learning_rate': 0.05983684834750871, 'max_depth': 4, 'min_child_weight': 2.1019896527024646, 'colsample_bytree': 0.35102317530732413, 'subsample': 0.5005151645019231}. Best is trial 211 with value: 0.6717801349192261.\n"
     ]
    },
    {
     "name": "stderr",
     "output_type": "stream",
     "text": [
      "[I 2025-03-02 21:33:48,772] Trial 265 finished with value: 0.6641487661991834 and parameters: {'learning_rate': 0.04433348495485022, 'max_depth': 4, 'min_child_weight': 2.3706589910223332, 'colsample_bytree': 0.37835798368625956, 'subsample': 0.5203105853693281}. Best is trial 211 with value: 0.6717801349192261.\n"
     ]
    },
    {
     "name": "stderr",
     "output_type": "stream",
     "text": [
      "[I 2025-03-02 21:33:48,961] Trial 266 finished with value: 0.6672214332209007 and parameters: {'learning_rate': 0.06935391329651075, 'max_depth': 4, 'min_child_weight': 1.8714779052996309, 'colsample_bytree': 0.32489476485564817, 'subsample': 0.5271725089517739}. Best is trial 211 with value: 0.6717801349192261.\n"
     ]
    },
    {
     "name": "stderr",
     "output_type": "stream",
     "text": [
      "[I 2025-03-02 21:33:49,151] Trial 267 finished with value: 0.6693813243387182 and parameters: {'learning_rate': 0.05299028461495009, 'max_depth': 4, 'min_child_weight': 1.9848326803895704, 'colsample_bytree': 0.355496613696803, 'subsample': 0.5000285635877979}. Best is trial 211 with value: 0.6717801349192261.\n"
     ]
    },
    {
     "name": "stderr",
     "output_type": "stream",
     "text": [
      "[I 2025-03-02 21:33:49,344] Trial 268 finished with value: 0.6554766554233978 and parameters: {'learning_rate': 0.11575160816222209, 'max_depth': 4, 'min_child_weight': 4.867803407099767, 'colsample_bytree': 0.3328138183210868, 'subsample': 0.8569620533578608}. Best is trial 211 with value: 0.6717801349192261.\n"
     ]
    },
    {
     "name": "stderr",
     "output_type": "stream",
     "text": [
      "[I 2025-03-02 21:33:49,563] Trial 269 finished with value: 0.6671829694064737 and parameters: {'learning_rate': 0.044298559877294745, 'max_depth': 5, 'min_child_weight': 1.4523648171274561, 'colsample_bytree': 0.3468827869503514, 'subsample': 0.5116112614705853}. Best is trial 211 with value: 0.6717801349192261.\n"
     ]
    },
    {
     "name": "stderr",
     "output_type": "stream",
     "text": [
      "[I 2025-03-02 21:33:49,750] Trial 270 finished with value: 0.6261672288301083 and parameters: {'learning_rate': 0.28844721864551426, 'max_depth': 4, 'min_child_weight': 1.7332183780668766, 'colsample_bytree': 0.32117793806872463, 'subsample': 0.5174269391617529}. Best is trial 211 with value: 0.6717801349192261.\n"
     ]
    },
    {
     "name": "stderr",
     "output_type": "stream",
     "text": [
      "[I 2025-03-02 21:33:49,942] Trial 271 finished with value: 0.6638588082135037 and parameters: {'learning_rate': 0.06428888531902881, 'max_depth': 4, 'min_child_weight': 2.4418710081515185, 'colsample_bytree': 0.3651332197061065, 'subsample': 0.5100497184500421}. Best is trial 211 with value: 0.6717801349192261.\n"
     ]
    },
    {
     "name": "stderr",
     "output_type": "stream",
     "text": [
      "[I 2025-03-02 21:33:50,131] Trial 272 finished with value: 0.6644978992839814 and parameters: {'learning_rate': 0.05560100202658211, 'max_depth': 4, 'min_child_weight': 1.1975794984150276, 'colsample_bytree': 0.339343071361972, 'subsample': 0.5307937481306456}. Best is trial 211 with value: 0.6717801349192261.\n"
     ]
    },
    {
     "name": "stderr",
     "output_type": "stream",
     "text": [
      "[I 2025-03-02 21:33:50,308] Trial 273 finished with value: 0.6654121545653588 and parameters: {'learning_rate': 0.04782052650617384, 'max_depth': 3, 'min_child_weight': 2.1139697815132212, 'colsample_bytree': 0.3534460656751027, 'subsample': 0.5217617102639351}. Best is trial 211 with value: 0.6717801349192261.\n"
     ]
    },
    {
     "name": "stderr",
     "output_type": "stream",
     "text": [
      "[I 2025-03-02 21:33:50,509] Trial 274 finished with value: 0.6664625125747086 and parameters: {'learning_rate': 0.04076974178950301, 'max_depth': 4, 'min_child_weight': 5.060836429838637, 'colsample_bytree': 0.39291027900833775, 'subsample': 0.5087922309295868}. Best is trial 211 with value: 0.6717801349192261.\n"
     ]
    },
    {
     "name": "stderr",
     "output_type": "stream",
     "text": [
      "[I 2025-03-02 21:33:50,697] Trial 275 finished with value: 0.6677865554174803 and parameters: {'learning_rate': 0.05271181975058739, 'max_depth': 4, 'min_child_weight': 1.5128874269656045, 'colsample_bytree': 0.31320309088246323, 'subsample': 0.5391949996210655}. Best is trial 211 with value: 0.6717801349192261.\n"
     ]
    },
    {
     "name": "stderr",
     "output_type": "stream",
     "text": [
      "[I 2025-03-02 21:33:50,886] Trial 276 finished with value: 0.6240354458843718 and parameters: {'learning_rate': 0.2624833867084453, 'max_depth': 4, 'min_child_weight': 1.8750798896597796, 'colsample_bytree': 0.32735187588484815, 'subsample': 0.5001688506308092}. Best is trial 211 with value: 0.6717801349192261.\n"
     ]
    },
    {
     "name": "stderr",
     "output_type": "stream",
     "text": [
      "[I 2025-03-02 21:33:51,058] Trial 277 finished with value: 0.6626960175158294 and parameters: {'learning_rate': 0.03312589599093683, 'max_depth': 3, 'min_child_weight': 4.442212878284401, 'colsample_bytree': 0.36783776794822187, 'subsample': 0.8992862445159948}. Best is trial 211 with value: 0.6717801349192261.\n"
     ]
    },
    {
     "name": "stderr",
     "output_type": "stream",
     "text": [
      "[I 2025-03-02 21:33:51,248] Trial 278 finished with value: 0.6413352861116043 and parameters: {'learning_rate': 0.20137719190209108, 'max_depth': 4, 'min_child_weight': 1.5487335563521973, 'colsample_bytree': 0.3444585367650743, 'subsample': 0.518287421456312}. Best is trial 211 with value: 0.6717801349192261.\n"
     ]
    },
    {
     "name": "stderr",
     "output_type": "stream",
     "text": [
      "[I 2025-03-02 21:33:51,442] Trial 279 finished with value: 0.6632530031362802 and parameters: {'learning_rate': 0.05827721774375617, 'max_depth': 4, 'min_child_weight': 5.526849334483924, 'colsample_bytree': 0.3276465953151004, 'subsample': 0.6726464714000777}. Best is trial 211 with value: 0.6717801349192261.\n"
     ]
    },
    {
     "name": "stderr",
     "output_type": "stream",
     "text": [
      "[I 2025-03-02 21:33:51,619] Trial 280 finished with value: 0.6639002307828865 and parameters: {'learning_rate': 0.04676022663701482, 'max_depth': 3, 'min_child_weight': 5.290204743092796, 'colsample_bytree': 0.4964703124381392, 'subsample': 0.509143989962888}. Best is trial 211 with value: 0.6717801349192261.\n"
     ]
    },
    {
     "name": "stderr",
     "output_type": "stream",
     "text": [
      "[I 2025-03-02 21:33:51,812] Trial 281 finished with value: 0.6688753772412568 and parameters: {'learning_rate': 0.040090384672464965, 'max_depth': 4, 'min_child_weight': 1.685125027790246, 'colsample_bytree': 0.3127055889964923, 'subsample': 0.5293526775061217}. Best is trial 211 with value: 0.6717801349192261.\n"
     ]
    },
    {
     "name": "stderr",
     "output_type": "stream",
     "text": [
      "[I 2025-03-02 21:33:52,005] Trial 282 finished with value: 0.6642109000532576 and parameters: {'learning_rate': 0.030111235254920484, 'max_depth': 4, 'min_child_weight': 1.3603632277288753, 'colsample_bytree': 0.377370590479878, 'subsample': 0.5169926062464203}. Best is trial 211 with value: 0.6717801349192261.\n"
     ]
    },
    {
     "name": "stderr",
     "output_type": "stream",
     "text": [
      "[I 2025-03-02 21:33:52,215] Trial 283 finished with value: 0.6655882004852358 and parameters: {'learning_rate': 0.05151496472412391, 'max_depth': 5, 'min_child_weight': 1.9449384693329437, 'colsample_bytree': 0.355977190243145, 'subsample': 0.5086632225721607}. Best is trial 211 with value: 0.6717801349192261.\n"
     ]
    },
    {
     "name": "stderr",
     "output_type": "stream",
     "text": [
      "[I 2025-03-02 21:33:52,448] Trial 284 finished with value: 0.6626871412509616 and parameters: {'learning_rate': 0.07530313199034151, 'max_depth': 4, 'min_child_weight': 4.664796745314451, 'colsample_bytree': 0.3378212488790374, 'subsample': 0.5252138601522806}. Best is trial 211 with value: 0.6717801349192261.\n"
     ]
    },
    {
     "name": "stderr",
     "output_type": "stream",
     "text": [
      "[I 2025-03-02 21:33:52,644] Trial 285 finished with value: 0.6677466122255753 and parameters: {'learning_rate': 0.061167087008120215, 'max_depth': 4, 'min_child_weight': 4.897525110816486, 'colsample_bytree': 0.3005451160504247, 'subsample': 0.509256515885145}. Best is trial 211 with value: 0.6717801349192261.\n"
     ]
    },
    {
     "name": "stderr",
     "output_type": "stream",
     "text": [
      "[I 2025-03-02 21:33:52,824] Trial 286 finished with value: 0.6635081957512278 and parameters: {'learning_rate': 0.04305646806056594, 'max_depth': 3, 'min_child_weight': 1.7848592755500947, 'colsample_bytree': 0.457961052645933, 'subsample': 0.5004185229234732}. Best is trial 211 with value: 0.6717801349192261.\n"
     ]
    },
    {
     "name": "stderr",
     "output_type": "stream",
     "text": [
      "[I 2025-03-02 21:33:53,014] Trial 287 finished with value: 0.6664728682170543 and parameters: {'learning_rate': 0.04855318110669798, 'max_depth': 4, 'min_child_weight': 1.1013884959759501, 'colsample_bytree': 0.32496453194657254, 'subsample': 0.519205818885858}. Best is trial 211 with value: 0.6717801349192261.\n"
     ]
    },
    {
     "name": "stderr",
     "output_type": "stream",
     "text": [
      "[I 2025-03-02 21:33:53,204] Trial 288 finished with value: 0.6620894727498667 and parameters: {'learning_rate': 0.03576056748779355, 'max_depth': 4, 'min_child_weight': 1.476217368415937, 'colsample_bytree': 0.34862750881502524, 'subsample': 0.9331052826137817}. Best is trial 211 with value: 0.6717801349192261.\n"
     ]
    },
    {
     "name": "stderr",
     "output_type": "stream",
     "text": [
      "[I 2025-03-02 21:33:53,386] Trial 289 finished with value: 0.6640932895437599 and parameters: {'learning_rate': 0.06676530944109277, 'max_depth': 3, 'min_child_weight': 2.1855547940373556, 'colsample_bytree': 0.3630022734007699, 'subsample': 0.5333378594531738}. Best is trial 211 with value: 0.6717801349192261.\n"
     ]
    },
    {
     "name": "stderr",
     "output_type": "stream",
     "text": [
      "[I 2025-03-02 21:33:53,583] Trial 290 finished with value: 0.6695706846558969 and parameters: {'learning_rate': 0.05611165005805935, 'max_depth': 4, 'min_child_weight': 1.6795740694344392, 'colsample_bytree': 0.3343481264392101, 'subsample': 0.5159356471744815}. Best is trial 211 with value: 0.6717801349192261.\n"
     ]
    },
    {
     "name": "stderr",
     "output_type": "stream",
     "text": [
      "[I 2025-03-02 21:33:53,774] Trial 291 finished with value: 0.6676859577489792 and parameters: {'learning_rate': 0.04320777201784579, 'max_depth': 4, 'min_child_weight': 4.396168995783573, 'colsample_bytree': 0.3154982918559687, 'subsample': 0.54637661965408}. Best is trial 211 with value: 0.6717801349192261.\n"
     ]
    },
    {
     "name": "stderr",
     "output_type": "stream",
     "text": [
      "[I 2025-03-02 21:33:53,967] Trial 292 finished with value: 0.6689878099295816 and parameters: {'learning_rate': 0.05039060392522349, 'max_depth': 4, 'min_child_weight': 1.2600421817419059, 'colsample_bytree': 0.3425596166230964, 'subsample': 0.5004956796196006}. Best is trial 211 with value: 0.6717801349192261.\n"
     ]
    },
    {
     "name": "stderr",
     "output_type": "stream",
     "text": [
      "[I 2025-03-02 21:33:54,159] Trial 293 finished with value: 0.6701698325344695 and parameters: {'learning_rate': 0.03823702874168102, 'max_depth': 4, 'min_child_weight': 2.0139221022605973, 'colsample_bytree': 0.32203280220373803, 'subsample': 0.525268173453758}. Best is trial 211 with value: 0.6717801349192261.\n"
     ]
    },
    {
     "name": "stderr",
     "output_type": "stream",
     "text": [
      "[I 2025-03-02 21:33:54,342] Trial 294 finished with value: 0.6669521865199125 and parameters: {'learning_rate': 0.05766331566541413, 'max_depth': 3, 'min_child_weight': 2.5442671821809033, 'colsample_bytree': 0.3577354599067006, 'subsample': 0.5118014084570657}. Best is trial 211 with value: 0.6717801349192261.\n"
     ]
    },
    {
     "name": "stderr",
     "output_type": "stream",
     "text": [
      "[I 2025-03-02 21:33:54,539] Trial 295 finished with value: 0.6658293390141428 and parameters: {'learning_rate': 0.04662823071688074, 'max_depth': 4, 'min_child_weight': 5.046759305624644, 'colsample_bytree': 0.38067857643584146, 'subsample': 0.5114710639449346}. Best is trial 211 with value: 0.6717801349192261.\n"
     ]
    },
    {
     "name": "stderr",
     "output_type": "stream",
     "text": [
      "[I 2025-03-02 21:33:54,737] Trial 296 finished with value: 0.6686002130303569 and parameters: {'learning_rate': 0.0309525753070842, 'max_depth': 4, 'min_child_weight': 1.6198276075621811, 'colsample_bytree': 0.32799411763827285, 'subsample': 0.5000087082149544}. Best is trial 211 with value: 0.6717801349192261.\n"
     ]
    },
    {
     "name": "stderr",
     "output_type": "stream",
     "text": [
      "[I 2025-03-02 21:33:54,944] Trial 297 finished with value: 0.6458311142671165 and parameters: {'learning_rate': 0.15439663488831473, 'max_depth': 5, 'min_child_weight': 1.8277973576538153, 'colsample_bytree': 0.31241839760472473, 'subsample': 0.8267663518061052}. Best is trial 211 with value: 0.6717801349192261.\n"
     ]
    },
    {
     "name": "stderr",
     "output_type": "stream",
     "text": [
      "[I 2025-03-02 21:33:55,137] Trial 298 finished with value: 0.6693517367891593 and parameters: {'learning_rate': 0.052799337035807574, 'max_depth': 4, 'min_child_weight': 4.567527501828863, 'colsample_bytree': 0.3458059719306667, 'subsample': 0.5360040806571188}. Best is trial 211 with value: 0.6717801349192261.\n"
     ]
    },
    {
     "name": "stderr",
     "output_type": "stream",
     "text": [
      "[I 2025-03-02 21:33:55,335] Trial 299 finished with value: 0.6604133380673413 and parameters: {'learning_rate': 0.06461834530478427, 'max_depth': 4, 'min_child_weight': 1.424663137908841, 'colsample_bytree': 0.37027058720327427, 'subsample': 0.7083139394882925}. Best is trial 211 with value: 0.6717801349192261.\n"
     ]
    },
    {
     "name": "stderr",
     "output_type": "stream",
     "text": [
      "[I 2025-03-02 21:33:55,573] Trial 300 finished with value: 0.6629090478726553 and parameters: {'learning_rate': 0.04219651319692753, 'max_depth': 6, 'min_child_weight': 5.206138011143299, 'colsample_bytree': 0.34016454966217347, 'subsample': 0.52244572649998}. Best is trial 211 with value: 0.6717801349192261.\n"
     ]
    },
    {
     "name": "stderr",
     "output_type": "stream",
     "text": [
      "[I 2025-03-02 21:33:55,754] Trial 301 finished with value: 0.6648662642759927 and parameters: {'learning_rate': 0.04765903050839968, 'max_depth': 3, 'min_child_weight': 4.258172419872595, 'colsample_bytree': 0.33006297937318074, 'subsample': 0.7316244042622659}. Best is trial 211 with value: 0.6717801349192261.\n"
     ]
    },
    {
     "name": "stderr",
     "output_type": "stream",
     "text": [
      "[I 2025-03-02 21:33:55,956] Trial 302 finished with value: 0.6680365702112552 and parameters: {'learning_rate': 0.03678931627662488, 'max_depth': 4, 'min_child_weight': 1.5954651279690328, 'colsample_bytree': 0.40532936596838115, 'subsample': 0.5088045899448518}. Best is trial 211 with value: 0.6717801349192261.\n"
     ]
    },
    {
     "name": "stderr",
     "output_type": "stream",
     "text": [
      "[I 2025-03-02 21:33:56,152] Trial 303 finished with value: 0.6674581336173739 and parameters: {'learning_rate': 0.058114753320286, 'max_depth': 4, 'min_child_weight': 1.9566576116637022, 'colsample_bytree': 0.3580160485286315, 'subsample': 0.5190453644410042}. Best is trial 211 with value: 0.6717801349192261.\n"
     ]
    },
    {
     "name": "stderr",
     "output_type": "stream",
     "text": [
      "[I 2025-03-02 21:33:56,359] Trial 304 finished with value: 0.6599924551748624 and parameters: {'learning_rate': 0.052820929097169775, 'max_depth': 4, 'min_child_weight': 1.3535427347428923, 'colsample_bytree': 0.5799578932915956, 'subsample': 0.5097344927361755}. Best is trial 211 with value: 0.6717801349192261.\n"
     ]
    },
    {
     "name": "stderr",
     "output_type": "stream",
     "text": [
      "[I 2025-03-02 21:33:56,557] Trial 305 finished with value: 0.6681637966743594 and parameters: {'learning_rate': 0.026303698637025523, 'max_depth': 4, 'min_child_weight': 4.737173512565663, 'colsample_bytree': 0.3127430838879773, 'subsample': 0.5281505365960352}. Best is trial 211 with value: 0.6717801349192261.\n"
     ]
    },
    {
     "name": "stderr",
     "output_type": "stream",
     "text": [
      "[I 2025-03-02 21:33:56,734] Trial 306 finished with value: 0.6682599562104266 and parameters: {'learning_rate': 0.04388051029547335, 'max_depth': 3, 'min_child_weight': 1.0060267430714749, 'colsample_bytree': 0.35057749910029223, 'subsample': 0.5002586066798398}. Best is trial 211 with value: 0.6717801349192261.\n"
     ]
    },
    {
     "name": "stderr",
     "output_type": "stream",
     "text": [
      "[I 2025-03-02 21:33:56,927] Trial 307 finished with value: 0.6688413515592639 and parameters: {'learning_rate': 0.03374064812057612, 'max_depth': 4, 'min_child_weight': 1.8045704092308104, 'colsample_bytree': 0.3006190440726176, 'subsample': 0.5172643878224251}. Best is trial 211 with value: 0.6717801349192261.\n"
     ]
    },
    {
     "name": "stderr",
     "output_type": "stream",
     "text": [
      "[I 2025-03-02 21:33:57,119] Trial 308 finished with value: 0.6641162198946683 and parameters: {'learning_rate': 0.06146082421335217, 'max_depth': 4, 'min_child_weight': 1.575206073410637, 'colsample_bytree': 0.3339852906509304, 'subsample': 0.5396502679942982}. Best is trial 211 with value: 0.6717801349192261.\n"
     ]
    },
    {
     "name": "stderr",
     "output_type": "stream",
     "text": [
      "[I 2025-03-02 21:33:57,312] Trial 309 finished with value: 0.6662583584827505 and parameters: {'learning_rate': 0.04966667929521045, 'max_depth': 4, 'min_child_weight': 2.202472359933055, 'colsample_bytree': 0.3893330683076928, 'subsample': 0.5099659458668167}. Best is trial 211 with value: 0.6717801349192261.\n"
     ]
    },
    {
     "name": "stderr",
     "output_type": "stream",
     "text": [
      "[I 2025-03-02 21:33:57,496] Trial 310 finished with value: 0.6677325581395348 and parameters: {'learning_rate': 0.0399875371602711, 'max_depth': 3, 'min_child_weight': 1.7541488520893844, 'colsample_bytree': 0.3211792822720931, 'subsample': 0.5265551716504944}. Best is trial 211 with value: 0.6717801349192261.\n"
     ]
    },
    {
     "name": "stderr",
     "output_type": "stream",
     "text": [
      "[I 2025-03-02 21:33:57,704] Trial 311 finished with value: 0.660386709272738 and parameters: {'learning_rate': 0.05474699260299835, 'max_depth': 4, 'min_child_weight': 4.830291441412752, 'colsample_bytree': 0.8059127213386974, 'subsample': 0.5001618661262621}. Best is trial 211 with value: 0.6717801349192261.\n"
     ]
    },
    {
     "name": "stderr",
     "output_type": "stream",
     "text": [
      "[I 2025-03-02 21:33:57,905] Trial 312 finished with value: 0.6639978696964317 and parameters: {'learning_rate': 0.046213194106935175, 'max_depth': 4, 'min_child_weight': 1.2443279048771028, 'colsample_bytree': 0.36488180904869655, 'subsample': 0.517277276158207}. Best is trial 211 with value: 0.6717801349192261.\n"
     ]
    },
    {
     "name": "stderr",
     "output_type": "stream",
     "text": [
      "[I 2025-03-02 21:33:58,099] Trial 313 finished with value: 0.6694819220072192 and parameters: {'learning_rate': 0.03853613056339955, 'max_depth': 4, 'min_child_weight': 4.130374495143919, 'colsample_bytree': 0.3407077957995833, 'subsample': 0.5100486370039872}. Best is trial 211 with value: 0.6717801349192261.\n"
     ]
    },
    {
     "name": "stderr",
     "output_type": "stream",
     "text": [
      "[I 2025-03-02 21:33:58,295] Trial 314 finished with value: 0.6694020356234096 and parameters: {'learning_rate': 0.028690556873387958, 'max_depth': 4, 'min_child_weight': 5.660362262040692, 'colsample_bytree': 0.35120668337652616, 'subsample': 0.5302293431851264}. Best is trial 211 with value: 0.6717801349192261.\n"
     ]
    },
    {
     "name": "stderr",
     "output_type": "stream",
     "text": [
      "[I 2025-03-02 21:33:58,497] Trial 315 finished with value: 0.6667968518847268 and parameters: {'learning_rate': 0.061244956438744766, 'max_depth': 4, 'min_child_weight': 2.334208651059161, 'colsample_bytree': 0.324009598536668, 'subsample': 0.5186852484763725}. Best is trial 211 with value: 0.6717801349192261.\n"
     ]
    },
    {
     "name": "stderr",
     "output_type": "stream",
     "text": [
      "[I 2025-03-02 21:33:58,718] Trial 316 finished with value: 0.6677362565832297 and parameters: {'learning_rate': 0.05100234915550458, 'max_depth': 5, 'min_child_weight': 1.4074789682506958, 'colsample_bytree': 0.3120479799886586, 'subsample': 0.5088632339993596}. Best is trial 211 with value: 0.6717801349192261.\n"
     ]
    },
    {
     "name": "stderr",
     "output_type": "stream",
     "text": [
      "[I 2025-03-02 21:33:58,903] Trial 317 finished with value: 0.663500798863838 and parameters: {'learning_rate': 0.045136203021482475, 'max_depth': 3, 'min_child_weight': 5.398601520784356, 'colsample_bytree': 0.37548760706163636, 'subsample': 0.5232599075723466}. Best is trial 211 with value: 0.6717801349192261.\n"
     ]
    },
    {
     "name": "stderr",
     "output_type": "stream",
     "text": [
      "[I 2025-03-02 21:33:59,102] Trial 318 finished with value: 0.6649350553287178 and parameters: {'learning_rate': 0.07083943789515078, 'max_depth': 4, 'min_child_weight': 2.0792417343158074, 'colsample_bytree': 0.33569838192992785, 'subsample': 0.5000617078437058}. Best is trial 211 with value: 0.6717801349192261.\n"
     ]
    },
    {
     "name": "stderr",
     "output_type": "stream",
     "text": [
      "[I 2025-03-02 21:33:59,297] Trial 319 finished with value: 0.6689863305521037 and parameters: {'learning_rate': 0.057484573748163084, 'max_depth': 4, 'min_child_weight': 4.52109781885847, 'colsample_bytree': 0.35458218826550814, 'subsample': 0.5098845678959056}. Best is trial 211 with value: 0.6717801349192261.\n"
     ]
    },
    {
     "name": "stderr",
     "output_type": "stream",
     "text": [
      "[I 2025-03-02 21:33:59,492] Trial 320 finished with value: 0.6691712527368483 and parameters: {'learning_rate': 0.03348923193577609, 'max_depth': 4, 'min_child_weight': 1.6987934962196327, 'colsample_bytree': 0.3375016724682347, 'subsample': 0.5332874866586318}. Best is trial 211 with value: 0.6717801349192261.\n"
     ]
    },
    {
     "name": "stderr",
     "output_type": "stream",
     "text": [
      "[I 2025-03-02 21:33:59,672] Trial 321 finished with value: 0.666932954612699 and parameters: {'learning_rate': 0.05167286778606753, 'max_depth': 3, 'min_child_weight': 5.018441881294711, 'colsample_bytree': 0.32438722862787944, 'subsample': 0.7493509490302239}. Best is trial 211 with value: 0.6717801349192261.\n"
     ]
    },
    {
     "name": "stderr",
     "output_type": "stream",
     "text": [
      "[I 2025-03-02 21:33:59,934] Trial 322 finished with value: 0.6548464406177881 and parameters: {'learning_rate': 0.0418066522937502, 'max_depth': 7, 'min_child_weight': 1.9023395437125123, 'colsample_bytree': 0.3104617821488464, 'subsample': 0.6452252818787809}. Best is trial 211 with value: 0.6717801349192261.\n"
     ]
    },
    {
     "name": "stderr",
     "output_type": "stream",
     "text": [
      "[I 2025-03-02 21:34:00,141] Trial 323 finished with value: 0.6646606308065566 and parameters: {'learning_rate': 0.02195644500173487, 'max_depth': 4, 'min_child_weight': 1.4622926894115393, 'colsample_bytree': 0.3646846836451998, 'subsample': 0.5176579625727518}. Best is trial 211 with value: 0.6717801349192261.\n"
     ]
    },
    {
     "name": "stderr",
     "output_type": "stream",
     "text": [
      "[I 2025-03-02 21:34:00,347] Trial 324 finished with value: 0.6678368542517308 and parameters: {'learning_rate': 0.0665124680184281, 'max_depth': 4, 'min_child_weight': 4.228540830894432, 'colsample_bytree': 0.3472606701612253, 'subsample': 0.5444507242983887}. Best is trial 211 with value: 0.6717801349192261.\n"
     ]
    },
    {
     "name": "stderr",
     "output_type": "stream",
     "text": [
      "[I 2025-03-02 21:34:00,545] Trial 325 finished with value: 0.6697437718208179 and parameters: {'learning_rate': 0.04826715159983644, 'max_depth': 4, 'min_child_weight': 1.6227087013946027, 'colsample_bytree': 0.33172394591099785, 'subsample': 0.5108893035028788}. Best is trial 211 with value: 0.6717801349192261.\n"
     ]
    },
    {
     "name": "stderr",
     "output_type": "stream",
     "text": [
      "[I 2025-03-02 21:34:00,750] Trial 326 finished with value: 0.6691298301674655 and parameters: {'learning_rate': 0.037903218947914125, 'max_depth': 4, 'min_child_weight': 1.9074721942408068, 'colsample_bytree': 0.35093065553160085, 'subsample': 0.5218458946785126}. Best is trial 211 with value: 0.6717801349192261.\n"
     ]
    },
    {
     "name": "stderr",
     "output_type": "stream",
     "text": [
      "[I 2025-03-02 21:34:00,932] Trial 327 finished with value: 0.6691549795845908 and parameters: {'learning_rate': 0.05463490908080788, 'max_depth': 3, 'min_child_weight': 1.2482368370734611, 'colsample_bytree': 0.3186893568405486, 'subsample': 0.5068482238169385}. Best is trial 211 with value: 0.6717801349192261.\n"
     ]
    },
    {
     "name": "stderr",
     "output_type": "stream",
     "text": [
      "[I 2025-03-02 21:34:01,133] Trial 328 finished with value: 0.6648233623291319 and parameters: {'learning_rate': 0.045238039607125115, 'max_depth': 4, 'min_child_weight': 1.5064107454053515, 'colsample_bytree': 0.37274587260427183, 'subsample': 0.5301872849068601}. Best is trial 211 with value: 0.6717801349192261.\n"
     ]
    },
    {
     "name": "stderr",
     "output_type": "stream",
     "text": [
      "[I 2025-03-02 21:34:01,337] Trial 329 finished with value: 0.6669536658973905 and parameters: {'learning_rate': 0.05913616211310091, 'max_depth': 4, 'min_child_weight': 5.175452497826854, 'colsample_bytree': 0.33720530522750436, 'subsample': 0.5153599763910891}. Best is trial 211 with value: 0.6717801349192261.\n"
     ]
    },
    {
     "name": "stderr",
     "output_type": "stream",
     "text": [
      "[I 2025-03-02 21:34:01,533] Trial 330 finished with value: 0.6299618320610687 and parameters: {'learning_rate': 0.224507191387551, 'max_depth': 4, 'min_child_weight': 4.746809699630657, 'colsample_bytree': 0.3033016160772114, 'subsample': 0.5087379973867228}. Best is trial 211 with value: 0.6717801349192261.\n"
     ]
    },
    {
     "name": "stderr",
     "output_type": "stream",
     "text": [
      "[I 2025-03-02 21:34:01,784] Trial 331 finished with value: 0.6586040594117994 and parameters: {'learning_rate': 0.03256496728575228, 'max_depth': 5, 'min_child_weight': 1.7291562192150236, 'colsample_bytree': 0.8526242734258401, 'subsample': 0.5244906466105888}. Best is trial 211 with value: 0.6717801349192261.\n"
     ]
    },
    {
     "name": "stderr",
     "output_type": "stream",
     "text": [
      "[I 2025-03-02 21:34:01,991] Trial 332 finished with value: 0.6696742410793539 and parameters: {'learning_rate': 0.04167298260714422, 'max_depth': 4, 'min_child_weight': 4.444875911783669, 'colsample_bytree': 0.3628450611823234, 'subsample': 0.5062258742858814}. Best is trial 211 with value: 0.6717801349192261.\n"
     ]
    },
    {
     "name": "stderr",
     "output_type": "stream",
     "text": [
      "[I 2025-03-02 21:34:02,176] Trial 333 finished with value: 0.6692910823125628 and parameters: {'learning_rate': 0.05161908413218775, 'max_depth': 3, 'min_child_weight': 4.001008888883138, 'colsample_bytree': 0.3252242403177502, 'subsample': 0.5012725936201317}. Best is trial 211 with value: 0.6717801349192261.\n"
     ]
    },
    {
     "name": "stderr",
     "output_type": "stream",
     "text": [
      "[I 2025-03-02 21:34:02,383] Trial 334 finished with value: 0.6657035919285165 and parameters: {'learning_rate': 0.04717759805774185, 'max_depth': 4, 'min_child_weight': 1.985731758950966, 'colsample_bytree': 0.30004035058171374, 'subsample': 0.5383516719631707}. Best is trial 211 with value: 0.6717801349192261.\n"
     ]
    },
    {
     "name": "stderr",
     "output_type": "stream",
     "text": [
      "[I 2025-03-02 21:34:02,596] Trial 335 finished with value: 0.6628010533167643 and parameters: {'learning_rate': 0.06391434431010762, 'max_depth': 4, 'min_child_weight': 4.931318981014809, 'colsample_bytree': 0.34628462764967455, 'subsample': 0.5196162903129289}. Best is trial 211 with value: 0.6717801349192261.\n"
     ]
    },
    {
     "name": "stderr",
     "output_type": "stream",
     "text": [
      "[I 2025-03-02 21:34:02,798] Trial 336 finished with value: 0.6647079708858512 and parameters: {'learning_rate': 0.056068320074330956, 'max_depth': 4, 'min_child_weight': 2.196196058679901, 'colsample_bytree': 0.38086992258387886, 'subsample': 0.500188612627821}. Best is trial 211 with value: 0.6717801349192261.\n"
     ]
    },
    {
     "name": "stderr",
     "output_type": "stream",
     "text": [
      "[I 2025-03-02 21:34:02,999] Trial 337 finished with value: 0.6679699982247471 and parameters: {'learning_rate': 0.03824576368113328, 'max_depth': 4, 'min_child_weight': 4.349854580281256, 'colsample_bytree': 0.33208090171984217, 'subsample': 0.5179873537350103}. Best is trial 211 with value: 0.6717801349192261.\n"
     ]
    },
    {
     "name": "stderr",
     "output_type": "stream",
     "text": [
      "[I 2025-03-02 21:34:03,194] Trial 338 finished with value: 0.6686712231492988 and parameters: {'learning_rate': 0.02819458564992245, 'max_depth': 4, 'min_child_weight': 1.6228116091483755, 'colsample_bytree': 0.3582038036159882, 'subsample': 0.5122226562371102}. Best is trial 211 with value: 0.6717801349192261.\n"
     ]
    },
    {
     "name": "stderr",
     "output_type": "stream",
     "text": [
      "[I 2025-03-02 21:34:03,380] Trial 339 finished with value: 0.6663737499260312 and parameters: {'learning_rate': 0.04476332553240086, 'max_depth': 3, 'min_child_weight': 1.1935905186136182, 'colsample_bytree': 0.31769959253619884, 'subsample': 0.5001050970548027}. Best is trial 211 with value: 0.6717801349192261.\n"
     ]
    },
    {
     "name": "stderr",
     "output_type": "stream",
     "text": [
      "[I 2025-03-02 21:34:03,574] Trial 340 finished with value: 0.666413693117936 and parameters: {'learning_rate': 0.05213937561861727, 'max_depth': 4, 'min_child_weight': 3.831877416137673, 'colsample_bytree': 0.3428442620401759, 'subsample': 0.5282449448621238}. Best is trial 211 with value: 0.6717801349192261.\n"
     ]
    },
    {
     "name": "stderr",
     "output_type": "stream",
     "text": [
      "[I 2025-03-02 21:34:03,781] Trial 341 finished with value: 0.6699627196875555 and parameters: {'learning_rate': 0.034837613436067734, 'max_depth': 4, 'min_child_weight': 1.4338061653110934, 'colsample_bytree': 0.32468742860974403, 'subsample': 0.5142678543935438}. Best is trial 211 with value: 0.6717801349192261.\n"
     ]
    },
    {
     "name": "stderr",
     "output_type": "stream",
     "text": [
      "[I 2025-03-02 21:34:03,972] Trial 342 finished with value: 0.6682436830581691 and parameters: {'learning_rate': 0.07720310883372805, 'max_depth': 4, 'min_child_weight': 1.7731496267404638, 'colsample_bytree': 0.35185122027187143, 'subsample': 0.5267539761075813}. Best is trial 211 with value: 0.6717801349192261.\n"
     ]
    },
    {
     "name": "stderr",
     "output_type": "stream",
     "text": [
      "[I 2025-03-02 21:34:04,149] Trial 343 finished with value: 0.6662746316350081 and parameters: {'learning_rate': 0.05663958221675037, 'max_depth': 3, 'min_child_weight': 4.6891727632674955, 'colsample_bytree': 0.3363158508360317, 'subsample': 0.5104270132194592}. Best is trial 211 with value: 0.6717801349192261.\n"
     ]
    },
    {
     "name": "stderr",
     "output_type": "stream",
     "text": [
      "[I 2025-03-02 21:34:04,354] Trial 344 finished with value: 0.6656074323924492 and parameters: {'learning_rate': 0.041027933066576074, 'max_depth': 4, 'min_child_weight': 2.085991680049422, 'colsample_bytree': 0.38955892555517857, 'subsample': 0.5367822400718789}. Best is trial 211 with value: 0.6717801349192261.\n"
     ]
    },
    {
     "name": "stderr",
     "output_type": "stream",
     "text": [
      "[I 2025-03-02 21:34:04,548] Trial 345 finished with value: 0.6685173678915912 and parameters: {'learning_rate': 0.047834117831877236, 'max_depth': 4, 'min_child_weight': 1.861934495729378, 'colsample_bytree': 0.3105773099101803, 'subsample': 0.5002223940892058}. Best is trial 211 with value: 0.6717801349192261.\n"
     ]
    },
    {
     "name": "stderr",
     "output_type": "stream",
     "text": [
      "[I 2025-03-02 21:34:04,748] Trial 346 finished with value: 0.6600286999230724 and parameters: {'learning_rate': 0.06298388874027519, 'max_depth': 4, 'min_child_weight': 4.1378967306154175, 'colsample_bytree': 0.36821955069621026, 'subsample': 0.519116542302481}. Best is trial 211 with value: 0.6717801349192261.\n"
     ]
    },
    {
     "name": "stderr",
     "output_type": "stream",
     "text": [
      "[I 2025-03-02 21:34:04,940] Trial 347 finished with value: 0.6716536481448606 and parameters: {'learning_rate': 0.050499063024989535, 'max_depth': 4, 'min_child_weight': 1.5461794374510207, 'colsample_bytree': 0.3467480934111564, 'subsample': 0.5098344123586749}. Best is trial 211 with value: 0.6717801349192261.\n"
     ]
    },
    {
     "name": "stderr",
     "output_type": "stream",
     "text": [
      "[I 2025-03-02 21:34:05,135] Trial 348 finished with value: 0.666308657317001 and parameters: {'learning_rate': 0.07077170832540339, 'max_depth': 4, 'min_child_weight': 1.4846902512066544, 'colsample_bytree': 0.32202984430796705, 'subsample': 0.5481316986905345}. Best is trial 211 with value: 0.6717801349192261.\n"
     ]
    },
    {
     "name": "stderr",
     "output_type": "stream",
     "text": [
      "[I 2025-03-02 21:34:05,335] Trial 349 finished with value: 0.6660837919403515 and parameters: {'learning_rate': 0.059342766657324665, 'max_depth': 4, 'min_child_weight': 1.3625265003818385, 'colsample_bytree': 0.34054177784077205, 'subsample': 0.5285589545900558}. Best is trial 211 with value: 0.6717801349192261.\n"
     ]
    },
    {
     "name": "stderr",
     "output_type": "stream",
     "text": [
      "[I 2025-03-02 21:34:05,545] Trial 350 finished with value: 0.6635806852476478 and parameters: {'learning_rate': 0.0837363943651055, 'max_depth': 5, 'min_child_weight': 1.6374417612117855, 'colsample_bytree': 0.35076708986841265, 'subsample': 0.5168570469704936}. Best is trial 211 with value: 0.6717801349192261.\n"
     ]
    },
    {
     "name": "stderr",
     "output_type": "stream",
     "text": [
      "[I 2025-03-02 21:34:05,747] Trial 351 finished with value: 0.6687969702349251 and parameters: {'learning_rate': 0.05139677726172601, 'max_depth': 4, 'min_child_weight': 1.7703682441181352, 'colsample_bytree': 0.3128225130723104, 'subsample': 0.5101462362192134}. Best is trial 211 with value: 0.6717801349192261.\n"
     ]
    },
    {
     "name": "stderr",
     "output_type": "stream",
     "text": [
      "[I 2025-03-02 21:34:05,941] Trial 352 finished with value: 0.6663308479791704 and parameters: {'learning_rate': 0.05564174761192839, 'max_depth': 4, 'min_child_weight': 1.1614671535278067, 'colsample_bytree': 0.33230388855950976, 'subsample': 0.5231655137107929}. Best is trial 211 with value: 0.6717801349192261.\n"
     ]
    },
    {
     "name": "stderr",
     "output_type": "stream",
     "text": [
      "[I 2025-03-02 21:34:06,139] Trial 353 finished with value: 0.6607565536422274 and parameters: {'learning_rate': 0.047473460258052005, 'max_depth': 4, 'min_child_weight': 2.402020572934889, 'colsample_bytree': 0.6088006716254073, 'subsample': 0.5092974057889128}. Best is trial 211 with value: 0.6717801349192261.\n"
     ]
    },
    {
     "name": "stderr",
     "output_type": "stream",
     "text": [
      "[I 2025-03-02 21:34:06,357] Trial 354 finished with value: 0.6609939937274396 and parameters: {'learning_rate': 0.020871511796380266, 'max_depth': 4, 'min_child_weight': 1.5668563931058652, 'colsample_bytree': 0.9232469775652872, 'subsample': 0.5365661104973497}. Best is trial 211 with value: 0.6717801349192261.\n"
     ]
    },
    {
     "name": "stderr",
     "output_type": "stream",
     "text": [
      "[I 2025-03-02 21:34:06,549] Trial 355 finished with value: 0.6697763181253329 and parameters: {'learning_rate': 0.041848163342855425, 'max_depth': 4, 'min_child_weight': 6.3142737943943334, 'colsample_bytree': 0.3289249911317006, 'subsample': 0.5173168205904053}. Best is trial 211 with value: 0.6717801349192261.\n"
     ]
    },
    {
     "name": "stderr",
     "output_type": "stream",
     "text": [
      "[I 2025-03-02 21:34:06,750] Trial 356 finished with value: 0.6702482395408011 and parameters: {'learning_rate': 0.03288107575296121, 'max_depth': 4, 'min_child_weight': 1.3652162334432094, 'colsample_bytree': 0.3559420688085988, 'subsample': 0.5094297959278352}. Best is trial 211 with value: 0.6717801349192261.\n"
     ]
    },
    {
     "name": "stderr",
     "output_type": "stream",
     "text": [
      "[I 2025-03-02 21:34:06,940] Trial 357 finished with value: 0.6652035623409669 and parameters: {'learning_rate': 0.06746643857723564, 'max_depth': 4, 'min_child_weight': 5.765618682655162, 'colsample_bytree': 0.34326267579776754, 'subsample': 0.5254019644456449}. Best is trial 211 with value: 0.6717801349192261.\n"
     ]
    },
    {
     "name": "stderr",
     "output_type": "stream",
     "text": [
      "[I 2025-03-02 21:34:07,131] Trial 358 finished with value: 0.6603667376767857 and parameters: {'learning_rate': 0.10377021636292462, 'max_depth': 4, 'min_child_weight': 2.0393470792781025, 'colsample_bytree': 0.3161528630157822, 'subsample': 0.5080594875702649}. Best is trial 211 with value: 0.6717801349192261.\n"
     ]
    },
    {
     "name": "stderr",
     "output_type": "stream",
     "text": [
      "[I 2025-03-02 21:34:07,328] Trial 359 finished with value: 0.6657420557429434 and parameters: {'learning_rate': 0.05404679193046154, 'max_depth': 4, 'min_child_weight': 1.82176445475255, 'colsample_bytree': 0.36575217931437143, 'subsample': 0.5001230155011891}. Best is trial 211 with value: 0.6717801349192261.\n"
     ]
    },
    {
     "name": "stderr",
     "output_type": "stream",
     "text": [
      "[I 2025-03-02 21:34:07,522] Trial 360 finished with value: 0.6650659802355169 and parameters: {'learning_rate': 0.061920892148152086, 'max_depth': 4, 'min_child_weight': 1.598491804144699, 'colsample_bytree': 0.3320815918599893, 'subsample': 0.5329309967638892}. Best is trial 211 with value: 0.6717801349192261.\n"
     ]
    },
    {
     "name": "stderr",
     "output_type": "stream",
     "text": [
      "[I 2025-03-02 21:34:07,722] Trial 361 finished with value: 0.6630666015740576 and parameters: {'learning_rate': 0.037749122230201736, 'max_depth': 4, 'min_child_weight': 1.0076089214012138, 'colsample_bytree': 0.3110426151125051, 'subsample': 0.8068208298561127}. Best is trial 211 with value: 0.6717801349192261.\n"
     ]
    },
    {
     "name": "stderr",
     "output_type": "stream",
     "text": [
      "[I 2025-03-02 21:34:07,916] Trial 362 finished with value: 0.6679892301319605 and parameters: {'learning_rate': 0.04698368677948191, 'max_depth': 4, 'min_child_weight': 1.2853281131121204, 'colsample_bytree': 0.3463143341692509, 'subsample': 0.518017760848358}. Best is trial 211 with value: 0.6717801349192261.\n"
     ]
    },
    {
     "name": "stderr",
     "output_type": "stream",
     "text": [
      "[I 2025-03-02 21:34:08,165] Trial 363 finished with value: 0.6616900408308184 and parameters: {'learning_rate': 0.027094997369043267, 'max_depth': 6, 'min_child_weight': 1.5083838058668384, 'colsample_bytree': 0.5400697880677268, 'subsample': 0.5180218436060361}. Best is trial 211 with value: 0.6717801349192261.\n"
     ]
    },
    {
     "name": "stderr",
     "output_type": "stream",
     "text": [
      "[I 2025-03-02 21:34:08,368] Trial 364 finished with value: 0.6705559500562164 and parameters: {'learning_rate': 0.052485108806205216, 'max_depth': 4, 'min_child_weight': 1.9317708106621958, 'colsample_bytree': 0.30199108153758, 'subsample': 0.5084838476980931}. Best is trial 211 with value: 0.6717801349192261.\n"
     ]
    },
    {
     "name": "stderr",
     "output_type": "stream",
     "text": [
      "[I 2025-03-02 21:34:08,563] Trial 365 finished with value: 0.6671504231019587 and parameters: {'learning_rate': 0.05905437888291528, 'max_depth': 4, 'min_child_weight': 1.9794745958313034, 'colsample_bytree': 0.3065210192149213, 'subsample': 0.5255204540554965}. Best is trial 211 with value: 0.6717801349192261.\n"
     ]
    },
    {
     "name": "stderr",
     "output_type": "stream",
     "text": [
      "[I 2025-03-02 21:34:08,854] Trial 366 finished with value: 0.6601085863068821 and parameters: {'learning_rate': 0.0521562061754757, 'max_depth': 8, 'min_child_weight': 1.8086252485089838, 'colsample_bytree': 0.31738735218149067, 'subsample': 0.544801070346041}. Best is trial 211 with value: 0.6717801349192261.\n"
     ]
    },
    {
     "name": "stderr",
     "output_type": "stream",
     "text": [
      "[I 2025-03-02 21:34:09,047] Trial 367 finished with value: 0.670881413101367 and parameters: {'learning_rate': 0.05497605677403692, 'max_depth': 4, 'min_child_weight': 2.1804800379345726, 'colsample_bytree': 0.32356940211498436, 'subsample': 0.5003203912571121}. Best is trial 211 with value: 0.6717801349192261.\n"
     ]
    },
    {
     "name": "stderr",
     "output_type": "stream",
     "text": [
      "[I 2025-03-02 21:34:09,242] Trial 368 finished with value: 0.6636383809692882 and parameters: {'learning_rate': 0.06225209422878939, 'max_depth': 4, 'min_child_weight': 2.1123705182466272, 'colsample_bytree': 0.3002677415887188, 'subsample': 0.7802872895480477}. Best is trial 211 with value: 0.6717801349192261.\n"
     ]
    },
    {
     "name": "stderr",
     "output_type": "stream",
     "text": [
      "[I 2025-03-02 21:34:09,449] Trial 369 finished with value: 0.6693798449612404 and parameters: {'learning_rate': 0.04738378944484714, 'max_depth': 4, 'min_child_weight': 2.731592279060163, 'colsample_bytree': 0.30098331685612967, 'subsample': 0.5006964505805365}. Best is trial 211 with value: 0.6717801349192261.\n"
     ]
    },
    {
     "name": "stderr",
     "output_type": "stream",
     "text": [
      "[I 2025-03-02 21:34:09,651] Trial 370 finished with value: 0.6479318302858157 and parameters: {'learning_rate': 0.1414472735641689, 'max_depth': 4, 'min_child_weight': 2.3916303137106922, 'colsample_bytree': 0.3303000162916123, 'subsample': 0.5095077633370929}. Best is trial 211 with value: 0.6717801349192261.\n"
     ]
    },
    {
     "name": "stderr",
     "output_type": "stream",
     "text": [
      "[I 2025-03-02 21:34:09,874] Trial 371 finished with value: 0.6648714420971654 and parameters: {'learning_rate': 0.05283066628834951, 'max_depth': 5, 'min_child_weight': 2.272241014479972, 'colsample_bytree': 0.32273131991733506, 'subsample': 0.5161014748861559}. Best is trial 211 with value: 0.6717801349192261.\n"
     ]
    },
    {
     "name": "stderr",
     "output_type": "stream",
     "text": [
      "[I 2025-03-02 21:34:10,073] Trial 372 finished with value: 0.670566305698562 and parameters: {'learning_rate': 0.04399447860804639, 'max_depth': 4, 'min_child_weight': 2.55175474803247, 'colsample_bytree': 0.3382932427034981, 'subsample': 0.5077934050615419}. Best is trial 211 with value: 0.6717801349192261.\n"
     ]
    },
    {
     "name": "stderr",
     "output_type": "stream",
     "text": [
      "[I 2025-03-02 21:34:10,274] Trial 373 finished with value: 0.6674315048227706 and parameters: {'learning_rate': 0.05625421264783668, 'max_depth': 4, 'min_child_weight': 2.661259852288027, 'colsample_bytree': 0.3370169135759514, 'subsample': 0.5006978461259974}. Best is trial 211 with value: 0.6717801349192261.\n"
     ]
    },
    {
     "name": "stderr",
     "output_type": "stream",
     "text": [
      "[I 2025-03-02 21:34:10,478] Trial 374 finished with value: 0.6698295757145394 and parameters: {'learning_rate': 0.04445612125994189, 'max_depth': 4, 'min_child_weight': 2.5647970678533154, 'colsample_bytree': 0.3201520587650733, 'subsample': 0.5080194901969356}. Best is trial 211 with value: 0.6717801349192261.\n"
     ]
    },
    {
     "name": "stderr",
     "output_type": "stream",
     "text": [
      "[I 2025-03-02 21:34:10,680] Trial 375 finished with value: 0.6626960175158293 and parameters: {'learning_rate': 0.06707953966204053, 'max_depth': 4, 'min_child_weight': 2.007845910681098, 'colsample_bytree': 0.33645479015183477, 'subsample': 0.659278107517503}. Best is trial 211 with value: 0.6717801349192261.\n"
     ]
    },
    {
     "name": "stderr",
     "output_type": "stream",
     "text": [
      "[I 2025-03-02 21:34:10,881] Trial 376 finished with value: 0.6696993904964791 and parameters: {'learning_rate': 0.04801135651854395, 'max_depth': 4, 'min_child_weight': 2.2422357148883494, 'colsample_bytree': 0.30045494419934077, 'subsample': 0.500157006417965}. Best is trial 211 with value: 0.6717801349192261.\n"
     ]
    },
    {
     "name": "stderr",
     "output_type": "stream",
     "text": [
      "[I 2025-03-02 21:34:11,074] Trial 377 finished with value: 0.6689996449494053 and parameters: {'learning_rate': 0.05976636097415809, 'max_depth': 4, 'min_child_weight': 2.21573029669773, 'colsample_bytree': 0.32005727535157696, 'subsample': 0.5168837536952978}. Best is trial 211 with value: 0.6717801349192261.\n"
     ]
    },
    {
     "name": "stderr",
     "output_type": "stream",
     "text": [
      "[I 2025-03-02 21:34:11,269] Trial 378 finished with value: 0.669837712290668 and parameters: {'learning_rate': 0.05116005302449188, 'max_depth': 4, 'min_child_weight': 1.940276537072437, 'colsample_bytree': 0.3456264028749105, 'subsample': 0.5095098104812213}. Best is trial 211 with value: 0.6717801349192261.\n"
     ]
    },
    {
     "name": "stderr",
     "output_type": "stream",
     "text": [
      "[I 2025-03-02 21:34:11,466] Trial 379 finished with value: 0.6670461269897627 and parameters: {'learning_rate': 0.04226457028960817, 'max_depth': 4, 'min_child_weight': 2.0841408133480694, 'colsample_bytree': 0.3284103866234013, 'subsample': 0.5221890082693563}. Best is trial 211 with value: 0.6717801349192261.\n"
     ]
    },
    {
     "name": "stderr",
     "output_type": "stream",
     "text": [
      "[I 2025-03-02 21:34:11,681] Trial 380 finished with value: 0.6681711935617491 and parameters: {'learning_rate': 0.05691921425067032, 'max_depth': 5, 'min_child_weight': 2.305614529233864, 'colsample_bytree': 0.31252916434651373, 'subsample': 0.5084177147308933}. Best is trial 211 with value: 0.6717801349192261.\n"
     ]
    },
    {
     "name": "stderr",
     "output_type": "stream",
     "text": [
      "[I 2025-03-02 21:34:11,887] Trial 381 finished with value: 0.667864962423812 and parameters: {'learning_rate': 0.050645030962474136, 'max_depth': 4, 'min_child_weight': 1.749011844735768, 'colsample_bytree': 0.3418746451392187, 'subsample': 0.5000321704271362}. Best is trial 211 with value: 0.6717801349192261.\n"
     ]
    },
    {
     "name": "stderr",
     "output_type": "stream",
     "text": [
      "[I 2025-03-02 21:34:12,092] Trial 382 finished with value: 0.6412213740458016 and parameters: {'learning_rate': 0.17639620487667343, 'max_depth': 4, 'min_child_weight': 1.877596613812015, 'colsample_bytree': 0.3717592455098586, 'subsample': 0.5173243683908281}. Best is trial 211 with value: 0.6717801349192261.\n"
     ]
    },
    {
     "name": "stderr",
     "output_type": "stream",
     "text": [
      "[I 2025-03-02 21:34:12,296] Trial 383 finished with value: 0.6674418604651163 and parameters: {'learning_rate': 0.04222425924800202, 'max_depth': 4, 'min_child_weight': 2.4177245309494326, 'colsample_bytree': 0.35787125705124545, 'subsample': 0.5303880691084466}. Best is trial 211 with value: 0.6717801349192261.\n"
     ]
    },
    {
     "name": "stderr",
     "output_type": "stream",
     "text": [
      "[I 2025-03-02 21:34:12,493] Trial 384 finished with value: 0.6623572400733773 and parameters: {'learning_rate': 0.06584555194537137, 'max_depth': 4, 'min_child_weight': 5.428668501053472, 'colsample_bytree': 0.3290297896996188, 'subsample': 0.9873827050918147}. Best is trial 211 with value: 0.6717801349192261.\n"
     ]
    },
    {
     "name": "stderr",
     "output_type": "stream",
     "text": [
      "[I 2025-03-02 21:34:12,699] Trial 385 finished with value: 0.6683072962897213 and parameters: {'learning_rate': 0.0497978904675596, 'max_depth': 4, 'min_child_weight': 1.684035572011282, 'colsample_bytree': 0.3117221391347107, 'subsample': 0.500223022196254}. Best is trial 211 with value: 0.6717801349192261.\n"
     ]
    },
    {
     "name": "stderr",
     "output_type": "stream",
     "text": [
      "[I 2025-03-02 21:34:13,159] Trial 386 finished with value: 0.6407982720871057 and parameters: {'learning_rate': 0.056845290036195886, 'max_depth': 10, 'min_child_weight': 2.0265919950291433, 'colsample_bytree': 0.7530220201791, 'subsample': 0.5129498671420918}. Best is trial 211 with value: 0.6717801349192261.\n"
     ]
    },
    {
     "name": "stderr",
     "output_type": "stream",
     "text": [
      "[I 2025-03-02 21:34:13,370] Trial 387 finished with value: 0.6676282620273388 and parameters: {'learning_rate': 0.043956102452656985, 'max_depth': 4, 'min_child_weight': 1.8913710357035192, 'colsample_bytree': 0.3439501935726408, 'subsample': 0.5233156709052071}. Best is trial 211 with value: 0.6717801349192261.\n"
     ]
    },
    {
     "name": "stderr",
     "output_type": "stream",
     "text": [
      "[I 2025-03-02 21:34:13,569] Trial 388 finished with value: 0.670360672229126 and parameters: {'learning_rate': 0.06095944627719292, 'max_depth': 4, 'min_child_weight': 2.1957400107116247, 'colsample_bytree': 0.32820429673520407, 'subsample': 0.5105982100674046}. Best is trial 211 with value: 0.6717801349192261.\n"
     ]
    },
    {
     "name": "stderr",
     "output_type": "stream",
     "text": [
      "[I 2025-03-02 21:34:13,779] Trial 389 finished with value: 0.6611781762234452 and parameters: {'learning_rate': 0.07230289118869848, 'max_depth': 4, 'min_child_weight': 1.4784153932716761, 'colsample_bytree': 0.4756902738444674, 'subsample': 0.5355520031204123}. Best is trial 211 with value: 0.6717801349192261.\n"
     ]
    },
    {
     "name": "stderr",
     "output_type": "stream",
     "text": [
      "[I 2025-03-02 21:34:13,963] Trial 390 finished with value: 0.6677140659210604 and parameters: {'learning_rate': 0.03893380339703201, 'max_depth': 3, 'min_child_weight': 1.7048949801656643, 'colsample_bytree': 0.3576421904183377, 'subsample': 0.5165676848650809}. Best is trial 211 with value: 0.6717801349192261.\n"
     ]
    },
    {
     "name": "stderr",
     "output_type": "stream",
     "text": [
      "[I 2025-03-02 21:34:14,180] Trial 391 finished with value: 0.666239126575537 and parameters: {'learning_rate': 0.05225374773935507, 'max_depth': 5, 'min_child_weight': 5.2843299361461655, 'colsample_bytree': 0.3382089841327844, 'subsample': 0.5074484049160701}. Best is trial 211 with value: 0.6717801349192261.\n"
     ]
    },
    {
     "name": "stderr",
     "output_type": "stream",
     "text": [
      "[I 2025-03-02 21:34:14,388] Trial 392 finished with value: 0.6689552636250666 and parameters: {'learning_rate': 0.047306488020982126, 'max_depth': 4, 'min_child_weight': 6.073992077492621, 'colsample_bytree': 0.3143936569112525, 'subsample': 0.5249321599530614}. Best is trial 211 with value: 0.6717801349192261.\n"
     ]
    },
    {
     "name": "stderr",
     "output_type": "stream",
     "text": [
      "[I 2025-03-02 21:34:14,589] Trial 393 finished with value: 0.6676193857624712 and parameters: {'learning_rate': 0.05457152490604014, 'max_depth': 4, 'min_child_weight': 1.2826746555397288, 'colsample_bytree': 0.3251849613510571, 'subsample': 0.5003504386985229}. Best is trial 211 with value: 0.6717801349192261.\n"
     ]
    },
    {
     "name": "stderr",
     "output_type": "stream",
     "text": [
      "[I 2025-03-02 21:34:14,802] Trial 394 finished with value: 0.6649757382093614 and parameters: {'learning_rate': 0.040439823508370776, 'max_depth': 4, 'min_child_weight': 1.810837050134414, 'colsample_bytree': 0.3778622711500977, 'subsample': 0.5143601374523299}. Best is trial 211 with value: 0.6717801349192261.\n"
     ]
    },
    {
     "name": "stderr",
     "output_type": "stream",
     "text": [
      "[I 2025-03-02 21:34:14,988] Trial 395 finished with value: 0.6666858985738802 and parameters: {'learning_rate': 0.09235147744472125, 'max_depth': 3, 'min_child_weight': 2.0831345561003314, 'colsample_bytree': 0.35012654125323506, 'subsample': 0.5250004891754629}. Best is trial 211 with value: 0.6717801349192261.\n"
     ]
    },
    {
     "name": "stderr",
     "output_type": "stream",
     "text": [
      "[I 2025-03-02 21:34:15,196] Trial 396 finished with value: 0.6681741523167051 and parameters: {'learning_rate': 0.047977625601298576, 'max_depth': 4, 'min_child_weight': 2.4736855707153453, 'colsample_bytree': 0.3354977486638268, 'subsample': 0.510224480906755}. Best is trial 211 with value: 0.6717801349192261.\n"
     ]
    },
    {
     "name": "stderr",
     "output_type": "stream",
     "text": [
      "[I 2025-03-02 21:34:15,410] Trial 397 finished with value: 0.66142819101722 and parameters: {'learning_rate': 0.062363643869670325, 'max_depth': 4, 'min_child_weight': 1.6146778725141577, 'colsample_bytree': 0.36552701452725905, 'subsample': 0.5005513646768809}. Best is trial 211 with value: 0.6717801349192261.\n"
     ]
    },
    {
     "name": "stderr",
     "output_type": "stream",
     "text": [
      "[I 2025-03-02 21:34:15,613] Trial 398 finished with value: 0.6687570270430203 and parameters: {'learning_rate': 0.03544871540105588, 'max_depth': 4, 'min_child_weight': 1.469672199721815, 'colsample_bytree': 0.3088864268582488, 'subsample': 0.5325527288848464}. Best is trial 211 with value: 0.6717801349192261.\n"
     ]
    },
    {
     "name": "stderr",
     "output_type": "stream",
     "text": [
      "[I 2025-03-02 21:34:15,820] Trial 399 finished with value: 0.6636857210485827 and parameters: {'learning_rate': 0.04390020941072764, 'max_depth': 4, 'min_child_weight': 1.919898826199753, 'colsample_bytree': 0.3993388384015765, 'subsample': 0.5182217093397489}. Best is trial 211 with value: 0.6717801349192261.\n"
     ]
    },
    {
     "name": "stderr",
     "output_type": "stream",
     "text": [
      "[I 2025-03-02 21:34:16,006] Trial 400 finished with value: 0.6689449079827209 and parameters: {'learning_rate': 0.055089069284229096, 'max_depth': 3, 'min_child_weight': 1.690638099396177, 'colsample_bytree': 0.35046251095382325, 'subsample': 0.5088584514729002}. Best is trial 211 with value: 0.6717801349192261.\n"
     ]
    },
    {
     "name": "stderr",
     "output_type": "stream",
     "text": [
      "[I 2025-03-02 21:34:16,207] Trial 401 finished with value: 0.6671371087046571 and parameters: {'learning_rate': 0.04798450337943765, 'max_depth': 4, 'min_child_weight': 1.1474047481923362, 'colsample_bytree': 0.3005816141232989, 'subsample': 0.520914353228505}. Best is trial 211 with value: 0.6717801349192261.\n"
     ]
    },
    {
     "name": "stderr",
     "output_type": "stream",
     "text": [
      "[I 2025-03-02 21:34:16,419] Trial 402 finished with value: 0.6665379608260844 and parameters: {'learning_rate': 0.05909482117780495, 'max_depth': 4, 'min_child_weight': 1.3977977420136736, 'colsample_bytree': 0.324566389696864, 'subsample': 0.500373149780835}. Best is trial 211 with value: 0.6717801349192261.\n"
     ]
    },
    {
     "name": "stderr",
     "output_type": "stream",
     "text": [
      "[I 2025-03-02 21:34:16,621] Trial 403 finished with value: 0.667485502100716 and parameters: {'learning_rate': 0.03374046209952787, 'max_depth': 4, 'min_child_weight': 2.157362419026364, 'colsample_bytree': 0.34020483387362266, 'subsample': 0.5407295554325159}. Best is trial 211 with value: 0.6717801349192261.\n"
     ]
    },
    {
     "name": "stderr",
     "output_type": "stream",
     "text": [
      "[I 2025-03-02 21:34:16,829] Trial 404 finished with value: 0.6700677554884905 and parameters: {'learning_rate': 0.0526130464896667, 'max_depth': 4, 'min_child_weight': 1.8135733736591335, 'colsample_bytree': 0.3614297076656463, 'subsample': 0.5100791844562492}. Best is trial 211 with value: 0.6717801349192261.\n"
     ]
    },
    {
     "name": "stderr",
     "output_type": "stream",
     "text": [
      "[I 2025-03-02 21:34:17,033] Trial 405 finished with value: 0.670189064441683 and parameters: {'learning_rate': 0.04019695938811788, 'max_depth': 4, 'min_child_weight': 1.596927167758982, 'colsample_bytree': 0.3216545469898474, 'subsample': 0.5255053771745397}. Best is trial 211 with value: 0.6717801349192261.\n"
     ]
    },
    {
     "name": "stderr",
     "output_type": "stream",
     "text": [
      "[I 2025-03-02 21:34:17,286] Trial 406 finished with value: 0.6684256464879579 and parameters: {'learning_rate': 0.04598538125745179, 'max_depth': 3, 'min_child_weight': 5.096176351550233, 'colsample_bytree': 0.3358448580704184, 'subsample': 0.516610133215397}. Best is trial 211 with value: 0.6717801349192261.\n"
     ]
    },
    {
     "name": "stderr",
     "output_type": "stream",
     "text": [
      "[I 2025-03-02 21:34:17,478] Trial 407 finished with value: 0.6521051541511332 and parameters: {'learning_rate': 0.1546116551535101, 'max_depth': 4, 'min_child_weight': 1.9608382001294733, 'colsample_bytree': 0.3477065390227203, 'subsample': 0.8378628923512208}. Best is trial 211 with value: 0.6717801349192261.\n"
     ]
    },
    {
     "name": "stderr",
     "output_type": "stream",
     "text": [
      "[I 2025-03-02 21:34:17,682] Trial 408 finished with value: 0.6633143973016153 and parameters: {'learning_rate': 0.06678118997456142, 'max_depth': 4, 'min_child_weight': 5.554337574178306, 'colsample_bytree': 0.376014931676681, 'subsample': 0.5000421366476411}. Best is trial 211 with value: 0.6717801349192261.\n"
     ]
    },
    {
     "name": "stderr",
     "output_type": "stream",
     "text": [
      "[I 2025-03-02 21:34:17,882] Trial 409 finished with value: 0.6676977927688029 and parameters: {'learning_rate': 0.051634623761882104, 'max_depth': 4, 'min_child_weight': 1.3102716387109181, 'colsample_bytree': 0.3129288621905308, 'subsample': 0.5100656382559947}. Best is trial 211 with value: 0.6717801349192261.\n"
     ]
    },
    {
     "name": "stderr",
     "output_type": "stream",
     "text": [
      "[I 2025-03-02 21:34:18,079] Trial 410 finished with value: 0.6660867506953074 and parameters: {'learning_rate': 0.05858564423629548, 'max_depth': 4, 'min_child_weight': 1.7326589060270687, 'colsample_bytree': 0.3270980594806096, 'subsample': 0.5290835831645517}. Best is trial 211 with value: 0.6717801349192261.\n"
     ]
    },
    {
     "name": "stderr",
     "output_type": "stream",
     "text": [
      "[I 2025-03-02 21:34:18,277] Trial 411 finished with value: 0.6664344044026274 and parameters: {'learning_rate': 0.02989133906480156, 'max_depth': 4, 'min_child_weight': 1.5142832948291778, 'colsample_bytree': 0.3010097375466245, 'subsample': 0.5164493730733983}. Best is trial 211 with value: 0.6717801349192261.\n"
     ]
    },
    {
     "name": "stderr",
     "output_type": "stream",
     "text": [
      "[I 2025-03-02 21:34:18,520] Trial 412 finished with value: 0.6624356470797088 and parameters: {'learning_rate': 0.038945859026966546, 'max_depth': 6, 'min_child_weight': 2.0456048767155854, 'colsample_bytree': 0.35653204874400746, 'subsample': 0.5091047531153513}. Best is trial 211 with value: 0.6717801349192261.\n"
     ]
    },
    {
     "name": "stderr",
     "output_type": "stream",
     "text": [
      "[I 2025-03-02 21:34:18,719] Trial 413 finished with value: 0.6694138706432333 and parameters: {'learning_rate': 0.046374046930834426, 'max_depth': 3, 'min_child_weight': 2.2950125454692305, 'colsample_bytree': 0.3378681044039112, 'subsample': 0.5000702117953777}. Best is trial 211 with value: 0.6717801349192261.\n"
     ]
    },
    {
     "name": "stderr",
     "output_type": "stream",
     "text": [
      "[I 2025-03-02 21:34:18,920] Trial 414 finished with value: 0.6608852594828096 and parameters: {'learning_rate': 0.05412417826066861, 'max_depth': 4, 'min_child_weight': 1.906168392997008, 'colsample_bytree': 0.42057634341102706, 'subsample': 0.5347605410309038}. Best is trial 211 with value: 0.6717801349192261.\n"
     ]
    },
    {
     "name": "stderr",
     "output_type": "stream",
     "text": [
      "[I 2025-03-02 21:34:19,181] Trial 415 finished with value: 0.6521539736079058 and parameters: {'learning_rate': 0.06356041325418976, 'max_depth': 7, 'min_child_weight': 2.5634482002375565, 'colsample_bytree': 0.3206820530103301, 'subsample': 0.5220078736477493}. Best is trial 211 with value: 0.6717801349192261.\n"
     ]
    },
    {
     "name": "stderr",
     "output_type": "stream",
     "text": [
      "[I 2025-03-02 21:34:19,407] Trial 416 finished with value: 0.6662346884431032 and parameters: {'learning_rate': 0.04301960035419495, 'max_depth': 5, 'min_child_weight': 2.8333347142967593, 'colsample_bytree': 0.3486265987326944, 'subsample': 0.5104713231044186}. Best is trial 211 with value: 0.6717801349192261.\n"
     ]
    },
    {
     "name": "stderr",
     "output_type": "stream",
     "text": [
      "[I 2025-03-02 21:34:19,607] Trial 417 finished with value: 0.6624149357950175 and parameters: {'learning_rate': 0.05014799610555535, 'max_depth': 4, 'min_child_weight': 1.41254556154584, 'colsample_bytree': 0.36510182707265726, 'subsample': 0.5185473004196145}. Best is trial 211 with value: 0.6717801349192261.\n"
     ]
    },
    {
     "name": "stderr",
     "output_type": "stream",
     "text": [
      "[I 2025-03-02 21:34:19,813] Trial 418 finished with value: 0.6702830049115333 and parameters: {'learning_rate': 0.03512680454083361, 'max_depth': 4, 'min_child_weight': 1.6105793629391945, 'colsample_bytree': 0.33113143249005167, 'subsample': 0.5095251731858854}. Best is trial 211 with value: 0.6717801349192261.\n"
     ]
    },
    {
     "name": "stderr",
     "output_type": "stream",
     "text": [
      "[I 2025-03-02 21:34:20,007] Trial 419 finished with value: 0.6606751878809396 and parameters: {'learning_rate': 0.057280399089414374, 'max_depth': 4, 'min_child_weight': 1.20324532312174, 'colsample_bytree': 0.3138630747651595, 'subsample': 0.8786066366601605}. Best is trial 211 with value: 0.6717801349192261.\n"
     ]
    },
    {
     "name": "stderr",
     "output_type": "stream",
     "text": [
      "[I 2025-03-02 21:34:20,227] Trial 420 finished with value: 0.6682377655482573 and parameters: {'learning_rate': 0.04239163513924765, 'max_depth': 4, 'min_child_weight': 1.7527154469445614, 'colsample_bytree': 0.34532168291192517, 'subsample': 0.5277914239473692}. Best is trial 211 with value: 0.6717801349192261.\n"
     ]
    },
    {
     "name": "stderr",
     "output_type": "stream",
     "text": [
      "[I 2025-03-02 21:34:20,445] Trial 421 finished with value: 0.6669359133676549 and parameters: {'learning_rate': 0.0496891621526337, 'max_depth': 4, 'min_child_weight': 4.924811184585853, 'colsample_bytree': 0.3001953899613296, 'subsample': 0.5079149784215296}. Best is trial 211 with value: 0.6717801349192261.\n"
     ]
    },
    {
     "name": "stderr",
     "output_type": "stream",
     "text": [
      "[I 2025-03-02 21:34:20,642] Trial 422 finished with value: 0.6607624711521393 and parameters: {'learning_rate': 0.07250101079688127, 'max_depth': 4, 'min_child_weight': 2.124866270360533, 'colsample_bytree': 0.3849256710095282, 'subsample': 0.517870270421888}. Best is trial 211 with value: 0.6717801349192261.\n"
     ]
    },
    {
     "name": "stderr",
     "output_type": "stream",
     "text": [
      "[I 2025-03-02 21:34:20,828] Trial 423 finished with value: 0.6657524113852891 and parameters: {'learning_rate': 0.06168723329613474, 'max_depth': 3, 'min_child_weight': 4.559887152237496, 'colsample_bytree': 0.3296494707841306, 'subsample': 0.7911365238987513}. Best is trial 211 with value: 0.6717801349192261.\n"
     ]
    },
    {
     "name": "stderr",
     "output_type": "stream",
     "text": [
      "[I 2025-03-02 21:34:21,175] Trial 424 finished with value: 0.660836440026037 and parameters: {'learning_rate': 0.023785450720506814, 'max_depth': 9, 'min_child_weight': 5.275051471178768, 'colsample_bytree': 0.7075318579683664, 'subsample': 0.5517990115720104}. Best is trial 211 with value: 0.6717801349192261.\n"
     ]
    },
    {
     "name": "stderr",
     "output_type": "stream",
     "text": [
      "[I 2025-03-02 21:34:21,380] Trial 425 finished with value: 0.6664839635481389 and parameters: {'learning_rate': 0.03878390844835194, 'max_depth': 4, 'min_child_weight': 1.5128768150066352, 'colsample_bytree': 0.35935265689279877, 'subsample': 0.5394974936788154}. Best is trial 211 with value: 0.6717801349192261.\n"
     ]
    },
    {
     "name": "stderr",
     "output_type": "stream",
     "text": [
      "[I 2025-03-02 21:34:21,574] Trial 426 finished with value: 0.6529202911414876 and parameters: {'learning_rate': 0.1220229776493793, 'max_depth': 4, 'min_child_weight': 2.3414392404067224, 'colsample_bytree': 0.3177468393325721, 'subsample': 0.5097879425240917}. Best is trial 211 with value: 0.6717801349192261.\n"
     ]
    },
    {
     "name": "stderr",
     "output_type": "stream",
     "text": [
      "[I 2025-03-02 21:34:21,781] Trial 427 finished with value: 0.6601174625717499 and parameters: {'learning_rate': 0.05527355766484118, 'max_depth': 4, 'min_child_weight': 6.496532822660804, 'colsample_bytree': 0.724562485789241, 'subsample': 0.6205771994114774}. Best is trial 211 with value: 0.6717801349192261.\n"
     ]
    },
    {
     "name": "stderr",
     "output_type": "stream",
     "text": [
      "[I 2025-03-02 21:34:21,961] Trial 428 finished with value: 0.6685395585537605 and parameters: {'learning_rate': 0.046209351316222134, 'max_depth': 3, 'min_child_weight': 1.8223548870718038, 'colsample_bytree': 0.34116407777185953, 'subsample': 0.5000153511123387}. Best is trial 211 with value: 0.6717801349192261.\n"
     ]
    },
    {
     "name": "stderr",
     "output_type": "stream",
     "text": [
      "[I 2025-03-02 21:34:22,166] Trial 429 finished with value: 0.6424906799218889 and parameters: {'learning_rate': 0.19240783470901, 'max_depth': 4, 'min_child_weight': 1.683796482231382, 'colsample_bytree': 0.6279968408436478, 'subsample': 0.5260294566873692}. Best is trial 211 with value: 0.6717801349192261.\n"
     ]
    },
    {
     "name": "stderr",
     "output_type": "stream",
     "text": [
      "[I 2025-03-02 21:34:22,387] Trial 430 finished with value: 0.6580359784602638 and parameters: {'learning_rate': 0.030318886852403554, 'max_depth': 4, 'min_child_weight': 1.9638493620467978, 'colsample_bytree': 0.9775476275308193, 'subsample': 0.5169397310167683}. Best is trial 211 with value: 0.6717801349192261.\n"
     ]
    },
    {
     "name": "stderr",
     "output_type": "stream",
     "text": [
      "[I 2025-03-02 21:34:22,604] Trial 431 finished with value: 0.6637596899224806 and parameters: {'learning_rate': 0.05026541577956743, 'max_depth': 4, 'min_child_weight': 1.3788520613680872, 'colsample_bytree': 0.662877444183791, 'subsample': 0.5001518629671}. Best is trial 211 with value: 0.6717801349192261.\n"
     ]
    },
    {
     "name": "stderr",
     "output_type": "stream",
     "text": [
      "[I 2025-03-02 21:34:22,818] Trial 432 finished with value: 0.6662184152908457 and parameters: {'learning_rate': 0.04339001052537559, 'max_depth': 4, 'min_child_weight': 1.5663894320656768, 'colsample_bytree': 0.3683210461279544, 'subsample': 0.5313967656226419}. Best is trial 211 with value: 0.6717801349192261.\n"
     ]
    },
    {
     "name": "stderr",
     "output_type": "stream",
     "text": [
      "[I 2025-03-02 21:34:23,022] Trial 433 finished with value: 0.6683280075744127 and parameters: {'learning_rate': 0.0573686109030404, 'max_depth': 4, 'min_child_weight': 2.1517816349154835, 'colsample_bytree': 0.3284923005442809, 'subsample': 0.5183361193340299}. Best is trial 211 with value: 0.6717801349192261.\n"
     ]
    },
    {
     "name": "stderr",
     "output_type": "stream",
     "text": [
      "[I 2025-03-02 21:34:23,225] Trial 434 finished with value: 0.6706151251553347 and parameters: {'learning_rate': 0.06817921386907105, 'max_depth': 4, 'min_child_weight': 1.1952990652315265, 'colsample_bytree': 0.35127808769844826, 'subsample': 0.5088196250807427}. Best is trial 211 with value: 0.6717801349192261.\n"
     ]
    },
    {
     "name": "stderr",
     "output_type": "stream",
     "text": [
      "[I 2025-03-02 21:34:23,419] Trial 435 finished with value: 0.6621693591336766 and parameters: {'learning_rate': 0.06718793687596564, 'max_depth': 3, 'min_child_weight': 7.156560982910921, 'colsample_bytree': 0.7850633374447107, 'subsample': 0.5234139774814294}. Best is trial 211 with value: 0.6717801349192261.\n"
     ]
    },
    {
     "name": "stderr",
     "output_type": "stream",
     "text": [
      "[I 2025-03-02 21:34:23,616] Trial 436 finished with value: 0.6656680868690455 and parameters: {'learning_rate': 0.06395491218974207, 'max_depth': 4, 'min_child_weight': 1.2251768947559583, 'colsample_bytree': 0.3844174932334511, 'subsample': 0.5084903896605755}. Best is trial 211 with value: 0.6717801349192261.\n"
     ]
    },
    {
     "name": "stderr",
     "output_type": "stream",
     "text": [
      "[I 2025-03-02 21:34:23,820] Trial 437 finished with value: 0.6659395526362507 and parameters: {'learning_rate': 0.0789864160941914, 'max_depth': 4, 'min_child_weight': 1.1157087013361418, 'colsample_bytree': 0.35518458623415167, 'subsample': 0.51618777839498}. Best is trial 211 with value: 0.6717801349192261.\n"
     ]
    },
    {
     "name": "stderr",
     "output_type": "stream",
     "text": [
      "[I 2025-03-02 21:34:24,018] Trial 438 finished with value: 0.6682599562104267 and parameters: {'learning_rate': 0.03599397163509273, 'max_depth': 4, 'min_child_weight': 1.0837103282582312, 'colsample_bytree': 0.3703764316883561, 'subsample': 0.5332659837726089}. Best is trial 211 with value: 0.6717801349192261.\n"
     ]
    },
    {
     "name": "stderr",
     "output_type": "stream",
     "text": [
      "[I 2025-03-02 21:34:24,231] Trial 439 finished with value: 0.6663071779395231 and parameters: {'learning_rate': 0.059747486927558296, 'max_depth': 5, 'min_child_weight': 1.2564501299369577, 'colsample_bytree': 0.3489332628326887, 'subsample': 0.5000178372444674}. Best is trial 211 with value: 0.6717801349192261.\n"
     ]
    },
    {
     "name": "stderr",
     "output_type": "stream",
     "text": [
      "[I 2025-03-02 21:34:24,418] Trial 440 finished with value: 0.6699849103497248 and parameters: {'learning_rate': 0.04630877387779478, 'max_depth': 3, 'min_child_weight': 1.4695194622421734, 'colsample_bytree': 0.34217390092038885, 'subsample': 0.5094978014214888}. Best is trial 211 with value: 0.6717801349192261.\n"
     ]
    },
    {
     "name": "stderr",
     "output_type": "stream",
     "text": [
      "[I 2025-03-02 21:34:24,615] Trial 441 finished with value: 0.6671977631812533 and parameters: {'learning_rate': 0.0551902685300207, 'max_depth': 4, 'min_child_weight': 1.3280905814465156, 'colsample_bytree': 0.3610891053616106, 'subsample': 0.5190317126230124}. Best is trial 211 with value: 0.6717801349192261.\n"
     ]
    },
    {
     "name": "stderr",
     "output_type": "stream",
     "text": [
      "[I 2025-03-02 21:34:24,826] Trial 442 finished with value: 0.6644224510326056 and parameters: {'learning_rate': 0.03894926552140125, 'max_depth': 4, 'min_child_weight': 1.0666645688891716, 'colsample_bytree': 0.33648484067415363, 'subsample': 0.5651482295421156}. Best is trial 211 with value: 0.6717801349192261.\n"
     ]
    },
    {
     "name": "stderr",
     "output_type": "stream",
     "text": [
      "[I 2025-03-02 21:34:25,022] Trial 443 finished with value: 0.6650215989111781 and parameters: {'learning_rate': 0.07075971937332723, 'max_depth': 4, 'min_child_weight': 5.069217016880953, 'colsample_bytree': 0.3513185985850744, 'subsample': 0.5000067320786428}. Best is trial 211 with value: 0.6717801349192261.\n"
     ]
    },
    {
     "name": "stderr",
     "output_type": "stream",
     "text": [
      "[I 2025-03-02 21:34:25,222] Trial 444 finished with value: 0.6613638380969289 and parameters: {'learning_rate': 0.04848290421811656, 'max_depth': 4, 'min_child_weight': 4.420581390407423, 'colsample_bytree': 0.5102214793134957, 'subsample': 0.5251973414985421}. Best is trial 211 with value: 0.6717801349192261.\n"
     ]
    },
    {
     "name": "stderr",
     "output_type": "stream",
     "text": [
      "[I 2025-03-02 21:34:25,425] Trial 445 finished with value: 0.6426756021066335 and parameters: {'learning_rate': 0.21681506372395276, 'max_depth': 4, 'min_child_weight': 1.3919023219833082, 'colsample_bytree': 0.37355577405170015, 'subsample': 0.7198726690691867}. Best is trial 211 with value: 0.6717801349192261.\n"
     ]
    },
    {
     "name": "stderr",
     "output_type": "stream",
     "text": [
      "[I 2025-03-02 21:34:25,625] Trial 446 finished with value: 0.6684034558257885 and parameters: {'learning_rate': 0.027575964740164743, 'max_depth': 4, 'min_child_weight': 1.6266815917778168, 'colsample_bytree': 0.3352821250674782, 'subsample': 0.5095749314466188}. Best is trial 211 with value: 0.6717801349192261.\n"
     ]
    },
    {
     "name": "stderr",
     "output_type": "stream",
     "text": [
      "[I 2025-03-02 21:34:25,828] Trial 447 finished with value: 0.6604695544115036 and parameters: {'learning_rate': 0.06273135672374115, 'max_depth': 4, 'min_child_weight': 1.0242191289162366, 'colsample_bytree': 0.35706110646947603, 'subsample': 0.9331390887594104}. Best is trial 211 with value: 0.6717801349192261.\n"
     ]
    },
    {
     "name": "stderr",
     "output_type": "stream",
     "text": [
      "[I 2025-03-02 21:34:26,008] Trial 448 finished with value: 0.6677710219539617 and parameters: {'learning_rate': 0.053881280249767516, 'max_depth': 3, 'min_child_weight': 5.424993941992877, 'colsample_bytree': 0.32355161470121807, 'subsample': 0.5390446681672942}. Best is trial 211 with value: 0.6717801349192261.\n"
     ]
    },
    {
     "name": "stderr",
     "output_type": "stream",
     "text": [
      "[I 2025-03-02 21:34:26,230] Trial 449 finished with value: 0.6663530386413398 and parameters: {'learning_rate': 0.015751220180987065, 'max_depth': 5, 'min_child_weight': 1.7322475873716388, 'colsample_bytree': 0.39225975011104297, 'subsample': 0.514369614399089}. Best is trial 211 with value: 0.6717801349192261.\n"
     ]
    },
    {
     "name": "stderr",
     "output_type": "stream",
     "text": [
      "[I 2025-03-02 21:34:26,433] Trial 450 finished with value: 0.6694523344576602 and parameters: {'learning_rate': 0.04289439457755584, 'max_depth': 4, 'min_child_weight': 4.73364756002238, 'colsample_bytree': 0.3418702114220442, 'subsample': 0.5256031407560595}. Best is trial 211 with value: 0.6717801349192261.\n"
     ]
    },
    {
     "name": "stderr",
     "output_type": "stream",
     "text": [
      "[I 2025-03-02 21:34:26,631] Trial 451 finished with value: 0.6702230901236759 and parameters: {'learning_rate': 0.032524437100319645, 'max_depth': 4, 'min_child_weight': 1.3043257536420314, 'colsample_bytree': 0.3265069065713453, 'subsample': 0.508693489237067}. Best is trial 211 with value: 0.6717801349192261.\n"
     ]
    },
    {
     "name": "stderr",
     "output_type": "stream",
     "text": [
      "[I 2025-03-02 21:34:26,847] Trial 452 finished with value: 0.6608364400260369 and parameters: {'learning_rate': 0.05068680054716299, 'max_depth': 4, 'min_child_weight': 1.5816890627493447, 'colsample_bytree': 0.6863437746352757, 'subsample': 0.5177601115608798}. Best is trial 211 with value: 0.6717801349192261.\n"
     ]
    },
    {
     "name": "stderr",
     "output_type": "stream",
     "text": [
      "[I 2025-03-02 21:34:27,042] Trial 453 finished with value: 0.6686061305402686 and parameters: {'learning_rate': 0.05661526821482506, 'max_depth': 4, 'min_child_weight': 4.3581041742031985, 'colsample_bytree': 0.35076047644962616, 'subsample': 0.5443660004033982}. Best is trial 211 with value: 0.6717801349192261.\n"
     ]
    },
    {
     "name": "stderr",
     "output_type": "stream",
     "text": [
      "[I 2025-03-02 21:34:27,240] Trial 454 finished with value: 0.6661932658737204 and parameters: {'learning_rate': 0.04364416006891826, 'max_depth': 4, 'min_child_weight': 1.4629450542017752, 'colsample_bytree': 0.37155054010469335, 'subsample': 0.5004371812861885}. Best is trial 211 with value: 0.6717801349192261.\n"
     ]
    },
    {
     "name": "stderr",
     "output_type": "stream",
     "text": [
      "[I 2025-03-02 21:34:27,548] Trial 455 finished with value: 0.6618490739096988 and parameters: {'learning_rate': 0.03667998187123589, 'max_depth': 8, 'min_child_weight': 1.803220420254876, 'colsample_bytree': 0.3372653804737486, 'subsample': 0.5299954550635602}. Best is trial 211 with value: 0.6717801349192261.\n"
     ]
    },
    {
     "name": "stderr",
     "output_type": "stream",
     "text": [
      "[I 2025-03-02 21:34:27,731] Trial 456 finished with value: 0.6679270962778863 and parameters: {'learning_rate': 0.06773422181905314, 'max_depth': 3, 'min_child_weight': 4.928403275817447, 'colsample_bytree': 0.3158786190992239, 'subsample': 0.5086200801684456}. Best is trial 211 with value: 0.6717801349192261.\n"
     ]
    },
    {
     "name": "stderr",
     "output_type": "stream",
     "text": [
      "[I 2025-03-02 21:34:27,929] Trial 457 finished with value: 0.6617950766317535 and parameters: {'learning_rate': 0.060316571443892575, 'max_depth': 4, 'min_child_weight': 1.2544378622531385, 'colsample_bytree': 0.3572846299567174, 'subsample': 0.6931835353854721}. Best is trial 211 with value: 0.6717801349192261.\n"
     ]
    },
    {
     "name": "stderr",
     "output_type": "stream",
     "text": [
      "[I 2025-03-02 21:34:28,127] Trial 458 finished with value: 0.6677673235102668 and parameters: {'learning_rate': 0.047899239855675055, 'max_depth': 4, 'min_child_weight': 4.570593623315657, 'colsample_bytree': 0.32978087519838023, 'subsample': 0.5188226098342904}. Best is trial 211 with value: 0.6717801349192261.\n"
     ]
    },
    {
     "name": "stderr",
     "output_type": "stream",
     "text": [
      "[I 2025-03-02 21:34:28,337] Trial 459 finished with value: 0.6702134741700693 and parameters: {'learning_rate': 0.05190766776332981, 'max_depth': 4, 'min_child_weight': 5.22924340345599, 'colsample_bytree': 0.34188703160914663, 'subsample': 0.5126151603602102}. Best is trial 211 with value: 0.6717801349192261.\n"
     ]
    },
    {
     "name": "stderr",
     "output_type": "stream",
     "text": [
      "[I 2025-03-02 21:34:28,528] Trial 460 finished with value: 0.650038463814427 and parameters: {'learning_rate': 0.24169665875959287, 'max_depth': 3, 'min_child_weight': 2.5887140753879745, 'colsample_bytree': 0.3200758059047359, 'subsample': 0.5080073311663678}. Best is trial 211 with value: 0.6717801349192261.\n"
     ]
    },
    {
     "name": "stderr",
     "output_type": "stream",
     "text": [
      "[I 2025-03-02 21:34:28,726] Trial 461 finished with value: 0.6687525889105864 and parameters: {'learning_rate': 0.04065827438694217, 'max_depth': 4, 'min_child_weight': 4.060590837027041, 'colsample_bytree': 0.36151363465589437, 'subsample': 0.5240143921200993}. Best is trial 211 with value: 0.6717801349192261.\n"
     ]
    },
    {
     "name": "stderr",
     "output_type": "stream",
     "text": [
      "[I 2025-03-02 21:34:28,943] Trial 462 finished with value: 0.6623394875436416 and parameters: {'learning_rate': 0.057253189811385566, 'max_depth': 4, 'min_child_weight': 1.635446638830119, 'colsample_bytree': 0.886995338367927, 'subsample': 0.5080489913333989}. Best is trial 211 with value: 0.6717801349192261.\n"
     ]
    },
    {
     "name": "stderr",
     "output_type": "stream",
     "text": [
      "[I 2025-03-02 21:34:29,162] Trial 463 finished with value: 0.6657893958222378 and parameters: {'learning_rate': 0.045614587809444135, 'max_depth': 5, 'min_child_weight': 2.3462515935644337, 'colsample_bytree': 0.38203094712505137, 'subsample': 0.5004978901448806}. Best is trial 211 with value: 0.6717801349192261.\n"
     ]
    },
    {
     "name": "stderr",
     "output_type": "stream",
     "text": [
      "[I 2025-03-02 21:34:29,371] Trial 464 finished with value: 0.6685558317060181 and parameters: {'learning_rate': 0.03310074111552825, 'max_depth': 4, 'min_child_weight': 1.8703820261737292, 'colsample_bytree': 0.3498644848614381, 'subsample': 0.5339304346019135}. Best is trial 211 with value: 0.6717801349192261.\n"
     ]
    },
    {
     "name": "stderr",
     "output_type": "stream",
     "text": [
      "[I 2025-03-02 21:34:29,570] Trial 465 finished with value: 0.6687052488312919 and parameters: {'learning_rate': 0.05101108789804582, 'max_depth': 4, 'min_child_weight': 2.1339969222017032, 'colsample_bytree': 0.3175852394486882, 'subsample': 0.5180530212627869}. Best is trial 211 with value: 0.6717801349192261.\n"
     ]
    },
    {
     "name": "stderr",
     "output_type": "stream",
     "text": [
      "[I 2025-03-02 21:34:29,773] Trial 466 finished with value: 0.6659402923249897 and parameters: {'learning_rate': 0.06532621674776296, 'max_depth': 4, 'min_child_weight': 1.4513634229194385, 'colsample_bytree': 0.3366161494057699, 'subsample': 0.500284787749958}. Best is trial 211 with value: 0.6717801349192261.\n"
     ]
    },
    {
     "name": "stderr",
     "output_type": "stream",
     "text": [
      "[I 2025-03-02 21:34:29,984] Trial 467 finished with value: 0.6667857565536423 and parameters: {'learning_rate': 0.02137840055591981, 'max_depth': 4, 'min_child_weight': 1.691442862020347, 'colsample_bytree': 0.36705658960921844, 'subsample': 0.5236328523927787}. Best is trial 211 with value: 0.6717801349192261.\n"
     ]
    },
    {
     "name": "stderr",
     "output_type": "stream",
     "text": [
      "[I 2025-03-02 21:34:30,184] Trial 468 finished with value: 0.6692570566305698 and parameters: {'learning_rate': 0.04059658993176033, 'max_depth': 4, 'min_child_weight': 4.240266660301295, 'colsample_bytree': 0.3288526570823959, 'subsample': 0.5149681947429492}. Best is trial 211 with value: 0.6717801349192261.\n"
     ]
    },
    {
     "name": "stderr",
     "output_type": "stream",
     "text": [
      "[I 2025-03-02 21:34:30,374] Trial 469 finished with value: 0.6677725013314397 and parameters: {'learning_rate': 0.06013423230864809, 'max_depth': 3, 'min_child_weight': 1.9241015644943367, 'colsample_bytree': 0.3488416833990052, 'subsample': 0.5303641194116744}. Best is trial 211 with value: 0.6717801349192261.\n"
     ]
    },
    {
     "name": "stderr",
     "output_type": "stream",
     "text": [
      "[I 2025-03-02 21:34:30,573] Trial 470 finished with value: 0.6616796851884726 and parameters: {'learning_rate': 0.046329669775058584, 'max_depth': 4, 'min_child_weight': 1.4036138326460763, 'colsample_bytree': 0.40841793697640494, 'subsample': 0.5889706957966939}. Best is trial 211 with value: 0.6717801349192261.\n"
     ]
    },
    {
     "name": "stderr",
     "output_type": "stream",
     "text": [
      "[I 2025-03-02 21:34:30,770] Trial 471 finished with value: 0.6706136457778566 and parameters: {'learning_rate': 0.05362858550586646, 'max_depth': 4, 'min_child_weight': 1.5784516445815535, 'colsample_bytree': 0.31615777285336266, 'subsample': 0.5092169449493364}. Best is trial 211 with value: 0.6717801349192261.\n"
     ]
    },
    {
     "name": "stderr",
     "output_type": "stream",
     "text": [
      "[I 2025-03-02 21:34:30,975] Trial 472 finished with value: 0.6700011835019823 and parameters: {'learning_rate': 0.0566205579694235, 'max_depth': 4, 'min_child_weight': 1.1883107012076348, 'colsample_bytree': 0.31200970632883634, 'subsample': 0.5149432008961299}. Best is trial 211 with value: 0.6717801349192261.\n"
     ]
    },
    {
     "name": "stderr",
     "output_type": "stream",
     "text": [
      "[I 2025-03-02 21:34:31,172] Trial 473 finished with value: 0.6690321912539203 and parameters: {'learning_rate': 0.07267797145314074, 'max_depth': 4, 'min_child_weight': 1.5036088357255595, 'colsample_bytree': 0.31035078914756004, 'subsample': 0.5000951531298378}. Best is trial 211 with value: 0.6717801349192261.\n"
     ]
    },
    {
     "name": "stderr",
     "output_type": "stream",
     "text": [
      "[I 2025-03-02 21:34:31,364] Trial 474 finished with value: 0.6663833658796379 and parameters: {'learning_rate': 0.053829592240653895, 'max_depth': 3, 'min_child_weight': 1.6392003254046466, 'colsample_bytree': 0.32221908969298035, 'subsample': 0.5463237575286637}. Best is trial 211 with value: 0.6717801349192261.\n"
     ]
    },
    {
     "name": "stderr",
     "output_type": "stream",
     "text": [
      "[I 2025-03-02 21:34:31,561] Trial 475 finished with value: 0.6675809219480443 and parameters: {'learning_rate': 0.06416370515378483, 'max_depth': 4, 'min_child_weight': 1.2514765521442868, 'colsample_bytree': 0.31261197551275266, 'subsample': 0.5229613733762476}. Best is trial 211 with value: 0.6717801349192261.\n"
     ]
    },
    {
     "name": "stderr",
     "output_type": "stream",
     "text": [
      "[I 2025-03-02 21:34:31,803] Trial 476 finished with value: 0.6706343570625481 and parameters: {'learning_rate': 0.05058365376041703, 'max_depth': 4, 'min_child_weight': 5.740979596007831, 'colsample_bytree': 0.3329069573563965, 'subsample': 0.5102359075566151}. Best is trial 211 with value: 0.6717801349192261.\n"
     ]
    },
    {
     "name": "stderr",
     "output_type": "stream",
     "text": [
      "[I 2025-03-02 21:34:32,002] Trial 477 finished with value: 0.6677540091129652 and parameters: {'learning_rate': 0.048992764871027834, 'max_depth': 4, 'min_child_weight': 6.175276994042813, 'colsample_bytree': 0.3455833942573208, 'subsample': 0.5301502985063391}. Best is trial 211 with value: 0.6717801349192261.\n"
     ]
    },
    {
     "name": "stderr",
     "output_type": "stream",
     "text": [
      "[I 2025-03-02 21:34:32,206] Trial 478 finished with value: 0.6584561216640037 and parameters: {'learning_rate': 0.0576667932320796, 'max_depth': 4, 'min_child_weight': 5.658324155518469, 'colsample_bytree': 0.5926857980831757, 'subsample': 0.5170487769017698}. Best is trial 211 with value: 0.6717801349192261.\n"
     ]
    },
    {
     "name": "stderr",
     "output_type": "stream",
     "text": [
      "[I 2025-03-02 21:34:32,435] Trial 479 finished with value: 0.6690240546777916 and parameters: {'learning_rate': 0.03818203561274507, 'max_depth': 5, 'min_child_weight': 5.332544787117891, 'colsample_bytree': 0.3313339134747735, 'subsample': 0.5398446865980701}. Best is trial 211 with value: 0.6717801349192261.\n"
     ]
    },
    {
     "name": "stderr",
     "output_type": "stream",
     "text": [
      "[I 2025-03-02 21:34:32,623] Trial 480 finished with value: 0.667072755784366 and parameters: {'learning_rate': 0.050886962004998454, 'max_depth': 3, 'min_child_weight': 5.932009613609886, 'colsample_bytree': 0.3609955658344927, 'subsample': 0.5084668091734297}. Best is trial 211 with value: 0.6717801349192261.\n"
     ]
    },
    {
     "name": "stderr",
     "output_type": "stream",
     "text": [
      "[I 2025-03-02 21:34:32,833] Trial 481 finished with value: 0.6600923131546246 and parameters: {'learning_rate': 0.06095057954167689, 'max_depth': 4, 'min_child_weight': 5.935565276257237, 'colsample_bytree': 0.3765654637655356, 'subsample': 0.5206769234489542}. Best is trial 211 with value: 0.6717801349192261.\n"
     ]
    },
    {
     "name": "stderr",
     "output_type": "stream",
     "text": [
      "[I 2025-03-02 21:34:33,037] Trial 482 finished with value: 0.6702142138588083 and parameters: {'learning_rate': 0.02803446818882683, 'max_depth': 4, 'min_child_weight': 5.604588914529474, 'colsample_bytree': 0.3463949355202737, 'subsample': 0.5004022825701274}. Best is trial 211 with value: 0.6717801349192261.\n"
     ]
    },
    {
     "name": "stderr",
     "output_type": "stream",
     "text": [
      "[I 2025-03-02 21:34:33,244] Trial 483 finished with value: 0.6611278773891947 and parameters: {'learning_rate': 0.045535903192458656, 'max_depth': 4, 'min_child_weight': 5.455861046778216, 'colsample_bytree': 0.3312127551050477, 'subsample': 0.8163690676416223}. Best is trial 211 with value: 0.6717801349192261.\n"
     ]
    },
    {
     "name": "stderr",
     "output_type": "stream",
     "text": [
      "[I 2025-03-02 21:34:33,448] Trial 484 finished with value: 0.6683575951239719 and parameters: {'learning_rate': 0.05061723509948235, 'max_depth': 4, 'min_child_weight': 5.824891308633639, 'colsample_bytree': 0.3575881534543978, 'subsample': 0.5133109856318121}. Best is trial 211 with value: 0.6717801349192261.\n"
     ]
    },
    {
     "name": "stderr",
     "output_type": "stream",
     "text": [
      "[I 2025-03-02 21:34:33,650] Trial 485 finished with value: 0.6705160068643115 and parameters: {'learning_rate': 0.035479199647795945, 'max_depth': 4, 'min_child_weight': 5.777491993849806, 'colsample_bytree': 0.3339515882841986, 'subsample': 0.5272653292224649}. Best is trial 211 with value: 0.6717801349192261.\n"
     ]
    },
    {
     "name": "stderr",
     "output_type": "stream",
     "text": [
      "[I 2025-03-02 21:34:33,860] Trial 486 finished with value: 0.669216373749926 and parameters: {'learning_rate': 0.04316515060506715, 'max_depth': 4, 'min_child_weight': 5.125175187872597, 'colsample_bytree': 0.3007256050617767, 'subsample': 0.5094705897153361}. Best is trial 211 with value: 0.6717801349192261.\n"
     ]
    },
    {
     "name": "stderr",
     "output_type": "stream",
     "text": [
      "[I 2025-03-02 21:34:34,047] Trial 487 finished with value: 0.665928457305166 and parameters: {'learning_rate': 0.06837531036146514, 'max_depth': 3, 'min_child_weight': 4.890510105819124, 'colsample_bytree': 0.34420071539668434, 'subsample': 0.519865791093792}. Best is trial 211 with value: 0.6717801349192261.\n"
     ]
    },
    {
     "name": "stderr",
     "output_type": "stream",
     "text": [
      "[I 2025-03-02 21:34:34,248] Trial 488 finished with value: 0.6702438014083674 and parameters: {'learning_rate': 0.056184450919493374, 'max_depth': 4, 'min_child_weight': 5.517217915550738, 'colsample_bytree': 0.32548578045195065, 'subsample': 0.5093484219269572}. Best is trial 211 with value: 0.6717801349192261.\n"
     ]
    },
    {
     "name": "stderr",
     "output_type": "stream",
     "text": [
      "[I 2025-03-02 21:34:34,493] Trial 489 finished with value: 0.6567770282265222 and parameters: {'learning_rate': 0.06343320958410688, 'max_depth': 6, 'min_child_weight': 1.8036089869868053, 'colsample_bytree': 0.35847914749049975, 'subsample': 0.6081156255668902}. Best is trial 211 with value: 0.6717801349192261.\n"
     ]
    },
    {
     "name": "stderr",
     "output_type": "stream",
     "text": [
      "[I 2025-03-02 21:34:34,695] Trial 490 finished with value: 0.666654831646843 and parameters: {'learning_rate': 0.04917877221824427, 'max_depth': 4, 'min_child_weight': 1.3465928359473884, 'colsample_bytree': 0.38714548486583383, 'subsample': 0.5333162832531066}. Best is trial 211 with value: 0.6717801349192261.\n"
     ]
    },
    {
     "name": "stderr",
     "output_type": "stream",
     "text": [
      "[I 2025-03-02 21:34:34,991] Trial 491 finished with value: 0.6621974673057577 and parameters: {'learning_rate': 0.0421083384577517, 'max_depth': 4, 'min_child_weight': 1.7268125491082966, 'colsample_bytree': 0.552630492451124, 'subsample': 0.517657370710429}. Best is trial 211 with value: 0.6717801349192261.\n"
     ]
    },
    {
     "name": "stderr",
     "output_type": "stream",
     "text": [
      "[I 2025-03-02 21:34:35,202] Trial 492 finished with value: 0.6653796082608439 and parameters: {'learning_rate': 0.054001986732144326, 'max_depth': 4, 'min_child_weight': 4.514648142282634, 'colsample_bytree': 0.3688104698980099, 'subsample': 0.5079292773587005}. Best is trial 211 with value: 0.6717801349192261.\n"
     ]
    },
    {
     "name": "stderr",
     "output_type": "stream",
     "text": [
      "[I 2025-03-02 21:34:35,410] Trial 493 finished with value: 0.6627699863897272 and parameters: {'learning_rate': 0.08387906643882552, 'max_depth': 4, 'min_child_weight': 1.4756820104346378, 'colsample_bytree': 0.3412396530535043, 'subsample': 0.5011071767203524}. Best is trial 211 with value: 0.6717801349192261.\n"
     ]
    },
    {
     "name": "stderr",
     "output_type": "stream",
     "text": [
      "[I 2025-03-02 21:34:35,604] Trial 494 finished with value: 0.6679589028936623 and parameters: {'learning_rate': 0.03224925051302831, 'max_depth': 3, 'min_child_weight': 4.765592452602574, 'colsample_bytree': 0.3245436815197887, 'subsample': 0.5000779651437678}. Best is trial 211 with value: 0.6717801349192261.\n"
     ]
    },
    {
     "name": "stderr",
     "output_type": "stream",
     "text": [
      "[I 2025-03-02 21:34:35,805] Trial 495 finished with value: 0.666000946801586 and parameters: {'learning_rate': 0.057957863846040646, 'max_depth': 4, 'min_child_weight': 2.017052378930929, 'colsample_bytree': 0.34951371632454903, 'subsample': 0.5257939132913491}. Best is trial 211 with value: 0.6717801349192261.\n"
     ]
    },
    {
     "name": "stderr",
     "output_type": "stream",
     "text": [
      "[I 2025-03-02 21:34:36,050] Trial 496 finished with value: 0.6560462157524114 and parameters: {'learning_rate': 0.04732920606812025, 'max_depth': 5, 'min_child_weight': 1.1174685934376782, 'colsample_bytree': 0.8251880769947966, 'subsample': 0.5154560280709723}. Best is trial 211 with value: 0.6717801349192261.\n"
     ]
    },
    {
     "name": "stderr",
     "output_type": "stream",
     "text": [
      "[I 2025-03-02 21:34:36,248] Trial 497 finished with value: 0.6674536954849399 and parameters: {'learning_rate': 0.04014423080203333, 'max_depth': 4, 'min_child_weight': 5.200450767429146, 'colsample_bytree': 0.31763272762529504, 'subsample': 0.5365740870617197}. Best is trial 211 with value: 0.6717801349192261.\n"
     ]
    },
    {
     "name": "stderr",
     "output_type": "stream",
     "text": [
      "[I 2025-03-02 21:34:36,454] Trial 498 finished with value: 0.668070595893248 and parameters: {'learning_rate': 0.06116142437713573, 'max_depth': 4, 'min_child_weight': 3.53577004941694, 'colsample_bytree': 0.3296648987964839, 'subsample': 0.5587825297744844}. Best is trial 211 with value: 0.6717801349192261.\n"
     ]
    },
    {
     "name": "stderr",
     "output_type": "stream",
     "text": [
      "[I 2025-03-02 21:34:36,652] Trial 499 finished with value: 0.6622706964909166 and parameters: {'learning_rate': 0.04762510467900472, 'max_depth': 4, 'min_child_weight': 1.8070429286608627, 'colsample_bytree': 0.3395571376519171, 'subsample': 0.6350685536023494}. Best is trial 211 with value: 0.6717801349192261.\n"
     ]
    },
    {
     "name": "stderr",
     "output_type": "stream",
     "text": [
      "[I 2025-03-02 21:34:36,859] Trial 500 finished with value: 0.6643307296289721 and parameters: {'learning_rate': 0.053175348041247, 'max_depth': 4, 'min_child_weight': 1.0087245118029124, 'colsample_bytree': 0.37176990847188923, 'subsample': 0.7641959424631213}. Best is trial 211 with value: 0.6717801349192261.\n"
     ]
    },
    {
     "name": "stderr",
     "output_type": "stream",
     "text": [
      "[I 2025-03-02 21:34:37,043] Trial 501 finished with value: 0.6678057873246936 and parameters: {'learning_rate': 0.0752841205927888, 'max_depth': 3, 'min_child_weight': 5.674784434718625, 'colsample_bytree': 0.3108021529148132, 'subsample': 0.5226653575867469}. Best is trial 211 with value: 0.6717801349192261.\n"
     ]
    },
    {
     "name": "stderr",
     "output_type": "stream",
     "text": [
      "[I 2025-03-02 21:34:37,243] Trial 502 finished with value: 0.6709627788626544 and parameters: {'learning_rate': 0.03711148057451704, 'max_depth': 4, 'min_child_weight': 3.8860727457370072, 'colsample_bytree': 0.3522153781666567, 'subsample': 0.500127261389757}. Best is trial 211 with value: 0.6717801349192261.\n"
     ]
    },
    {
     "name": "stderr",
     "output_type": "stream",
     "text": [
      "[I 2025-03-02 21:34:37,514] Trial 503 finished with value: 0.6655349428960293 and parameters: {'learning_rate': 0.024215118203467202, 'max_depth': 7, 'min_child_weight': 3.6714722741363905, 'colsample_bytree': 0.33246523145048923, 'subsample': 0.500729781595899}. Best is trial 211 with value: 0.6717801349192261.\n"
     ]
    },
    {
     "name": "stderr",
     "output_type": "stream",
     "text": [
      "[I 2025-03-02 21:34:37,738] Trial 504 finished with value: 0.6613667968518848 and parameters: {'learning_rate': 0.03006672091973767, 'max_depth': 5, 'min_child_weight': 4.155332396715941, 'colsample_bytree': 0.4552569500158248, 'subsample': 0.500175531588128}. Best is trial 211 with value: 0.6717801349192261.\n"
     ]
    },
    {
     "name": "stderr",
     "output_type": "stream",
     "text": [
      "[I 2025-03-02 21:34:37,944] Trial 505 finished with value: 0.6682688324752944 and parameters: {'learning_rate': 0.036519441657250844, 'max_depth': 4, 'min_child_weight': 3.8607755398809793, 'colsample_bytree': 0.35908391127422157, 'subsample': 0.5139138574369775}. Best is trial 211 with value: 0.6717801349192261.\n"
     ]
    },
    {
     "name": "stderr",
     "output_type": "stream",
     "text": [
      "[I 2025-03-02 21:34:38,142] Trial 506 finished with value: 0.6675069530741464 and parameters: {'learning_rate': 0.03665833429838108, 'max_depth': 4, 'min_child_weight': 3.9382988680652806, 'colsample_bytree': 0.31281282031309715, 'subsample': 0.5093876357702966}. Best is trial 211 with value: 0.6717801349192261.\n"
     ]
    },
    {
     "name": "stderr",
     "output_type": "stream",
     "text": [
      "[I 2025-03-02 21:34:38,498] Trial 507 finished with value: 0.6612299544351737 and parameters: {'learning_rate': 0.018755299994426038, 'max_depth': 10, 'min_child_weight': 4.0628551971116345, 'colsample_bytree': 0.3400498296987968, 'subsample': 0.51841972037078}. Best is trial 211 with value: 0.6717801349192261.\n"
     ]
    },
    {
     "name": "stderr",
     "output_type": "stream",
     "text": [
      "[I 2025-03-02 21:34:38,701] Trial 508 finished with value: 0.6669995265992071 and parameters: {'learning_rate': 0.032238792388582904, 'max_depth': 4, 'min_child_weight': 3.932201942588018, 'colsample_bytree': 0.39550499213792956, 'subsample': 0.508841806373356}. Best is trial 211 with value: 0.6717801349192261.\n"
     ]
    },
    {
     "name": "stderr",
     "output_type": "stream",
     "text": [
      "[I 2025-03-02 21:34:38,897] Trial 509 finished with value: 0.6685255044677201 and parameters: {'learning_rate': 0.038828218137133885, 'max_depth': 3, 'min_child_weight': 4.221801254901095, 'colsample_bytree': 0.32270758005330497, 'subsample': 0.5001200163602665}. Best is trial 211 with value: 0.6717801349192261.\n"
     ]
    },
    {
     "name": "stderr",
     "output_type": "stream",
     "text": [
      "[I 2025-03-02 21:34:39,093] Trial 510 finished with value: 0.6333673590153265 and parameters: {'learning_rate': 0.2666617758867953, 'max_depth': 4, 'min_child_weight': 4.236045275852832, 'colsample_bytree': 0.3012373377262557, 'subsample': 0.5289232070807937}. Best is trial 211 with value: 0.6717801349192261.\n"
     ]
    },
    {
     "name": "stderr",
     "output_type": "stream",
     "text": [
      "[I 2025-03-02 21:34:39,299] Trial 511 finished with value: 0.6671459849695247 and parameters: {'learning_rate': 0.02610938612994787, 'max_depth': 4, 'min_child_weight': 2.0003153656963257, 'colsample_bytree': 0.35093209862917796, 'subsample': 0.5178622969946525}. Best is trial 211 with value: 0.6717801349192261.\n"
     ]
    },
    {
     "name": "stderr",
     "output_type": "stream",
     "text": [
      "[I 2025-03-02 21:34:39,503] Trial 512 finished with value: 0.6649683413219718 and parameters: {'learning_rate': 0.043409863104232234, 'max_depth': 4, 'min_child_weight': 5.028076315053893, 'colsample_bytree': 0.37505725370471166, 'subsample': 0.5107264169976093}. Best is trial 211 with value: 0.6717801349192261.\n"
     ]
    },
    {
     "name": "stderr",
     "output_type": "stream",
     "text": [
      "[I 2025-03-02 21:34:39,704] Trial 513 finished with value: 0.6691150363926859 and parameters: {'learning_rate': 0.042705836325681625, 'max_depth': 4, 'min_child_weight': 3.7991297633584833, 'colsample_bytree': 0.3297798357410967, 'subsample': 0.5000551402901777}. Best is trial 211 with value: 0.6717801349192261.\n"
     ]
    },
    {
     "name": "stderr",
     "output_type": "stream",
     "text": [
      "[I 2025-03-02 21:34:39,912] Trial 514 finished with value: 0.6686401562222617 and parameters: {'learning_rate': 0.04811052687802267, 'max_depth': 4, 'min_child_weight': 4.415919226207515, 'colsample_bytree': 0.3634115548189827, 'subsample': 0.5257130490520517}. Best is trial 211 with value: 0.6717801349192261.\n"
     ]
    },
    {
     "name": "stderr",
     "output_type": "stream",
     "text": [
      "[I 2025-03-02 21:34:40,098] Trial 515 finished with value: 0.6649306171962838 and parameters: {'learning_rate': 0.03575901054487782, 'max_depth': 3, 'min_child_weight': 4.631778846030993, 'colsample_bytree': 0.3426991769988445, 'subsample': 0.5461753808385933}. Best is trial 211 with value: 0.6717801349192261.\n"
     ]
    },
    {
     "name": "stderr",
     "output_type": "stream",
     "text": [
      "[I 2025-03-02 21:34:40,301] Trial 516 finished with value: 0.6697452511982958 and parameters: {'learning_rate': 0.04303565188278104, 'max_depth': 4, 'min_child_weight': 6.070635438602485, 'colsample_bytree': 0.31903679968086845, 'subsample': 0.5154662534452684}. Best is trial 211 with value: 0.6717801349192261.\n"
     ]
    },
    {
     "name": "stderr",
     "output_type": "stream",
     "text": [
      "[I 2025-03-02 21:34:40,507] Trial 517 finished with value: 0.665895171311912 and parameters: {'learning_rate': 0.05155019029223305, 'max_depth': 4, 'min_child_weight': 1.7171659430066946, 'colsample_bytree': 0.3519261975273759, 'subsample': 0.5362648344111838}. Best is trial 211 with value: 0.6717801349192261.\n"
     ]
    },
    {
     "name": "stderr",
     "output_type": "stream",
     "text": [
      "[I 2025-03-02 21:34:40,714] Trial 518 finished with value: 0.6691890052665839 and parameters: {'learning_rate': 0.03234165211083148, 'max_depth': 4, 'min_child_weight': 1.89847935889125, 'colsample_bytree': 0.3308731183287212, 'subsample': 0.5106663495880748}. Best is trial 211 with value: 0.6717801349192261.\n"
     ]
    },
    {
     "name": "stderr",
     "output_type": "stream",
     "text": [
      "[I 2025-03-02 21:34:40,946] Trial 519 finished with value: 0.6705855376057754 and parameters: {'learning_rate': 0.039346045846992354, 'max_depth': 5, 'min_child_weight': 2.188569613296213, 'colsample_bytree': 0.31252498461458644, 'subsample': 0.5218523385094743}. Best is trial 211 with value: 0.6717801349192261.\n"
     ]
    },
    {
     "name": "stderr",
     "output_type": "stream",
     "text": [
      "[I 2025-03-02 21:34:41,147] Trial 520 finished with value: 0.6695780815432866 and parameters: {'learning_rate': 0.04724131933312026, 'max_depth': 4, 'min_child_weight': 1.5839545981095442, 'colsample_bytree': 0.3407297893972632, 'subsample': 0.507049530215776}. Best is trial 211 with value: 0.6717801349192261.\n"
     ]
    },
    {
     "name": "stderr",
     "output_type": "stream",
     "text": [
      "[I 2025-03-02 21:34:41,358] Trial 521 finished with value: 0.6622936268418249 and parameters: {'learning_rate': 0.05528647888873423, 'max_depth': 4, 'min_child_weight': 4.379222473319678, 'colsample_bytree': 0.36632275361840805, 'subsample': 0.5257886188035714}. Best is trial 211 with value: 0.6717801349192261.\n"
     ]
    },
    {
     "name": "stderr",
     "output_type": "stream",
     "text": [
      "[I 2025-03-02 21:34:41,564] Trial 522 finished with value: 0.6699849103497248 and parameters: {'learning_rate': 0.046947274163227574, 'max_depth': 4, 'min_child_weight': 4.038699727216223, 'colsample_bytree': 0.33412412593590296, 'subsample': 0.5157459822317176}. Best is trial 211 with value: 0.6717801349192261.\n"
     ]
    },
    {
     "name": "stderr",
     "output_type": "stream",
     "text": [
      "[I 2025-03-02 21:34:41,750] Trial 523 finished with value: 0.6687836558376234 and parameters: {'learning_rate': 0.03938519542168533, 'max_depth': 3, 'min_child_weight': 5.364754342835684, 'colsample_bytree': 0.350933185234525, 'subsample': 0.5000164525244631}. Best is trial 211 with value: 0.6717801349192261.\n"
     ]
    },
    {
     "name": "stderr",
     "output_type": "stream",
     "text": [
      "[I 2025-03-02 21:34:41,958] Trial 524 finished with value: 0.6685854192555774 and parameters: {'learning_rate': 0.028076095776212173, 'max_depth': 4, 'min_child_weight': 3.3827023951881183, 'colsample_bytree': 0.3246028637933475, 'subsample': 0.5092138292860566}. Best is trial 211 with value: 0.6717801349192261.\n"
     ]
    },
    {
     "name": "stderr",
     "output_type": "stream",
     "text": [
      "[I 2025-03-02 21:34:42,161] Trial 525 finished with value: 0.6625207112846914 and parameters: {'learning_rate': 0.05179881248482737, 'max_depth': 4, 'min_child_weight': 1.7642885799261852, 'colsample_bytree': 0.3782482894878629, 'subsample': 0.5299517719074861}. Best is trial 211 with value: 0.6717801349192261.\n"
     ]
    },
    {
     "name": "stderr",
     "output_type": "stream",
     "text": [
      "[I 2025-03-02 21:34:42,373] Trial 526 finished with value: 0.6662228534232795 and parameters: {'learning_rate': 0.05932300252424498, 'max_depth': 4, 'min_child_weight': 6.9042732652996355, 'colsample_bytree': 0.31999031178899656, 'subsample': 0.5183706815409336}. Best is trial 211 with value: 0.6717801349192261.\n"
     ]
    },
    {
     "name": "stderr",
     "output_type": "stream",
     "text": [
      "[I 2025-03-02 21:34:42,577] Trial 527 finished with value: 0.6694944967157821 and parameters: {'learning_rate': 0.04417177453023032, 'max_depth': 4, 'min_child_weight': 1.531864449923769, 'colsample_bytree': 0.3014377791884827, 'subsample': 0.5085650441244653}. Best is trial 211 with value: 0.6717801349192261.\n"
     ]
    },
    {
     "name": "stderr",
     "output_type": "stream",
     "text": [
      "[I 2025-03-02 21:34:42,767] Trial 528 finished with value: 0.667177051896562 and parameters: {'learning_rate': 0.052004522690435366, 'max_depth': 3, 'min_child_weight': 1.9528993802298698, 'colsample_bytree': 0.3564593710615853, 'subsample': 0.5210111794612293}. Best is trial 211 with value: 0.6717801349192261.\n"
     ]
    },
    {
     "name": "stderr",
     "output_type": "stream",
     "text": [
      "[I 2025-03-02 21:34:42,977] Trial 529 finished with value: 0.6611900112432688 and parameters: {'learning_rate': 0.13572126254195938, 'max_depth': 4, 'min_child_weight': 2.0864908484627835, 'colsample_bytree': 0.3432022902378489, 'subsample': 0.5074967975845535}. Best is trial 211 with value: 0.6717801349192261.\n"
     ]
    },
    {
     "name": "stderr",
     "output_type": "stream",
     "text": [
      "[I 2025-03-02 21:34:43,182] Trial 530 finished with value: 0.668283626250074 and parameters: {'learning_rate': 0.03414831489632709, 'max_depth': 4, 'min_child_weight': 3.6521232671431623, 'colsample_bytree': 0.33246044731950186, 'subsample': 0.5382481872985534}. Best is trial 211 with value: 0.6717801349192261.\n"
     ]
    },
    {
     "name": "stderr",
     "output_type": "stream",
     "text": [
      "[I 2025-03-02 21:34:43,394] Trial 531 finished with value: 0.6655556541807207 and parameters: {'learning_rate': 0.05701323410861567, 'max_depth': 4, 'min_child_weight': 4.724672262400759, 'colsample_bytree': 0.3143042979831488, 'subsample': 0.5162878406192016}. Best is trial 211 with value: 0.6717801349192261.\n"
     ]
    },
    {
     "name": "stderr",
     "output_type": "stream",
     "text": [
      "[I 2025-03-02 21:34:43,602] Trial 532 finished with value: 0.6662849872773536 and parameters: {'learning_rate': 0.010862396165748994, 'max_depth': 4, 'min_child_weight': 1.6616098474921204, 'colsample_bytree': 0.362679522144299, 'subsample': 0.5006531428343798}. Best is trial 211 with value: 0.6717801349192261.\n"
     ]
    },
    {
     "name": "stderr",
     "output_type": "stream",
     "text": [
      "[I 2025-03-02 21:34:43,807] Trial 533 finished with value: 0.6482262264039292 and parameters: {'learning_rate': 0.1656736245465365, 'max_depth': 4, 'min_child_weight': 1.4831090944518166, 'colsample_bytree': 0.34353824971595187, 'subsample': 0.5298723608203746}. Best is trial 211 with value: 0.6717801349192261.\n"
     ]
    },
    {
     "name": "stderr",
     "output_type": "stream",
     "text": [
      "[I 2025-03-02 21:34:44,017] Trial 534 finished with value: 0.6710663352861116 and parameters: {'learning_rate': 0.04459371299822651, 'max_depth': 4, 'min_child_weight': 2.3172662622047633, 'colsample_bytree': 0.3237532519367781, 'subsample': 0.5098425293230977}. Best is trial 211 with value: 0.6717801349192261.\n"
     ]
    },
    {
     "name": "stderr",
     "output_type": "stream",
     "text": [
      "[I 2025-03-02 21:34:44,205] Trial 535 finished with value: 0.6668826557784484 and parameters: {'learning_rate': 0.03976388614403768, 'max_depth': 3, 'min_child_weight': 2.8905085599860136, 'colsample_bytree': 0.31231851213635614, 'subsample': 0.5002431557302062}. Best is trial 211 with value: 0.6717801349192261.\n"
     ]
    },
    {
     "name": "stderr",
     "output_type": "stream",
     "text": [
      "[I 2025-03-02 21:34:44,414] Trial 536 finished with value: 0.6696209834901473 and parameters: {'learning_rate': 0.044176208626054196, 'max_depth': 4, 'min_child_weight': 2.460251786758009, 'colsample_bytree': 0.3233227160200321, 'subsample': 0.5109725630248821}. Best is trial 211 with value: 0.6717801349192261.\n"
     ]
    },
    {
     "name": "stderr",
     "output_type": "stream",
     "text": [
      "[I 2025-03-02 21:34:44,622] Trial 537 finished with value: 0.6675254452926209 and parameters: {'learning_rate': 0.029586982452934247, 'max_depth': 4, 'min_child_weight': 4.970507180627542, 'colsample_bytree': 0.3086480763009227, 'subsample': 0.5100130208178555}. Best is trial 211 with value: 0.6717801349192261.\n"
     ]
    },
    {
     "name": "stderr",
     "output_type": "stream",
     "text": [
      "[I 2025-03-02 21:34:44,833] Trial 538 finished with value: 0.6684027161370496 and parameters: {'learning_rate': 0.03600648540318145, 'max_depth': 4, 'min_child_weight': 1.8056634633098434, 'colsample_bytree': 0.3293220545279468, 'subsample': 0.5219560427699579}. Best is trial 211 with value: 0.6717801349192261.\n"
     ]
    },
    {
     "name": "stderr",
     "output_type": "stream",
     "text": [
      "[I 2025-03-02 21:34:45,080] Trial 539 finished with value: 0.6557754896739453 and parameters: {'learning_rate': 0.047793889922599184, 'max_depth': 5, 'min_child_weight': 2.261244021697106, 'colsample_bytree': 0.9477808267096335, 'subsample': 0.500065553171898}. Best is trial 211 with value: 0.6717801349192261.\n"
     ]
    },
    {
     "name": "stderr",
     "output_type": "stream",
     "text": [
      "[I 2025-03-02 21:34:45,295] Trial 540 finished with value: 0.6660482868808806 and parameters: {'learning_rate': 0.0212051375959293, 'max_depth': 4, 'min_child_weight': 1.3286734350414593, 'colsample_bytree': 0.32173010139941133, 'subsample': 0.5150562038230471}. Best is trial 211 with value: 0.6717801349192261.\n"
     ]
    },
    {
     "name": "stderr",
     "output_type": "stream",
     "text": [
      "[I 2025-03-02 21:34:45,491] Trial 541 finished with value: 0.6671445055920469 and parameters: {'learning_rate': 0.0400366297860574, 'max_depth': 3, 'min_child_weight': 5.12606174185141, 'colsample_bytree': 0.3001129892230043, 'subsample': 0.5248589486413192}. Best is trial 211 with value: 0.6717801349192261.\n"
     ]
    },
    {
     "name": "stderr",
     "output_type": "stream",
     "text": [
      "[I 2025-03-02 21:34:45,697] Trial 542 finished with value: 0.6513270015977276 and parameters: {'learning_rate': 0.18435440934358133, 'max_depth': 4, 'min_child_weight': 1.6290244508132452, 'colsample_bytree': 0.3553720620473548, 'subsample': 0.5001053377993189}. Best is trial 211 with value: 0.6717801349192261.\n"
     ]
    },
    {
     "name": "stderr",
     "output_type": "stream",
     "text": [
      "[I 2025-03-02 21:34:45,911] Trial 543 finished with value: 0.6705988520030771 and parameters: {'learning_rate': 0.04595837176181233, 'max_depth': 4, 'min_child_weight': 5.543187398321162, 'colsample_bytree': 0.3367167488793322, 'subsample': 0.5100753982274241}. Best is trial 211 with value: 0.6717801349192261.\n"
     ]
    },
    {
     "name": "stderr",
     "output_type": "stream",
     "text": [
      "[I 2025-03-02 21:34:46,124] Trial 544 finished with value: 0.6697304574235161 and parameters: {'learning_rate': 0.032341691685519376, 'max_depth': 4, 'min_child_weight': 4.318974325715182, 'colsample_bytree': 0.3492360826623224, 'subsample': 0.5310899175056203}. Best is trial 211 with value: 0.6717801349192261.\n"
     ]
    },
    {
     "name": "stderr",
     "output_type": "stream",
     "text": [
      "[I 2025-03-02 21:34:46,344] Trial 545 finished with value: 0.6678161429670393 and parameters: {'learning_rate': 0.05078186930312105, 'max_depth': 4, 'min_child_weight': 4.582191750358707, 'colsample_bytree': 0.3231179465964734, 'subsample': 0.5158615798515488}. Best is trial 211 with value: 0.6717801349192261.\n"
     ]
    },
    {
     "name": "stderr",
     "output_type": "stream",
     "text": [
      "[I 2025-03-02 21:34:46,558] Trial 546 finished with value: 0.6636235871945085 and parameters: {'learning_rate': 0.11102569243541627, 'max_depth': 4, 'min_child_weight': 1.883261716829467, 'colsample_bytree': 0.37462382014930073, 'subsample': 0.5073780581682246}. Best is trial 211 with value: 0.6717801349192261.\n"
     ]
    },
    {
     "name": "stderr",
     "output_type": "stream",
     "text": [
      "[I 2025-03-02 21:34:46,770] Trial 547 finished with value: 0.6662820285223978 and parameters: {'learning_rate': 0.04302592963112446, 'max_depth': 4, 'min_child_weight': 1.3966622455316886, 'colsample_bytree': 0.33280758170407476, 'subsample': 0.5222228072986324}. Best is trial 211 with value: 0.6717801349192261.\n"
     ]
    },
    {
     "name": "stderr",
     "output_type": "stream",
     "text": [
      "[I 2025-03-02 21:34:46,973] Trial 548 finished with value: 0.6659328954375999 and parameters: {'learning_rate': 0.02604574059595531, 'max_depth': 3, 'min_child_weight': 7.467677698037539, 'colsample_bytree': 0.31412971742872564, 'subsample': 0.5501850709327153}. Best is trial 211 with value: 0.6717801349192261.\n"
     ]
    },
    {
     "name": "stderr",
     "output_type": "stream",
     "text": [
      "[I 2025-03-02 21:34:47,185] Trial 549 finished with value: 0.6689278951417243 and parameters: {'learning_rate': 0.06049776181122591, 'max_depth': 4, 'min_child_weight': 1.5821283850911452, 'colsample_bytree': 0.34422315786547203, 'subsample': 0.5001757494992529}. Best is trial 211 with value: 0.6717801349192261.\n"
     ]
    },
    {
     "name": "stderr",
     "output_type": "stream",
     "text": [
      "[I 2025-03-02 21:34:47,395] Trial 550 finished with value: 0.661670808923605 and parameters: {'learning_rate': 0.05171501307422468, 'max_depth': 4, 'min_child_weight': 4.101513370991267, 'colsample_bytree': 0.38623714238080065, 'subsample': 0.6770759832182616}. Best is trial 211 with value: 0.6717801349192261.\n"
     ]
    },
    {
     "name": "stderr",
     "output_type": "stream",
     "text": [
      "[I 2025-03-02 21:34:47,675] Trial 551 finished with value: 0.6611722587135335 and parameters: {'learning_rate': 0.038334030913412545, 'max_depth': 7, 'min_child_weight': 2.0706340957565814, 'colsample_bytree': 0.36377661537272793, 'subsample': 0.5103185918497164}. Best is trial 211 with value: 0.6717801349192261.\n"
     ]
    },
    {
     "name": "stderr",
     "output_type": "stream",
     "text": [
      "[I 2025-03-02 21:34:47,882] Trial 552 finished with value: 0.6677791585300905 and parameters: {'learning_rate': 0.04663684026316293, 'max_depth': 4, 'min_child_weight': 3.2445959291285686, 'colsample_bytree': 0.32869280486113334, 'subsample': 0.5370512812637354}. Best is trial 211 with value: 0.6717801349192261.\n"
     ]
    },
    {
     "name": "stderr",
     "output_type": "stream",
     "text": [
      "[I 2025-03-02 21:34:48,074] Trial 553 finished with value: 0.668075773714421 and parameters: {'learning_rate': 0.05527228854873202, 'max_depth': 3, 'min_child_weight': 1.779248132054604, 'colsample_bytree': 0.31204545119558874, 'subsample': 0.5177782265129761}. Best is trial 211 with value: 0.6717801349192261.\n"
     ]
    },
    {
     "name": "stderr",
     "output_type": "stream",
     "text": [
      "[I 2025-03-02 21:34:48,284] Trial 554 finished with value: 0.6718681578791644 and parameters: {'learning_rate': 0.03508036555585627, 'max_depth': 4, 'min_child_weight': 4.8072392867885245, 'colsample_bytree': 0.35141439012601045, 'subsample': 0.5254275895728818}. Best is trial 554 with value: 0.6718681578791644.\n"
     ]
    },
    {
     "name": "stderr",
     "output_type": "stream",
     "text": [
      "[I 2025-03-02 21:34:48,517] Trial 555 finished with value: 0.6637241848630095 and parameters: {'learning_rate': 0.02262251965067518, 'max_depth': 5, 'min_child_weight': 4.754491517780811, 'colsample_bytree': 0.3687777671497677, 'subsample': 0.5309548938891817}. Best is trial 554 with value: 0.6718681578791644.\n"
     ]
    },
    {
     "name": "stderr",
     "output_type": "stream",
     "text": [
      "[I 2025-03-02 21:34:48,724] Trial 556 finished with value: 0.663503017930055 and parameters: {'learning_rate': 0.035326576718592725, 'max_depth': 4, 'min_child_weight': 4.860216836159211, 'colsample_bytree': 0.3928940425885229, 'subsample': 0.5476684188137378}. Best is trial 554 with value: 0.6718681578791644.\n"
     ]
    },
    {
     "name": "stderr",
     "output_type": "stream",
     "text": [
      "[I 2025-03-02 21:34:48,937] Trial 557 finished with value: 0.6688753772412569 and parameters: {'learning_rate': 0.03505879382869271, 'max_depth': 4, 'min_child_weight': 4.56042167135099, 'colsample_bytree': 0.36134216721487517, 'subsample': 0.537062735451022}. Best is trial 554 with value: 0.6718681578791644.\n"
     ]
    },
    {
     "name": "stderr",
     "output_type": "stream",
     "text": [
      "[I 2025-03-02 21:34:49,151] Trial 558 finished with value: 0.6698628617077934 and parameters: {'learning_rate': 0.029436189106238034, 'max_depth': 4, 'min_child_weight': 4.922947312410407, 'colsample_bytree': 0.3502423573495641, 'subsample': 0.5250044459330316}. Best is trial 554 with value: 0.6718681578791644.\n"
     ]
    },
    {
     "name": "stderr",
     "output_type": "stream",
     "text": [
      "[I 2025-03-02 21:34:49,372] Trial 559 finished with value: 0.6670764542280608 and parameters: {'learning_rate': 0.039223270077787954, 'max_depth': 4, 'min_child_weight': 4.836240682374177, 'colsample_bytree': 0.37869577871977017, 'subsample': 0.5228538622204623}. Best is trial 554 with value: 0.6718681578791644.\n"
     ]
    },
    {
     "name": "stderr",
     "output_type": "stream",
     "text": [
      "[I 2025-03-02 21:34:49,590] Trial 560 finished with value: 0.6668656429374519 and parameters: {'learning_rate': 0.02802686953229232, 'max_depth': 3, 'min_child_weight': 5.179295754189019, 'colsample_bytree': 0.35041464396191635, 'subsample': 0.5090918412577037}. Best is trial 554 with value: 0.6718681578791644.\n"
     ]
    },
    {
     "name": "stderr",
     "output_type": "stream",
     "text": [
      "[I 2025-03-02 21:34:49,813] Trial 561 finished with value: 0.6699301733830404 and parameters: {'learning_rate': 0.04199888553528665, 'max_depth': 4, 'min_child_weight': 4.634941824086816, 'colsample_bytree': 0.338156052817627, 'subsample': 0.5417334284836465}. Best is trial 554 with value: 0.6718681578791644.\n"
     ]
    },
    {
     "name": "stderr",
     "output_type": "stream",
     "text": [
      "[I 2025-03-02 21:34:50,129] Trial 562 finished with value: 0.6589938753772413 and parameters: {'learning_rate': 0.03681522680777628, 'max_depth': 9, 'min_child_weight': 5.024306425985457, 'colsample_bytree': 0.300966864904103, 'subsample': 0.5170440423582227}. Best is trial 554 with value: 0.6718681578791644.\n"
     ]
    },
    {
     "name": "stderr",
     "output_type": "stream",
     "text": [
      "[I 2025-03-02 21:34:50,354] Trial 563 finished with value: 0.6604222143322089 and parameters: {'learning_rate': 0.04522918936002927, 'max_depth': 4, 'min_child_weight': 4.524112264231841, 'colsample_bytree': 0.7385623703736606, 'subsample': 0.500051451115898}. Best is trial 554 with value: 0.6718681578791644.\n"
     ]
    },
    {
     "name": "stderr",
     "output_type": "stream",
     "text": [
      "[I 2025-03-02 21:34:50,564] Trial 564 finished with value: 0.6693961181134978 and parameters: {'learning_rate': 0.03263015195095047, 'max_depth': 4, 'min_child_weight': 4.432619773523191, 'colsample_bytree': 0.361314288856256, 'subsample': 0.5296132020741943}. Best is trial 554 with value: 0.6718681578791644.\n"
     ]
    },
    {
     "name": "stderr",
     "output_type": "stream",
     "text": [
      "[I 2025-03-02 21:34:50,778] Trial 565 finished with value: 0.6689138410556839 and parameters: {'learning_rate': 0.04068324314581644, 'max_depth': 4, 'min_child_weight': 4.7947010357868844, 'colsample_bytree': 0.3443963975122343, 'subsample': 0.5177602971614369}. Best is trial 554 with value: 0.6718681578791644.\n"
     ]
    },
    {
     "name": "stderr",
     "output_type": "stream",
     "text": [
      "[I 2025-03-02 21:34:50,995] Trial 566 finished with value: 0.665859666252441 and parameters: {'learning_rate': 0.015374649742081612, 'max_depth': 4, 'min_child_weight': 1.4314265519881757, 'colsample_bytree': 0.3243169864390622, 'subsample': 0.5088418239167806}. Best is trial 554 with value: 0.6718681578791644.\n"
     ]
    },
    {
     "name": "stderr",
     "output_type": "stream",
     "text": [
      "[I 2025-03-02 21:34:51,197] Trial 567 finished with value: 0.6655083141014262 and parameters: {'learning_rate': 0.024199741038655284, 'max_depth': 3, 'min_child_weight': 2.298946875945714, 'colsample_bytree': 0.355859874439539, 'subsample': 0.5222146297618458}. Best is trial 554 with value: 0.6718681578791644.\n"
     ]
    },
    {
     "name": "stderr",
     "output_type": "stream",
     "text": [
      "[I 2025-03-02 21:34:51,415] Trial 568 finished with value: 0.6680558021184686 and parameters: {'learning_rate': 0.06286574859571568, 'max_depth': 4, 'min_child_weight': 1.8924967843615588, 'colsample_bytree': 0.33622569868879965, 'subsample': 0.5102045038505142}. Best is trial 554 with value: 0.6718681578791644.\n"
     ]
    },
    {
     "name": "stderr",
     "output_type": "stream",
     "text": [
      "[I 2025-03-02 21:34:51,626] Trial 569 finished with value: 0.6681297709923664 and parameters: {'learning_rate': 0.04878784721527823, 'max_depth': 4, 'min_child_weight': 5.00722876239628, 'colsample_bytree': 0.31846918919981476, 'subsample': 0.5325299088079363}. Best is trial 554 with value: 0.6718681578791644.\n"
     ]
    },
    {
     "name": "stderr",
     "output_type": "stream",
     "text": [
      "[I 2025-03-02 21:34:51,837] Trial 570 finished with value: 0.6641221374045801 and parameters: {'learning_rate': 0.0561742359517972, 'max_depth': 4, 'min_child_weight': 4.27031051265453, 'colsample_bytree': 0.37380798337888715, 'subsample': 0.5000726314233084}. Best is trial 554 with value: 0.6718681578791644.\n"
     ]
    },
    {
     "name": "stderr",
     "output_type": "stream",
     "text": [
      "[I 2025-03-02 21:34:52,053] Trial 571 finished with value: 0.6626871412509616 and parameters: {'learning_rate': 0.04357137048069625, 'max_depth': 4, 'min_child_weight': 1.6710112994188302, 'colsample_bytree': 0.4376248161305568, 'subsample': 0.8727265437099331}. Best is trial 554 with value: 0.6718681578791644.\n"
     ]
    },
    {
     "name": "stderr",
     "output_type": "stream",
     "text": [
      "[I 2025-03-02 21:34:52,267] Trial 572 finished with value: 0.6690943251079945 and parameters: {'learning_rate': 0.031037671819688473, 'max_depth': 4, 'min_child_weight': 4.687538771896697, 'colsample_bytree': 0.3452853456915199, 'subsample': 0.5160048475962808}. Best is trial 554 with value: 0.6718681578791644.\n"
     ]
    },
    {
     "name": "stderr",
     "output_type": "stream",
     "text": [
      "[I 2025-03-02 21:34:52,522] Trial 573 finished with value: 0.6643307296289722 and parameters: {'learning_rate': 0.05055699305333333, 'max_depth': 6, 'min_child_weight': 1.5049073888293532, 'colsample_bytree': 0.32801350628377085, 'subsample': 0.5086080242265079}. Best is trial 554 with value: 0.6718681578791644.\n"
     ]
    },
    {
     "name": "stderr",
     "output_type": "stream",
     "text": [
      "[I 2025-03-02 21:34:52,763] Trial 574 finished with value: 0.6670387301023729 and parameters: {'learning_rate': 0.037491897341967735, 'max_depth': 3, 'min_child_weight': 1.9972543711088064, 'colsample_bytree': 0.3114361335609647, 'subsample': 0.5240298782524969}. Best is trial 554 with value: 0.6718681578791644.\n"
     ]
    },
    {
     "name": "stderr",
     "output_type": "stream",
     "text": [
      "[I 2025-03-02 21:34:52,983] Trial 575 finished with value: 0.6279306467838335 and parameters: {'learning_rate': 0.25754046846734596, 'max_depth': 4, 'min_child_weight': 1.332243401405192, 'colsample_bytree': 0.3571822808480426, 'subsample': 0.5088558443810575}. Best is trial 554 with value: 0.6718681578791644.\n"
     ]
    },
    {
     "name": "stderr",
     "output_type": "stream",
     "text": [
      "[I 2025-03-02 21:34:53,190] Trial 576 finished with value: 0.6629179241375229 and parameters: {'learning_rate': 0.05761708023212929, 'max_depth': 4, 'min_child_weight': 5.223723385665448, 'colsample_bytree': 0.4019164039947439, 'subsample': 0.5164057298114892}. Best is trial 554 with value: 0.6718681578791644.\n"
     ]
    },
    {
     "name": "stderr",
     "output_type": "stream",
     "text": [
      "[I 2025-03-02 21:34:53,404] Trial 577 finished with value: 0.6651118409373336 and parameters: {'learning_rate': 0.04658422497690293, 'max_depth': 4, 'min_child_weight': 1.6644187594558955, 'colsample_bytree': 0.33778603877471597, 'subsample': 0.5301843328096972}. Best is trial 554 with value: 0.6718681578791644.\n"
     ]
    },
    {
     "name": "stderr",
     "output_type": "stream",
     "text": [
      "[I 2025-03-02 21:34:53,632] Trial 578 finished with value: 0.6613897272027931 and parameters: {'learning_rate': 0.04244645871621067, 'max_depth': 5, 'min_child_weight': 1.742065120781481, 'colsample_bytree': 0.4179819797555956, 'subsample': 0.50008631333234}. Best is trial 554 with value: 0.6718681578791644.\n"
     ]
    },
    {
     "name": "stderr",
     "output_type": "stream",
     "text": [
      "[I 2025-03-02 21:34:53,848] Trial 579 finished with value: 0.6677288596958401 and parameters: {'learning_rate': 0.06336455169990339, 'max_depth': 4, 'min_child_weight': 2.265237883880658, 'colsample_bytree': 0.3211465391038114, 'subsample': 0.5002219846226388}. Best is trial 554 with value: 0.6718681578791644.\n"
     ]
    },
    {
     "name": "stderr",
     "output_type": "stream",
     "text": [
      "[I 2025-03-02 21:34:54,060] Trial 580 finished with value: 0.6613616190307119 and parameters: {'learning_rate': 0.05355797036651744, 'max_depth': 4, 'min_child_weight': 1.8969215198343827, 'colsample_bytree': 0.3822726356694382, 'subsample': 0.518724844769555}. Best is trial 554 with value: 0.6718681578791644.\n"
     ]
    },
    {
     "name": "stderr",
     "output_type": "stream",
     "text": [
      "[I 2025-03-02 21:34:54,257] Trial 581 finished with value: 0.6658071483519735 and parameters: {'learning_rate': 0.04870601844334468, 'max_depth': 3, 'min_child_weight': 1.5200349772895727, 'colsample_bytree': 0.5312012029502908, 'subsample': 0.5415549356088013}. Best is trial 554 with value: 0.6718681578791644.\n"
     ]
    },
    {
     "name": "stderr",
     "output_type": "stream",
     "text": [
      "[I 2025-03-02 21:34:54,466] Trial 582 finished with value: 0.6687836558376236 and parameters: {'learning_rate': 0.03500074717618553, 'max_depth': 4, 'min_child_weight': 2.70996479318027, 'colsample_bytree': 0.3491547212771243, 'subsample': 0.5108893955806455}. Best is trial 554 with value: 0.6718681578791644.\n"
     ]
    },
    {
     "name": "stderr",
     "output_type": "stream",
     "text": [
      "[I 2025-03-02 21:34:54,680] Trial 583 finished with value: 0.6650926090301201 and parameters: {'learning_rate': 0.043007437101155066, 'max_depth': 4, 'min_child_weight': 4.327269425534069, 'colsample_bytree': 0.3688809636655719, 'subsample': 0.5577673076276068}. Best is trial 554 with value: 0.6718681578791644.\n"
     ]
    },
    {
     "name": "stderr",
     "output_type": "stream",
     "text": [
      "[I 2025-03-02 21:34:54,890] Trial 584 finished with value: 0.6676800402390674 and parameters: {'learning_rate': 0.05297869563671153, 'max_depth': 4, 'min_child_weight': 2.1481427603814205, 'colsample_bytree': 0.3354020418345463, 'subsample': 0.5253730059534039}. Best is trial 554 with value: 0.6718681578791644.\n"
     ]
    },
    {
     "name": "stderr",
     "output_type": "stream",
     "text": [
      "[I 2025-03-02 21:34:55,137] Trial 585 finished with value: 0.6667968518847269 and parameters: {'learning_rate': 0.026681331583746366, 'max_depth': 4, 'min_child_weight': 1.3849383382390734, 'colsample_bytree': 0.3115719861878324, 'subsample': 0.5097443691796673}. Best is trial 554 with value: 0.6718681578791644.\n"
     ]
    },
    {
     "name": "stderr",
     "output_type": "stream",
     "text": [
      "[I 2025-03-02 21:34:55,370] Trial 586 finished with value: 0.6603571217231788 and parameters: {'learning_rate': 0.05819443876324421, 'max_depth': 4, 'min_child_weight': 1.8060857897736564, 'colsample_bytree': 0.8676314694812222, 'subsample': 0.5001788125513834}. Best is trial 554 with value: 0.6718681578791644.\n"
     ]
    },
    {
     "name": "stderr",
     "output_type": "stream",
     "text": [
      "[I 2025-03-02 21:34:55,561] Trial 587 finished with value: 0.663951269305876 and parameters: {'learning_rate': 0.06555081395323932, 'max_depth': 3, 'min_child_weight': 3.7434562736614927, 'colsample_bytree': 0.3002902103211298, 'subsample': 0.744308174978619}. Best is trial 554 with value: 0.6718681578791644.\n"
     ]
    },
    {
     "name": "stderr",
     "output_type": "stream",
     "text": [
      "[I 2025-03-02 21:34:55,777] Trial 588 finished with value: 0.6637670868098704 and parameters: {'learning_rate': 0.03266038728216192, 'max_depth': 4, 'min_child_weight': 2.457281834212237, 'colsample_bytree': 0.6425010045130243, 'subsample': 0.5191400666720282}. Best is trial 554 with value: 0.6718681578791644.\n"
     ]
    },
    {
     "name": "stderr",
     "output_type": "stream",
     "text": [
      "[I 2025-03-02 21:34:55,989] Trial 589 finished with value: 0.6313383928043079 and parameters: {'learning_rate': 0.29401815088802397, 'max_depth': 4, 'min_child_weight': 4.016529980945807, 'colsample_bytree': 0.3269373857228686, 'subsample': 0.5322242516473029}. Best is trial 554 with value: 0.6718681578791644.\n"
     ]
    },
    {
     "name": "stderr",
     "output_type": "stream",
     "text": [
      "[I 2025-03-02 21:34:56,197] Trial 590 finished with value: 0.6706743002544528 and parameters: {'learning_rate': 0.039021158902833884, 'max_depth': 4, 'min_child_weight': 4.93867263184515, 'colsample_bytree': 0.36028163169305716, 'subsample': 0.5098119710635722}. Best is trial 554 with value: 0.6718681578791644.\n"
     ]
    },
    {
     "name": "stderr",
     "output_type": "stream",
     "text": [
      "[I 2025-03-02 21:34:56,416] Trial 591 finished with value: 0.6666267234747618 and parameters: {'learning_rate': 0.01911373692116797, 'max_depth': 4, 'min_child_weight': 1.2198673374372901, 'colsample_bytree': 0.34388258649745457, 'subsample': 0.500024141497486}. Best is trial 554 with value: 0.6718681578791644.\n"
     ]
    },
    {
     "name": "stderr",
     "output_type": "stream",
     "text": [
      "[I 2025-03-02 21:34:56,642] Trial 592 finished with value: 0.6648381561039115 and parameters: {'learning_rate': 0.04761071027870952, 'max_depth': 5, 'min_child_weight': 1.5926719720623976, 'colsample_bytree': 0.3202396637174809, 'subsample': 0.5180829277255367}. Best is trial 554 with value: 0.6718681578791644.\n"
     ]
    },
    {
     "name": "stderr",
     "output_type": "stream",
     "text": [
      "[I 2025-03-02 21:34:56,836] Trial 593 finished with value: 0.6678420320729037 and parameters: {'learning_rate': 0.05402402496556208, 'max_depth': 3, 'min_child_weight': 4.660854112874598, 'colsample_bytree': 0.33744441079194676, 'subsample': 0.5248894250828348}. Best is trial 554 with value: 0.6718681578791644.\n"
     ]
    },
    {
     "name": "stderr",
     "output_type": "stream",
     "text": [
      "[I 2025-03-02 21:34:57,053] Trial 594 finished with value: 0.6679581632049234 and parameters: {'learning_rate': 0.04084655297104774, 'max_depth': 4, 'min_child_weight': 1.8844782295018814, 'colsample_bytree': 0.35437860077019273, 'subsample': 0.5111660187537943}. Best is trial 554 with value: 0.6718681578791644.\n"
     ]
    },
    {
     "name": "stderr",
     "output_type": "stream",
     "text": [
      "[I 2025-03-02 21:34:57,253] Trial 595 finished with value: 0.6537087993372389 and parameters: {'learning_rate': 0.2016662713241375, 'max_depth': 4, 'min_child_weight': 2.1013014914558092, 'colsample_bytree': 0.3678520547717526, 'subsample': 0.972730307052305}. Best is trial 554 with value: 0.6718681578791644.\n"
     ]
    },
    {
     "name": "stderr",
     "output_type": "stream",
     "text": [
      "[I 2025-03-02 21:34:57,476] Trial 596 finished with value: 0.6685439966861944 and parameters: {'learning_rate': 0.04740019116222337, 'max_depth': 4, 'min_child_weight': 5.085859408010351, 'colsample_bytree': 0.3263374665467053, 'subsample': 0.5369740524117739}. Best is trial 554 with value: 0.6718681578791644.\n"
     ]
    },
    {
     "name": "stderr",
     "output_type": "stream",
     "text": [
      "[I 2025-03-02 21:34:57,681] Trial 597 finished with value: 0.666480265104444 and parameters: {'learning_rate': 0.06874258462596668, 'max_depth': 4, 'min_child_weight': 4.473447657360148, 'colsample_bytree': 0.3105119462607278, 'subsample': 0.5786100887222517}. Best is trial 554 with value: 0.6718681578791644.\n"
     ]
    },
    {
     "name": "stderr",
     "output_type": "stream",
     "text": [
      "[I 2025-03-02 21:34:57,890] Trial 598 finished with value: 0.6695973134505 and parameters: {'learning_rate': 0.060343065259652426, 'max_depth': 4, 'min_child_weight': 1.5284351132441703, 'colsample_bytree': 0.34694793954715025, 'subsample': 0.5087171286758481}. Best is trial 554 with value: 0.6718681578791644.\n"
     ]
    },
    {
     "name": "stderr",
     "output_type": "stream",
     "text": [
      "[I 2025-03-02 21:34:58,121] Trial 599 finished with value: 0.6687555476655422 and parameters: {'learning_rate': 0.03407824089143734, 'max_depth': 4, 'min_child_weight': 1.3323311182935145, 'colsample_bytree': 0.30035749809750756, 'subsample': 0.5194910650588226}. Best is trial 554 with value: 0.6718681578791644.\n"
     ]
    },
    {
     "name": "stderr",
     "output_type": "stream",
     "text": [
      "[I 2025-03-02 21:34:58,325] Trial 600 finished with value: 0.6689389904728091 and parameters: {'learning_rate': 0.04338456694926621, 'max_depth': 3, 'min_child_weight': 1.6983786084257892, 'colsample_bytree': 0.33542441154594327, 'subsample': 0.5098680539238472}. Best is trial 554 with value: 0.6718681578791644.\n"
     ]
    },
    {
     "name": "stderr",
     "output_type": "stream",
     "text": [
      "[I 2025-03-02 21:34:58,542] Trial 601 finished with value: 0.6615554174803243 and parameters: {'learning_rate': 0.05110894570202344, 'max_depth': 4, 'min_child_weight': 5.28559246210107, 'colsample_bytree': 0.3878311600691339, 'subsample': 0.8581009344899494}. Best is trial 554 with value: 0.6718681578791644.\n"
     ]
    },
    {
     "name": "stderr",
     "output_type": "stream",
     "text": [
      "[I 2025-03-02 21:34:58,751] Trial 602 finished with value: 0.664196106278478 and parameters: {'learning_rate': 0.05623479328863124, 'max_depth': 4, 'min_child_weight': 4.814730105254792, 'colsample_bytree': 0.3525423744037209, 'subsample': 0.5260997298163517}. Best is trial 554 with value: 0.6718681578791644.\n"
     ]
    },
    {
     "name": "stderr",
     "output_type": "stream",
     "text": [
      "[I 2025-03-02 21:34:59,071] Trial 603 finished with value: 0.6614193147523522 and parameters: {'learning_rate': 0.038027229399910316, 'max_depth': 8, 'min_child_weight': 2.034297966804121, 'colsample_bytree': 0.32007209652382596, 'subsample': 0.5084150071808539}. Best is trial 554 with value: 0.6718681578791644.\n"
     ]
    },
    {
     "name": "stderr",
     "output_type": "stream",
     "text": [
      "[I 2025-03-02 21:34:59,286] Trial 604 finished with value: 0.6678967690395882 and parameters: {'learning_rate': 0.04613098554787462, 'max_depth': 4, 'min_child_weight': 3.8887733782096703, 'colsample_bytree': 0.33654754141217424, 'subsample': 0.5425642117723148}. Best is trial 554 with value: 0.6718681578791644.\n"
     ]
    },
    {
     "name": "stderr",
     "output_type": "stream",
     "text": [
      "[I 2025-03-02 21:34:59,500] Trial 605 finished with value: 0.6656029942600155 and parameters: {'learning_rate': 0.02810159050124768, 'max_depth': 4, 'min_child_weight': 1.746605252696889, 'colsample_bytree': 0.3711635189586766, 'subsample': 0.5174521618276158}. Best is trial 554 with value: 0.6718681578791644.\n"
     ]
    },
    {
     "name": "stderr",
     "output_type": "stream",
     "text": [
      "[I 2025-03-02 21:34:59,728] Trial 606 finished with value: 0.6615702112551038 and parameters: {'learning_rate': 0.06077431417208743, 'max_depth': 5, 'min_child_weight': 1.4661575055235623, 'colsample_bytree': 0.3265037754687937, 'subsample': 0.5287892228942214}. Best is trial 554 with value: 0.6718681578791644.\n"
     ]
    },
    {
     "name": "stderr",
     "output_type": "stream",
     "text": [
      "[I 2025-03-02 21:34:59,936] Trial 607 finished with value: 0.6706950115391443 and parameters: {'learning_rate': 0.05151777888564089, 'max_depth': 4, 'min_child_weight': 1.9501872302549192, 'colsample_bytree': 0.3493949511851301, 'subsample': 0.5086155359083887}. Best is trial 554 with value: 0.6718681578791644.\n"
     ]
    },
    {
     "name": "stderr",
     "output_type": "stream",
     "text": [
      "[I 2025-03-02 21:35:00,165] Trial 608 finished with value: 0.6706417539499379 and parameters: {'learning_rate': 0.04369062980714808, 'max_depth': 4, 'min_child_weight': 2.056599664621785, 'colsample_bytree': 0.361098430902962, 'subsample': 0.5082767124041752}. Best is trial 554 with value: 0.6718681578791644.\n"
     ]
    },
    {
     "name": "stderr",
     "output_type": "stream",
     "text": [
      "[I 2025-03-02 21:35:00,388] Trial 609 finished with value: 0.6681800698266169 and parameters: {'learning_rate': 0.05251835384196064, 'max_depth': 4, 'min_child_weight': 2.3601657861645777, 'colsample_bytree': 0.379561025568233, 'subsample': 0.5003819174084871}. Best is trial 554 with value: 0.6718681578791644.\n"
     ]
    },
    {
     "name": "stderr",
     "output_type": "stream",
     "text": [
      "[I 2025-03-02 21:35:00,586] Trial 610 finished with value: 0.6669514468311735 and parameters: {'learning_rate': 0.03766383804886545, 'max_depth': 3, 'min_child_weight': 2.2494016600936915, 'colsample_bytree': 0.35198727295817495, 'subsample': 0.5200582007927774}. Best is trial 554 with value: 0.6718681578791644.\n"
     ]
    },
    {
     "name": "stderr",
     "output_type": "stream",
     "text": [
      "[I 2025-03-02 21:35:00,807] Trial 611 finished with value: 0.6608793419728978 and parameters: {'learning_rate': 0.047876154620538916, 'max_depth': 4, 'min_child_weight': 1.944312198003082, 'colsample_bytree': 0.5664162337636893, 'subsample': 0.516360673810729}. Best is trial 554 with value: 0.6718681578791644.\n"
     ]
    },
    {
     "name": "stderr",
     "output_type": "stream",
     "text": [
      "[I 2025-03-02 21:35:01,024] Trial 612 finished with value: 0.664715367773241 and parameters: {'learning_rate': 0.04245880454298441, 'max_depth': 4, 'min_child_weight': 4.182917168793752, 'colsample_bytree': 0.3642695317357191, 'subsample': 0.5336061864783788}. Best is trial 554 with value: 0.6718681578791644.\n"
     ]
    },
    {
     "name": "stderr",
     "output_type": "stream",
     "text": [
      "[I 2025-03-02 21:35:01,239] Trial 613 finished with value: 0.670498254334576 and parameters: {'learning_rate': 0.05010705359811764, 'max_depth': 4, 'min_child_weight': 2.1827930198462973, 'colsample_bytree': 0.3489636309476046, 'subsample': 0.5081160443654019}. Best is trial 554 with value: 0.6718681578791644.\n"
     ]
    },
    {
     "name": "stderr",
     "output_type": "stream",
     "text": [
      "[I 2025-03-02 21:35:01,461] Trial 614 finished with value: 0.6436963725664241 and parameters: {'learning_rate': 0.14688013282470452, 'max_depth': 4, 'min_child_weight': 1.9258895091674486, 'colsample_bytree': 0.47408228595437185, 'subsample': 0.5007195614274564}. Best is trial 554 with value: 0.6718681578791644.\n"
     ]
    },
    {
     "name": "stderr",
     "output_type": "stream",
     "text": [
      "[I 2025-03-02 21:35:01,661] Trial 615 finished with value: 0.6673227705781407 and parameters: {'learning_rate': 0.031084260577981623, 'max_depth': 3, 'min_child_weight': 4.472183663565725, 'colsample_bytree': 0.34263965182335226, 'subsample': 0.5000178596348884}. Best is trial 554 with value: 0.6718681578791644.\n"
     ]
    },
    {
     "name": "stderr",
     "output_type": "stream",
     "text": [
      "[I 2025-03-02 21:35:01,876] Trial 616 finished with value: 0.6642464051127286 and parameters: {'learning_rate': 0.05696798256638787, 'max_depth': 4, 'min_child_weight': 1.7528984758098312, 'colsample_bytree': 0.3706869157847579, 'subsample': 0.5240949789363459}. Best is trial 554 with value: 0.6718681578791644.\n"
     ]
    },
    {
     "name": "stderr",
     "output_type": "stream",
     "text": [
      "[I 2025-03-02 21:35:02,104] Trial 617 finished with value: 0.6677118468548435 and parameters: {'learning_rate': 0.024464210722700774, 'max_depth': 4, 'min_child_weight': 2.4715662422308617, 'colsample_bytree': 0.3576550679323721, 'subsample': 0.5152308727291104}. Best is trial 554 with value: 0.6718681578791644.\n"
     ]
    },
    {
     "name": "stderr",
     "output_type": "stream",
     "text": [
      "[I 2025-03-02 21:35:02,345] Trial 618 finished with value: 0.6693443399017693 and parameters: {'learning_rate': 0.0359961026282635, 'max_depth': 5, 'min_child_weight': 5.054620283988728, 'colsample_bytree': 0.3386430394253957, 'subsample': 0.5152211031123901}. Best is trial 554 with value: 0.6718681578791644.\n"
     ]
    },
    {
     "name": "stderr",
     "output_type": "stream",
     "text": [
      "[I 2025-03-02 21:35:02,562] Trial 619 finished with value: 0.6680262145689093 and parameters: {'learning_rate': 0.04398763851437526, 'max_depth': 4, 'min_child_weight': 3.4244490631906306, 'colsample_bytree': 0.3430065159531079, 'subsample': 0.5262299144539135}. Best is trial 554 with value: 0.6718681578791644.\n"
     ]
    },
    {
     "name": "stderr",
     "output_type": "stream",
     "text": [
      "[I 2025-03-02 21:35:02,776] Trial 620 finished with value: 0.6632951653944021 and parameters: {'learning_rate': 0.06483572280141371, 'max_depth': 4, 'min_child_weight': 4.777311655573485, 'colsample_bytree': 0.3857123827777811, 'subsample': 0.5092654229384503}. Best is trial 554 with value: 0.6718681578791644.\n"
     ]
    },
    {
     "name": "stderr",
     "output_type": "stream",
     "text": [
      "[I 2025-03-02 21:35:02,969] Trial 621 finished with value: 0.6621922894845849 and parameters: {'learning_rate': 0.04917750351422899, 'max_depth': 3, 'min_child_weight': 1.8783725962848101, 'colsample_bytree': 0.32755172635918467, 'subsample': 0.9384210197836427}. Best is trial 554 with value: 0.6718681578791644.\n"
     ]
    },
    {
     "name": "stderr",
     "output_type": "stream",
     "text": [
      "[I 2025-03-02 21:35:03,204] Trial 622 finished with value: 0.667174093141606 and parameters: {'learning_rate': 0.054818986302490685, 'max_depth': 4, 'min_child_weight': 1.596565737209469, 'colsample_bytree': 0.35966083871359916, 'subsample': 0.5351058432042195}. Best is trial 554 with value: 0.6718681578791644.\n"
     ]
    },
    {
     "name": "stderr",
     "output_type": "stream",
     "text": [
      "[I 2025-03-02 21:35:03,424] Trial 623 finished with value: 0.6680720752707261 and parameters: {'learning_rate': 0.03966641060129317, 'max_depth': 4, 'min_child_weight': 2.071380143007316, 'colsample_bytree': 0.31304602030256057, 'subsample': 0.5079783445390644}. Best is trial 554 with value: 0.6718681578791644.\n"
     ]
    },
    {
     "name": "stderr",
     "output_type": "stream",
     "text": [
      "[I 2025-03-02 21:35:03,637] Trial 624 finished with value: 0.6680898278004614 and parameters: {'learning_rate': 0.034074775986707787, 'max_depth': 4, 'min_child_weight': 4.6610008728007815, 'colsample_bytree': 0.33711304882312537, 'subsample': 0.5175104425659465}. Best is trial 554 with value: 0.6718681578791644.\n"
     ]
    },
    {
     "name": "stderr",
     "output_type": "stream",
     "text": [
      "[I 2025-03-02 21:35:03,851] Trial 625 finished with value: 0.6637330611278774 and parameters: {'learning_rate': 0.04834546185028085, 'max_depth': 4, 'min_child_weight': 1.3045439567861208, 'colsample_bytree': 0.3971400260997103, 'subsample': 0.5252135639574947}. Best is trial 554 with value: 0.6718681578791644.\n"
     ]
    },
    {
     "name": "stderr",
     "output_type": "stream",
     "text": [
      "[I 2025-03-02 21:35:04,069] Trial 626 finished with value: 0.6668708207586247 and parameters: {'learning_rate': 0.05909325532379456, 'max_depth': 4, 'min_child_weight': 4.367291059417366, 'colsample_bytree': 0.37240232898303993, 'subsample': 0.548765626572441}. Best is trial 554 with value: 0.6718681578791644.\n"
     ]
    },
    {
     "name": "stderr",
     "output_type": "stream",
     "text": [
      "[I 2025-03-02 21:35:04,279] Trial 627 finished with value: 0.6315181371678797 and parameters: {'learning_rate': 0.2765875739595958, 'max_depth': 4, 'min_child_weight': 4.1540857291641, 'colsample_bytree': 0.3505196828893518, 'subsample': 0.5005943712681105}. Best is trial 554 with value: 0.6718681578791644.\n"
     ]
    },
    {
     "name": "stderr",
     "output_type": "stream",
     "text": [
      "[I 2025-03-02 21:35:04,478] Trial 628 finished with value: 0.6643943428605243 and parameters: {'learning_rate': 0.10066505616925453, 'max_depth': 3, 'min_child_weight': 2.651330728021625, 'colsample_bytree': 0.3221142508351993, 'subsample': 0.5161319481866654}. Best is trial 554 with value: 0.6718681578791644.\n"
     ]
    },
    {
     "name": "stderr",
     "output_type": "stream",
     "text": [
      "[I 2025-03-02 21:35:04,692] Trial 629 finished with value: 0.6692555772530919 and parameters: {'learning_rate': 0.04094110795612834, 'max_depth': 4, 'min_child_weight': 1.7105306115602115, 'colsample_bytree': 0.3303357732284138, 'subsample': 0.5073719917338635}. Best is trial 554 with value: 0.6718681578791644.\n"
     ]
    },
    {
     "name": "stderr",
     "output_type": "stream",
     "text": [
      "[I 2025-03-02 21:35:04,909] Trial 630 finished with value: 0.6647331203029765 and parameters: {'learning_rate': 0.073714476165764, 'max_depth': 4, 'min_child_weight': 5.272006938800967, 'colsample_bytree': 0.3492876212331265, 'subsample': 0.5003520358218143}. Best is trial 554 with value: 0.6718681578791644.\n"
     ]
    },
    {
     "name": "stderr",
     "output_type": "stream",
     "text": [
      "[I 2025-03-02 21:35:05,135] Trial 631 finished with value: 0.6705071305994438 and parameters: {'learning_rate': 0.05289679710009192, 'max_depth': 4, 'min_child_weight': 2.230266190764583, 'colsample_bytree': 0.3120871479837662, 'subsample': 0.5275116994256703}. Best is trial 554 with value: 0.6718681578791644.\n"
     ]
    },
    {
     "name": "stderr",
     "output_type": "stream",
     "text": [
      "[I 2025-03-02 21:35:05,358] Trial 632 finished with value: 0.6673908219421267 and parameters: {'learning_rate': 0.030563889659306995, 'max_depth': 4, 'min_child_weight': 1.4859433159200366, 'colsample_bytree': 0.33435988892824803, 'subsample': 0.517546047227155}. Best is trial 554 with value: 0.6718681578791644.\n"
     ]
    },
    {
     "name": "stderr",
     "output_type": "stream",
     "text": [
      "[I 2025-03-02 21:35:05,555] Trial 633 finished with value: 0.665716166637079 and parameters: {'learning_rate': 0.045843372379876, 'max_depth': 3, 'min_child_weight': 1.920773752415354, 'colsample_bytree': 0.3600487929635642, 'subsample': 0.5376649609364891}. Best is trial 554 with value: 0.6718681578791644.\n"
     ]
    },
    {
     "name": "stderr",
     "output_type": "stream",
     "text": [
      "[I 2025-03-02 21:35:05,768] Trial 634 finished with value: 0.669182348067933 and parameters: {'learning_rate': 0.05295877768801648, 'max_depth': 4, 'min_child_weight': 3.8687003259541766, 'colsample_bytree': 0.3477746767323475, 'subsample': 0.5000141903195022}. Best is trial 554 with value: 0.6718681578791644.\n"
     ]
    },
    {
     "name": "stderr",
     "output_type": "stream",
     "text": [
      "[I 2025-03-02 21:35:05,981] Trial 635 finished with value: 0.6649165631102432 and parameters: {'learning_rate': 0.06171518353520369, 'max_depth': 4, 'min_child_weight': 1.174061593439694, 'colsample_bytree': 0.37690982601338363, 'subsample': 0.5106680773529618}. Best is trial 554 with value: 0.6718681578791644.\n"
     ]
    },
    {
     "name": "stderr",
     "output_type": "stream",
     "text": [
      "[I 2025-03-02 21:35:06,228] Trial 636 finished with value: 0.6599458547843067 and parameters: {'learning_rate': 0.12420768738446983, 'max_depth': 4, 'min_child_weight': 3.588347401016719, 'colsample_bytree': 0.3131564874330055, 'subsample': 0.5214781182598198}. Best is trial 554 with value: 0.6718681578791644.\n"
     ]
    },
    {
     "name": "stderr",
     "output_type": "stream",
     "text": [
      "[I 2025-03-02 21:35:06,451] Trial 637 finished with value: 0.670739392863483 and parameters: {'learning_rate': 0.039194222053325324, 'max_depth': 4, 'min_child_weight': 1.6218468866536602, 'colsample_bytree': 0.3320169413972498, 'subsample': 0.5089869184278586}. Best is trial 554 with value: 0.6718681578791644.\n"
     ]
    },
    {
     "name": "stderr",
     "output_type": "stream",
     "text": [
      "[I 2025-03-02 21:35:06,664] Trial 638 finished with value: 0.6694464169477485 and parameters: {'learning_rate': 0.02318720763778004, 'max_depth': 4, 'min_child_weight': 1.3590570862084626, 'colsample_bytree': 0.3265560637420827, 'subsample': 0.5308185192756113}. Best is trial 554 with value: 0.6718681578791644.\n"
     ]
    },
    {
     "name": "stderr",
     "output_type": "stream",
     "text": [
      "[I 2025-03-02 21:35:06,885] Trial 639 finished with value: 0.6678871530859813 and parameters: {'learning_rate': 0.0326518762835271, 'max_depth': 4, 'min_child_weight': 1.5411090257502575, 'colsample_bytree': 0.3126260452411491, 'subsample': 0.5000431259016889}. Best is trial 554 with value: 0.6718681578791644.\n"
     ]
    },
    {
     "name": "stderr",
     "output_type": "stream",
     "text": [
      "[I 2025-03-02 21:35:07,104] Trial 640 finished with value: 0.668694893188946 and parameters: {'learning_rate': 0.03730737528202852, 'max_depth': 4, 'min_child_weight': 1.2130449917466286, 'colsample_bytree': 0.3316770665586821, 'subsample': 0.5158154256104953}. Best is trial 554 with value: 0.6718681578791644.\n"
     ]
    },
    {
     "name": "stderr",
     "output_type": "stream",
     "text": [
      "[I 2025-03-02 21:35:07,301] Trial 641 finished with value: 0.6630629031303628 and parameters: {'learning_rate': 0.0394939339475043, 'max_depth': 3, 'min_child_weight': 1.0054795162284371, 'colsample_bytree': 0.30224853914138744, 'subsample': 0.9187917535368925}. Best is trial 554 with value: 0.6718681578791644.\n"
     ]
    },
    {
     "name": "stderr",
     "output_type": "stream",
     "text": [
      "[I 2025-03-02 21:35:07,553] Trial 642 finished with value: 0.6640644416829398 and parameters: {'learning_rate': 0.028925875668464877, 'max_depth': 6, 'min_child_weight': 4.935694929881924, 'colsample_bytree': 0.32338105722796384, 'subsample': 0.5230377710080482}. Best is trial 554 with value: 0.6718681578791644.\n"
     ]
    },
    {
     "name": "stderr",
     "output_type": "stream",
     "text": [
      "[I 2025-03-02 21:35:07,793] Trial 643 finished with value: 0.6680484052310787 and parameters: {'learning_rate': 0.01988536837259479, 'max_depth': 5, 'min_child_weight': 1.6332086197572873, 'colsample_bytree': 0.338572343690979, 'subsample': 0.5113669603396734}. Best is trial 554 with value: 0.6718681578791644.\n"
     ]
    },
    {
     "name": "stderr",
     "output_type": "stream",
     "text": [
      "[I 2025-03-02 21:35:08,015] Trial 644 finished with value: 0.6570854784306764 and parameters: {'learning_rate': 0.04282687966603911, 'max_depth': 4, 'min_child_weight': 1.4077114738075727, 'colsample_bytree': 0.8440705145093748, 'subsample': 0.5438481937027315}. Best is trial 554 with value: 0.6718681578791644.\n"
     ]
    },
    {
     "name": "stderr",
     "output_type": "stream",
     "text": [
      "[I 2025-03-02 21:35:08,233] Trial 645 finished with value: 0.6709657376176106 and parameters: {'learning_rate': 0.034707947039548354, 'max_depth': 4, 'min_child_weight': 1.691203941282428, 'colsample_bytree': 0.32420870719873207, 'subsample': 0.5122441059018297}. Best is trial 554 with value: 0.6718681578791644.\n"
     ]
    },
    {
     "name": "stderr",
     "output_type": "stream",
     "text": [
      "[I 2025-03-02 21:35:08,447] Trial 646 finished with value: 0.669253358186875 and parameters: {'learning_rate': 0.026873886097135608, 'max_depth': 4, 'min_child_weight': 1.580526527163154, 'colsample_bytree': 0.3008925273360478, 'subsample': 0.5317026871475464}. Best is trial 554 with value: 0.6718681578791644.\n"
     ]
    },
    {
     "name": "stderr",
     "output_type": "stream",
     "text": [
      "[I 2025-03-02 21:35:08,643] Trial 647 finished with value: 0.6663611752174685 and parameters: {'learning_rate': 0.033090390153612675, 'max_depth': 3, 'min_child_weight': 1.4289539309411357, 'colsample_bytree': 0.31725911399679, 'subsample': 0.5168014617902004}. Best is trial 554 with value: 0.6718681578791644.\n"
     ]
    },
    {
     "name": "stderr",
     "output_type": "stream",
     "text": [
      "[I 2025-03-02 21:35:08,859] Trial 648 finished with value: 0.6651118409373336 and parameters: {'learning_rate': 0.017469154929181604, 'max_depth': 4, 'min_child_weight': 1.7423076261783543, 'colsample_bytree': 0.3000152497873509, 'subsample': 0.7961599233825252}. Best is trial 554 with value: 0.6718681578791644.\n"
     ]
    },
    {
     "name": "stderr",
     "output_type": "stream",
     "text": [
      "[I 2025-03-02 21:35:09,079] Trial 649 finished with value: 0.6653796082608439 and parameters: {'learning_rate': 0.02914455160141721, 'max_depth': 4, 'min_child_weight': 1.619471170123934, 'colsample_bytree': 0.31891399403072285, 'subsample': 0.5973417104756976}. Best is trial 554 with value: 0.6718681578791644.\n"
     ]
    },
    {
     "name": "stderr",
     "output_type": "stream",
     "text": [
      "[I 2025-03-02 21:35:09,295] Trial 650 finished with value: 0.670979052014912 and parameters: {'learning_rate': 0.035370558149075554, 'max_depth': 4, 'min_child_weight': 1.2585340920580095, 'colsample_bytree': 0.33105631346398656, 'subsample': 0.5092266799964998}. Best is trial 554 with value: 0.6718681578791644.\n"
     ]
    },
    {
     "name": "stderr",
     "output_type": "stream",
     "text": [
      "[I 2025-03-02 21:35:09,510] Trial 651 finished with value: 0.666034972483579 and parameters: {'learning_rate': 0.03339568210921112, 'max_depth': 4, 'min_child_weight': 1.1773664467795832, 'colsample_bytree': 0.3346465810493581, 'subsample': 0.6695407066231093}. Best is trial 554 with value: 0.6718681578791644.\n"
     ]
    },
    {
     "name": "stderr",
     "output_type": "stream",
     "text": [
      "[I 2025-03-02 21:35:09,725] Trial 652 finished with value: 0.6690617788034795 and parameters: {'learning_rate': 0.022827668649696466, 'max_depth': 4, 'min_child_weight': 1.16612232595347, 'colsample_bytree': 0.3340002335199911, 'subsample': 0.5228550646395667}. Best is trial 554 with value: 0.6718681578791644.\n"
     ]
    },
    {
     "name": "stderr",
     "output_type": "stream",
     "text": [
      "[I 2025-03-02 21:35:09,937] Trial 653 finished with value: 0.6677140659210604 and parameters: {'learning_rate': 0.025564933652385595, 'max_depth': 4, 'min_child_weight': 1.4022340032498088, 'colsample_bytree': 0.32385802896993404, 'subsample': 0.5000616559951188}. Best is trial 554 with value: 0.6718681578791644.\n"
     ]
    },
    {
     "name": "stderr",
     "output_type": "stream",
     "text": [
      "[I 2025-03-02 21:35:10,149] Trial 654 finished with value: 0.6677029705899757 and parameters: {'learning_rate': 0.03691491779312156, 'max_depth': 3, 'min_child_weight': 1.5043209978979712, 'colsample_bytree': 0.3436360764088955, 'subsample': 0.5098977553235711}. Best is trial 554 with value: 0.6718681578791644.\n"
     ]
    },
    {
     "name": "stderr",
     "output_type": "stream",
     "text": [
      "[I 2025-03-02 21:35:10,372] Trial 655 finished with value: 0.6692356056571396 and parameters: {'learning_rate': 0.03259325948390346, 'max_depth': 4, 'min_child_weight': 1.2158981287932824, 'colsample_bytree': 0.313117687830635, 'subsample': 0.5165039724993455}. Best is trial 554 with value: 0.6718681578791644.\n"
     ]
    },
    {
     "name": "stderr",
     "output_type": "stream",
     "text": [
      "[I 2025-03-02 21:35:10,610] Trial 656 finished with value: 0.6646502751642109 and parameters: {'learning_rate': 0.029121587430823888, 'max_depth': 5, 'min_child_weight': 1.2965074543020094, 'colsample_bytree': 0.3378607178112578, 'subsample': 0.7194226499413806}. Best is trial 554 with value: 0.6718681578791644.\n"
     ]
    },
    {
     "name": "stderr",
     "output_type": "stream",
     "text": [
      "[I 2025-03-02 21:35:10,825] Trial 657 finished with value: 0.6672303094857683 and parameters: {'learning_rate': 0.03721371774215461, 'max_depth': 4, 'min_child_weight': 5.129159900063919, 'colsample_bytree': 0.3610438421527983, 'subsample': 0.5364097011931968}. Best is trial 554 with value: 0.6718681578791644.\n"
     ]
    },
    {
     "name": "stderr",
     "output_type": "stream",
     "text": [
      "[I 2025-03-02 21:35:11,036] Trial 658 finished with value: 0.6662309899994082 and parameters: {'learning_rate': 0.03806981961771163, 'max_depth': 4, 'min_child_weight': 1.3489805358098894, 'colsample_bytree': 0.32652040696129236, 'subsample': 0.5550670472637532}. Best is trial 554 with value: 0.6718681578791644.\n"
     ]
    },
    {
     "name": "stderr",
     "output_type": "stream",
     "text": [
      "[I 2025-03-02 21:35:11,241] Trial 659 finished with value: 0.6664617728859696 and parameters: {'learning_rate': 0.032329778421386096, 'max_depth': 3, 'min_child_weight': 4.579271391672639, 'colsample_bytree': 0.34302933857669504, 'subsample': 0.5087510048896409}. Best is trial 554 with value: 0.6718681578791644.\n"
     ]
    },
    {
     "name": "stderr",
     "output_type": "stream",
     "text": [
      "[I 2025-03-02 21:35:11,455] Trial 660 finished with value: 0.6687022900763359 and parameters: {'learning_rate': 0.04101344849626795, 'max_depth': 4, 'min_child_weight': 4.109697238984719, 'colsample_bytree': 0.31127715108764725, 'subsample': 0.5279445872192667}. Best is trial 554 with value: 0.6718681578791644.\n"
     ]
    },
    {
     "name": "stderr",
     "output_type": "stream",
     "text": [
      "[I 2025-03-02 21:35:11,668] Trial 661 finished with value: 0.6697415527546009 and parameters: {'learning_rate': 0.027862958085664476, 'max_depth': 4, 'min_child_weight': 4.3049604831396024, 'colsample_bytree': 0.32522759976808197, 'subsample': 0.5085859132835922}. Best is trial 554 with value: 0.6718681578791644.\n"
     ]
    },
    {
     "name": "stderr",
     "output_type": "stream",
     "text": [
      "[I 2025-03-02 21:35:11,893] Trial 662 finished with value: 0.6698961477010474 and parameters: {'learning_rate': 0.023409297160905757, 'max_depth': 4, 'min_child_weight': 1.151481598953719, 'colsample_bytree': 0.35573390190057425, 'subsample': 0.5251124171780072}. Best is trial 554 with value: 0.6718681578791644.\n"
     ]
    },
    {
     "name": "stderr",
     "output_type": "stream",
     "text": [
      "[I 2025-03-02 21:35:12,111] Trial 663 finished with value: 0.669498195159477 and parameters: {'learning_rate': 0.042187378779552524, 'max_depth': 4, 'min_child_weight': 1.74937690368659, 'colsample_bytree': 0.33988665548143454, 'subsample': 0.5002914097932725}. Best is trial 554 with value: 0.6718681578791644.\n"
     ]
    },
    {
     "name": "stderr",
     "output_type": "stream",
     "text": [
      "[I 2025-03-02 21:35:12,335] Trial 664 finished with value: 0.6659107047754305 and parameters: {'learning_rate': 0.03606978584522317, 'max_depth': 4, 'min_child_weight': 5.381504052766841, 'colsample_bytree': 0.36703014210455753, 'subsample': 0.5164154852540073}. Best is trial 554 with value: 0.6718681578791644.\n"
     ]
    },
    {
     "name": "stderr",
     "output_type": "stream",
     "text": [
      "[I 2025-03-02 21:35:12,548] Trial 665 finished with value: 0.6672746908101072 and parameters: {'learning_rate': 0.016213975960724138, 'max_depth': 4, 'min_child_weight': 1.0047110902520906, 'colsample_bytree': 0.3155549549477661, 'subsample': 0.5000614952259387}. Best is trial 554 with value: 0.6718681578791644.\n"
     ]
    },
    {
     "name": "stderr",
     "output_type": "stream",
     "text": [
      "[I 2025-03-02 21:35:12,774] Trial 666 finished with value: 0.6627330019527782 and parameters: {'learning_rate': 0.04333677498905282, 'max_depth': 5, 'min_child_weight': 4.809191250757042, 'colsample_bytree': 0.32982465262008964, 'subsample': 0.6370300026170027}. Best is trial 554 with value: 0.6718681578791644.\n"
     ]
    },
    {
     "name": "stderr",
     "output_type": "stream",
     "text": [
      "[I 2025-03-02 21:35:12,983] Trial 667 finished with value: 0.637293626841825 and parameters: {'learning_rate': 0.22506903820749197, 'max_depth': 4, 'min_child_weight': 3.0237013732776625, 'colsample_bytree': 0.35145856441371187, 'subsample': 0.5203553090294287}. Best is trial 554 with value: 0.6718681578791644.\n"
     ]
    },
    {
     "name": "stderr",
     "output_type": "stream",
     "text": [
      "[I 2025-03-02 21:35:13,196] Trial 668 finished with value: 0.6673212912006627 and parameters: {'learning_rate': 0.034706191996431886, 'max_depth': 3, 'min_child_weight': 1.4166166812933163, 'colsample_bytree': 0.3352404286252993, 'subsample': 0.509718959874514}. Best is trial 554 with value: 0.6718681578791644.\n"
     ]
    },
    {
     "name": "stderr",
     "output_type": "stream",
     "text": [
      "[I 2025-03-02 21:35:13,415] Trial 669 finished with value: 0.667413752293035 and parameters: {'learning_rate': 0.04436537241985552, 'max_depth': 4, 'min_child_weight': 1.5672477598951227, 'colsample_bytree': 0.3108770060870218, 'subsample': 0.5399489798445375}. Best is trial 554 with value: 0.6718681578791644.\n"
     ]
    },
    {
     "name": "stderr",
     "output_type": "stream",
     "text": [
      "[I 2025-03-02 21:35:13,625] Trial 670 finished with value: 0.6698147819397597 and parameters: {'learning_rate': 0.037739920212029356, 'max_depth': 4, 'min_child_weight': 3.9721364738323284, 'colsample_bytree': 0.3453311995811113, 'subsample': 0.5168284188399498}. Best is trial 554 with value: 0.6718681578791644.\n"
     ]
    },
    {
     "name": "stderr",
     "output_type": "stream",
     "text": [
      "[I 2025-03-02 21:35:13,840] Trial 671 finished with value: 0.664438724184863 and parameters: {'learning_rate': 0.02903844847897371, 'max_depth': 4, 'min_child_weight': 1.7737169098142411, 'colsample_bytree': 0.3258479333929473, 'subsample': 0.6887166904934294}. Best is trial 554 with value: 0.6718681578791644.\n"
     ]
    },
    {
     "name": "stderr",
     "output_type": "stream",
     "text": [
      "[I 2025-03-02 21:35:14,052] Trial 672 finished with value: 0.6650526658382153 and parameters: {'learning_rate': 0.04513890090534954, 'max_depth': 4, 'min_child_weight': 1.273026242444804, 'colsample_bytree': 0.3642160948570523, 'subsample': 0.5281558558140698}. Best is trial 554 with value: 0.6718681578791644.\n"
     ]
    },
    {
     "name": "stderr",
     "output_type": "stream",
     "text": [
      "[I 2025-03-02 21:35:14,257] Trial 673 finished with value: 0.6619252618498137 and parameters: {'learning_rate': 0.039240468476394216, 'max_depth': 3, 'min_child_weight': 4.973122562158529, 'colsample_bytree': 0.49461811192696736, 'subsample': 0.5087963632977612}. Best is trial 554 with value: 0.6718681578791644.\n"
     ]
    },
    {
     "name": "stderr",
     "output_type": "stream",
     "text": [
      "[I 2025-03-02 21:35:14,476] Trial 674 finished with value: 0.6705855376057754 and parameters: {'learning_rate': 0.04631536771706761, 'max_depth': 4, 'min_child_weight': 4.513078720427843, 'colsample_bytree': 0.3509035851331619, 'subsample': 0.5091564256545934}. Best is trial 554 with value: 0.6718681578791644.\n"
     ]
    },
    {
     "name": "stderr",
     "output_type": "stream",
     "text": [
      "[I 2025-03-02 21:35:14,689] Trial 675 finished with value: 0.662469672761702 and parameters: {'learning_rate': 0.03185106343979463, 'max_depth': 4, 'min_child_weight': 1.602710166669506, 'colsample_bytree': 0.30020381380774896, 'subsample': 0.8886404538307184}. Best is trial 554 with value: 0.6718681578791644.\n"
     ]
    },
    {
     "name": "stderr",
     "output_type": "stream",
     "text": [
      "[I 2025-03-02 21:35:14,906] Trial 676 finished with value: 0.6652523817977395 and parameters: {'learning_rate': 0.020824992227694357, 'max_depth': 4, 'min_child_weight': 1.4208634955299548, 'colsample_bytree': 0.32092944632853493, 'subsample': 0.6524693411134119}. Best is trial 554 with value: 0.6718681578791644.\n"
     ]
    },
    {
     "name": "stderr",
     "output_type": "stream",
     "text": [
      "[I 2025-03-02 21:35:15,135] Trial 677 finished with value: 0.6678841943310255 and parameters: {'learning_rate': 0.04024520242470168, 'max_depth': 4, 'min_child_weight': 1.8046620495172474, 'colsample_bytree': 0.337242376533971, 'subsample': 0.5202570425645527}. Best is trial 554 with value: 0.6718681578791644.\n"
     ]
    },
    {
     "name": "stderr",
     "output_type": "stream",
     "text": [
      "[I 2025-03-02 21:35:15,359] Trial 678 finished with value: 0.6655068347239481 and parameters: {'learning_rate': 0.04548916611147794, 'max_depth': 4, 'min_child_weight': 4.335689018183652, 'colsample_bytree': 0.3817397104752742, 'subsample': 0.5002658602483131}. Best is trial 554 with value: 0.6718681578791644.\n"
     ]
    },
    {
     "name": "stderr",
     "output_type": "stream",
     "text": [
      "[I 2025-03-02 21:35:15,558] Trial 679 finished with value: 0.6661903071187645 and parameters: {'learning_rate': 0.03510370614789514, 'max_depth': 3, 'min_child_weight': 6.695549462690513, 'colsample_bytree': 0.3578278895778517, 'subsample': 0.5283401330859161}. Best is trial 554 with value: 0.6718681578791644.\n"
     ]
    },
    {
     "name": "stderr",
     "output_type": "stream",
     "text": [
      "[I 2025-03-02 21:35:15,771] Trial 680 finished with value: 0.6692467009882241 and parameters: {'learning_rate': 0.04895628226213551, 'max_depth': 4, 'min_child_weight': 5.202871889419085, 'colsample_bytree': 0.3258061003047106, 'subsample': 0.5152948781167763}. Best is trial 554 with value: 0.6718681578791644.\n"
     ]
    },
    {
     "name": "stderr",
     "output_type": "stream",
     "text": [
      "[I 2025-03-02 21:35:16,049] Trial 681 finished with value: 0.6513343984851174 and parameters: {'learning_rate': 0.08840950183979229, 'max_depth': 7, 'min_child_weight': 1.5000259941251697, 'colsample_bytree': 0.3435755185934436, 'subsample': 0.5087167506162025}. Best is trial 554 with value: 0.6718681578791644.\n"
     ]
    },
    {
     "name": "stderr",
     "output_type": "stream",
     "text": [
      "[I 2025-03-02 21:35:16,268] Trial 682 finished with value: 0.6695181667554293 and parameters: {'learning_rate': 0.02619744636093469, 'max_depth': 4, 'min_child_weight': 4.6976814719544455, 'colsample_bytree': 0.31294670510280365, 'subsample': 0.5349504071947535}. Best is trial 554 with value: 0.6718681578791644.\n"
     ]
    },
    {
     "name": "stderr",
     "output_type": "stream",
     "text": [
      "[I 2025-03-02 21:35:16,487] Trial 683 finished with value: 0.6642944848807621 and parameters: {'learning_rate': 0.04218766329972556, 'max_depth': 4, 'min_child_weight': 1.6812785544981628, 'colsample_bytree': 0.36372627773715926, 'subsample': 0.5224381024707185}. Best is trial 554 with value: 0.6718681578791644.\n"
     ]
    },
    {
     "name": "stderr",
     "output_type": "stream",
     "text": [
      "[I 2025-03-02 21:35:16,699] Trial 684 finished with value: 0.669663885437008 and parameters: {'learning_rate': 0.03489050075494177, 'max_depth': 4, 'min_child_weight': 7.754122848611642, 'colsample_bytree': 0.3377176977434092, 'subsample': 0.5088008491702608}. Best is trial 554 with value: 0.6718681578791644.\n"
     ]
    },
    {
     "name": "stderr",
     "output_type": "stream",
     "text": [
      "[I 2025-03-02 21:35:16,911] Trial 685 finished with value: 0.6683827445410973 and parameters: {'learning_rate': 0.04820660523843978, 'max_depth': 4, 'min_child_weight': 1.3023971070792013, 'colsample_bytree': 0.32340703321108083, 'subsample': 0.5003624314279387}. Best is trial 554 with value: 0.6718681578791644.\n"
     ]
    },
    {
     "name": "stderr",
     "output_type": "stream",
     "text": [
      "[I 2025-03-02 21:35:17,208] Trial 686 finished with value: 0.6691949227764956 and parameters: {'learning_rate': 0.03914092142482078, 'max_depth': 4, 'min_child_weight': 1.8071830733961534, 'colsample_bytree': 0.34962162132762314, 'subsample': 0.5463068164415378}. Best is trial 554 with value: 0.6718681578791644.\n"
     ]
    },
    {
     "name": "stderr",
     "output_type": "stream",
     "text": [
      "[I 2025-03-02 21:35:17,412] Trial 687 finished with value: 0.6657346588555536 and parameters: {'learning_rate': 0.051433653834270815, 'max_depth': 3, 'min_child_weight': 4.873752528784286, 'colsample_bytree': 0.3735816649166407, 'subsample': 0.51799687513125}. Best is trial 554 with value: 0.6718681578791644.\n"
     ]
    },
    {
     "name": "stderr",
     "output_type": "stream",
     "text": [
      "[I 2025-03-02 21:35:17,641] Trial 688 finished with value: 0.6672332682407243 and parameters: {'learning_rate': 0.03031624979063334, 'max_depth': 5, 'min_child_weight': 1.5960284336808526, 'colsample_bytree': 0.31245649017533816, 'subsample': 0.508561759979844}. Best is trial 554 with value: 0.6718681578791644.\n"
     ]
    },
    {
     "name": "stderr",
     "output_type": "stream",
     "text": [
      "[I 2025-03-02 21:35:17,852] Trial 689 finished with value: 0.661599798804663 and parameters: {'learning_rate': 0.05541625425883851, 'max_depth': 4, 'min_child_weight': 1.1386107990008623, 'colsample_bytree': 0.33059233196397636, 'subsample': 0.9991343845233549}. Best is trial 554 with value: 0.6718681578791644.\n"
     ]
    },
    {
     "name": "stderr",
     "output_type": "stream",
     "text": [
      "[I 2025-03-02 21:35:18,064] Trial 690 finished with value: 0.6689641398899343 and parameters: {'learning_rate': 0.04419405732297726, 'max_depth': 4, 'min_child_weight': 4.185203194736005, 'colsample_bytree': 0.3462414584399527, 'subsample': 0.5270274989625}. Best is trial 554 with value: 0.6718681578791644.\n"
     ]
    },
    {
     "name": "stderr",
     "output_type": "stream",
     "text": [
      "[I 2025-03-02 21:35:18,293] Trial 691 finished with value: 0.6650763358778626 and parameters: {'learning_rate': 0.04023786076439325, 'max_depth': 4, 'min_child_weight': 3.8142694086147753, 'colsample_bytree': 0.3324544618478422, 'subsample': 0.5666205536030031}. Best is trial 554 with value: 0.6718681578791644.\n"
     ]
    },
    {
     "name": "stderr",
     "output_type": "stream",
     "text": [
      "[I 2025-03-02 21:35:18,510] Trial 692 finished with value: 0.658793419728978 and parameters: {'learning_rate': 0.11652095503090809, 'max_depth': 4, 'min_child_weight': 1.8644879848738685, 'colsample_bytree': 0.3615715805125048, 'subsample': 0.5160012184915849}. Best is trial 554 with value: 0.6718681578791644.\n"
     ]
    },
    {
     "name": "stderr",
     "output_type": "stream",
     "text": [
      "[I 2025-03-02 21:35:18,707] Trial 693 finished with value: 0.6654358246050063 and parameters: {'learning_rate': 0.04914225019446553, 'max_depth': 3, 'min_child_weight': 1.4366759788855585, 'colsample_bytree': 0.3144446081574604, 'subsample': 0.5003617969930225}. Best is trial 554 with value: 0.6718681578791644.\n"
     ]
    },
    {
     "name": "stderr",
     "output_type": "stream",
     "text": [
      "[I 2025-03-02 21:35:18,921] Trial 694 finished with value: 0.6671245339960943 and parameters: {'learning_rate': 0.025341940067291208, 'max_depth': 4, 'min_child_weight': 4.52081335525562, 'colsample_bytree': 0.40867351766861604, 'subsample': 0.5164957870536598}. Best is trial 554 with value: 0.6718681578791644.\n"
     ]
    },
    {
     "name": "stderr",
     "output_type": "stream",
     "text": [
      "[I 2025-03-02 21:35:19,221] Trial 695 finished with value: 0.6595774897922955 and parameters: {'learning_rate': 0.03667504494124041, 'max_depth': 8, 'min_child_weight': 5.048871129653097, 'colsample_bytree': 0.3000145081298251, 'subsample': 0.7035256122715342}. Best is trial 554 with value: 0.6718681578791644.\n"
     ]
    },
    {
     "name": "stderr",
     "output_type": "stream",
     "text": [
      "[I 2025-03-02 21:35:19,456] Trial 696 finished with value: 0.6621087046570804 and parameters: {'learning_rate': 0.05646445090597403, 'max_depth': 4, 'min_child_weight': 1.6821314183461884, 'colsample_bytree': 0.8046351988925529, 'subsample': 0.5373482885632629}. Best is trial 554 with value: 0.6718681578791644.\n"
     ]
    },
    {
     "name": "stderr",
     "output_type": "stream",
     "text": [
      "[I 2025-03-02 21:35:19,684] Trial 697 finished with value: 0.6651399491094148 and parameters: {'learning_rate': 0.010164095622979753, 'max_depth': 4, 'min_child_weight': 1.3897182988215366, 'colsample_bytree': 0.3427713040080784, 'subsample': 0.5251993706143785}. Best is trial 554 with value: 0.6718681578791644.\n"
     ]
    },
    {
     "name": "stderr",
     "output_type": "stream",
     "text": [
      "[I 2025-03-02 21:35:19,880] Trial 698 finished with value: 0.6691179951476419 and parameters: {'learning_rate': 0.04698579467418396, 'max_depth': 3, 'min_child_weight': 1.9166191080710333, 'colsample_bytree': 0.323951587706331, 'subsample': 0.5089488819614535}. Best is trial 554 with value: 0.6718681578791644.\n"
     ]
    },
    {
     "name": "stderr",
     "output_type": "stream",
     "text": [
      "[I 2025-03-02 21:35:20,105] Trial 699 finished with value: 0.6708710574590212 and parameters: {'learning_rate': 0.032317578042796016, 'max_depth': 4, 'min_child_weight': 5.3484519732597695, 'colsample_bytree': 0.3566795801856758, 'subsample': 0.5088224285228815}. Best is trial 554 with value: 0.6718681578791644.\n"
     ]
    },
    {
     "name": "stderr",
     "output_type": "stream",
     "text": [
      "[I 2025-03-02 21:35:20,330] Trial 700 finished with value: 0.6662139771584117 and parameters: {'learning_rate': 0.02725037123274001, 'max_depth': 4, 'min_child_weight': 5.047279136639346, 'colsample_bytree': 0.37725126305621337, 'subsample': 0.51742940143513}. Best is trial 554 with value: 0.6718681578791644.\n"
     ]
    },
    {
     "name": "stderr",
     "output_type": "stream",
     "text": [
      "[I 2025-03-02 21:35:20,709] Trial 701 finished with value: 0.6594768921237943 and parameters: {'learning_rate': 0.019966520557192162, 'max_depth': 9, 'min_child_weight': 5.563923257456322, 'colsample_bytree': 0.9119294594833605, 'subsample': 0.5308149368611704}. Best is trial 554 with value: 0.6718681578791644.\n"
     ]
    },
    {
     "name": "stderr",
     "output_type": "stream",
     "text": [
      "[I 2025-03-02 21:35:20,924] Trial 702 finished with value: 0.6676519320669863 and parameters: {'learning_rate': 0.03070445783338569, 'max_depth': 4, 'min_child_weight': 5.5657824304024075, 'colsample_bytree': 0.3657482230744602, 'subsample': 0.5003827863332481}. Best is trial 554 with value: 0.6718681578791644.\n"
     ]
    },
    {
     "name": "stderr",
     "output_type": "stream",
     "text": [
      "[I 2025-03-02 21:35:21,140] Trial 703 finished with value: 0.6708222380022487 and parameters: {'learning_rate': 0.03352238763404662, 'max_depth': 4, 'min_child_weight': 5.367104424456693, 'colsample_bytree': 0.3575229623582619, 'subsample': 0.516332685888193}. Best is trial 554 with value: 0.6718681578791644.\n"
     ]
    },
    {
     "name": "stderr",
     "output_type": "stream",
     "text": [
      "[I 2025-03-02 21:35:21,375] Trial 704 finished with value: 0.6670202378838985 and parameters: {'learning_rate': 0.01920994300912065, 'max_depth': 4, 'min_child_weight': 5.258939147109118, 'colsample_bytree': 0.3747278948739919, 'subsample': 0.539942426168311}. Best is trial 554 with value: 0.6718681578791644.\n"
     ]
    },
    {
     "name": "stderr",
     "output_type": "stream",
     "text": [
      "[I 2025-03-02 21:35:21,598] Trial 705 finished with value: 0.6663633942836854 and parameters: {'learning_rate': 0.024403469370973256, 'max_depth': 4, 'min_child_weight': 5.4399845459999465, 'colsample_bytree': 0.3988403581135123, 'subsample': 0.5312560916935237}. Best is trial 554 with value: 0.6718681578791644.\n"
     ]
    },
    {
     "name": "stderr",
     "output_type": "stream",
     "text": [
      "[I 2025-03-02 21:35:21,807] Trial 706 finished with value: 0.6662465234629267 and parameters: {'learning_rate': 0.03151123108003288, 'max_depth': 3, 'min_child_weight': 5.4490057867161195, 'colsample_bytree': 0.38722026525958103, 'subsample': 0.5207243693753639}. Best is trial 554 with value: 0.6718681578791644.\n"
     ]
    },
    {
     "name": "stderr",
     "output_type": "stream",
     "text": [
      "[I 2025-03-02 21:35:22,048] Trial 707 finished with value: 0.6670557429433694 and parameters: {'learning_rate': 0.014915063180205326, 'max_depth': 5, 'min_child_weight': 5.314701382846243, 'colsample_bytree': 0.3572770542573215, 'subsample': 0.5488958167676763}. Best is trial 554 with value: 0.6718681578791644.\n"
     ]
    },
    {
     "name": "stderr",
     "output_type": "stream",
     "text": [
      "[I 2025-03-02 21:35:22,276] Trial 708 finished with value: 0.6669137227054855 and parameters: {'learning_rate': 0.022683540917300675, 'max_depth': 4, 'min_child_weight': 5.319191116259015, 'colsample_bytree': 0.3889630450286604, 'subsample': 0.5289633048064967}. Best is trial 554 with value: 0.6718681578791644.\n"
     ]
    },
    {
     "name": "stderr",
     "output_type": "stream",
     "text": [
      "[I 2025-03-02 21:35:22,553] Trial 709 finished with value: 0.6593333925084324 and parameters: {'learning_rate': 0.03158758065082684, 'max_depth': 6, 'min_child_weight': 5.475068062751135, 'colsample_bytree': 0.7723808094795555, 'subsample': 0.5207305594719855}. Best is trial 554 with value: 0.6718681578791644.\n"
     ]
    },
    {
     "name": "stderr",
     "output_type": "stream",
     "text": [
      "[I 2025-03-02 21:35:22,777] Trial 710 finished with value: 0.6668012900171607 and parameters: {'learning_rate': 0.02763532386812933, 'max_depth': 4, 'min_child_weight': 5.380700437808255, 'colsample_bytree': 0.3684759964933582, 'subsample': 0.5164484819070193}. Best is trial 554 with value: 0.6718681578791644.\n"
     ]
    },
    {
     "name": "stderr",
     "output_type": "stream",
     "text": [
      "[I 2025-03-02 21:35:23,032] Trial 711 finished with value: 0.6606211906029943 and parameters: {'learning_rate': 0.03402265822076343, 'max_depth': 4, 'min_child_weight': 5.107987843858228, 'colsample_bytree': 0.6746859841493993, 'subsample': 0.5094096533603614}. Best is trial 554 with value: 0.6718681578791644.\n"
     ]
    },
    {
     "name": "stderr",
     "output_type": "stream",
     "text": [
      "[I 2025-03-02 21:35:23,267] Trial 712 finished with value: 0.6686016924078348 and parameters: {'learning_rate': 0.03360005456680474, 'max_depth': 4, 'min_child_weight': 5.136080136401144, 'colsample_bytree': 0.3580498882057939, 'subsample': 0.5363320734946903}. Best is trial 554 with value: 0.6718681578791644.\n"
     ]
    },
    {
     "name": "stderr",
     "output_type": "stream",
     "text": [
      "[I 2025-03-02 21:35:23,492] Trial 713 finished with value: 0.6661104207349547 and parameters: {'learning_rate': 0.06771810952337809, 'max_depth': 4, 'min_child_weight': 5.69951340209843, 'colsample_bytree': 0.3521907802081322, 'subsample': 0.5250042871782651}. Best is trial 554 with value: 0.6718681578791644.\n"
     ]
    },
    {
     "name": "stderr",
     "output_type": "stream",
     "text": [
      "[I 2025-03-02 21:35:23,713] Trial 714 finished with value: 0.6644505592046868 and parameters: {'learning_rate': 0.03894794907207516, 'max_depth': 4, 'min_child_weight': 4.799475092035798, 'colsample_bytree': 0.3737240471557955, 'subsample': 0.5144717765897143}. Best is trial 554 with value: 0.6718681578791644.\n"
     ]
    },
    {
     "name": "stderr",
     "output_type": "stream",
     "text": [
      "[I 2025-03-02 21:35:23,922] Trial 715 finished with value: 0.667037250724895 and parameters: {'learning_rate': 0.035525301728663375, 'max_depth': 3, 'min_child_weight': 5.220180232275004, 'colsample_bytree': 0.3536325916401315, 'subsample': 0.5090638416771873}. Best is trial 554 with value: 0.6718681578791644.\n"
     ]
    },
    {
     "name": "stderr",
     "output_type": "stream",
     "text": [
      "[I 2025-03-02 21:35:24,144] Trial 716 finished with value: 0.6685484348186281 and parameters: {'learning_rate': 0.04289812037121432, 'max_depth': 4, 'min_child_weight': 5.376282485251524, 'colsample_bytree': 0.34720651574676326, 'subsample': 0.5248149977790306}. Best is trial 554 with value: 0.6718681578791644.\n"
     ]
    },
    {
     "name": "stderr",
     "output_type": "stream",
     "text": [
      "[I 2025-03-02 21:35:24,378] Trial 717 finished with value: 0.6678398130066868 and parameters: {'learning_rate': 0.029340651449058383, 'max_depth': 4, 'min_child_weight': 5.022707893829736, 'colsample_bytree': 0.38419164227428254, 'subsample': 0.5087873157721509}. Best is trial 554 with value: 0.6718681578791644.\n"
     ]
    },
    {
     "name": "stderr",
     "output_type": "stream",
     "text": [
      "[I 2025-03-02 21:35:24,600] Trial 718 finished with value: 0.6676859577489791 and parameters: {'learning_rate': 0.060670942486484754, 'max_depth': 4, 'min_child_weight': 4.89579685187582, 'colsample_bytree': 0.36087590394302643, 'subsample': 0.5151179795112207}. Best is trial 554 with value: 0.6718681578791644.\n"
     ]
    },
    {
     "name": "stderr",
     "output_type": "stream",
     "text": [
      "[I 2025-03-02 21:35:24,824] Trial 719 finished with value: 0.6668456713414996 and parameters: {'learning_rate': 0.023672540402724797, 'max_depth': 4, 'min_child_weight': 5.292803230623916, 'colsample_bytree': 0.34265512637152307, 'subsample': 0.7746410070417097}. Best is trial 554 with value: 0.6718681578791644.\n"
     ]
    },
    {
     "name": "stderr",
     "output_type": "stream",
     "text": [
      "[I 2025-03-02 21:35:25,048] Trial 720 finished with value: 0.663292206639446 and parameters: {'learning_rate': 0.05154773268611132, 'max_depth': 4, 'min_child_weight': 5.502867127210231, 'colsample_bytree': 0.3715014292804007, 'subsample': 0.5398853985799725}. Best is trial 554 with value: 0.6718681578791644.\n"
     ]
    },
    {
     "name": "stderr",
     "output_type": "stream",
     "text": [
      "[I 2025-03-02 21:35:25,306] Trial 721 finished with value: 0.6610598260252086 and parameters: {'learning_rate': 0.04392183348818553, 'max_depth': 5, 'min_child_weight': 5.155625294793235, 'colsample_bytree': 0.5201493255681724, 'subsample': 0.5220631673750757}. Best is trial 554 with value: 0.6718681578791644.\n"
     ]
    },
    {
     "name": "stderr",
     "output_type": "stream",
     "text": [
      "[I 2025-03-02 21:35:25,516] Trial 722 finished with value: 0.6686823184803834 and parameters: {'learning_rate': 0.055191934712655086, 'max_depth': 3, 'min_child_weight': 4.790788489674349, 'colsample_bytree': 0.34055994940521633, 'subsample': 0.5082515343265339}. Best is trial 554 with value: 0.6718681578791644.\n"
     ]
    },
    {
     "name": "stderr",
     "output_type": "stream",
     "text": [
      "[I 2025-03-02 21:35:25,739] Trial 723 finished with value: 0.6706284395526363 and parameters: {'learning_rate': 0.036373329701041894, 'max_depth': 4, 'min_child_weight': 3.981618493443564, 'colsample_bytree': 0.3551285078427452, 'subsample': 0.5001386936152495}. Best is trial 554 with value: 0.6718681578791644.\n"
     ]
    },
    {
     "name": "stderr",
     "output_type": "stream",
     "text": [
      "[I 2025-03-02 21:35:25,964] Trial 724 finished with value: 0.6671223149298775 and parameters: {'learning_rate': 0.04746374006736804, 'max_depth': 4, 'min_child_weight': 5.198527665743821, 'colsample_bytree': 0.3356389579387898, 'subsample': 0.528868868595805}. Best is trial 554 with value: 0.6718681578791644.\n"
     ]
    },
    {
     "name": "stderr",
     "output_type": "stream",
     "text": [
      "[I 2025-03-02 21:35:26,177] Trial 725 finished with value: 0.660977720575182 and parameters: {'learning_rate': 0.06382373707612815, 'max_depth': 4, 'min_child_weight': 4.668185284327002, 'colsample_bytree': 0.364057491346499, 'subsample': 0.5182006975657351}. Best is trial 554 with value: 0.6718681578791644.\n"
     ]
    },
    {
     "name": "stderr",
     "output_type": "stream",
     "text": [
      "[I 2025-03-02 21:35:26,400] Trial 726 finished with value: 0.669947925912776 and parameters: {'learning_rate': 0.04044481153945397, 'max_depth': 4, 'min_child_weight': 5.7525253883984515, 'colsample_bytree': 0.32368560764627907, 'subsample': 0.5003841393344416}. Best is trial 554 with value: 0.6718681578791644.\n"
     ]
    },
    {
     "name": "stderr",
     "output_type": "stream",
     "text": [
      "[I 2025-03-02 21:35:26,621] Trial 727 finished with value: 0.6688517072016096 and parameters: {'learning_rate': 0.02635674996115711, 'max_depth': 4, 'min_child_weight': 4.415468784628096, 'colsample_bytree': 0.34786497000580846, 'subsample': 0.510635333091213}. Best is trial 554 with value: 0.6718681578791644.\n"
     ]
    },
    {
     "name": "stderr",
     "output_type": "stream",
     "text": [
      "[I 2025-03-02 21:35:26,844] Trial 728 finished with value: 0.6668737795135806 and parameters: {'learning_rate': 0.05035325969404207, 'max_depth': 4, 'min_child_weight': 4.910990067133746, 'colsample_bytree': 0.3126557385645466, 'subsample': 0.5325324110371648}. Best is trial 554 with value: 0.6718681578791644.\n"
     ]
    },
    {
     "name": "stderr",
     "output_type": "stream",
     "text": [
      "[I 2025-03-02 21:35:27,051] Trial 729 finished with value: 0.6661903071187645 and parameters: {'learning_rate': 0.03405306418609867, 'max_depth': 3, 'min_child_weight': 5.51030057702971, 'colsample_bytree': 0.34112686488988836, 'subsample': 0.5170052397536193}. Best is trial 554 with value: 0.6718681578791644.\n"
     ]
    },
    {
     "name": "stderr",
     "output_type": "stream",
     "text": [
      "[I 2025-03-02 21:35:27,281] Trial 730 finished with value: 0.6698473282442748 and parameters: {'learning_rate': 0.05789195542709744, 'max_depth': 4, 'min_child_weight': 5.003389543673016, 'colsample_bytree': 0.3287920013808911, 'subsample': 0.5092314731512251}. Best is trial 554 with value: 0.6718681578791644.\n"
     ]
    },
    {
     "name": "stderr",
     "output_type": "stream",
     "text": [
      "[I 2025-03-02 21:35:27,510] Trial 731 finished with value: 0.6647227646606308 and parameters: {'learning_rate': 0.04301654363523387, 'max_depth': 4, 'min_child_weight': 3.571077481322453, 'colsample_bytree': 0.37745302404929976, 'subsample': 0.5002489916261812}. Best is trial 554 with value: 0.6718681578791644.\n"
     ]
    },
    {
     "name": "stderr",
     "output_type": "stream",
     "text": [
      "[I 2025-03-02 21:35:27,736] Trial 732 finished with value: 0.668906444168294 and parameters: {'learning_rate': 0.017049949383232177, 'max_depth': 4, 'min_child_weight': 4.190756894636529, 'colsample_bytree': 0.35815716228765043, 'subsample': 0.5243000573482428}. Best is trial 554 with value: 0.6718681578791644.\n"
     ]
    },
    {
     "name": "stderr",
     "output_type": "stream",
     "text": [
      "[I 2025-03-02 21:35:28,077] Trial 733 finished with value: 0.6587372033848157 and parameters: {'learning_rate': 0.05337999961212533, 'max_depth': 10, 'min_child_weight': 5.348616240054626, 'colsample_bytree': 0.31304237924112405, 'subsample': 0.5506611641029324}. Best is trial 554 with value: 0.6718681578791644.\n"
     ]
    },
    {
     "name": "stderr",
     "output_type": "stream",
     "text": [
      "[I 2025-03-02 21:35:28,309] Trial 734 finished with value: 0.6689744955322801 and parameters: {'learning_rate': 0.029576154943887212, 'max_depth': 4, 'min_child_weight': 5.11812475721487, 'colsample_bytree': 0.3369801758299466, 'subsample': 0.5146734084556498}. Best is trial 554 with value: 0.6718681578791644.\n"
     ]
    },
    {
     "name": "stderr",
     "output_type": "stream",
     "text": [
      "[I 2025-03-02 21:35:28,538] Trial 735 finished with value: 0.6677310787620568 and parameters: {'learning_rate': 0.04762159137972326, 'max_depth': 3, 'min_child_weight': 3.745551987006713, 'colsample_bytree': 0.34902382637012236, 'subsample': 0.524551261158872}. Best is trial 554 with value: 0.6718681578791644.\n"
     ]
    },
    {
     "name": "stderr",
     "output_type": "stream",
     "text": [
      "[I 2025-03-02 21:35:28,780] Trial 736 finished with value: 0.663058464997929 and parameters: {'learning_rate': 0.03910171832126371, 'max_depth': 5, 'min_child_weight': 4.591764358551532, 'colsample_bytree': 0.39689950780025607, 'subsample': 0.5084107484489837}. Best is trial 554 with value: 0.6718681578791644.\n"
     ]
    },
    {
     "name": "stderr",
     "output_type": "stream",
     "text": [
      "[I 2025-03-02 21:35:29,002] Trial 737 finished with value: 0.6694478963252264 and parameters: {'learning_rate': 0.05217259695913241, 'max_depth': 4, 'min_child_weight': 2.862850669557374, 'colsample_bytree': 0.32377287454785875, 'subsample': 0.5000926444083417}. Best is trial 554 with value: 0.6718681578791644.\n"
     ]
    },
    {
     "name": "stderr",
     "output_type": "stream",
     "text": [
      "[I 2025-03-02 21:35:29,234] Trial 738 finished with value: 0.6662835078998757 and parameters: {'learning_rate': 0.03499090729793006, 'max_depth': 4, 'min_child_weight': 4.059783388650384, 'colsample_bytree': 0.3663207955708727, 'subsample': 0.5365331314155614}. Best is trial 554 with value: 0.6718681578791644.\n"
     ]
    },
    {
     "name": "stderr",
     "output_type": "stream",
     "text": [
      "[I 2025-03-02 21:35:29,467] Trial 739 finished with value: 0.6687821764601456 and parameters: {'learning_rate': 0.044457410662711694, 'max_depth': 4, 'min_child_weight': 1.1127093356445148, 'colsample_bytree': 0.3324393964674159, 'subsample': 0.5148181685073058}. Best is trial 554 with value: 0.6718681578791644.\n"
     ]
    },
    {
     "name": "stderr",
     "output_type": "stream",
     "text": [
      "[I 2025-03-02 21:35:29,690] Trial 740 finished with value: 0.6653840463932776 and parameters: {'learning_rate': 0.0589052180554347, 'max_depth': 4, 'min_child_weight': 1.0055043768837508, 'colsample_bytree': 0.3501713478612895, 'subsample': 0.5224649341023212}. Best is trial 554 with value: 0.6718681578791644.\n"
     ]
    },
    {
     "name": "stderr",
     "output_type": "stream",
     "text": [
      "[I 2025-03-02 21:35:29,900] Trial 741 finished with value: 0.6658419137227054 and parameters: {'learning_rate': 0.022820441935105837, 'max_depth': 3, 'min_child_weight': 4.427371499833437, 'colsample_bytree': 0.3120705468503954, 'subsample': 0.5079014640538287}. Best is trial 554 with value: 0.6718681578791644.\n"
     ]
    },
    {
     "name": "stderr",
     "output_type": "stream",
     "text": [
      "[I 2025-03-02 21:35:30,131] Trial 742 finished with value: 0.6678790165098526 and parameters: {'learning_rate': 0.0652427902408649, 'max_depth': 4, 'min_child_weight': 5.6267936826160945, 'colsample_bytree': 0.33818436976012084, 'subsample': 0.5308441483692855}. Best is trial 554 with value: 0.6718681578791644.\n"
     ]
    },
    {
     "name": "stderr",
     "output_type": "stream",
     "text": [
      "[I 2025-03-02 21:35:30,364] Trial 743 finished with value: 0.6639105864252323 and parameters: {'learning_rate': 0.03998995467458089, 'max_depth': 4, 'min_child_weight': 1.2964226894658886, 'colsample_bytree': 0.3654444828679531, 'subsample': 0.5166228235207612}. Best is trial 554 with value: 0.6718681578791644.\n"
     ]
    },
    {
     "name": "stderr",
     "output_type": "stream",
     "text": [
      "[I 2025-03-02 21:35:30,592] Trial 744 finished with value: 0.6695943546955441 and parameters: {'learning_rate': 0.04977953463622252, 'max_depth': 4, 'min_child_weight': 4.643206002916208, 'colsample_bytree': 0.30199605018705933, 'subsample': 0.5441523634371069}. Best is trial 554 with value: 0.6718681578791644.\n"
     ]
    },
    {
     "name": "stderr",
     "output_type": "stream",
     "text": [
      "[I 2025-03-02 21:35:30,815] Trial 745 finished with value: 0.6647523522101899 and parameters: {'learning_rate': 0.072436664938006, 'max_depth': 4, 'min_child_weight': 4.964711309899826, 'colsample_bytree': 0.3265160589866002, 'subsample': 0.5079239905100773}. Best is trial 554 with value: 0.6718681578791644.\n"
     ]
    },
    {
     "name": "stderr",
     "output_type": "stream",
     "text": [
      "[I 2025-03-02 21:35:31,036] Trial 746 finished with value: 0.6611633824486656 and parameters: {'learning_rate': 0.07930167934047404, 'max_depth': 4, 'min_child_weight': 4.297403151705145, 'colsample_bytree': 0.385115886136827, 'subsample': 0.5237341754499384}. Best is trial 554 with value: 0.6718681578791644.\n"
     ]
    },
    {
     "name": "stderr",
     "output_type": "stream",
     "text": [
      "[I 2025-03-02 21:35:31,276] Trial 747 finished with value: 0.6696461329072725 and parameters: {'learning_rate': 0.031443850893224004, 'max_depth': 4, 'min_child_weight': 5.325478902809098, 'colsample_bytree': 0.3506366613744661, 'subsample': 0.5077950154771473}. Best is trial 554 with value: 0.6718681578791644.\n"
     ]
    },
    {
     "name": "stderr",
     "output_type": "stream",
     "text": [
      "[I 2025-03-02 21:35:31,506] Trial 748 finished with value: 0.6678457305165987 and parameters: {'learning_rate': 0.043981993301461825, 'max_depth': 4, 'min_child_weight': 4.757142298729403, 'colsample_bytree': 0.31953973125615953, 'subsample': 0.5161896030767822}. Best is trial 554 with value: 0.6718681578791644.\n"
     ]
    },
    {
     "name": "stderr",
     "output_type": "stream",
     "text": [
      "[I 2025-03-02 21:35:31,728] Trial 749 finished with value: 0.6686386768447836 and parameters: {'learning_rate': 0.06002621076954659, 'max_depth': 3, 'min_child_weight': 3.2587572378399017, 'colsample_bytree': 0.3001114328333963, 'subsample': 0.5290539760949057}. Best is trial 554 with value: 0.6718681578791644.\n"
     ]
    },
    {
     "name": "stderr",
     "output_type": "stream",
     "text": [
      "[I 2025-03-02 21:35:31,951] Trial 750 finished with value: 0.6710130776969051 and parameters: {'learning_rate': 0.05538570264239596, 'max_depth': 4, 'min_child_weight': 5.141313591433126, 'colsample_bytree': 0.33893367818060804, 'subsample': 0.5086093765850713}. Best is trial 554 with value: 0.6718681578791644.\n"
     ]
    },
    {
     "name": "stderr",
     "output_type": "stream",
     "text": [
      "[I 2025-03-02 21:35:32,185] Trial 751 finished with value: 0.6556009231315463 and parameters: {'learning_rate': 0.0673568432716579, 'max_depth': 5, 'min_child_weight': 5.228357978365361, 'colsample_bytree': 0.3564971977795735, 'subsample': 0.840500719277784}. Best is trial 554 with value: 0.6718681578791644.\n"
     ]
    },
    {
     "name": "stderr",
     "output_type": "stream",
     "text": [
      "[I 2025-03-02 21:35:32,437] Trial 752 finished with value: 0.6623113793715604 and parameters: {'learning_rate': 0.05602686497573194, 'max_depth': 4, 'min_child_weight': 5.114801806739554, 'colsample_bytree': 0.37182355222708663, 'subsample': 0.5155386404564631}. Best is trial 554 with value: 0.6718681578791644.\n"
     ]
    },
    {
     "name": "stderr",
     "output_type": "stream",
     "text": [
      "[I 2025-03-02 21:35:32,667] Trial 753 finished with value: 0.6661947452511983 and parameters: {'learning_rate': 0.06067652129335652, 'max_depth': 4, 'min_child_weight': 5.123126681919529, 'colsample_bytree': 0.34382673726640545, 'subsample': 0.5369963718821751}. Best is trial 554 with value: 0.6718681578791644.\n"
     ]
    },
    {
     "name": "stderr",
     "output_type": "stream",
     "text": [
      "[I 2025-03-02 21:35:32,881] Trial 754 finished with value: 0.6613630984081899 and parameters: {'learning_rate': 0.054385278677118745, 'max_depth': 4, 'min_child_weight': 4.908653760797248, 'colsample_bytree': 0.35695672706318377, 'subsample': 0.7334953526432537}. Best is trial 554 with value: 0.6718681578791644.\n"
     ]
    },
    {
     "name": "stderr",
     "output_type": "stream",
     "text": [
      "[I 2025-03-02 21:35:33,096] Trial 755 finished with value: 0.6699937866145926 and parameters: {'learning_rate': 0.06347089477723242, 'max_depth': 3, 'min_child_weight': 5.34741273115925, 'colsample_bytree': 0.33671397408110626, 'subsample': 0.5001746215320195}. Best is trial 554 with value: 0.6718681578791644.\n"
     ]
    },
    {
     "name": "stderr",
     "output_type": "stream",
     "text": [
      "[I 2025-03-02 21:35:33,322] Trial 756 finished with value: 0.6662228534232795 and parameters: {'learning_rate': 0.05121708972335393, 'max_depth': 4, 'min_child_weight': 5.883726444448926, 'colsample_bytree': 0.37710218614940666, 'subsample': 0.5087471197090879}. Best is trial 554 with value: 0.6718681578791644.\n"
     ]
    },
    {
     "name": "stderr",
     "output_type": "stream",
     "text": [
      "[I 2025-03-02 21:35:33,542] Trial 757 finished with value: 0.6513196047103379 and parameters: {'learning_rate': 0.16000229585780906, 'max_depth': 4, 'min_child_weight': 5.607178795877554, 'colsample_bytree': 0.34686199711192367, 'subsample': 0.5204903258984795}. Best is trial 554 with value: 0.6718681578791644.\n"
     ]
    },
    {
     "name": "stderr",
     "output_type": "stream",
     "text": [
      "[I 2025-03-02 21:35:33,756] Trial 758 finished with value: 0.6415202082963489 and parameters: {'learning_rate': 0.2508336428790294, 'max_depth': 4, 'min_child_weight': 5.423477947503493, 'colsample_bytree': 0.3613169948271669, 'subsample': 0.5244489477186024}. Best is trial 554 with value: 0.6718681578791644.\n"
     ]
    },
    {
     "name": "stderr",
     "output_type": "stream",
     "text": [
      "[I 2025-03-02 21:35:33,974] Trial 759 finished with value: 0.6627714657672051 and parameters: {'learning_rate': 0.027430049994226716, 'max_depth': 4, 'min_child_weight': 4.88932656044744, 'colsample_bytree': 0.5817037365679827, 'subsample': 0.5091379846241637}. Best is trial 554 with value: 0.6718681578791644.\n"
     ]
    },
    {
     "name": "stderr",
     "output_type": "stream",
     "text": [
      "[I 2025-03-02 21:35:34,185] Trial 760 finished with value: 0.6514068879815375 and parameters: {'learning_rate': 0.13255083458700054, 'max_depth': 4, 'min_child_weight': 5.151686739623477, 'colsample_bytree': 0.3377967289079062, 'subsample': 0.5157978045325338}. Best is trial 554 with value: 0.6718681578791644.\n"
     ]
    },
    {
     "name": "stderr",
     "output_type": "stream",
     "text": [
      "[I 2025-03-02 21:35:34,397] Trial 761 finished with value: 0.6615864844073613 and parameters: {'learning_rate': 0.056476730876467394, 'max_depth': 3, 'min_child_weight': 5.027080669176176, 'colsample_bytree': 0.4146689420546671, 'subsample': 0.5359276809599456}. Best is trial 554 with value: 0.6718681578791644.\n"
     ]
    },
    {
     "name": "stderr",
     "output_type": "stream",
     "text": [
      "[I 2025-03-02 21:35:34,613] Trial 762 finished with value: 0.6691638558494585 and parameters: {'learning_rate': 0.04807838557214554, 'max_depth': 4, 'min_child_weight': 4.750413891363896, 'colsample_bytree': 0.34977780267488684, 'subsample': 0.5562394594768891}. Best is trial 554 with value: 0.6718681578791644.\n"
     ]
    },
    {
     "name": "stderr",
     "output_type": "stream",
     "text": [
      "[I 2025-03-02 21:35:34,833] Trial 763 finished with value: 0.6694345819279247 and parameters: {'learning_rate': 0.03605456726633663, 'max_depth': 4, 'min_child_weight': 5.236551744008004, 'colsample_bytree': 0.3675373623204318, 'subsample': 0.5085849863264889}. Best is trial 554 with value: 0.6718681578791644.\n"
     ]
    },
    {
     "name": "stderr",
     "output_type": "stream",
     "text": [
      "[I 2025-03-02 21:35:35,046] Trial 764 finished with value: 0.6634216521687674 and parameters: {'learning_rate': 0.07042336052115224, 'max_depth': 4, 'min_child_weight': 5.407073546954291, 'colsample_bytree': 0.33476834314488213, 'subsample': 0.5257192599900777}. Best is trial 554 with value: 0.6718681578791644.\n"
     ]
    },
    {
     "name": "stderr",
     "output_type": "stream",
     "text": [
      "[I 2025-03-02 21:35:35,280] Trial 765 finished with value: 0.6666696254216226 and parameters: {'learning_rate': 0.04158999850897418, 'max_depth': 4, 'min_child_weight': 4.506891759119171, 'colsample_bytree': 0.3828924605343703, 'subsample': 0.5000719381404078}. Best is trial 554 with value: 0.6718681578791644.\n"
     ]
    },
    {
     "name": "stderr",
     "output_type": "stream",
     "text": [
      "[I 2025-03-02 21:35:35,507] Trial 766 finished with value: 0.6682732706077283 and parameters: {'learning_rate': 0.05058970304107277, 'max_depth': 4, 'min_child_weight': 4.8767077322840935, 'colsample_bytree': 0.3526687320576307, 'subsample': 0.5173175728680105}. Best is trial 554 with value: 0.6718681578791644.\n"
     ]
    },
    {
     "name": "stderr",
     "output_type": "stream",
     "text": [
      "[I 2025-03-02 21:35:35,723] Trial 767 finished with value: 0.6683753476537073 and parameters: {'learning_rate': 0.031673598621661095, 'max_depth': 4, 'min_child_weight': 4.206031221829031, 'colsample_bytree': 0.32995738500079236, 'subsample': 0.5000424548970128}. Best is trial 554 with value: 0.6718681578791644.\n"
     ]
    },
    {
     "name": "stderr",
     "output_type": "stream",
     "text": [
      "[I 2025-03-02 21:35:35,957] Trial 768 finished with value: 0.6636916385584946 and parameters: {'learning_rate': 0.019659428963718605, 'max_depth': 5, 'min_child_weight': 3.9474645290648667, 'colsample_bytree': 0.34301350713261797, 'subsample': 0.9517958091953027}. Best is trial 554 with value: 0.6718681578791644.\n"
     ]
    },
    {
     "name": "stderr",
     "output_type": "stream",
     "text": [
      "[I 2025-03-02 21:35:36,158] Trial 769 finished with value: 0.6651074028048997 and parameters: {'learning_rate': 0.057937331803949575, 'max_depth': 3, 'min_child_weight': 5.614356821087147, 'colsample_bytree': 0.364913015226284, 'subsample': 0.7542779821196165}. Best is trial 554 with value: 0.6718681578791644.\n"
     ]
    },
    {
     "name": "stderr",
     "output_type": "stream",
     "text": [
      "[I 2025-03-02 21:35:36,416] Trial 770 finished with value: 0.6514497899283981 and parameters: {'learning_rate': 0.1721555215882633, 'max_depth': 4, 'min_child_weight': 4.667024877179676, 'colsample_bytree': 0.6097121146727034, 'subsample': 0.5308155691077063}. Best is trial 554 with value: 0.6718681578791644.\n"
     ]
    },
    {
     "name": "stderr",
     "output_type": "stream",
     "text": [
      "[I 2025-03-02 21:35:36,633] Trial 771 finished with value: 0.6705559500562164 and parameters: {'learning_rate': 0.039391872675419895, 'max_depth': 4, 'min_child_weight': 5.02786482305896, 'colsample_bytree': 0.3254857219949485, 'subsample': 0.5082779037688397}. Best is trial 554 with value: 0.6718681578791644.\n"
     ]
    },
    {
     "name": "stderr",
     "output_type": "stream",
     "text": [
      "[I 2025-03-02 21:35:36,851] Trial 772 finished with value: 0.6635229895260075 and parameters: {'learning_rate': 0.0457939600915882, 'max_depth': 4, 'min_child_weight': 5.219755553138443, 'colsample_bytree': 0.34230734405883767, 'subsample': 0.6174237474324522}. Best is trial 554 with value: 0.6718681578791644.\n"
     ]
    },
    {
     "name": "stderr",
     "output_type": "stream",
     "text": [
      "[I 2025-03-02 21:35:37,053] Trial 773 finished with value: 0.6686105686727025 and parameters: {'learning_rate': 0.0517582402844191, 'max_depth': 3, 'min_child_weight': 4.347153490764969, 'colsample_bytree': 0.3568616283544873, 'subsample': 0.5182225760850878}. Best is trial 554 with value: 0.6718681578791644.\n"
     ]
    },
    {
     "name": "stderr",
     "output_type": "stream",
     "text": [
      "[I 2025-03-02 21:35:37,277] Trial 774 finished with value: 0.668041008343689 and parameters: {'learning_rate': 0.0356094977834905, 'max_depth': 4, 'min_child_weight': 5.390449946921203, 'colsample_bytree': 0.39059627111817097, 'subsample': 0.510442585462347}. Best is trial 554 with value: 0.6718681578791644.\n"
     ]
    },
    {
     "name": "stderr",
     "output_type": "stream",
     "text": [
      "[I 2025-03-02 21:35:37,501] Trial 775 finished with value: 0.658587786259542 and parameters: {'learning_rate': 0.10739123104250639, 'max_depth': 4, 'min_child_weight': 4.970912731569842, 'colsample_bytree': 0.32613648398046347, 'subsample': 0.5003011978799825}. Best is trial 554 with value: 0.6718681578791644.\n"
     ]
    },
    {
     "name": "stderr",
     "output_type": "stream",
     "text": [
      "[I 2025-03-02 21:35:37,717] Trial 776 finished with value: 0.6637389786377893 and parameters: {'learning_rate': 0.06424403184275411, 'max_depth': 4, 'min_child_weight': 7.1755670465814445, 'colsample_bytree': 0.37181917448154694, 'subsample': 0.5239442272998399}. Best is trial 554 with value: 0.6718681578791644.\n"
     ]
    },
    {
     "name": "stderr",
     "output_type": "stream",
     "text": [
      "[I 2025-03-02 21:35:37,933] Trial 777 finished with value: 0.6671297118172673 and parameters: {'learning_rate': 0.026649615947076502, 'max_depth': 4, 'min_child_weight': 2.486010783231212, 'colsample_bytree': 0.33890969854969283, 'subsample': 0.5434219489707167}. Best is trial 554 with value: 0.6718681578791644.\n"
     ]
    },
    {
     "name": "stderr",
     "output_type": "stream",
     "text": [
      "[I 2025-03-02 21:35:38,164] Trial 778 finished with value: 0.6384209124800284 and parameters: {'learning_rate': 0.21084563313276186, 'max_depth': 4, 'min_child_weight': 4.584140124824125, 'colsample_bytree': 0.35235143042759853, 'subsample': 0.5002677402257328}. Best is trial 554 with value: 0.6718681578791644.\n"
     ]
    },
    {
     "name": "stderr",
     "output_type": "stream",
     "text": [
      "[I 2025-03-02 21:35:38,436] Trial 779 finished with value: 0.6643122374104977 and parameters: {'learning_rate': 0.04553233244100571, 'max_depth': 6, 'min_child_weight': 2.008903373708869, 'colsample_bytree': 0.3218781387479682, 'subsample': 0.5148607006060558}. Best is trial 554 with value: 0.6718681578791644.\n"
     ]
    },
    {
     "name": "stderr",
     "output_type": "stream",
     "text": [
      "[I 2025-03-02 21:35:38,674] Trial 780 finished with value: 0.666206580271022 and parameters: {'learning_rate': 0.05474344630153233, 'max_depth': 4, 'min_child_weight': 4.809687432927253, 'colsample_bytree': 0.3346424020219273, 'subsample': 0.5346394106821329}. Best is trial 554 with value: 0.6718681578791644.\n"
     ]
    },
    {
     "name": "stderr",
     "output_type": "stream",
     "text": [
      "[I 2025-03-02 21:35:38,877] Trial 781 finished with value: 0.6666947748387478 and parameters: {'learning_rate': 0.04007965668737676, 'max_depth': 3, 'min_child_weight': 3.794890206197328, 'colsample_bytree': 0.36102439175875284, 'subsample': 0.5222029440824771}. Best is trial 554 with value: 0.6718681578791644.\n"
     ]
    },
    {
     "name": "stderr",
     "output_type": "stream",
     "text": [
      "[I 2025-03-02 21:35:39,149] Trial 782 finished with value: 0.6597476182022605 and parameters: {'learning_rate': 0.04780031897984585, 'max_depth': 7, 'min_child_weight': 5.199398670969363, 'colsample_bytree': 0.3455255469349203, 'subsample': 0.509001323743879}. Best is trial 554 with value: 0.6718681578791644.\n"
     ]
    },
    {
     "name": "stderr",
     "output_type": "stream",
     "text": [
      "[I 2025-03-02 21:35:39,380] Trial 783 finished with value: 0.6679744363571809 and parameters: {'learning_rate': 0.03068973383099801, 'max_depth': 4, 'min_child_weight': 4.017843291673108, 'colsample_bytree': 0.3223454323500813, 'subsample': 0.517822307721949}. Best is trial 554 with value: 0.6718681578791644.\n"
     ]
    },
    {
     "name": "stderr",
     "output_type": "stream",
     "text": [
      "[I 2025-03-02 21:35:39,600] Trial 784 finished with value: 0.667000266287946 and parameters: {'learning_rate': 0.05949911824785646, 'max_depth': 4, 'min_child_weight': 1.2795233148307772, 'colsample_bytree': 0.3744004189144397, 'subsample': 0.5097199093816436}. Best is trial 554 with value: 0.6718681578791644.\n"
     ]
    },
    {
     "name": "stderr",
     "output_type": "stream",
     "text": [
      "[I 2025-03-02 21:35:39,820] Trial 785 finished with value: 0.6688923900822534 and parameters: {'learning_rate': 0.03656744765342322, 'max_depth': 4, 'min_child_weight': 5.499079785135686, 'colsample_bytree': 0.3346527060000115, 'subsample': 0.500147367127465}. Best is trial 554 with value: 0.6718681578791644.\n"
     ]
    },
    {
     "name": "stderr",
     "output_type": "stream",
     "text": [
      "[I 2025-03-02 21:35:40,036] Trial 786 finished with value: 0.6678871530859815 and parameters: {'learning_rate': 0.042585915833728914, 'max_depth': 4, 'min_child_weight': 2.220979533457546, 'colsample_bytree': 0.3520766696574092, 'subsample': 0.5314185498055974}. Best is trial 554 with value: 0.6718681578791644.\n"
     ]
    },
    {
     "name": "stderr",
     "output_type": "stream",
     "text": [
      "[I 2025-03-02 21:35:40,260] Trial 787 finished with value: 0.668390141428487 and parameters: {'learning_rate': 0.02350818421690454, 'max_depth': 4, 'min_child_weight': 3.4304952917808453, 'colsample_bytree': 0.31764025893624276, 'subsample': 0.5162773050228993}. Best is trial 554 with value: 0.6718681578791644.\n"
     ]
    },
    {
     "name": "stderr",
     "output_type": "stream",
     "text": [
      "[I 2025-03-02 21:35:40,472] Trial 788 finished with value: 0.6668752588910587 and parameters: {'learning_rate': 0.052428758804589956, 'max_depth': 3, 'min_child_weight': 4.421686018854063, 'colsample_bytree': 0.3406871512001158, 'subsample': 0.5261387537638912}. Best is trial 554 with value: 0.6718681578791644.\n"
     ]
    },
    {
     "name": "stderr",
     "output_type": "stream",
     "text": [
      "[I 2025-03-02 21:35:40,714] Trial 789 finished with value: 0.6648751405408604 and parameters: {'learning_rate': 0.013880680866383482, 'max_depth': 5, 'min_child_weight': 1.521348155147836, 'colsample_bytree': 0.3968573341515742, 'subsample': 0.5095637682081524}. Best is trial 554 with value: 0.6718681578791644.\n"
     ]
    },
    {
     "name": "stderr",
     "output_type": "stream",
     "text": [
      "[I 2025-03-02 21:35:40,925] Trial 790 finished with value: 0.6311438546659566 and parameters: {'learning_rate': 0.23131630354740917, 'max_depth': 4, 'min_child_weight': 4.151411068935419, 'colsample_bytree': 0.35921639756337964, 'subsample': 0.5435798286929789}. Best is trial 554 with value: 0.6718681578791644.\n"
     ]
    },
    {
     "name": "stderr",
     "output_type": "stream",
     "text": [
      "[I 2025-03-02 21:35:41,139] Trial 791 finished with value: 0.658966506893899 and parameters: {'learning_rate': 0.09616070884542487, 'max_depth': 4, 'min_child_weight': 2.720699399947642, 'colsample_bytree': 0.32802128099774325, 'subsample': 0.5002038252108368}. Best is trial 554 with value: 0.6718681578791644.\n"
     ]
    },
    {
     "name": "stderr",
     "output_type": "stream",
     "text": [
      "[I 2025-03-02 21:35:41,369] Trial 792 finished with value: 0.6659831942718504 and parameters: {'learning_rate': 0.0469553511874871, 'max_depth': 4, 'min_child_weight': 5.019562706596766, 'colsample_bytree': 0.3461165326061173, 'subsample': 0.5194008671336494}. Best is trial 554 with value: 0.6718681578791644.\n"
     ]
    },
    {
     "name": "stderr",
     "output_type": "stream",
     "text": [
      "[I 2025-03-02 21:35:41,593] Trial 793 finished with value: 0.6608349606485592 and parameters: {'learning_rate': 0.06450461223365749, 'max_depth': 4, 'min_child_weight': 1.1793660664656342, 'colsample_bytree': 0.37042093028391726, 'subsample': 0.5110521039668491}. Best is trial 554 with value: 0.6718681578791644.\n"
     ]
    },
    {
     "name": "stderr",
     "output_type": "stream",
     "text": [
      "[I 2025-03-02 21:35:41,812] Trial 794 finished with value: 0.66810536126398 and parameters: {'learning_rate': 0.03401524108363909, 'max_depth': 4, 'min_child_weight': 2.031230767525564, 'colsample_bytree': 0.3177086488207407, 'subsample': 0.5300514808132167}. Best is trial 554 with value: 0.6718681578791644.\n"
     ]
    },
    {
     "name": "stderr",
     "output_type": "stream",
     "text": [
      "[I 2025-03-02 21:35:42,014] Trial 795 finished with value: 0.6683309663293686 and parameters: {'learning_rate': 0.040591124792012837, 'max_depth': 3, 'min_child_weight': 2.3786349346891646, 'colsample_bytree': 0.3316581937095837, 'subsample': 0.5096449470971872}. Best is trial 554 with value: 0.6718681578791644.\n"
     ]
    },
    {
     "name": "stderr",
     "output_type": "stream",
     "text": [
      "[I 2025-03-02 21:35:42,233] Trial 796 finished with value: 0.6680794721581158 and parameters: {'learning_rate': 0.0544456688716904, 'max_depth': 4, 'min_child_weight': 1.79186385092251, 'colsample_bytree': 0.3553896282981246, 'subsample': 0.5223987962171627}. Best is trial 554 with value: 0.6718681578791644.\n"
     ]
    },
    {
     "name": "stderr",
     "output_type": "stream",
     "text": [
      "[I 2025-03-02 21:35:42,463] Trial 797 finished with value: 0.670427244215634 and parameters: {'learning_rate': 0.059499778938493876, 'max_depth': 4, 'min_child_weight': 1.4906012825626251, 'colsample_bytree': 0.34345668118649325, 'subsample': 0.5096912378202296}. Best is trial 554 with value: 0.6718681578791644.\n"
     ]
    },
    {
     "name": "stderr",
     "output_type": "stream",
     "text": [
      "[I 2025-03-02 21:35:42,680] Trial 798 finished with value: 0.6679626013373572 and parameters: {'learning_rate': 0.04840868356816541, 'max_depth': 4, 'min_child_weight': 4.745324487918102, 'colsample_bytree': 0.3141150303952694, 'subsample': 0.518444070842654}. Best is trial 554 with value: 0.6718681578791644.\n"
     ]
    },
    {
     "name": "stderr",
     "output_type": "stream",
     "text": [
      "[I 2025-03-02 21:35:42,899] Trial 799 finished with value: 0.6622122610805372 and parameters: {'learning_rate': 0.07539294197807729, 'max_depth': 4, 'min_child_weight': 5.16605037004657, 'colsample_bytree': 0.3818891157336408, 'subsample': 0.50016676800818}. Best is trial 554 with value: 0.6718681578791644.\n"
     ]
    },
    {
     "name": "stderr",
     "output_type": "stream",
     "text": [
      "[I 2025-03-02 21:35:43,110] Trial 800 finished with value: 0.6665675483756435 and parameters: {'learning_rate': 0.027245435227877646, 'max_depth': 3, 'min_child_weight': 1.3112878632849567, 'colsample_bytree': 0.3300467938206532, 'subsample': 0.50005916472037}. Best is trial 554 with value: 0.6718681578791644.\n"
     ]
    },
    {
     "name": "stderr",
     "output_type": "stream",
     "text": [
      "[I 2025-03-02 21:35:43,363] Trial 801 finished with value: 0.6626338836617551 and parameters: {'learning_rate': 0.042236997382155625, 'max_depth': 4, 'min_child_weight': 5.679084591568752, 'colsample_bytree': 0.42830723888711664, 'subsample': 0.5294796143162875}. Best is trial 554 with value: 0.6718681578791644.\n"
     ]
    },
    {
     "name": "stderr",
     "output_type": "stream",
     "text": [
      "[I 2025-03-02 21:35:43,584] Trial 802 finished with value: 0.6659047872655186 and parameters: {'learning_rate': 0.0326456444802085, 'max_depth': 4, 'min_child_weight': 1.7065899671678542, 'colsample_bytree': 0.36489513804533713, 'subsample': 0.5163376428028722}. Best is trial 554 with value: 0.6718681578791644.\n"
     ]
    },
    {
     "name": "stderr",
     "output_type": "stream",
     "text": [
      "[I 2025-03-02 21:35:43,804] Trial 803 finished with value: 0.6692452216107463 and parameters: {'learning_rate': 0.05550334892340238, 'max_depth': 4, 'min_child_weight': 5.319909984672682, 'colsample_bytree': 0.3455744292528529, 'subsample': 0.539955225677032}. Best is trial 554 with value: 0.6718681578791644.\n"
     ]
    },
    {
     "name": "stderr",
     "output_type": "stream",
     "text": [
      "[I 2025-03-02 21:35:44,018] Trial 804 finished with value: 0.6504674832830344 and parameters: {'learning_rate': 0.14983612916207847, 'max_depth': 4, 'min_child_weight': 1.0092483576949214, 'colsample_bytree': 0.3133822779888154, 'subsample': 0.5084724101388535}. Best is trial 554 with value: 0.6718681578791644.\n"
     ]
    },
    {
     "name": "stderr",
     "output_type": "stream",
     "text": [
      "[I 2025-03-02 21:35:44,233] Trial 805 finished with value: 0.6694715663648736 and parameters: {'learning_rate': 0.03738987931320305, 'max_depth': 4, 'min_child_weight': 4.941423542884436, 'colsample_bytree': 0.3323710545758408, 'subsample': 0.5237001358477268}. Best is trial 554 with value: 0.6718681578791644.\n"
     ]
    },
    {
     "name": "stderr",
     "output_type": "stream",
     "text": [
      "[I 2025-03-02 21:35:44,461] Trial 806 finished with value: 0.6707793360553879 and parameters: {'learning_rate': 0.04987493222490226, 'max_depth': 4, 'min_child_weight': 2.0155941512645996, 'colsample_bytree': 0.35700664048100594, 'subsample': 0.50893982195477}. Best is trial 554 with value: 0.6718681578791644.\n"
     ]
    },
    {
     "name": "stderr",
     "output_type": "stream",
     "text": [
      "[I 2025-03-02 21:35:44,663] Trial 807 finished with value: 0.6675528137759631 and parameters: {'learning_rate': 0.06798631657055405, 'max_depth': 3, 'min_child_weight': 4.316264568964683, 'colsample_bytree': 0.32563908477971626, 'subsample': 0.5153209895057715}. Best is trial 554 with value: 0.6718681578791644.\n"
     ]
    },
    {
     "name": "stderr",
     "output_type": "stream",
     "text": [
      "[I 2025-03-02 21:35:44,884] Trial 808 finished with value: 0.6687747795727557 and parameters: {'learning_rate': 0.04553086310953163, 'max_depth': 4, 'min_child_weight': 4.631229908168997, 'colsample_bytree': 0.34200989996113396, 'subsample': 0.500116584202002}. Best is trial 554 with value: 0.6718681578791644.\n"
     ]
    },
    {
     "name": "stderr",
     "output_type": "stream",
     "text": [
      "[I 2025-03-02 21:35:45,135] Trial 809 finished with value: 0.6642123794307355 and parameters: {'learning_rate': 0.020159983251253146, 'max_depth': 5, 'min_child_weight': 1.524068754521096, 'colsample_bytree': 0.36987947632986845, 'subsample': 0.5254308164673657}. Best is trial 554 with value: 0.6718681578791644.\n"
     ]
    },
    {
     "name": "stderr",
     "output_type": "stream",
     "text": [
      "[I 2025-03-02 21:35:45,372] Trial 810 finished with value: 0.6683945795609207 and parameters: {'learning_rate': 0.03622467262207065, 'max_depth': 4, 'min_child_weight': 1.8251564066756198, 'colsample_bytree': 0.35385647651470403, 'subsample': 0.535415791272704}. Best is trial 554 with value: 0.6718681578791644.\n"
     ]
    },
    {
     "name": "stderr",
     "output_type": "stream",
     "text": [
      "[I 2025-03-02 21:35:45,588] Trial 811 finished with value: 0.6653352269365052 and parameters: {'learning_rate': 0.05947051278381221, 'max_depth': 4, 'min_child_weight': 5.513708662832208, 'colsample_bytree': 0.3130371974411804, 'subsample': 0.5170447874548576}. Best is trial 554 with value: 0.6718681578791644.\n"
     ]
    },
    {
     "name": "stderr",
     "output_type": "stream",
     "text": [
      "[I 2025-03-02 21:35:45,827] Trial 812 finished with value: 0.6600701224924551 and parameters: {'learning_rate': 0.029256606011774256, 'max_depth': 4, 'min_child_weight': 1.2786485423999931, 'colsample_bytree': 0.9936779291097435, 'subsample': 0.5095910657689458}. Best is trial 554 with value: 0.6718681578791644.\n"
     ]
    },
    {
     "name": "stderr",
     "output_type": "stream",
     "text": [
      "[I 2025-03-02 21:35:46,031] Trial 813 finished with value: 0.6659550860997692 and parameters: {'learning_rate': 0.04372683876943403, 'max_depth': 3, 'min_child_weight': 5.122244609739164, 'colsample_bytree': 0.3361896530528418, 'subsample': 0.524364373529078}. Best is trial 554 with value: 0.6718681578791644.\n"
     ]
    },
    {
     "name": "stderr",
     "output_type": "stream",
     "text": [
      "[I 2025-03-02 21:35:46,258] Trial 814 finished with value: 0.6611012485945913 and parameters: {'learning_rate': 0.05326388509436486, 'max_depth': 4, 'min_child_weight': 4.8593992847118646, 'colsample_bytree': 0.6995204704334747, 'subsample': 0.5085363052326042}. Best is trial 554 with value: 0.6718681578791644.\n"
     ]
    },
    {
     "name": "stderr",
     "output_type": "stream",
     "text": [
      "[I 2025-03-02 21:35:46,488] Trial 815 finished with value: 0.6681933842239186 and parameters: {'learning_rate': 0.04876910373410361, 'max_depth': 4, 'min_child_weight': 3.1182626863119376, 'colsample_bytree': 0.38280974548339775, 'subsample': 0.5469613683598138}. Best is trial 554 with value: 0.6718681578791644.\n"
     ]
    },
    {
     "name": "stderr",
     "output_type": "stream",
     "text": [
      "[I 2025-03-02 21:35:46,713] Trial 816 finished with value: 0.6687792177051896 and parameters: {'learning_rate': 0.040170019028199944, 'max_depth': 4, 'min_child_weight': 1.441082007559178, 'colsample_bytree': 0.32043596734476754, 'subsample': 0.5163931647853037}. Best is trial 554 with value: 0.6718681578791644.\n"
     ]
    },
    {
     "name": "stderr",
     "output_type": "stream",
     "text": [
      "[I 2025-03-02 21:35:46,936] Trial 817 finished with value: 0.669529262086514 and parameters: {'learning_rate': 0.03163159661002405, 'max_depth': 4, 'min_child_weight': 1.6451608993701647, 'colsample_bytree': 0.34873950405177806, 'subsample': 0.5308744607157436}. Best is trial 554 with value: 0.6718681578791644.\n"
     ]
    },
    {
     "name": "stderr",
     "output_type": "stream",
     "text": [
      "[I 2025-03-02 21:35:47,182] Trial 818 finished with value: 0.662258121782354 and parameters: {'learning_rate': 0.0541615375403489, 'max_depth': 5, 'min_child_weight': 2.156256502643741, 'colsample_bytree': 0.36468759565021047, 'subsample': 0.5080800959495294}. Best is trial 554 with value: 0.6718681578791644.\n"
     ]
    },
    {
     "name": "stderr",
     "output_type": "stream",
     "text": [
      "[I 2025-03-02 21:35:47,491] Trial 819 finished with value: 0.6493653470619564 and parameters: {'learning_rate': 0.06274526866528125, 'max_depth': 8, 'min_child_weight': 4.503303063190123, 'colsample_bytree': 0.33202261421250595, 'subsample': 0.5184532097842358}. Best is trial 554 with value: 0.6718681578791644.\n"
     ]
    },
    {
     "name": "stderr",
     "output_type": "stream",
     "text": [
      "[I 2025-03-02 21:35:47,715] Trial 820 finished with value: 0.6681024025090241 and parameters: {'learning_rate': 0.023800788544188992, 'max_depth': 4, 'min_child_weight': 3.715494637909793, 'colsample_bytree': 0.3458053361878486, 'subsample': 0.5002670408020385}. Best is trial 554 with value: 0.6718681578791644.\n"
     ]
    },
    {
     "name": "stderr",
     "output_type": "stream",
     "text": [
      "[I 2025-03-02 21:35:47,921] Trial 821 finished with value: 0.6682895437599858 and parameters: {'learning_rate': 0.04314883272567771, 'max_depth': 3, 'min_child_weight': 1.7902249956065606, 'colsample_bytree': 0.32149118341485466, 'subsample': 0.5001968758641183}. Best is trial 554 with value: 0.6718681578791644.\n"
     ]
    },
    {
     "name": "stderr",
     "output_type": "stream",
     "text": [
      "[I 2025-03-02 21:35:48,160] Trial 822 finished with value: 0.669354695544115 and parameters: {'learning_rate': 0.0356363435145905, 'max_depth': 4, 'min_child_weight': 4.067345586298482, 'colsample_bytree': 0.3585031907700849, 'subsample': 0.5239059677762662}. Best is trial 554 with value: 0.6718681578791644.\n"
     ]
    },
    {
     "name": "stderr",
     "output_type": "stream",
     "text": [
      "[I 2025-03-02 21:35:48,398] Trial 823 finished with value: 0.6700426060713652 and parameters: {'learning_rate': 0.04710791106135776, 'max_depth': 4, 'min_child_weight': 1.975475295396107, 'colsample_bytree': 0.33652291260225153, 'subsample': 0.5095980790367928}. Best is trial 554 with value: 0.6718681578791644.\n"
     ]
    },
    {
     "name": "stderr",
     "output_type": "stream",
     "text": [
      "[I 2025-03-02 21:35:48,631] Trial 824 finished with value: 0.6645267471448015 and parameters: {'learning_rate': 0.05166982332260793, 'max_depth': 4, 'min_child_weight': 5.84090935588408, 'colsample_bytree': 0.9545243949517275, 'subsample': 0.5354514504963859}. Best is trial 554 with value: 0.6718681578791644.\n"
     ]
    },
    {
     "name": "stderr",
     "output_type": "stream",
     "text": [
      "[I 2025-03-02 21:35:48,855] Trial 825 finished with value: 0.670533759394047 and parameters: {'learning_rate': 0.039327169935733444, 'max_depth': 4, 'min_child_weight': 5.331234312140007, 'colsample_bytree': 0.31233373186326563, 'subsample': 0.514825859921748}. Best is trial 554 with value: 0.6718681578791644.\n"
     ]
    },
    {
     "name": "stderr",
     "output_type": "stream",
     "text": [
      "[I 2025-03-02 21:35:49,061] Trial 826 finished with value: 0.6693014379549085 and parameters: {'learning_rate': 0.06036619012701772, 'max_depth': 3, 'min_child_weight': 1.1700267592314912, 'colsample_bytree': 0.3462991609552612, 'subsample': 0.5227737635884643}. Best is trial 554 with value: 0.6718681578791644.\n"
     ]
    },
    {
     "name": "stderr",
     "output_type": "stream",
     "text": [
      "[I 2025-03-02 21:35:49,292] Trial 827 finished with value: 0.6659950292916741 and parameters: {'learning_rate': 0.028522352820898406, 'max_depth': 4, 'min_child_weight': 1.4420820095744584, 'colsample_bytree': 0.37561820415873104, 'subsample': 0.5101644146991492}. Best is trial 554 with value: 0.6718681578791644.\n"
     ]
    },
    {
     "name": "stderr",
     "output_type": "stream",
     "text": [
      "[I 2025-03-02 21:35:49,529] Trial 828 finished with value: 0.6614318894609148 and parameters: {'learning_rate': 0.045153183270632787, 'max_depth': 4, 'min_child_weight': 5.024084908688107, 'colsample_bytree': 0.6244691748477669, 'subsample': 0.5318676023578788}. Best is trial 554 with value: 0.6718681578791644.\n"
     ]
    },
    {
     "name": "stderr",
     "output_type": "stream",
     "text": [
      "[I 2025-03-02 21:35:49,751] Trial 829 finished with value: 0.6700559204686668 and parameters: {'learning_rate': 0.056499691720444736, 'max_depth': 4, 'min_child_weight': 2.335550845234949, 'colsample_bytree': 0.33094907851837946, 'subsample': 0.507868844680801}. Best is trial 554 with value: 0.6718681578791644.\n"
     ]
    },
    {
     "name": "stderr",
     "output_type": "stream",
     "text": [
      "[I 2025-03-02 21:35:49,973] Trial 830 finished with value: 0.6636442984791999 and parameters: {'learning_rate': 0.03630146122540857, 'max_depth': 4, 'min_child_weight': 1.602433422152833, 'colsample_bytree': 0.3622783095306512, 'subsample': 0.854662301223556}. Best is trial 554 with value: 0.6718681578791644.\n"
     ]
    },
    {
     "name": "stderr",
     "output_type": "stream",
     "text": [
      "[I 2025-03-02 21:35:50,202] Trial 831 finished with value: 0.6623912657553701 and parameters: {'learning_rate': 0.05027478486826112, 'max_depth': 4, 'min_child_weight': 4.645869954679843, 'colsample_bytree': 0.4068023963628444, 'subsample': 0.5180054139418672}. Best is trial 554 with value: 0.6718681578791644.\n"
     ]
    },
    {
     "name": "stderr",
     "output_type": "stream",
     "text": [
      "[I 2025-03-02 21:35:50,452] Trial 832 finished with value: 0.6670224569501154 and parameters: {'learning_rate': 0.0686895254843631, 'max_depth': 5, 'min_child_weight': 4.224111053293411, 'colsample_bytree': 0.31128743444128615, 'subsample': 0.5567523785862247}. Best is trial 554 with value: 0.6718681578791644.\n"
     ]
    },
    {
     "name": "stderr",
     "output_type": "stream",
     "text": [
      "[I 2025-03-02 21:35:50,719] Trial 833 finished with value: 0.6626605124563584 and parameters: {'learning_rate': 0.0406012960995352, 'max_depth': 6, 'min_child_weight': 1.342578878323938, 'colsample_bytree': 0.32617423875669965, 'subsample': 0.5086819136285103}. Best is trial 554 with value: 0.6718681578791644.\n"
     ]
    },
    {
     "name": "stderr",
     "output_type": "stream",
     "text": [
      "[I 2025-03-02 21:35:50,939] Trial 834 finished with value: 0.6679182200130185 and parameters: {'learning_rate': 0.04655320064407019, 'max_depth': 4, 'min_child_weight': 5.193381501592413, 'colsample_bytree': 0.3484410117499404, 'subsample': 0.5239031012399388}. Best is trial 554 with value: 0.6718681578791644.\n"
     ]
    },
    {
     "name": "stderr",
     "output_type": "stream",
     "text": [
      "[I 2025-03-02 21:35:51,147] Trial 835 finished with value: 0.6632300727853719 and parameters: {'learning_rate': 0.030049476669157863, 'max_depth': 3, 'min_child_weight': 3.8897406677764224, 'colsample_bytree': 0.33843032560964276, 'subsample': 0.5740014914776919}. Best is trial 554 with value: 0.6718681578791644.\n"
     ]
    },
    {
     "name": "stderr",
     "output_type": "stream",
     "text": [
      "[I 2025-03-02 21:35:51,378] Trial 836 finished with value: 0.6471270489378069 and parameters: {'learning_rate': 0.187362091741067, 'max_depth': 4, 'min_child_weight': 1.8219745469801456, 'colsample_bytree': 0.3002970565491329, 'subsample': 0.813399448197508}. Best is trial 554 with value: 0.6718681578791644.\n"
     ]
    },
    {
     "name": "stderr",
     "output_type": "stream",
     "text": [
      "[I 2025-03-02 21:35:51,598] Trial 837 finished with value: 0.6686416355997397 and parameters: {'learning_rate': 0.056172340593706876, 'max_depth': 4, 'min_child_weight': 4.843435984172682, 'colsample_bytree': 0.3582022768434319, 'subsample': 0.5006002155997372}. Best is trial 554 with value: 0.6718681578791644.\n"
     ]
    },
    {
     "name": "stderr",
     "output_type": "stream",
     "text": [
      "[I 2025-03-02 21:35:51,826] Trial 838 finished with value: 0.6659935499141961 and parameters: {'learning_rate': 0.02294568601787348, 'max_depth': 4, 'min_child_weight': 5.477318945173063, 'colsample_bytree': 0.37935655223155335, 'subsample': 0.5398802023707767}. Best is trial 554 with value: 0.6718681578791644.\n"
     ]
    },
    {
     "name": "stderr",
     "output_type": "stream",
     "text": [
      "[I 2025-03-02 21:35:52,051] Trial 839 finished with value: 0.669700869873957 and parameters: {'learning_rate': 0.03530279663701176, 'max_depth': 4, 'min_child_weight': 1.5290623023683079, 'colsample_bytree': 0.3232840749411087, 'subsample': 0.5163140895111039}. Best is trial 554 with value: 0.6718681578791644.\n"
     ]
    },
    {
     "name": "stderr",
     "output_type": "stream",
     "text": [
      "[I 2025-03-02 21:35:52,277] Trial 840 finished with value: 0.6669492277649565 and parameters: {'learning_rate': 0.04975015270874343, 'max_depth': 4, 'min_child_weight': 1.8819196585026592, 'colsample_bytree': 0.34173926972771324, 'subsample': 0.5291229097748167}. Best is trial 554 with value: 0.6718681578791644.\n"
     ]
    },
    {
     "name": "stderr",
     "output_type": "stream",
     "text": [
      "[I 2025-03-02 21:35:52,494] Trial 841 finished with value: 0.6653219125392035 and parameters: {'learning_rate': 0.041113222712997506, 'max_depth': 3, 'min_child_weight': 4.459515150450585, 'colsample_bytree': 0.3681059348298405, 'subsample': 0.5079856891669239}. Best is trial 554 with value: 0.6718681578791644.\n"
     ]
    },
    {
     "name": "stderr",
     "output_type": "stream",
     "text": [
      "[I 2025-03-02 21:35:52,720] Trial 842 finished with value: 0.6582090656251849 and parameters: {'learning_rate': 0.06250559042589941, 'max_depth': 4, 'min_child_weight': 2.1229446927390745, 'colsample_bytree': 0.4568699973390406, 'subsample': 0.5005028564764794}. Best is trial 554 with value: 0.6718681578791644.\n"
     ]
    },
    {
     "name": "stderr",
     "output_type": "stream",
     "text": [
      "[I 2025-03-02 21:35:52,943] Trial 843 finished with value: 0.640653293094266 and parameters: {'learning_rate': 0.17897889918999216, 'max_depth': 4, 'min_child_weight': 3.578496626615969, 'colsample_bytree': 0.3955179876085061, 'subsample': 0.5168767215446755}. Best is trial 554 with value: 0.6718681578791644.\n"
     ]
    },
    {
     "name": "stderr",
     "output_type": "stream",
     "text": [
      "[I 2025-03-02 21:35:53,227] Trial 844 finished with value: 0.6688738978637788 and parameters: {'learning_rate': 0.05524040026026643, 'max_depth': 4, 'min_child_weight': 1.6603870482085632, 'colsample_bytree': 0.32689294083966136, 'subsample': 0.5162676481167152}. Best is trial 554 with value: 0.6718681578791644.\n"
     ]
    },
    {
     "name": "stderr",
     "output_type": "stream",
     "text": [
      "[I 2025-03-02 21:35:53,471] Trial 845 finished with value: 0.6694730457423517 and parameters: {'learning_rate': 0.04443646706891881, 'max_depth': 4, 'min_child_weight': 1.2196857470127243, 'colsample_bytree': 0.3512903448812096, 'subsample': 0.5280560559151215}. Best is trial 554 with value: 0.6718681578791644.\n"
     ]
    },
    {
     "name": "stderr",
     "output_type": "stream",
     "text": [
      "[I 2025-03-02 21:35:53,685] Trial 846 finished with value: 0.6603401088821824 and parameters: {'learning_rate': 0.03300671942520871, 'max_depth': 3, 'min_child_weight': 5.05346508113969, 'colsample_bytree': 0.9304025965942315, 'subsample': 0.5078916577275685}. Best is trial 554 with value: 0.6718681578791644.\n"
     ]
    },
    {
     "name": "stderr",
     "output_type": "stream",
     "text": [
      "[I 2025-03-02 21:35:53,903] Trial 847 finished with value: 0.667968518847269 and parameters: {'learning_rate': 0.050659806337508315, 'max_depth': 4, 'min_child_weight': 5.354796902688944, 'colsample_bytree': 0.3119206121255505, 'subsample': 0.522632975212361}. Best is trial 554 with value: 0.6718681578791644.\n"
     ]
    },
    {
     "name": "stderr",
     "output_type": "stream",
     "text": [
      "[I 2025-03-02 21:35:54,128] Trial 848 finished with value: 0.6674729273921534 and parameters: {'learning_rate': 0.025623869023010042, 'max_depth': 4, 'min_child_weight': 1.4249038855852438, 'colsample_bytree': 0.3371317205577197, 'subsample': 0.5000955650775116}. Best is trial 554 with value: 0.6718681578791644.\n"
     ]
    },
    {
     "name": "stderr",
     "output_type": "stream",
     "text": [
      "[I 2025-03-02 21:35:54,360] Trial 849 finished with value: 0.6694952364045209 and parameters: {'learning_rate': 0.03900673320360831, 'max_depth': 4, 'min_child_weight': 1.689354341717536, 'colsample_bytree': 0.3615708286292522, 'subsample': 0.5141025129267589}. Best is trial 554 with value: 0.6718681578791644.\n"
     ]
    },
    {
     "name": "stderr",
     "output_type": "stream",
     "text": [
      "[I 2025-03-02 21:35:54,589] Trial 850 finished with value: 0.6655549144919817 and parameters: {'learning_rate': 0.014370895549263862, 'max_depth': 4, 'min_child_weight': 4.728455057150415, 'colsample_bytree': 0.32238103034294874, 'subsample': 0.5002049534655165}. Best is trial 554 with value: 0.6718681578791644.\n"
     ]
    },
    {
     "name": "stderr",
     "output_type": "stream",
     "text": [
      "[I 2025-03-02 21:35:54,831] Trial 851 finished with value: 0.6631886502159892 and parameters: {'learning_rate': 0.04407948154331914, 'max_depth': 5, 'min_child_weight': 1.9595214228682005, 'colsample_bytree': 0.3477648712787717, 'subsample': 0.5480530098183309}. Best is trial 554 with value: 0.6718681578791644.\n"
     ]
    },
    {
     "name": "stderr",
     "output_type": "stream",
     "text": [
      "[I 2025-03-02 21:35:55,050] Trial 852 finished with value: 0.6637966743594296 and parameters: {'learning_rate': 0.059801691159839104, 'max_depth': 4, 'min_child_weight': 2.497021362710989, 'colsample_bytree': 0.33237807537998676, 'subsample': 0.535184406294852}. Best is trial 554 with value: 0.6718681578791644.\n"
     ]
    },
    {
     "name": "stderr",
     "output_type": "stream",
     "text": [
      "[I 2025-03-02 21:35:55,279] Trial 853 finished with value: 0.6668160837919404 and parameters: {'learning_rate': 0.051583962568432735, 'max_depth': 4, 'min_child_weight': 4.372420480380302, 'colsample_bytree': 0.3101456536864436, 'subsample': 0.517015101133202}. Best is trial 554 with value: 0.6718681578791644.\n"
     ]
    },
    {
     "name": "stderr",
     "output_type": "stream",
     "text": [
      "[I 2025-03-02 21:35:55,527] Trial 854 finished with value: 0.6645881413101369 and parameters: {'learning_rate': 0.03391686986234958, 'max_depth': 4, 'min_child_weight': 6.0487101274167685, 'colsample_bytree': 0.368670994840697, 'subsample': 0.6630994392542661}. Best is trial 554 with value: 0.6718681578791644.\n"
     ]
    },
    {
     "name": "stderr",
     "output_type": "stream",
     "text": [
      "[I 2025-03-02 21:35:55,735] Trial 855 finished with value: 0.6669906503343392 and parameters: {'learning_rate': 0.06743209123744034, 'max_depth': 3, 'min_child_weight': 4.855939723763666, 'colsample_bytree': 0.352313382465713, 'subsample': 0.5107381246080583}. Best is trial 554 with value: 0.6718681578791644.\n"
     ]
    },
    {
     "name": "stderr",
     "output_type": "stream",
     "text": [
      "[I 2025-03-02 21:35:55,958] Trial 856 finished with value: 0.6693088348422984 and parameters: {'learning_rate': 0.047020598788455395, 'max_depth': 4, 'min_child_weight': 5.234549831557961, 'colsample_bytree': 0.3379571476434282, 'subsample': 0.5257090156464193}. Best is trial 554 with value: 0.6718681578791644.\n"
     ]
    },
    {
     "name": "stderr",
     "output_type": "stream",
     "text": [
      "[I 2025-03-02 21:35:56,183] Trial 857 finished with value: 0.6680321320788212 and parameters: {'learning_rate': 0.03978045362163471, 'max_depth': 4, 'min_child_weight': 5.693213161226466, 'colsample_bytree': 0.38321403851818225, 'subsample': 0.5086815528105076}. Best is trial 554 with value: 0.6718681578791644.\n"
     ]
    },
    {
     "name": "stderr",
     "output_type": "stream",
     "text": [
      "[I 2025-03-02 21:35:56,422] Trial 858 finished with value: 0.6687866145925795 and parameters: {'learning_rate': 0.028714991057760857, 'max_depth': 4, 'min_child_weight': 4.1456013554451925, 'colsample_bytree': 0.3245536496374086, 'subsample': 0.5215796253573324}. Best is trial 554 with value: 0.6718681578791644.\n"
     ]
    },
    {
     "name": "stderr",
     "output_type": "stream",
     "text": [
      "[I 2025-03-02 21:35:56,630] Trial 859 finished with value: 0.6624445233445766 and parameters: {'learning_rate': 0.05467661155566218, 'max_depth': 3, 'min_child_weight': 2.162537638275547, 'colsample_bytree': 0.48203460676358884, 'subsample': 0.500331004799042}. Best is trial 554 with value: 0.6718681578791644.\n"
     ]
    },
    {
     "name": "stderr",
     "output_type": "stream",
     "text": [
      "[I 2025-03-02 21:35:56,857] Trial 860 finished with value: 0.6658559678087461 and parameters: {'learning_rate': 0.04603939244188597, 'max_depth': 4, 'min_child_weight': 1.5146829321872117, 'colsample_bytree': 0.3528381118386005, 'subsample': 0.5367999519121769}. Best is trial 554 with value: 0.6718681578791644.\n"
     ]
    },
    {
     "name": "stderr",
     "output_type": "stream",
     "text": [
      "[I 2025-03-02 21:35:57,085] Trial 861 finished with value: 0.6687629445529321 and parameters: {'learning_rate': 0.020480477770117904, 'max_depth': 4, 'min_child_weight': 6.45224187240806, 'colsample_bytree': 0.33943490644708196, 'subsample': 0.5099934218167643}. Best is trial 554 with value: 0.6718681578791644.\n"
     ]
    },
    {
     "name": "stderr",
     "output_type": "stream",
     "text": [
      "[I 2025-03-02 21:35:57,323] Trial 862 finished with value: 0.6633380673412628 and parameters: {'learning_rate': 0.037609868351178855, 'max_depth': 4, 'min_child_weight': 1.1615742427203253, 'colsample_bytree': 0.6571305316996167, 'subsample': 0.5164325791793929}. Best is trial 554 with value: 0.6718681578791644.\n"
     ]
    },
    {
     "name": "stderr",
     "output_type": "stream",
     "text": [
      "[I 2025-03-02 21:35:57,558] Trial 863 finished with value: 0.6673220308894018 and parameters: {'learning_rate': 0.06237652750856813, 'max_depth': 4, 'min_child_weight': 1.7235570250840366, 'colsample_bytree': 0.3143484100104278, 'subsample': 0.5290451601167593}. Best is trial 554 with value: 0.6718681578791644.\n"
     ]
    },
    {
     "name": "stderr",
     "output_type": "stream",
     "text": [
      "[I 2025-03-02 21:35:57,805] Trial 864 finished with value: 0.6634638144268892 and parameters: {'learning_rate': 0.05648315504887275, 'max_depth': 4, 'min_child_weight': 8.106025243078072, 'colsample_bytree': 0.3729875110155334, 'subsample': 0.5097099998727338}. Best is trial 554 with value: 0.6718681578791644.\n"
     ]
    },
    {
     "name": "stderr",
     "output_type": "stream",
     "text": [
      "[I 2025-03-02 21:35:58,013] Trial 865 finished with value: 0.6655416000946802 and parameters: {'learning_rate': 0.030676928262548465, 'max_depth': 3, 'min_child_weight': 4.9743307943715465, 'colsample_bytree': 0.32987007609192737, 'subsample': 0.5226695463596062}. Best is trial 554 with value: 0.6718681578791644.\n"
     ]
    },
    {
     "name": "stderr",
     "output_type": "stream",
     "text": [
      "[I 2025-03-02 21:35:58,242] Trial 866 finished with value: 0.6623357890999467 and parameters: {'learning_rate': 0.042618924921437595, 'max_depth': 4, 'min_child_weight': 1.840933124439, 'colsample_bytree': 0.3594366252373488, 'subsample': 0.6288407598238532}. Best is trial 554 with value: 0.6718681578791644.\n"
     ]
    },
    {
     "name": "stderr",
     "output_type": "stream",
     "text": [
      "[I 2025-03-02 21:35:58,491] Trial 867 finished with value: 0.6675853600804782 and parameters: {'learning_rate': 0.04828992269568927, 'max_depth': 4, 'min_child_weight': 1.3416024471311205, 'colsample_bytree': 0.3000032163201373, 'subsample': 0.5001144512380269}. Best is trial 554 with value: 0.6718681578791644.\n"
     ]
    },
    {
     "name": "stderr",
     "output_type": "stream",
     "text": [
      "[I 2025-03-02 21:35:58,732] Trial 868 finished with value: 0.6685218060240251 and parameters: {'learning_rate': 0.053132926671577596, 'max_depth': 5, 'min_child_weight': 5.4783375065018, 'colsample_bytree': 0.3436144555846795, 'subsample': 0.516008814144571}. Best is trial 554 with value: 0.6718681578791644.\n"
     ]
    },
    {
     "name": "stderr",
     "output_type": "stream",
     "text": [
      "[I 2025-03-02 21:35:58,955] Trial 869 finished with value: 0.6709087815847091 and parameters: {'learning_rate': 0.03572398000600412, 'max_depth': 4, 'min_child_weight': 4.600939575903935, 'colsample_bytree': 0.3207988902772352, 'subsample': 0.5087475433441871}. Best is trial 554 with value: 0.6718681578791644.\n"
     ]
    },
    {
     "name": "stderr",
     "output_type": "stream",
     "text": [
      "[I 2025-03-02 21:35:59,184] Trial 870 finished with value: 0.6608778625954198 and parameters: {'learning_rate': 0.04227574117568608, 'max_depth': 4, 'min_child_weight': 4.592193738361507, 'colsample_bytree': 0.5484723941637443, 'subsample': 0.5085910269557556}. Best is trial 554 with value: 0.6718681578791644.\n"
     ]
    },
    {
     "name": "stderr",
     "output_type": "stream",
     "text": [
      "[I 2025-03-02 21:35:59,414] Trial 871 finished with value: 0.668595774897923 and parameters: {'learning_rate': 0.050350076635630195, 'max_depth': 4, 'min_child_weight': 4.332722162440268, 'colsample_bytree': 0.3117807701924716, 'subsample': 0.500383086418682}. Best is trial 554 with value: 0.6718681578791644.\n"
     ]
    },
    {
     "name": "stderr",
     "output_type": "stream",
     "text": [
      "[I 2025-03-02 21:35:59,663] Trial 872 finished with value: 0.668143085389668 and parameters: {'learning_rate': 0.037798530787696565, 'max_depth': 4, 'min_child_weight': 4.45162645947254, 'colsample_bytree': 0.31695529576833437, 'subsample': 0.5083762472688114}. Best is trial 554 with value: 0.6718681578791644.\n"
     ]
    },
    {
     "name": "stderr",
     "output_type": "stream",
     "text": [
      "[I 2025-03-02 21:35:59,874] Trial 873 finished with value: 0.6668308775667199 and parameters: {'learning_rate': 0.058339866619629296, 'max_depth': 3, 'min_child_weight': 4.473576858475481, 'colsample_bytree': 0.3006998312815458, 'subsample': 0.5090597490418033}. Best is trial 554 with value: 0.6718681578791644.\n"
     ]
    },
    {
     "name": "stderr",
     "output_type": "stream",
     "text": [
      "[I 2025-03-02 21:36:00,100] Trial 874 finished with value: 0.6632692762885378 and parameters: {'learning_rate': 0.07570652389351643, 'max_depth': 4, 'min_child_weight': 4.660845773555414, 'colsample_bytree': 0.32091885595875974, 'subsample': 0.5218240815558803}. Best is trial 554 with value: 0.6718681578791644.\n"
     ]
    },
    {
     "name": "stderr",
     "output_type": "stream",
     "text": [
      "[I 2025-03-02 21:36:00,337] Trial 875 finished with value: 0.6700884667731818 and parameters: {'learning_rate': 0.04364092495824284, 'max_depth': 4, 'min_child_weight': 4.245733005797202, 'colsample_bytree': 0.32521372246190905, 'subsample': 0.5002471501193224}. Best is trial 554 with value: 0.6718681578791644.\n"
     ]
    },
    {
     "name": "stderr",
     "output_type": "stream",
     "text": [
      "[I 2025-03-02 21:36:00,570] Trial 876 finished with value: 0.6676548908219422 and parameters: {'learning_rate': 0.05093352254449021, 'max_depth': 4, 'min_child_weight': 4.660365925156594, 'colsample_bytree': 0.3303431431100863, 'subsample': 0.5299853287078342}. Best is trial 554 with value: 0.6718681578791644.\n"
     ]
    },
    {
     "name": "stderr",
     "output_type": "stream",
     "text": [
      "[I 2025-03-02 21:36:00,796] Trial 877 finished with value: 0.6701239718326528 and parameters: {'learning_rate': 0.03667774050301457, 'max_depth': 4, 'min_child_weight': 3.9592450650746396, 'colsample_bytree': 0.3117136049961281, 'subsample': 0.5180068387319653}. Best is trial 554 with value: 0.6718681578791644.\n"
     ]
    },
    {
     "name": "stderr",
     "output_type": "stream",
     "text": [
      "[I 2025-03-02 21:36:01,020] Trial 878 finished with value: 0.6647094502633292 and parameters: {'learning_rate': 0.07013265182263459, 'max_depth': 4, 'min_child_weight': 4.821046217321992, 'colsample_bytree': 0.33228979908771045, 'subsample': 0.5092999111543002}. Best is trial 554 with value: 0.6718681578791644.\n"
     ]
    },
    {
     "name": "stderr",
     "output_type": "stream",
     "text": [
      "[I 2025-03-02 21:36:01,241] Trial 879 finished with value: 0.6653981004793184 and parameters: {'learning_rate': 0.06347919653960843, 'max_depth': 3, 'min_child_weight': 4.633996899484686, 'colsample_bytree': 0.31966077911267965, 'subsample': 0.5430980105687842}. Best is trial 554 with value: 0.6718681578791644.\n"
     ]
    },
    {
     "name": "stderr",
     "output_type": "stream",
     "text": [
      "[I 2025-03-02 21:36:01,481] Trial 880 finished with value: 0.667832416119297 and parameters: {'learning_rate': 0.04733096279645999, 'max_depth': 4, 'min_child_weight': 4.136551543706067, 'colsample_bytree': 0.33810208620182935, 'subsample': 0.5080427573007611}. Best is trial 554 with value: 0.6718681578791644.\n"
     ]
    },
    {
     "name": "stderr",
     "output_type": "stream",
     "text": [
      "[I 2025-03-02 21:36:01,746] Trial 881 finished with value: 0.6431386472572341 and parameters: {'learning_rate': 0.14027008209071387, 'max_depth': 5, 'min_child_weight': 4.332699698558436, 'colsample_bytree': 0.7349036475255719, 'subsample': 0.5251858975236978}. Best is trial 554 with value: 0.6718681578791644.\n"
     ]
    },
    {
     "name": "stderr",
     "output_type": "stream",
     "text": [
      "[I 2025-03-02 21:36:02,039] Trial 882 finished with value: 0.6637996331143856 and parameters: {'learning_rate': 0.029893536918128415, 'max_depth': 7, 'min_child_weight': 4.771754974670509, 'colsample_bytree': 0.30847914703799934, 'subsample': 0.5175836000300416}. Best is trial 554 with value: 0.6718681578791644.\n"
     ]
    },
    {
     "name": "stderr",
     "output_type": "stream",
     "text": [
      "[I 2025-03-02 21:36:02,282] Trial 883 finished with value: 0.6697644831055092 and parameters: {'learning_rate': 0.056867132559190896, 'max_depth': 4, 'min_child_weight': 4.547147344151784, 'colsample_bytree': 0.3224138270660833, 'subsample': 0.5003789045564107}. Best is trial 554 with value: 0.6718681578791644.\n"
     ]
    },
    {
     "name": "stderr",
     "output_type": "stream",
     "text": [
      "[I 2025-03-02 21:36:02,550] Trial 884 finished with value: 0.6681327297473223 and parameters: {'learning_rate': 0.039704997438834065, 'max_depth': 4, 'min_child_weight': 1.6063111335091, 'colsample_bytree': 0.34298263736744117, 'subsample': 0.531647362917179}. Best is trial 554 with value: 0.6718681578791644.\n"
     ]
    },
    {
     "name": "stderr",
     "output_type": "stream",
     "text": [
      "[I 2025-03-02 21:36:02,787] Trial 885 finished with value: 0.665654032783005 and parameters: {'learning_rate': 0.023951264841309876, 'max_depth': 4, 'min_child_weight': 1.9917596397627082, 'colsample_bytree': 0.3336780360456166, 'subsample': 0.6034662048147663}. Best is trial 554 with value: 0.6718681578791644.\n"
     ]
    },
    {
     "name": "stderr",
     "output_type": "stream",
     "text": [
      "[I 2025-03-02 21:36:03,002] Trial 886 finished with value: 0.6615265696195041 and parameters: {'learning_rate': 0.04440930455945721, 'max_depth': 3, 'min_child_weight': 2.310802358970787, 'colsample_bytree': 0.7631922946464406, 'subsample': 0.5158052859534763}. Best is trial 554 with value: 0.6718681578791644.\n"
     ]
    },
    {
     "name": "stderr",
     "output_type": "stream",
     "text": [
      "[I 2025-03-02 21:36:03,431] Trial 887 finished with value: 0.6443029173323866 and parameters: {'learning_rate': 0.0541758346048174, 'max_depth': 10, 'min_child_weight': 1.008549258417136, 'colsample_bytree': 0.3145979290960642, 'subsample': 0.5083750141839556}. Best is trial 554 with value: 0.6718681578791644.\n"
     ]
    },
    {
     "name": "stderr",
     "output_type": "stream",
     "text": [
      "[I 2025-03-02 21:36:03,822] Trial 888 finished with value: 0.6599273625658324 and parameters: {'learning_rate': 0.03442682707183828, 'max_depth': 9, 'min_child_weight': 1.4007146361006124, 'colsample_bytree': 0.3456321491393792, 'subsample': 0.5000052175511869}. Best is trial 554 with value: 0.6718681578791644.\n"
     ]
    },
    {
     "name": "stderr",
     "output_type": "stream",
     "text": [
      "[I 2025-03-02 21:36:04,050] Trial 889 finished with value: 0.6678309367418189 and parameters: {'learning_rate': 0.049130138992788494, 'max_depth': 4, 'min_child_weight': 1.7038690739768727, 'colsample_bytree': 0.33019730971698474, 'subsample': 0.5237480352800816}. Best is trial 554 with value: 0.6718681578791644.\n"
     ]
    },
    {
     "name": "stderr",
     "output_type": "stream",
     "text": [
      "[I 2025-03-02 21:36:04,284] Trial 890 finished with value: 0.6687185632285935 and parameters: {'learning_rate': 0.04118437831723193, 'max_depth': 4, 'min_child_weight': 1.2904381885616973, 'colsample_bytree': 0.3218812224899321, 'subsample': 0.5148544762103308}. Best is trial 554 with value: 0.6718681578791644.\n"
     ]
    },
    {
     "name": "stderr",
     "output_type": "stream",
     "text": [
      "[I 2025-03-02 21:36:04,530] Trial 891 finished with value: 0.6689153204331617 and parameters: {'learning_rate': 0.06106288560271488, 'max_depth': 4, 'min_child_weight': 4.54444789149273, 'colsample_bytree': 0.34798188199505303, 'subsample': 0.5086253669225383}. Best is trial 554 with value: 0.6718681578791644.\n"
     ]
    },
    {
     "name": "stderr",
     "output_type": "stream",
     "text": [
      "[I 2025-03-02 21:36:04,756] Trial 892 finished with value: 0.6382108408781586 and parameters: {'learning_rate': 0.19790128365076778, 'max_depth': 4, 'min_child_weight': 4.921906050630427, 'colsample_bytree': 0.30852654848658345, 'subsample': 0.5373284670241919}. Best is trial 554 with value: 0.6718681578791644.\n"
     ]
    },
    {
     "name": "stderr",
     "output_type": "stream",
     "text": [
      "[I 2025-03-02 21:36:04,984] Trial 893 finished with value: 0.6290727261968163 and parameters: {'learning_rate': 0.2848928651586835, 'max_depth': 4, 'min_child_weight': 3.827801711835166, 'colsample_bytree': 0.33609716117781013, 'subsample': 0.5247652003014504}. Best is trial 554 with value: 0.6718681578791644.\n"
     ]
    },
    {
     "name": "stderr",
     "output_type": "stream",
     "text": [
      "[I 2025-03-02 21:36:05,197] Trial 894 finished with value: 0.666480265104444 and parameters: {'learning_rate': 0.03205977849497127, 'max_depth': 3, 'min_child_weight': 2.5943360911814133, 'colsample_bytree': 0.3523663709766624, 'subsample': 0.5082486375332556}. Best is trial 554 with value: 0.6718681578791644.\n"
     ]
    },
    {
     "name": "stderr",
     "output_type": "stream",
     "text": [
      "[I 2025-03-02 21:36:05,435] Trial 895 finished with value: 0.6678264986093851 and parameters: {'learning_rate': 0.04770596621532737, 'max_depth': 4, 'min_child_weight': 2.081660268579766, 'colsample_bytree': 0.3250571191646357, 'subsample': 0.5000030207255399}. Best is trial 554 with value: 0.6718681578791644.\n"
     ]
    },
    {
     "name": "stderr",
     "output_type": "stream",
     "text": [
      "[I 2025-03-02 21:36:05,746] Trial 896 finished with value: 0.6572104858275637 and parameters: {'learning_rate': 0.026657084413177285, 'max_depth': 6, 'min_child_weight': 1.5157987743843009, 'colsample_bytree': 0.8823496433178188, 'subsample': 0.5160061121457455}. Best is trial 554 with value: 0.6718681578791644.\n"
     ]
    },
    {
     "name": "stderr",
     "output_type": "stream",
     "text": [
      "[I 2025-03-02 21:36:05,971] Trial 897 finished with value: 0.6674566542398959 and parameters: {'learning_rate': 0.05451317287909629, 'max_depth': 4, 'min_child_weight': 4.069337027913473, 'colsample_bytree': 0.30006707825718015, 'subsample': 0.5307553234074958}. Best is trial 554 with value: 0.6718681578791644.\n"
     ]
    },
    {
     "name": "stderr",
     "output_type": "stream",
     "text": [
      "[I 2025-03-02 21:36:06,201] Trial 898 finished with value: 0.668628321202438 and parameters: {'learning_rate': 0.038248176453764694, 'max_depth': 4, 'min_child_weight': 1.864952384335572, 'colsample_bytree': 0.33926333177977835, 'subsample': 0.5161645992549231}. Best is trial 554 with value: 0.6718681578791644.\n"
     ]
    },
    {
     "name": "stderr",
     "output_type": "stream",
     "text": [
      "[I 2025-03-02 21:36:06,437] Trial 899 finished with value: 0.6704952955796202 and parameters: {'learning_rate': 0.04413367394109741, 'max_depth': 4, 'min_child_weight': 4.3553294771271585, 'colsample_bytree': 0.36171431873907656, 'subsample': 0.500269947198841}. Best is trial 554 with value: 0.6718681578791644.\n"
     ]
    },
    {
     "name": "stderr",
     "output_type": "stream",
     "text": [
      "[I 2025-03-02 21:36:06,667] Trial 900 finished with value: 0.6581291792413753 and parameters: {'learning_rate': 0.08455308162935271, 'max_depth': 4, 'min_child_weight': 4.8432482213108194, 'colsample_bytree': 0.3196921242097618, 'subsample': 0.7092099192153156}. Best is trial 554 with value: 0.6718681578791644.\n"
     ]
    },
    {
     "name": "stderr",
     "output_type": "stream",
     "text": [
      "[I 2025-03-02 21:36:06,879] Trial 901 finished with value: 0.6628173264690218 and parameters: {'learning_rate': 0.05105310401850792, 'max_depth': 3, 'min_child_weight': 1.5689156405184328, 'colsample_bytree': 0.348633899763204, 'subsample': 0.9037518043533397}. Best is trial 554 with value: 0.6718681578791644.\n"
     ]
    },
    {
     "name": "stderr",
     "output_type": "stream",
     "text": [
      "[I 2025-03-02 21:36:07,125] Trial 902 finished with value: 0.6660542043907924 and parameters: {'learning_rate': 0.06481806127761486, 'max_depth': 5, 'min_child_weight': 1.7908341751135743, 'colsample_bytree': 0.33089379270105684, 'subsample': 0.5231932890115019}. Best is trial 554 with value: 0.6718681578791644.\n"
     ]
    },
    {
     "name": "stderr",
     "output_type": "stream",
     "text": [
      "[I 2025-03-02 21:36:07,377] Trial 903 finished with value: 0.6643307296289721 and parameters: {'learning_rate': 0.05806403306732372, 'max_depth': 4, 'min_child_weight': 1.224995318298876, 'colsample_bytree': 0.3655104705446432, 'subsample': 0.500107913532078}. Best is trial 554 with value: 0.6718681578791644.\n"
     ]
    },
    {
     "name": "stderr",
     "output_type": "stream",
     "text": [
      "[I 2025-03-02 21:36:07,609] Trial 904 finished with value: 0.6680410083436891 and parameters: {'learning_rate': 0.019168267297571186, 'max_depth': 4, 'min_child_weight': 5.021961161805626, 'colsample_bytree': 0.3415370745121382, 'subsample': 0.509891768613577}. Best is trial 554 with value: 0.6718681578791644.\n"
     ]
    },
    {
     "name": "stderr",
     "output_type": "stream",
     "text": [
      "[I 2025-03-02 21:36:07,836] Trial 905 finished with value: 0.6673545771939169 and parameters: {'learning_rate': 0.04471757180643382, 'max_depth': 4, 'min_child_weight': 4.717977413476652, 'colsample_bytree': 0.3123510717433503, 'subsample': 0.5342867162189722}. Best is trial 554 with value: 0.6718681578791644.\n"
     ]
    },
    {
     "name": "stderr",
     "output_type": "stream",
     "text": [
      "[I 2025-03-02 21:36:08,064] Trial 906 finished with value: 0.6673952600745606 and parameters: {'learning_rate': 0.03429120365718568, 'max_depth': 4, 'min_child_weight': 1.3819074671257157, 'colsample_bytree': 0.3546839010518375, 'subsample': 0.5495465092223397}. Best is trial 554 with value: 0.6718681578791644.\n"
     ]
    },
    {
     "name": "stderr",
     "output_type": "stream",
     "text": [
      "[I 2025-03-02 21:36:08,294] Trial 907 finished with value: 0.6686845375466004 and parameters: {'learning_rate': 0.03893731654126943, 'max_depth': 4, 'min_child_weight': 4.215821071740638, 'colsample_bytree': 0.3321385702266039, 'subsample': 0.5148079762526873}. Best is trial 554 with value: 0.6718681578791644.\n"
     ]
    },
    {
     "name": "stderr",
     "output_type": "stream",
     "text": [
      "[I 2025-03-02 21:36:08,517] Trial 908 finished with value: 0.6409979880466301 and parameters: {'learning_rate': 0.2982634843271975, 'max_depth': 3, 'min_child_weight': 1.97097238249497, 'colsample_bytree': 0.32405795645482355, 'subsample': 0.5234522965789519}. Best is trial 554 with value: 0.6718681578791644.\n"
     ]
    },
    {
     "name": "stderr",
     "output_type": "stream",
     "text": [
      "[I 2025-03-02 21:36:08,749] Trial 909 finished with value: 0.6653256109828983 and parameters: {'learning_rate': 0.02595710785064535, 'max_depth': 4, 'min_child_weight': 1.661301754323978, 'colsample_bytree': 0.37172510146843224, 'subsample': 0.5086976513018003}. Best is trial 554 with value: 0.6718681578791644.\n"
     ]
    },
    {
     "name": "stderr",
     "output_type": "stream",
     "text": [
      "[I 2025-03-02 21:36:08,979] Trial 910 finished with value: 0.6677185040534942 and parameters: {'learning_rate': 0.053102709555796865, 'max_depth': 4, 'min_child_weight': 4.50324635346933, 'colsample_bytree': 0.34251627374541865, 'subsample': 0.5170325609973347}. Best is trial 554 with value: 0.6718681578791644.\n"
     ]
    },
    {
     "name": "stderr",
     "output_type": "stream",
     "text": [
      "[I 2025-03-02 21:36:09,206] Trial 911 finished with value: 0.669180868690455 and parameters: {'learning_rate': 0.04603230218158682, 'max_depth': 4, 'min_child_weight': 2.230520920484346, 'colsample_bytree': 0.3113835854520174, 'subsample': 0.5082874416471665}. Best is trial 554 with value: 0.6718681578791644.\n"
     ]
    },
    {
     "name": "stderr",
     "output_type": "stream",
     "text": [
      "[I 2025-03-02 21:36:09,441] Trial 912 finished with value: 0.6699257352506065 and parameters: {'learning_rate': 0.03294304574127355, 'max_depth': 4, 'min_child_weight': 1.479543079882236, 'colsample_bytree': 0.3486348698605566, 'subsample': 0.5302741912534549}. Best is trial 554 with value: 0.6718681578791644.\n"
     ]
    },
    {
     "name": "stderr",
     "output_type": "stream",
     "text": [
      "[I 2025-03-02 21:36:09,675] Trial 913 finished with value: 0.6623542813184212 and parameters: {'learning_rate': 0.04072577593388837, 'max_depth': 4, 'min_child_weight': 1.163965923069962, 'colsample_bytree': 0.5065488989202527, 'subsample': 0.5207139374036011}. Best is trial 554 with value: 0.6718681578791644.\n"
     ]
    },
    {
     "name": "stderr",
     "output_type": "stream",
     "text": [
      "[I 2025-03-02 21:36:09,883] Trial 914 finished with value: 0.6637922362269957 and parameters: {'learning_rate': 0.05857162779878145, 'max_depth': 3, 'min_child_weight': 2.8156225393992487, 'colsample_bytree': 0.3863624753334449, 'subsample': 0.5085839476999083}. Best is trial 554 with value: 0.6718681578791644.\n"
     ]
    },
    {
     "name": "stderr",
     "output_type": "stream",
     "text": [
      "[I 2025-03-02 21:36:10,110] Trial 915 finished with value: 0.6697289780460383 and parameters: {'learning_rate': 0.049194874088283484, 'max_depth': 4, 'min_child_weight': 1.811838766552013, 'colsample_bytree': 0.331991921351478, 'subsample': 0.5001082326043943}. Best is trial 554 with value: 0.6718681578791644.\n"
     ]
    },
    {
     "name": "stderr",
     "output_type": "stream",
     "text": [
      "[I 2025-03-02 21:36:10,347] Trial 916 finished with value: 0.6608571513107284 and parameters: {'learning_rate': 0.0681005778059338, 'max_depth': 4, 'min_child_weight': 3.9830522037959706, 'colsample_bytree': 0.3602221271917351, 'subsample': 0.8282582895181778}. Best is trial 554 with value: 0.6718681578791644.\n"
     ]
    },
    {
     "name": "stderr",
     "output_type": "stream",
     "text": [
      "[I 2025-03-02 21:36:10,598] Trial 917 finished with value: 0.6628868572104858 and parameters: {'learning_rate': 0.03656113148705693, 'max_depth': 4, 'min_child_weight': 3.7058340388998183, 'colsample_bytree': 0.32286635670324376, 'subsample': 0.5639542025766258}. Best is trial 554 with value: 0.6718681578791644.\n"
     ]
    },
    {
     "name": "stderr",
     "output_type": "stream",
     "text": [
      "[I 2025-03-02 21:36:10,830] Trial 918 finished with value: 0.6659328954375998 and parameters: {'learning_rate': 0.052267458487194704, 'max_depth': 4, 'min_child_weight': 1.610267348326826, 'colsample_bytree': 0.3104292242703011, 'subsample': 0.5863367043923087}. Best is trial 554 with value: 0.6718681578791644.\n"
     ]
    },
    {
     "name": "stderr",
     "output_type": "stream",
     "text": [
      "[I 2025-03-02 21:36:11,078] Trial 919 finished with value: 0.6647094502633292 and parameters: {'learning_rate': 0.0429347269062831, 'max_depth': 5, 'min_child_weight': 5.052531401733864, 'colsample_bytree': 0.34173651908387687, 'subsample': 0.5178784629788401}. Best is trial 554 with value: 0.6718681578791644.\n"
     ]
    },
    {
     "name": "stderr",
     "output_type": "stream",
     "text": [
      "[I 2025-03-02 21:36:11,302] Trial 920 finished with value: 0.6650822533877745 and parameters: {'learning_rate': 0.030700228516413734, 'max_depth': 3, 'min_child_weight': 4.804287606774294, 'colsample_bytree': 0.3564309440259772, 'subsample': 0.5425346117162991}. Best is trial 554 with value: 0.6718681578791644.\n"
     ]
    },
    {
     "name": "stderr",
     "output_type": "stream",
     "text": [
      "[I 2025-03-02 21:36:11,546] Trial 921 finished with value: 0.6318228889283388 and parameters: {'learning_rate': 0.2449444460438625, 'max_depth': 4, 'min_child_weight': 2.06340588798127, 'colsample_bytree': 0.3330353714116116, 'subsample': 0.5002273067987282}. Best is trial 554 with value: 0.6718681578791644.\n"
     ]
    },
    {
     "name": "stderr",
     "output_type": "stream",
     "text": [
      "[I 2025-03-02 21:36:11,782] Trial 922 finished with value: 0.6628054914491982 and parameters: {'learning_rate': 0.06227351429838131, 'max_depth': 4, 'min_child_weight': 1.3404295572547111, 'colsample_bytree': 0.37359056207474417, 'subsample': 0.5251267641684851}. Best is trial 554 with value: 0.6718681578791644.\n"
     ]
    },
    {
     "name": "stderr",
     "output_type": "stream",
     "text": [
      "[I 2025-03-02 21:36:12,013] Trial 923 finished with value: 0.6714228652582993 and parameters: {'learning_rate': 0.050595648434625926, 'max_depth': 4, 'min_child_weight': 9.757729020186936, 'colsample_bytree': 0.3207365359688626, 'subsample': 0.5094932858186422}. Best is trial 554 with value: 0.6718681578791644.\n"
     ]
    },
    {
     "name": "stderr",
     "output_type": "stream",
     "text": [
      "[I 2025-03-02 21:36:12,249] Trial 924 finished with value: 0.6691179951476418 and parameters: {'learning_rate': 0.05766285878815297, 'max_depth': 4, 'min_child_weight': 8.915585512559904, 'colsample_bytree': 0.30969575532008453, 'subsample': 0.5086900788917994}. Best is trial 554 with value: 0.6718681578791644.\n"
     ]
    },
    {
     "name": "stderr",
     "output_type": "stream",
     "text": [
      "[I 2025-03-02 21:36:12,489] Trial 925 finished with value: 0.6687954908574472 and parameters: {'learning_rate': 0.05349021093986371, 'max_depth': 4, 'min_child_weight': 2.4100669378675303, 'colsample_bytree': 0.30085054006559764, 'subsample': 0.5098561293325773}. Best is trial 554 with value: 0.6718681578791644.\n"
     ]
    },
    {
     "name": "stderr",
     "output_type": "stream",
     "text": [
      "[I 2025-03-02 21:36:12,720] Trial 926 finished with value: 0.6660408899934906 and parameters: {'learning_rate': 0.06393339680650145, 'max_depth': 4, 'min_child_weight': 5.186421390041868, 'colsample_bytree': 0.32164940307966455, 'subsample': 0.5000472116071575}. Best is trial 554 with value: 0.6718681578791644.\n"
     ]
    },
    {
     "name": "stderr",
     "output_type": "stream",
     "text": [
      "[I 2025-03-02 21:36:12,942] Trial 927 finished with value: 0.6676171666962543 and parameters: {'learning_rate': 0.04965937650891815, 'max_depth': 3, 'min_child_weight': 8.280468016709076, 'colsample_bytree': 0.31809352730329365, 'subsample': 0.5150078043513681}. Best is trial 554 with value: 0.6718681578791644.\n"
     ]
    },
    {
     "name": "stderr",
     "output_type": "stream",
     "text": [
      "[I 2025-03-02 21:36:13,189] Trial 928 finished with value: 0.6694138706432333 and parameters: {'learning_rate': 0.057112312086869295, 'max_depth': 4, 'min_child_weight': 9.76303198728877, 'colsample_bytree': 0.30031162824441204, 'subsample': 0.5088079534621107}. Best is trial 554 with value: 0.6718681578791644.\n"
     ]
    },
    {
     "name": "stderr",
     "output_type": "stream",
     "text": [
      "[I 2025-03-02 21:36:13,432] Trial 929 finished with value: 0.664092549855021 and parameters: {'learning_rate': 0.07139703706130895, 'max_depth': 4, 'min_child_weight': 3.320164544234602, 'colsample_bytree': 0.32183298964599233, 'subsample': 0.5002691049578109}. Best is trial 554 with value: 0.6718681578791644.\n"
     ]
    },
    {
     "name": "stderr",
     "output_type": "stream",
     "text": [
      "[I 2025-03-02 21:36:13,671] Trial 930 finished with value: 0.668832475294396 and parameters: {'learning_rate': 0.04860364588394894, 'max_depth': 4, 'min_child_weight': 1.8696478627865283, 'colsample_bytree': 0.33249032478780327, 'subsample': 0.5163855865839592}. Best is trial 554 with value: 0.6718681578791644.\n"
     ]
    },
    {
     "name": "stderr",
     "output_type": "stream",
     "text": [
      "[I 2025-03-02 21:36:13,905] Trial 931 finished with value: 0.6687629445529322 and parameters: {'learning_rate': 0.053823233215487036, 'max_depth': 4, 'min_child_weight': 3.0075650434003496, 'colsample_bytree': 0.31134935851347095, 'subsample': 0.5094958644327633}. Best is trial 554 with value: 0.6718681578791644.\n"
     ]
    },
    {
     "name": "stderr",
     "output_type": "stream",
     "text": [
      "[I 2025-03-02 21:36:14,138] Trial 932 finished with value: 0.6672761701875851 and parameters: {'learning_rate': 0.06126848362894671, 'max_depth': 4, 'min_child_weight': 6.658174501060631, 'colsample_bytree': 0.3213864888142098, 'subsample': 0.5175773595662239}. Best is trial 554 with value: 0.6718681578791644.\n"
     ]
    },
    {
     "name": "stderr",
     "output_type": "stream",
     "text": [
      "[I 2025-03-02 21:36:14,365] Trial 933 finished with value: 0.6687910527250134 and parameters: {'learning_rate': 0.04722261861046828, 'max_depth': 3, 'min_child_weight': 9.290406677703556, 'colsample_bytree': 0.3378069295189642, 'subsample': 0.5096442371728749}. Best is trial 554 with value: 0.6718681578791644.\n"
     ]
    },
    {
     "name": "stderr",
     "output_type": "stream",
     "text": [
      "[I 2025-03-02 21:36:14,606] Trial 934 finished with value: 0.6661843896088526 and parameters: {'learning_rate': 0.054711733719916195, 'max_depth': 4, 'min_child_weight': 1.6728553562091704, 'colsample_bytree': 0.33080773782889045, 'subsample': 0.5239900696791631}. Best is trial 554 with value: 0.6718681578791644.\n"
     ]
    },
    {
     "name": "stderr",
     "output_type": "stream",
     "text": [
      "[I 2025-03-02 21:36:14,843] Trial 935 finished with value: 0.669740813065862 and parameters: {'learning_rate': 0.04642630652359524, 'max_depth': 4, 'min_child_weight': 7.632542935990447, 'colsample_bytree': 0.3013461575861899, 'subsample': 0.5087968752185803}. Best is trial 554 with value: 0.6718681578791644.\n"
     ]
    },
    {
     "name": "stderr",
     "output_type": "stream",
     "text": [
      "[I 2025-03-02 21:36:15,084] Trial 936 finished with value: 0.6594872477661401 and parameters: {'learning_rate': 0.05900294667322445, 'max_depth': 4, 'min_child_weight': 6.245933269832228, 'colsample_bytree': 0.712659605062046, 'subsample': 0.5190767794865918}. Best is trial 554 with value: 0.6718681578791644.\n"
     ]
    },
    {
     "name": "stderr",
     "output_type": "stream",
     "text": [
      "[I 2025-03-02 21:36:15,320] Trial 937 finished with value: 0.6698813539262678 and parameters: {'learning_rate': 0.04279242212894734, 'max_depth': 4, 'min_child_weight': 1.447635861427055, 'colsample_bytree': 0.3157050351884479, 'subsample': 0.5082984097614617}. Best is trial 554 with value: 0.6718681578791644.\n"
     ]
    },
    {
     "name": "stderr",
     "output_type": "stream",
     "text": [
      "[I 2025-03-02 21:36:15,569] Trial 938 finished with value: 0.6671785312740398 and parameters: {'learning_rate': 0.05038001458870292, 'max_depth': 4, 'min_child_weight': 1.1912862234062283, 'colsample_bytree': 0.34555405812736745, 'subsample': 0.5296175702629742}. Best is trial 554 with value: 0.6718681578791644.\n"
     ]
    },
    {
     "name": "stderr",
     "output_type": "stream",
     "text": [
      "[I 2025-03-02 21:36:15,792] Trial 939 finished with value: 0.6674499970412451 and parameters: {'learning_rate': 0.042747622697814514, 'max_depth': 3, 'min_child_weight': 4.971553024503161, 'colsample_bytree': 0.3274349374662386, 'subsample': 0.517269869505329}. Best is trial 554 with value: 0.6718681578791644.\n"
     ]
    },
    {
     "name": "stderr",
     "output_type": "stream",
     "text": [
      "[I 2025-03-02 21:36:16,025] Trial 940 finished with value: 0.6694597313450501 and parameters: {'learning_rate': 0.06642378248202305, 'max_depth': 4, 'min_child_weight': 7.319658637081787, 'colsample_bytree': 0.34126520559958246, 'subsample': 0.5090005277593137}. Best is trial 554 with value: 0.6718681578791644.\n"
     ]
    },
    {
     "name": "stderr",
     "output_type": "stream",
     "text": [
      "[I 2025-03-02 21:36:16,281] Trial 941 finished with value: 0.666622285342328 and parameters: {'learning_rate': 0.05325531231522439, 'max_depth': 5, 'min_child_weight': 1.721580930492872, 'colsample_bytree': 0.3139146976047652, 'subsample': 0.5246204436306982}. Best is trial 554 with value: 0.6718681578791644.\n"
     ]
    },
    {
     "name": "stderr",
     "output_type": "stream",
     "text": [
      "[I 2025-03-02 21:36:16,517] Trial 942 finished with value: 0.6597698088644299 and parameters: {'learning_rate': 0.11825863808088136, 'max_depth': 4, 'min_child_weight': 2.1029414820802663, 'colsample_bytree': 0.34818964898309057, 'subsample': 0.5066969956136264}. Best is trial 554 with value: 0.6718681578791644.\n"
     ]
    },
    {
     "name": "stderr",
     "output_type": "stream",
     "text": [
      "[I 2025-03-02 21:36:16,750] Trial 943 finished with value: 0.6638647257234156 and parameters: {'learning_rate': 0.047464651601246174, 'max_depth': 4, 'min_child_weight': 9.977400504044876, 'colsample_bytree': 0.3227645155833397, 'subsample': 0.7844570721744769}. Best is trial 554 with value: 0.6718681578791644.\n"
     ]
    },
    {
     "name": "stderr",
     "output_type": "stream",
     "text": [
      "[I 2025-03-02 21:36:16,986] Trial 944 finished with value: 0.668008462039174 and parameters: {'learning_rate': 0.057859695083671274, 'max_depth': 4, 'min_child_weight': 7.043180704520575, 'colsample_bytree': 0.33251904411636257, 'subsample': 0.5003595632776159}. Best is trial 554 with value: 0.6718681578791644.\n"
     ]
    },
    {
     "name": "stderr",
     "output_type": "stream",
     "text": [
      "[I 2025-03-02 21:36:17,313] Trial 945 finished with value: 0.6592934493165277 and parameters: {'learning_rate': 0.040057325580718416, 'max_depth': 4, 'min_child_weight': 1.000957206167459, 'colsample_bytree': 0.8381961585276538, 'subsample': 0.516824794173994}. Best is trial 554 with value: 0.6718681578791644.\n"
     ]
    },
    {
     "name": "stderr",
     "output_type": "stream",
     "text": [
      "[I 2025-03-02 21:36:17,552] Trial 946 finished with value: 0.6677199834309724 and parameters: {'learning_rate': 0.050775589408554464, 'max_depth': 4, 'min_child_weight': 1.5291844195514306, 'colsample_bytree': 0.3007356444963609, 'subsample': 0.5327463968067654}. Best is trial 554 with value: 0.6718681578791644.\n"
     ]
    },
    {
     "name": "stderr",
     "output_type": "stream",
     "text": [
      "[I 2025-03-02 21:36:17,825] Trial 947 finished with value: 0.6638647257234156 and parameters: {'learning_rate': 0.044647587295204585, 'max_depth': 6, 'min_child_weight': 9.501185139832078, 'colsample_bytree': 0.3544232846678005, 'subsample': 0.5148107094742654}. Best is trial 554 with value: 0.6718681578791644.\n"
     ]
    },
    {
     "name": "stderr",
     "output_type": "stream",
     "text": [
      "[I 2025-03-02 21:36:18,044] Trial 948 finished with value: 0.6625658322977691 and parameters: {'learning_rate': 0.062448290680790525, 'max_depth': 3, 'min_child_weight': 9.056850987824781, 'colsample_bytree': 0.4398171631306861, 'subsample': 0.5002092476909215}. Best is trial 554 with value: 0.6718681578791644.\n"
     ]
    },
    {
     "name": "stderr",
     "output_type": "stream",
     "text": [
      "[I 2025-03-02 21:36:18,303] Trial 949 finished with value: 0.6660897094502634 and parameters: {'learning_rate': 0.0382028497410202, 'max_depth': 5, 'min_child_weight': 1.851244847455654, 'colsample_bytree': 0.3385041805314919, 'subsample': 0.5220875538188114}. Best is trial 554 with value: 0.6718681578791644.\n"
     ]
    },
    {
     "name": "stderr",
     "output_type": "stream",
     "text": [
      "[I 2025-03-02 21:36:18,541] Trial 950 finished with value: 0.6699826912835078 and parameters: {'learning_rate': 0.05580244263548567, 'max_depth': 4, 'min_child_weight': 5.088175867555382, 'colsample_bytree': 0.32134014253052523, 'subsample': 0.5099894610395487}. Best is trial 554 with value: 0.6718681578791644.\n"
     ]
    },
    {
     "name": "stderr",
     "output_type": "stream",
     "text": [
      "[I 2025-03-02 21:36:18,774] Trial 951 finished with value: 0.6673027989821882 and parameters: {'learning_rate': 0.04784110797132613, 'max_depth': 4, 'min_child_weight': 1.3691722258181787, 'colsample_bytree': 0.36124805461730874, 'subsample': 0.528458037548243}. Best is trial 554 with value: 0.6718681578791644.\n"
     ]
    },
    {
     "name": "stderr",
     "output_type": "stream",
     "text": [
      "[I 2025-03-02 21:36:19,004] Trial 952 finished with value: 0.6712305461861648 and parameters: {'learning_rate': 0.03869596562405193, 'max_depth': 4, 'min_child_weight': 7.898369475610308, 'colsample_bytree': 0.33763595459363, 'subsample': 0.5087235187473759}. Best is trial 554 with value: 0.6718681578791644.\n"
     ]
    },
    {
     "name": "stderr",
     "output_type": "stream",
     "text": [
      "[I 2025-03-02 21:36:19,228] Trial 953 finished with value: 0.6677214628084502 and parameters: {'learning_rate': 0.042589140319081356, 'max_depth': 4, 'min_child_weight': 8.481897124915514, 'colsample_bytree': 0.31275561838971133, 'subsample': 0.5000811991477223}. Best is trial 554 with value: 0.6718681578791644.\n"
     ]
    },
    {
     "name": "stderr",
     "output_type": "stream",
     "text": [
      "[I 2025-03-02 21:36:19,461] Trial 954 finished with value: 0.670394697911119 and parameters: {'learning_rate': 0.05386618300473128, 'max_depth': 4, 'min_child_weight': 9.618282737575404, 'colsample_bytree': 0.32882153817448856, 'subsample': 0.5168198586598284}. Best is trial 554 with value: 0.6718681578791644.\n"
     ]
    },
    {
     "name": "stderr",
     "output_type": "stream",
     "text": [
      "[I 2025-03-02 21:36:19,679] Trial 955 finished with value: 0.6652516421090005 and parameters: {'learning_rate': 0.05029633064542546, 'max_depth': 3, 'min_child_weight': 8.626607462340072, 'colsample_bytree': 0.3386306497366201, 'subsample': 0.6799282584982934}. Best is trial 554 with value: 0.6718681578791644.\n"
     ]
    },
    {
     "name": "stderr",
     "output_type": "stream",
     "text": [
      "[I 2025-03-02 21:36:19,917] Trial 956 finished with value: 0.6673294277767915 and parameters: {'learning_rate': 0.04520909144015278, 'max_depth': 4, 'min_child_weight': 9.835110183436944, 'colsample_bytree': 0.31942998317937005, 'subsample': 0.5336786838871492}. Best is trial 554 with value: 0.6718681578791644.\n"
     ]
    },
    {
     "name": "stderr",
     "output_type": "stream",
     "text": [
      "[I 2025-03-02 21:36:20,175] Trial 957 finished with value: 0.6691793893129769 and parameters: {'learning_rate': 0.04088808741415068, 'max_depth': 4, 'min_child_weight': 7.656999557417684, 'colsample_bytree': 0.33354461915050954, 'subsample': 0.5003543865250991}. Best is trial 554 with value: 0.6718681578791644.\n"
     ]
    },
    {
     "name": "stderr",
     "output_type": "stream",
     "text": [
      "[I 2025-03-02 21:36:20,420] Trial 958 finished with value: 0.6690011243268832 and parameters: {'learning_rate': 0.06055718702503197, 'max_depth': 4, 'min_child_weight': 9.165144148553976, 'colsample_bytree': 0.31171290001840096, 'subsample': 0.5225546990731105}. Best is trial 554 with value: 0.6718681578791644.\n"
     ]
    },
    {
     "name": "stderr",
     "output_type": "stream",
     "text": [
      "[I 2025-03-02 21:36:20,671] Trial 959 finished with value: 0.6729821291200662 and parameters: {'learning_rate': 0.050034861233703834, 'max_depth': 4, 'min_child_weight': 8.770250030867077, 'colsample_bytree': 0.3450049723647326, 'subsample': 0.5092593928959018}. Best is trial 959 with value: 0.6729821291200662.\n"
     ]
    },
    {
     "name": "stderr",
     "output_type": "stream",
     "text": [
      "[I 2025-03-02 21:36:20,892] Trial 960 finished with value: 0.6659166222853424 and parameters: {'learning_rate': 0.036986120856172894, 'max_depth': 3, 'min_child_weight': 8.910250304970091, 'colsample_bytree': 0.3644001906173412, 'subsample': 0.5398410425652456}. Best is trial 959 with value: 0.6729821291200662.\n"
     ]
    },
    {
     "name": "stderr",
     "output_type": "stream",
     "text": [
      "[I 2025-03-02 21:36:21,127] Trial 961 finished with value: 0.669010000591751 and parameters: {'learning_rate': 0.0471897969609537, 'max_depth': 4, 'min_child_weight': 8.81501683724067, 'colsample_bytree': 0.34825285787863053, 'subsample': 0.5227073144316984}. Best is trial 959 with value: 0.6729821291200662.\n"
     ]
    },
    {
     "name": "stderr",
     "output_type": "stream",
     "text": [
      "[I 2025-03-02 21:36:21,441] Trial 962 finished with value: 0.6693961181134979 and parameters: {'learning_rate': 0.040166361404732544, 'max_depth': 8, 'min_child_weight': 9.3942376721007, 'colsample_bytree': 0.34964732467500814, 'subsample': 0.5313745098241714}. Best is trial 959 with value: 0.6729821291200662.\n"
     ]
    },
    {
     "name": "stderr",
     "output_type": "stream",
     "text": [
      "[I 2025-03-02 21:36:21,683] Trial 963 finished with value: 0.6693258476832948 and parameters: {'learning_rate': 0.04489664591891783, 'max_depth': 4, 'min_child_weight': 1.292746211408369, 'colsample_bytree': 0.3501464269242302, 'subsample': 0.5145392087850384}. Best is trial 959 with value: 0.6729821291200662.\n"
     ]
    },
    {
     "name": "stderr",
     "output_type": "stream",
     "text": [
      "[I 2025-03-02 21:36:21,920] Trial 964 finished with value: 0.667069057340671 and parameters: {'learning_rate': 0.036841972015671985, 'max_depth': 4, 'min_child_weight': 7.949129716722738, 'colsample_bytree': 0.37140596500486317, 'subsample': 0.5173077365678781}. Best is trial 959 with value: 0.6729821291200662.\n"
     ]
    },
    {
     "name": "stderr",
     "output_type": "stream",
     "text": [
      "[I 2025-03-02 21:36:22,155] Trial 965 finished with value: 0.6689937274394935 and parameters: {'learning_rate': 0.051945235322780656, 'max_depth': 4, 'min_child_weight': 9.314015988293798, 'colsample_bytree': 0.3370117575991275, 'subsample': 0.5258630812619235}. Best is trial 959 with value: 0.6729821291200662.\n"
     ]
    },
    {
     "name": "stderr",
     "output_type": "stream",
     "text": [
      "[I 2025-03-02 21:36:22,401] Trial 966 finished with value: 0.6703843422687732 and parameters: {'learning_rate': 0.04766520945175807, 'max_depth': 4, 'min_child_weight': 7.895178670998913, 'colsample_bytree': 0.340911861659354, 'subsample': 0.5093281621489167}. Best is trial 959 with value: 0.6729821291200662.\n"
     ]
    },
    {
     "name": "stderr",
     "output_type": "stream",
     "text": [
      "[I 2025-03-02 21:36:22,642] Trial 967 finished with value: 0.6699212971181727 and parameters: {'learning_rate': 0.04326944459370853, 'max_depth': 4, 'min_child_weight': 8.64165907141058, 'colsample_bytree': 0.358695607124165, 'subsample': 0.5154774775168495}. Best is trial 959 with value: 0.6729821291200662.\n"
     ]
    },
    {
     "name": "stderr",
     "output_type": "stream",
     "text": [
      "[I 2025-03-02 21:36:22,877] Trial 968 finished with value: 0.670086247706965 and parameters: {'learning_rate': 0.05199682925157756, 'max_depth': 4, 'min_child_weight': 8.758031680056623, 'colsample_bytree': 0.3269854207318144, 'subsample': 0.5394351642235826}. Best is trial 959 with value: 0.6729821291200662.\n"
     ]
    },
    {
     "name": "stderr",
     "output_type": "stream",
     "text": [
      "[I 2025-03-02 21:36:23,102] Trial 969 finished with value: 0.6632137996331144 and parameters: {'learning_rate': 0.03761151971729132, 'max_depth': 3, 'min_child_weight': 9.522575364274147, 'colsample_bytree': 0.5942436905857063, 'subsample': 0.5092578049470116}. Best is trial 959 with value: 0.6729821291200662.\n"
     ]
    },
    {
     "name": "stderr",
     "output_type": "stream",
     "text": [
      "[I 2025-03-02 21:36:23,344] Trial 970 finished with value: 0.6692215515710989 and parameters: {'learning_rate': 0.05794585927814086, 'max_depth': 4, 'min_child_weight': 9.985772985469202, 'colsample_bytree': 0.3444998546636159, 'subsample': 0.5256036342681649}. Best is trial 959 with value: 0.6729821291200662.\n"
     ]
    },
    {
     "name": "stderr",
     "output_type": "stream",
     "text": [
      "[I 2025-03-02 21:36:23,664] Trial 971 finished with value: 0.6627670276347712 and parameters: {'learning_rate': 0.04476627280933331, 'max_depth': 5, 'min_child_weight': 8.56722000501156, 'colsample_bytree': 0.7941573540672726, 'subsample': 0.8858394732367888}. Best is trial 959 with value: 0.6729821291200662.\n"
     ]
    },
    {
     "name": "stderr",
     "output_type": "stream",
     "text": [
      "[I 2025-03-02 21:36:23,902] Trial 972 finished with value: 0.6663944612107224 and parameters: {'learning_rate': 0.03485123450060656, 'max_depth': 4, 'min_child_weight': 8.455019418269657, 'colsample_bytree': 0.38089501452132957, 'subsample': 0.509955613730407}. Best is trial 959 with value: 0.6729821291200662.\n"
     ]
    },
    {
     "name": "stderr",
     "output_type": "stream",
     "text": [
      "[I 2025-03-02 21:36:24,136] Trial 973 finished with value: 0.67081410142612 and parameters: {'learning_rate': 0.05149628477313056, 'max_depth': 4, 'min_child_weight': 8.95839990370604, 'colsample_bytree': 0.35897743981430075, 'subsample': 0.5000860271451634}. Best is trial 959 with value: 0.6729821291200662.\n"
     ]
    },
    {
     "name": "stderr",
     "output_type": "stream",
     "text": [
      "[I 2025-03-02 21:36:24,363] Trial 974 finished with value: 0.6665571927332978 and parameters: {'learning_rate': 0.041166220727133704, 'max_depth': 3, 'min_child_weight': 8.24385932293298, 'colsample_bytree': 0.3321419297115027, 'subsample': 0.5188644146976439}. Best is trial 959 with value: 0.6729821291200662.\n"
     ]
    },
    {
     "name": "stderr",
     "output_type": "stream",
     "text": [
      "[I 2025-03-02 21:36:24,591] Trial 975 finished with value: 0.6687940114799693 and parameters: {'learning_rate': 0.04992563012595373, 'max_depth': 4, 'min_child_weight': 9.328477806295396, 'colsample_bytree': 0.3473552978565073, 'subsample': 0.5296728616572979}. Best is trial 959 with value: 0.6729821291200662.\n"
     ]
    },
    {
     "name": "stderr",
     "output_type": "stream",
     "text": [
      "[I 2025-03-02 21:36:24,826] Trial 976 finished with value: 0.6650393514409136 and parameters: {'learning_rate': 0.058120879986587895, 'max_depth': 4, 'min_child_weight': 9.822156385351239, 'colsample_bytree': 0.3700154857277173, 'subsample': 0.5094685576297282}. Best is trial 959 with value: 0.6729821291200662.\n"
     ]
    },
    {
     "name": "stderr",
     "output_type": "stream",
     "text": [
      "[I 2025-03-02 21:36:25,051] Trial 977 finished with value: 0.6678767974436357 and parameters: {'learning_rate': 0.06509189622831783, 'max_depth': 4, 'min_child_weight': 8.191250528563813, 'colsample_bytree': 0.3246377031881911, 'subsample': 0.5212030882844484}. Best is trial 959 with value: 0.6729821291200662.\n"
     ]
    },
    {
     "name": "stderr",
     "output_type": "stream",
     "text": [
      "[I 2025-03-02 21:36:25,281] Trial 978 finished with value: 0.6699227764956506 and parameters: {'learning_rate': 0.03991641273143275, 'max_depth': 4, 'min_child_weight': 6.863709676843001, 'colsample_bytree': 0.33881491049785084, 'subsample': 0.5087274896546156}. Best is trial 959 with value: 0.6729821291200662.\n"
     ]
    },
    {
     "name": "stderr",
     "output_type": "stream",
     "text": [
      "[I 2025-03-02 21:36:25,511] Trial 979 finished with value: 0.6673190721344459 and parameters: {'learning_rate': 0.04668516209497127, 'max_depth': 4, 'min_child_weight': 8.814840058614045, 'colsample_bytree': 0.31225762947757446, 'subsample': 0.5390819738189787}. Best is trial 959 with value: 0.6729821291200662.\n"
     ]
    },
    {
     "name": "stderr",
     "output_type": "stream",
     "text": [
      "[I 2025-03-02 21:36:25,746] Trial 980 finished with value: 0.6700381679389312 and parameters: {'learning_rate': 0.03539348883424373, 'max_depth': 4, 'min_child_weight': 1.502700787154092, 'colsample_bytree': 0.3534544183250778, 'subsample': 0.5002936610082132}. Best is trial 959 with value: 0.6729821291200662.\n"
     ]
    },
    {
     "name": "stderr",
     "output_type": "stream",
     "text": [
      "[I 2025-03-02 21:36:25,960] Trial 981 finished with value: 0.6687141250961595 and parameters: {'learning_rate': 0.05530077557783402, 'max_depth': 3, 'min_child_weight': 9.629614516533495, 'colsample_bytree': 0.33364831500092185, 'subsample': 0.5172344045186629}. Best is trial 959 with value: 0.6729821291200662.\n"
     ]
    },
    {
     "name": "stderr",
     "output_type": "stream",
     "text": [
      "[I 2025-03-02 21:36:26,190] Trial 982 finished with value: 0.6694049943783656 and parameters: {'learning_rate': 0.03089118641297554, 'max_depth': 4, 'min_child_weight': 7.479378794557617, 'colsample_bytree': 0.322988879361893, 'subsample': 0.5256292305299891}. Best is trial 959 with value: 0.6729821291200662.\n"
     ]
    },
    {
     "name": "stderr",
     "output_type": "stream",
     "text": [
      "[I 2025-03-02 21:36:26,438] Trial 983 finished with value: 0.6692526184981359 and parameters: {'learning_rate': 0.04344997830571776, 'max_depth': 5, 'min_child_weight': 9.09759215710286, 'colsample_bytree': 0.30090323013650466, 'subsample': 0.5097810409211112}. Best is trial 959 with value: 0.6729821291200662.\n"
     ]
    },
    {
     "name": "stderr",
     "output_type": "stream",
     "text": [
      "[I 2025-03-02 21:36:26,677] Trial 984 finished with value: 0.6589554115628145 and parameters: {'learning_rate': 0.05080268895010491, 'max_depth': 4, 'min_child_weight': 9.777756622803889, 'colsample_bytree': 0.9026040826515213, 'subsample': 0.9802523167029539}. Best is trial 959 with value: 0.6729821291200662.\n"
     ]
    },
    {
     "name": "stderr",
     "output_type": "stream",
     "text": [
      "[I 2025-03-02 21:36:26,906] Trial 985 finished with value: 0.6625909817148945 and parameters: {'learning_rate': 0.09144873226830022, 'max_depth': 4, 'min_child_weight': 8.536396269527465, 'colsample_bytree': 0.366485117563269, 'subsample': 0.5170746685485315}. Best is trial 959 with value: 0.6729821291200662.\n"
     ]
    },
    {
     "name": "stderr",
     "output_type": "stream",
     "text": [
      "[I 2025-03-02 21:36:27,135] Trial 986 finished with value: 0.6678915912184153 and parameters: {'learning_rate': 0.03722957222183732, 'max_depth': 4, 'min_child_weight': 8.3477255859517, 'colsample_bytree': 0.39602915060137084, 'subsample': 0.5307875168132041}. Best is trial 959 with value: 0.6729821291200662.\n"
     ]
    },
    {
     "name": "stderr",
     "output_type": "stream",
     "text": [
      "[I 2025-03-02 21:36:27,357] Trial 987 finished with value: 0.6670897686253624 and parameters: {'learning_rate': 0.04609897183644126, 'max_depth': 3, 'min_child_weight': 6.450918264904536, 'colsample_bytree': 0.3453187427442162, 'subsample': 0.508829143575564}. Best is trial 959 with value: 0.6729821291200662.\n"
     ]
    },
    {
     "name": "stderr",
     "output_type": "stream",
     "text": [
      "[I 2025-03-02 21:36:27,588] Trial 988 finished with value: 0.6635363039233091 and parameters: {'learning_rate': 0.07576252801962338, 'max_depth': 4, 'min_child_weight': 1.612929323583103, 'colsample_bytree': 0.33252762673180325, 'subsample': 0.9190103703646952}. Best is trial 959 with value: 0.6729821291200662.\n"
     ]
    },
    {
     "name": "stderr",
     "output_type": "stream",
     "text": [
      "[I 2025-03-02 21:36:27,821] Trial 989 finished with value: 0.6712675306231137 and parameters: {'learning_rate': 0.06023954670494388, 'max_depth': 4, 'min_child_weight': 9.196076881496065, 'colsample_bytree': 0.3579720454427767, 'subsample': 0.5160002292307598}. Best is trial 959 with value: 0.6729821291200662.\n"
     ]
    },
    {
     "name": "stderr",
     "output_type": "stream",
     "text": [
      "[I 2025-03-02 21:36:28,048] Trial 990 finished with value: 0.6623809101130245 and parameters: {'learning_rate': 0.1291942442236966, 'max_depth': 4, 'min_child_weight': 9.283068202076581, 'colsample_bytree': 0.38625252065950877, 'subsample': 0.5509128954843409}. Best is trial 959 with value: 0.6729821291200662.\n"
     ]
    },
    {
     "name": "stderr",
     "output_type": "stream",
     "text": [
      "[I 2025-03-02 21:36:28,278] Trial 991 finished with value: 0.6686874963015562 and parameters: {'learning_rate': 0.06095609365779744, 'max_depth': 4, 'min_child_weight': 9.027882118844282, 'colsample_bytree': 0.3767333886517861, 'subsample': 0.6403384125368479}. Best is trial 959 with value: 0.6729821291200662.\n"
     ]
    },
    {
     "name": "stderr",
     "output_type": "stream",
     "text": [
      "[I 2025-03-02 21:36:28,540] Trial 992 finished with value: 0.6674255873128587 and parameters: {'learning_rate': 0.07225513567506153, 'max_depth': 4, 'min_child_weight': 9.568584075753876, 'colsample_bytree': 0.36244961579930685, 'subsample': 0.5366326411705181}. Best is trial 959 with value: 0.6729821291200662.\n"
     ]
    },
    {
     "name": "stderr",
     "output_type": "stream",
     "text": [
      "[I 2025-03-02 21:36:28,759] Trial 993 finished with value: 0.6674906799218889 and parameters: {'learning_rate': 0.06882840892760118, 'max_depth': 3, 'min_child_weight': 9.659503763528878, 'colsample_bytree': 0.36720961460517765, 'subsample': 0.5232532756674777}. Best is trial 959 with value: 0.6729821291200662.\n"
     ]
    },
    {
     "name": "stderr",
     "output_type": "stream",
     "text": [
      "[I 2025-03-02 21:36:28,988] Trial 994 finished with value: 0.6691608970945027 and parameters: {'learning_rate': 0.060613406176295584, 'max_depth': 4, 'min_child_weight': 9.83122545105599, 'colsample_bytree': 0.35530499839599533, 'subsample': 0.5314764082676531}. Best is trial 959 with value: 0.6729821291200662.\n"
     ]
    },
    {
     "name": "stderr",
     "output_type": "stream",
     "text": [
      "[I 2025-03-02 21:36:29,215] Trial 995 finished with value: 0.6639091070477544 and parameters: {'learning_rate': 0.05535177388228427, 'max_depth': 4, 'min_child_weight': 9.221608999877374, 'colsample_bytree': 0.38203991776272933, 'subsample': 0.5171802074561753}. Best is trial 959 with value: 0.6729821291200662.\n"
     ]
    },
    {
     "name": "stderr",
     "output_type": "stream",
     "text": [
      "[I 2025-03-02 21:36:29,532] Trial 996 finished with value: 0.6579087519971596 and parameters: {'learning_rate': 0.057980017920436826, 'max_depth': 9, 'min_child_weight': 9.070169657888988, 'colsample_bytree': 0.35493983015249664, 'subsample': 0.5413750027147914}. Best is trial 959 with value: 0.6729821291200662.\n"
     ]
    },
    {
     "name": "stderr",
     "output_type": "stream",
     "text": [
      "[I 2025-03-02 21:36:29,835] Trial 997 finished with value: 0.6507337712290668 and parameters: {'learning_rate': 0.06614570258912121, 'max_depth': 7, 'min_child_weight': 9.502593160788154, 'colsample_bytree': 0.8140815364682404, 'subsample': 0.5252256341344215}. Best is trial 959 with value: 0.6729821291200662.\n"
     ]
    },
    {
     "name": "stderr",
     "output_type": "stream",
     "text": [
      "[I 2025-03-02 21:36:30,064] Trial 998 finished with value: 0.6651887685661872 and parameters: {'learning_rate': 0.05442998215722557, 'max_depth': 4, 'min_child_weight': 9.547445084695138, 'colsample_bytree': 0.36959271885646877, 'subsample': 0.5005125832413029}. Best is trial 959 with value: 0.6729821291200662.\n"
     ]
    },
    {
     "name": "stderr",
     "output_type": "stream",
     "text": [
      "[I 2025-03-02 21:36:30,296] Trial 999 finished with value: 0.6701476418723001 and parameters: {'learning_rate': 0.065631885509412, 'max_depth': 4, 'min_child_weight': 9.99583599372239, 'colsample_bytree': 0.34714424814586137, 'subsample': 0.5164166328434655}. Best is trial 959 with value: 0.6729821291200662.\n"
     ]
    }
   ],
   "source": [
    "import optuna\n",
    "from sklearn.metrics import roc_auc_score\n",
    "\n",
    "def xgb_objective(trial):\n",
    "    params = {\n",
    "        'objective': 'binary:logistic',\n",
    "        'eval_metric': 'logloss',\n",
    "        'learning_rate': trial.suggest_float('learning_rate', 0.01, 0.3),\n",
    "        'max_depth': trial.suggest_int('max_depth', 3, 10),\n",
    "        'min_child_weight': trial.suggest_float('min_child_weight', 1, 10),\n",
    "        'colsample_bytree': trial.suggest_float('colsample_bytree', 0.3, 1.0),\n",
    "        'subsample': trial.suggest_float('subsample', 0.5, 1.0),\n",
    "        'seed': 42\n",
    "    }\n",
    "    \n",
    "    dtrain = xgb.DMatrix(X_train_final, label=y_train, enable_categorical=True)\n",
    "    dtest = xgb.DMatrix(X_test_final, label=y_test, enable_categorical=True)\n",
    "    model = xgb.train(params, dtrain, num_boost_round=100)\n",
    "    preds = model.predict(dtest)\n",
    "    \n",
    "    return roc_auc_score(y_test, preds)\n",
    "\n",
    "study = optuna.create_study(direction=\"maximize\")\n",
    "study.optimize(xgb_objective, n_trials=N_TRIALS)\n",
    "\n",
    "best_params = study.best_params\n",
    "best_params['max_depth'] = int(best_params['max_depth'])"
   ]
  },
  {
   "cell_type": "code",
   "execution_count": 13,
   "id": "118c2559-f1a8-4431-937a-015cbe5178fa",
   "metadata": {
    "execution": {
     "iopub.execute_input": "2025-03-02T21:36:30.492327Z",
     "iopub.status.busy": "2025-03-02T21:36:30.491991Z",
     "iopub.status.idle": "2025-03-02T21:36:30.949332Z",
     "shell.execute_reply": "2025-03-02T21:36:30.948660Z"
    },
    "papermill": {
     "duration": 0.550661,
     "end_time": "2025-03-02T21:36:30.950858",
     "exception": false,
     "start_time": "2025-03-02T21:36:30.400197",
     "status": "completed"
    },
    "tags": []
   },
   "outputs": [],
   "source": [
    "# Train the best model\n",
    "dmatrix_train = xgb.DMatrix(X_train_final, label=y_train, enable_categorical=True)\n",
    "model = xgb.train(best_params, dmatrix_train, num_boost_round=500)"
   ]
  },
  {
   "cell_type": "code",
   "execution_count": 14,
   "id": "0e8965b0-3741-43f7-b075-49ebb9c34ba6",
   "metadata": {
    "execution": {
     "iopub.execute_input": "2025-03-02T21:36:31.137961Z",
     "iopub.status.busy": "2025-03-02T21:36:31.137429Z",
     "iopub.status.idle": "2025-03-02T21:37:22.088234Z",
     "shell.execute_reply": "2025-03-02T21:37:22.087397Z"
    },
    "papermill": {
     "duration": 51.046634,
     "end_time": "2025-03-02T21:37:22.089545",
     "exception": false,
     "start_time": "2025-03-02T21:36:31.042911",
     "status": "completed"
    },
    "tags": []
   },
   "outputs": [
    {
     "name": "stderr",
     "output_type": "stream",
     "text": [
      "/tmp/ipykernel_837/737199464.py:2: ExperimentalWarning: plot_optimization_history is experimental (supported from v2.2.0). The interface can change in the future.\n",
      "  fig = optuna.visualization.matplotlib.plot_optimization_history(study)\n"
     ]
    },
    {
     "name": "stderr",
     "output_type": "stream",
     "text": [
      "/tmp/ipykernel_837/737199464.py:6: ExperimentalWarning: plot_param_importances is experimental (supported from v2.2.0). The interface can change in the future.\n",
      "  fig = optuna.visualization.matplotlib.plot_param_importances(study)\n"
     ]
    }
   ],
   "source": [
    "# Visualize Optuna Trials\n",
    "fig = optuna.visualization.matplotlib.plot_optimization_history(study)\n",
    "plt.savefig(\"figures/optuna_optimization_history.png\")\n",
    "plt.close()\n",
    "\n",
    "fig = optuna.visualization.matplotlib.plot_param_importances(study)\n",
    "plt.savefig(\"figures/optuna_param_importance.png\")\n",
    "plt.close()"
   ]
  },
  {
   "cell_type": "code",
   "execution_count": 15,
   "id": "51fccbcc-923e-4861-a186-4f6fb7407b38",
   "metadata": {
    "execution": {
     "iopub.execute_input": "2025-03-02T21:37:22.227453Z",
     "iopub.status.busy": "2025-03-02T21:37:22.226970Z",
     "iopub.status.idle": "2025-03-02T21:37:43.550607Z",
     "shell.execute_reply": "2025-03-02T21:37:43.542549Z"
    },
    "papermill": {
     "duration": 21.387631,
     "end_time": "2025-03-02T21:37:43.553800",
     "exception": false,
     "start_time": "2025-03-02T21:37:22.166169",
     "status": "completed"
    },
    "tags": []
   },
   "outputs": [
    {
     "name": "stderr",
     "output_type": "stream",
     "text": [
      "\r",
      " 53%|===========         | 866/1646 [00:11<00:09]       "
     ]
    },
    {
     "name": "stderr",
     "output_type": "stream",
     "text": [
      "\r",
      " 57%|===========         | 932/1646 [00:12<00:09]       "
     ]
    },
    {
     "name": "stderr",
     "output_type": "stream",
     "text": [
      "\r",
      " 61%|============        | 1005/1646 [00:13<00:08]       "
     ]
    },
    {
     "name": "stderr",
     "output_type": "stream",
     "text": [
      "\r",
      " 66%|=============       | 1094/1646 [00:14<00:07]       "
     ]
    },
    {
     "name": "stderr",
     "output_type": "stream",
     "text": [
      "\r",
      " 72%|==============      | 1187/1646 [00:15<00:05]       "
     ]
    },
    {
     "name": "stderr",
     "output_type": "stream",
     "text": [
      "\r",
      " 78%|================    | 1285/1646 [00:16<00:04]       "
     ]
    },
    {
     "name": "stderr",
     "output_type": "stream",
     "text": [
      "\r",
      " 84%|=================   | 1379/1646 [00:17<00:03]       "
     ]
    },
    {
     "name": "stderr",
     "output_type": "stream",
     "text": [
      "\r",
      " 90%|==================  | 1477/1646 [00:18<00:02]       "
     ]
    },
    {
     "name": "stderr",
     "output_type": "stream",
     "text": [
      "\r",
      " 95%|=================== | 1557/1646 [00:19<00:01]       "
     ]
    },
    {
     "data": {
      "text/plain": [
       "<Figure size 640x480 with 0 Axes>"
      ]
     },
     "metadata": {},
     "output_type": "display_data"
    }
   ],
   "source": [
    "explainer = shap.Explainer(model, X_test_final)\n",
    "shap_values = explainer(X_test_final)\n",
    "\n",
    "# Save SHAP summary plot\n",
    "plt.figure()\n",
    "shap.summary_plot(shap_values, X_test_final, show=False)\n",
    "plt.savefig(\"figures/final_shap_summary.png\")\n",
    "plt.close()\n",
    "\n",
    "# Save SHAP dependence plot for the first feature\n",
    "plt.figure()\n",
    "shap.dependence_plot(0, shap_values.values, X_test_final, show=False)\n",
    "plt.savefig(\"figures/final_shap_dependence_0.png\")\n",
    "plt.close()"
   ]
  },
  {
   "cell_type": "code",
   "execution_count": 16,
   "id": "5f9d9130-04fe-4ce4-a29a-ff3354c20fa8",
   "metadata": {
    "execution": {
     "iopub.execute_input": "2025-03-02T21:37:43.754710Z",
     "iopub.status.busy": "2025-03-02T21:37:43.754091Z",
     "iopub.status.idle": "2025-03-02T21:37:43.879592Z",
     "shell.execute_reply": "2025-03-02T21:37:43.878562Z"
    },
    "papermill": {
     "duration": 0.224139,
     "end_time": "2025-03-02T21:37:43.881341",
     "exception": false,
     "start_time": "2025-03-02T21:37:43.657202",
     "status": "completed"
    },
    "tags": []
   },
   "outputs": [
    {
     "name": "stdout",
     "output_type": "stream",
     "text": [
      "TEST\n",
      "✅ Test Log Loss: 0.6669\n",
      "✅ Test Accuracy: 0.6063\n",
      "✅ Test AUC: 0.6430\n",
      "✅ Test Precision: 0.6015\n",
      "✅ Test Recall: 0.5204\n",
      "TRAIN\n",
      "✅ Test Log Loss: 0.5739\n",
      "✅ Test Accuracy: 0.7119\n",
      "✅ Test AUC: 0.7875\n",
      "✅ Test Precision: 0.7464\n",
      "✅ Test Recall: 0.5975\n"
     ]
    }
   ],
   "source": [
    "print(\"TEST\")\n",
    "acc, roc, precision, recall = eval_model(model, X_test_final, y_test)\n",
    "\n",
    "print(\"TRAIN\")\n",
    "acc_train, roc_train, precision_train, recall_train = eval_model(model, X_train_final, y_train)"
   ]
  },
  {
   "cell_type": "code",
   "execution_count": 17,
   "id": "fb0f0fb6-3f0d-4d23-bca9-599b7adb4185",
   "metadata": {
    "execution": {
     "iopub.execute_input": "2025-03-02T21:37:44.099306Z",
     "iopub.status.busy": "2025-03-02T21:37:44.098958Z",
     "iopub.status.idle": "2025-03-02T21:37:44.120829Z",
     "shell.execute_reply": "2025-03-02T21:37:44.117092Z"
    },
    "papermill": {
     "duration": 0.117237,
     "end_time": "2025-03-02T21:37:44.122518",
     "exception": false,
     "start_time": "2025-03-02T21:37:44.005281",
     "status": "completed"
    },
    "tags": []
   },
   "outputs": [
    {
     "name": "stdout",
     "output_type": "stream",
     "text": [
      "Model saved to models/tuned_xgboost_model.model\n"
     ]
    },
    {
     "name": "stderr",
     "output_type": "stream",
     "text": [
      "/opt/conda/lib/python3.11/site-packages/xgboost/core.py:158: UserWarning: [21:37:44] WARNING: /home/conda/feedstock_root/build_artifacts/xgboost-split_1738880431132/work/src/c_api/c_api.cc:1374: Saving model in the UBJSON format as default.  You can use file extension: `json`, `ubj` or `deprecated` to choose between formats.\n",
      "  warnings.warn(smsg, UserWarning)\n"
     ]
    }
   ],
   "source": [
    "# Save the model\n",
    "model.save_model(\"models/tuned_xgboost_model.model\")\n",
    "print(\"Model saved to models/tuned_xgboost_model.model\")"
   ]
  },
  {
   "cell_type": "markdown",
   "id": "5822bdbe-d0e1-486e-9575-a5b254b206e2",
   "metadata": {
    "papermill": {
     "duration": 0.114358,
     "end_time": "2025-03-02T21:37:44.338263",
     "exception": false,
     "start_time": "2025-03-02T21:37:44.223905",
     "status": "completed"
    },
    "tags": []
   },
   "source": [
    "## PUT XGBOOST MODEL IN MODEL STORE"
   ]
  },
  {
   "cell_type": "code",
   "execution_count": 18,
   "id": "60b32a79-dada-445f-ba20-a41f0e0a7982",
   "metadata": {
    "execution": {
     "iopub.execute_input": "2025-03-02T21:37:44.525193Z",
     "iopub.status.busy": "2025-03-02T21:37:44.524835Z",
     "iopub.status.idle": "2025-03-02T21:37:46.475179Z",
     "shell.execute_reply": "2025-03-02T21:37:46.474183Z"
    },
    "papermill": {
     "duration": 2.051294,
     "end_time": "2025-03-02T21:37:46.476864",
     "exception": false,
     "start_time": "2025-03-02T21:37:44.425570",
     "status": "completed"
    },
    "tags": []
   },
   "outputs": [
    {
     "name": "stdout",
     "output_type": "stream",
     "text": [
      "✅ ModelPackageGroup Arn: arn:aws:sagemaker:us-east-1:321261761338:model-package-group/xgboost-hospital-readmissions-1740951464\n"
     ]
    },
    {
     "name": "stdout",
     "output_type": "stream",
     "text": [
      "✅ Model artifact uploaded to: s3://group3-project-bucket/hospital-readmissions-xgboost/model-1740951465.tar.gz\n"
     ]
    },
    {
     "name": "stdout",
     "output_type": "stream",
     "text": [
      "✅ Model Package ARN: arn:aws:sagemaker:us-east-1:321261761338:model-package/xgboost-hospital-readmissions-1740951464/1\n",
      "Model Package Details: {'ModelPackageGroupName': 'xgboost-hospital-readmissions-1740951464', 'ModelPackageVersion': 1, 'ModelPackageArn': 'arn:aws:sagemaker:us-east-1:321261761338:model-package/xgboost-hospital-readmissions-1740951464/1', 'ModelPackageDescription': 'XGBoost model for predicting hospital readmissions.', 'CreationTime': datetime.datetime(2025, 3, 2, 21, 37, 45, 584000, tzinfo=tzlocal()), 'InferenceSpecification': {'Containers': [{'Image': '683313688378.dkr.ecr.us-east-1.amazonaws.com/sagemaker-xgboost:1.5-1', 'ImageDigest': 'sha256:c764382b16cd0c921f1b2e66de8684fb999ccbd0c042c95679f0b69bc9cdd12c', 'ModelDataUrl': 's3://group3-project-bucket/hospital-readmissions-xgboost/model-1740951465.tar.gz', 'ModelDataETag': '596ac0fca13760d202b13b7fa3eec80e'}], 'SupportedTransformInstanceTypes': ['ml.m5.large', 'ml.m5.xlarge'], 'SupportedRealtimeInferenceInstanceTypes': ['ml.m5.large', 'ml.m5.xlarge'], 'SupportedContentTypes': ['text/csv'], 'SupportedResponseMIMETypes': ['text/csv', 'application/json']}, 'ModelPackageStatus': 'Completed', 'ModelPackageStatusDetails': {'ValidationStatuses': [], 'ImageScanStatuses': []}, 'CertifyForMarketplace': False, 'ModelApprovalStatus': 'PendingManualApproval', 'CreatedBy': {'UserProfileArn': 'arn:aws:sagemaker:us-east-1:321261761338:user-profile/d-ojigadb1wzup/pfelizarta', 'UserProfileName': 'pfelizarta', 'DomainId': 'd-ojigadb1wzup', 'IamIdentity': {'Arn': 'arn:aws:sts::321261761338:assumed-role/LabRole/SageMaker', 'PrincipalId': 'AROAUVTFROM5FL7RQGG5J:SageMaker'}}, 'ResponseMetadata': {'RequestId': '1e255803-5d4f-408f-8eed-4f5a4bb52aba', 'HTTPStatusCode': 200, 'HTTPHeaders': {'x-amzn-requestid': '1e255803-5d4f-408f-8eed-4f5a4bb52aba', 'content-type': 'application/x-amz-json-1.1', 'content-length': '1405', 'date': 'Sun, 02 Mar 2025 21:37:45 GMT'}, 'RetryAttempts': 0}}\n"
     ]
    },
    {
     "name": "stdout",
     "output_type": "stream",
     "text": [
      "✅ Model Card ARN: arn:aws:sagemaker:us-east-1:321261761338:model-card/xgboost-hospital-readmissions-card-1740951465\n",
      "✅ Model Card Name: xgboost-hospital-readmissions-card-1740951465\n"
     ]
    },
    {
     "name": "stdout",
     "output_type": "stream",
     "text": [
      "{'ModelCardArn': 'arn:aws:sagemaker:us-east-1:321261761338:model-card/xgboost-hospital-readmissions-card-1740951465', 'ModelCardName': 'xgboost-hospital-readmissions-card-1740951465', 'ModelCardVersion': 1, 'Content': '{\"model_overview\": {\"model_description\": \"XGBoost model predicting hospital readmissions.\", \"model_creator\": \"Your Team\", \"model_artifact\": [\"s3://group3-project-bucket/hospital-readmissions-xgboost/model-1740951465.tar.gz\"], \"algorithm_type\": \"XGBoost\", \"problem_type\": \"Binary Classification\", \"model_owner\": \"Group 3\"}, \"intended_uses\": {\"purpose_of_model\": \"Predict likelihood of hospital readmission within 30 days.\", \"intended_uses\": \"Hospital decision support, optimizing patient care.\", \"risk_rating\": \"Medium\", \"explanations_for_risk_rating\": \"Incorrect predictions may lead to unnecessary interventions or missed readmissions.\"}, \"business_details\": {\"business_problem\": \"Reducing hospital readmission rates.\", \"business_stakeholders\": \"Healthcare providers, insurers, hospital administrators.\"}, \"training_details\": {\"training_observations\": \"Model trained on historical patient admission data.\", \"training_job_details\": {\"training_datasets\": [\"sagemaker_featurestore.hospital_readmissions_features_1740951018_1740951018\"], \"training_environment\": {\"container_image\": [\"683313688378.dkr.ecr.us-east-1.amazonaws.com/sagemaker-xgboost:1.5-1\"]}, \"training_metrics\": [{\"name\": \"accuracy\", \"value\": 0.7118726455219346}, {\"name\": \"roc_auc\", \"value\": 0.7875484585050256}, {\"name\": \"precision\", \"value\": 0.7464114832535885}, {\"name\": \"recall\", \"value\": 0.5975485188968335}], \"hyper_parameters\": [{\"name\": \"learning_rate\", \"value\": \"0.050034861233703834\"}, {\"name\": \"max_depth\", \"value\": \"4\"}, {\"name\": \"min_child_weight\", \"value\": \"8.770250030867077\"}, {\"name\": \"colsample_bytree\", \"value\": \"0.3450049723647326\"}, {\"name\": \"subsample\", \"value\": \"0.5092593928959018\"}]}}, \"evaluation_details\": [{\"name\": \"evaluation-1\", \"datasets\": [\"sagemaker_featurestore.hospital_readmissions_features_1740951018_1740951018\"], \"metric_groups\": [{\"name\": \"readmission-metrics\", \"metric_data\": [{\"name\": \"accuracy\", \"type\": \"number\", \"value\": 0.606318347509113}, {\"name\": \"roc_auc\", \"type\": \"number\", \"value\": 0.6429833126220486}, {\"name\": \"precision\", \"type\": \"number\", \"value\": 0.6014705882352941}, {\"name\": \"recall\", \"type\": \"number\", \"value\": 0.5203562340966921}]}], \"evaluation_observation\": \"Evaluated on a holdout test dataset.\"}], \"additional_information\": {\"ethical_considerations\": \"Model should not be used to make final medical decisions.\", \"caveats_and_recommendations\": \"Should be used alongside physician assessment.\"}}', 'ModelCardStatus': 'Draft', 'CreationTime': datetime.datetime(2025, 3, 2, 21, 37, 45, 865000, tzinfo=tzlocal()), 'CreatedBy': {'UserProfileArn': 'arn:aws:sagemaker:us-east-1:321261761338:user-profile/d-ojigadb1wzup/pfelizarta', 'UserProfileName': 'pfelizarta', 'DomainId': 'd-ojigadb1wzup'}, 'LastModifiedTime': datetime.datetime(2025, 3, 2, 21, 37, 45, 865000, tzinfo=tzlocal()), 'LastModifiedBy': {'UserProfileArn': 'arn:aws:sagemaker:us-east-1:321261761338:user-profile/d-ojigadb1wzup/pfelizarta', 'UserProfileName': 'pfelizarta', 'DomainId': 'd-ojigadb1wzup'}, 'ResponseMetadata': {'RequestId': 'ee887af4-824d-4474-972c-6d654998abe3', 'HTTPStatusCode': 200, 'HTTPHeaders': {'x-amzn-requestid': 'ee887af4-824d-4474-972c-6d654998abe3', 'content-type': 'application/x-amz-json-1.1', 'content-length': '3289', 'date': 'Sun, 02 Mar 2025 21:37:46 GMT'}, 'RetryAttempts': 0}}\n"
     ]
    }
   ],
   "source": [
    "import tarfile\n",
    "import json\n",
    "\n",
    "region = boto3.Session().region_name\n",
    "role = get_execution_role()\n",
    "sagemaker_session = sagemaker.Session()\n",
    "\n",
    "best_params = study.best_params\n",
    "\n",
    "# ✅ SageMaker client\n",
    "sm_client = boto3.client(\"sagemaker\", region_name=region)\n",
    "s3_client = boto3.client(\"s3\", region_name=region)\n",
    "\n",
    "# ✅ **Model Package Group Name (Unique Identifier)**\n",
    "model_package_group_name = \"xgboost-hospital-readmissions-\" + str(int(time.time()))\n",
    "with open(\"pipeline_model_package.json\", \"w\") as json_file:\n",
    "        json.dump({\n",
    "            \"model_package\": model_package_group_name\n",
    "        },json_file, indent=4)\n",
    "\n",
    "model_package_group_description = \"XGBoost model for predicting hospital readmissions.\"\n",
    "\n",
    "\n",
    "# ✅ **Create Model Package Group**\n",
    "create_model_package_group_response = sm_client.create_model_package_group(\n",
    "    ModelPackageGroupName=model_package_group_name,\n",
    "    ModelPackageGroupDescription=model_package_group_description,\n",
    ")\n",
    "\n",
    "print(\"✅ ModelPackageGroup Arn:\", create_model_package_group_response[\"ModelPackageGroupArn\"])\n",
    "\n",
    "# ✅ **Save the trained XGBoost model**\n",
    "joblib.dump(model, \"model.joblib\")\n",
    "\n",
    "# ✅ **Save the model as a compressed `.tar.gz` file**\n",
    "tar_filename = \"model.tar.gz\"\n",
    "with tarfile.open(tar_filename, \"w:gz\") as tar:\n",
    "    tar.add(\"model.joblib\")\n",
    "\n",
    "# ✅ **Upload model to S3**\n",
    "timestamp = int(time.time())\n",
    "prefix = \"hospital-readmissions-xgboost\"\n",
    "s3_key = f\"{prefix}/model-{timestamp}.tar.gz\"\n",
    "model_s3_uri = f\"s3://{bucket_name}/{s3_key}\"\n",
    "\n",
    "s3_client.upload_file(tar_filename, bucket_name, s3_key)\n",
    "print(f\"✅ Model artifact uploaded to: {model_s3_uri}\")\n",
    "\n",
    "# ✅ **Define SageMaker Model Package**\n",
    "model_package_name = \"xgboost-hospital-readmissions-package-\" + str(int(time.time()))\n",
    "xgboost_image_uri = \"683313688378.dkr.ecr.us-east-1.amazonaws.com/sagemaker-xgboost:1.5-1\"\n",
    "\n",
    "inference_spec = {\n",
    "    \"Containers\": [\n",
    "        {\n",
    "            \"Image\": xgboost_image_uri,\n",
    "            \"ModelDataUrl\": model_s3_uri,\n",
    "        }\n",
    "    ],\n",
    "    \"SupportedTransformInstanceTypes\": [\"ml.m5.large\", \"ml.m5.xlarge\"],\n",
    "    \"SupportedRealtimeInferenceInstanceTypes\": [\"ml.m5.large\", \"ml.m5.xlarge\"],\n",
    "    \"SupportedContentTypes\": [\"text/csv\"],\n",
    "    \"SupportedResponseMIMETypes\": [\"text/csv\", \"application/json\"],\n",
    "}\n",
    "\n",
    "create_model_package_response = sm_client.create_model_package(\n",
    "    ModelPackageGroupName=model_package_group_name,\n",
    "    ModelPackageDescription=\"XGBoost model for predicting hospital readmissions.\",\n",
    "    InferenceSpecification=inference_spec,\n",
    "    ModelApprovalStatus=\"PendingManualApproval\",\n",
    ")\n",
    "\n",
    "print(\"✅ Model Package ARN:\", create_model_package_response[\"ModelPackageArn\"])\n",
    "\n",
    "# ✅ **Describe the Model Package**\n",
    "response = sm_client.describe_model_package(\n",
    "    ModelPackageName=create_model_package_response[\"ModelPackageArn\"]\n",
    ")\n",
    "\n",
    "print(\"Model Package Details:\", response)\n",
    "\n",
    "# ✅ **Create a Model Card**\n",
    "model_card_name = f\"xgboost-hospital-readmissions-card-{int(time.time())}\"\n",
    "\n",
    "# ✅ Update Model Card with **full evaluation details**\n",
    "model_card_content = {\n",
    "    \"model_overview\": {\n",
    "        \"model_description\": \"XGBoost model predicting hospital readmissions.\",\n",
    "        \"model_creator\": \"Your Team\",\n",
    "        \"model_artifact\": [model_s3_uri],\n",
    "        \"algorithm_type\": \"XGBoost\",\n",
    "        \"problem_type\": \"Binary Classification\",\n",
    "        \"model_owner\": \"Group 3\",\n",
    "    },\n",
    "    \"intended_uses\": {\n",
    "        \"purpose_of_model\": \"Predict likelihood of hospital readmission within 30 days.\",\n",
    "        \"intended_uses\": \"Hospital decision support, optimizing patient care.\",\n",
    "        \"risk_rating\": \"Medium\",\n",
    "        \"explanations_for_risk_rating\": \"Incorrect predictions may lead to unnecessary interventions or missed readmissions.\",\n",
    "    },\n",
    "    \"business_details\": {\n",
    "        \"business_problem\": \"Reducing hospital readmission rates.\",\n",
    "        \"business_stakeholders\": \"Healthcare providers, insurers, hospital administrators.\",\n",
    "    },\n",
    "    \"training_details\": {\n",
    "        \"training_observations\": \"Model trained on historical patient admission data.\",\n",
    "        \"training_job_details\": {\n",
    "            \"training_datasets\": [f\"sagemaker_featurestore.{latest_table['Name']}\"],\n",
    "            \"training_environment\": {\n",
    "                \"container_image\": [xgboost_image_uri],\n",
    "            },\n",
    "            \"training_metrics\": [\n",
    "                {\"name\": \"accuracy\", \"value\": acc_train},\n",
    "                {\"name\": \"roc_auc\", \"value\": roc_train},\n",
    "                {\"name\": \"precision\", \"value\": precision_train},\n",
    "                {\"name\": \"recall\", \"value\": recall_train},\n",
    "            ],\n",
    "            \"hyper_parameters\": [\n",
    "                {\"name\": k, \"value\": str(v)} for k, v in best_params.items()\n",
    "            ],\n",
    "        },\n",
    "    },\n",
    "    \"evaluation_details\": [\n",
    "        {\n",
    "            \"name\": \"evaluation-1\",\n",
    "            \"datasets\": [f\"sagemaker_featurestore.{latest_table['Name']}\"],\n",
    "            \"metric_groups\": [\n",
    "                {\n",
    "                    \"name\": \"readmission-metrics\",\n",
    "                    \"metric_data\": [\n",
    "                        {\"name\": \"accuracy\", \"type\": \"number\", \"value\": acc},\n",
    "                        {\"name\": \"roc_auc\", \"type\": \"number\", \"value\": roc},\n",
    "                        {\"name\": \"precision\", \"type\": \"number\", \"value\": precision},\n",
    "                        {\"name\": \"recall\", \"type\": \"number\", \"value\": recall},\n",
    "                    ],\n",
    "                }\n",
    "            ],\n",
    "            \"evaluation_observation\": \"Evaluated on a holdout test dataset.\",\n",
    "        }\n",
    "    ],\n",
    "    \"additional_information\": {\n",
    "        \"ethical_considerations\": \"Model should not be used to make final medical decisions.\",\n",
    "        \"caveats_and_recommendations\": \"Should be used alongside physician assessment.\",\n",
    "    },\n",
    "}\n",
    "\n",
    "\n",
    "# ✅ **Create the Model Card**\n",
    "response = sm_client.create_model_card(\n",
    "    ModelCardName=model_card_name,\n",
    "    Content=json.dumps(model_card_content),\n",
    "    ModelCardStatus=\"Draft\",\n",
    ")\n",
    "\n",
    "print(\"✅ Model Card ARN:\", response[\"ModelCardArn\"])\n",
    "print(\"✅ Model Card Name:\", model_card_name)\n",
    "\n",
    "# ✅ **Describe the Model Card**\n",
    "describe_response = sm_client.describe_model_card(ModelCardName=model_card_name)\n",
    "print(describe_response)"
   ]
  }
 ],
 "metadata": {
  "availableInstances": [
   {
    "_defaultOrder": 0,
    "_isFastLaunch": true,
    "category": "General purpose",
    "gpuNum": 0,
    "hideHardwareSpecs": false,
    "memoryGiB": 4,
    "name": "ml.t3.medium",
    "vcpuNum": 2
   },
   {
    "_defaultOrder": 1,
    "_isFastLaunch": false,
    "category": "General purpose",
    "gpuNum": 0,
    "hideHardwareSpecs": false,
    "memoryGiB": 8,
    "name": "ml.t3.large",
    "vcpuNum": 2
   },
   {
    "_defaultOrder": 2,
    "_isFastLaunch": false,
    "category": "General purpose",
    "gpuNum": 0,
    "hideHardwareSpecs": false,
    "memoryGiB": 16,
    "name": "ml.t3.xlarge",
    "vcpuNum": 4
   },
   {
    "_defaultOrder": 3,
    "_isFastLaunch": false,
    "category": "General purpose",
    "gpuNum": 0,
    "hideHardwareSpecs": false,
    "memoryGiB": 32,
    "name": "ml.t3.2xlarge",
    "vcpuNum": 8
   },
   {
    "_defaultOrder": 4,
    "_isFastLaunch": true,
    "category": "General purpose",
    "gpuNum": 0,
    "hideHardwareSpecs": false,
    "memoryGiB": 8,
    "name": "ml.m5.large",
    "vcpuNum": 2
   },
   {
    "_defaultOrder": 5,
    "_isFastLaunch": false,
    "category": "General purpose",
    "gpuNum": 0,
    "hideHardwareSpecs": false,
    "memoryGiB": 16,
    "name": "ml.m5.xlarge",
    "vcpuNum": 4
   },
   {
    "_defaultOrder": 6,
    "_isFastLaunch": false,
    "category": "General purpose",
    "gpuNum": 0,
    "hideHardwareSpecs": false,
    "memoryGiB": 32,
    "name": "ml.m5.2xlarge",
    "vcpuNum": 8
   },
   {
    "_defaultOrder": 7,
    "_isFastLaunch": false,
    "category": "General purpose",
    "gpuNum": 0,
    "hideHardwareSpecs": false,
    "memoryGiB": 64,
    "name": "ml.m5.4xlarge",
    "vcpuNum": 16
   },
   {
    "_defaultOrder": 8,
    "_isFastLaunch": false,
    "category": "General purpose",
    "gpuNum": 0,
    "hideHardwareSpecs": false,
    "memoryGiB": 128,
    "name": "ml.m5.8xlarge",
    "vcpuNum": 32
   },
   {
    "_defaultOrder": 9,
    "_isFastLaunch": false,
    "category": "General purpose",
    "gpuNum": 0,
    "hideHardwareSpecs": false,
    "memoryGiB": 192,
    "name": "ml.m5.12xlarge",
    "vcpuNum": 48
   },
   {
    "_defaultOrder": 10,
    "_isFastLaunch": false,
    "category": "General purpose",
    "gpuNum": 0,
    "hideHardwareSpecs": false,
    "memoryGiB": 256,
    "name": "ml.m5.16xlarge",
    "vcpuNum": 64
   },
   {
    "_defaultOrder": 11,
    "_isFastLaunch": false,
    "category": "General purpose",
    "gpuNum": 0,
    "hideHardwareSpecs": false,
    "memoryGiB": 384,
    "name": "ml.m5.24xlarge",
    "vcpuNum": 96
   },
   {
    "_defaultOrder": 12,
    "_isFastLaunch": false,
    "category": "General purpose",
    "gpuNum": 0,
    "hideHardwareSpecs": false,
    "memoryGiB": 8,
    "name": "ml.m5d.large",
    "vcpuNum": 2
   },
   {
    "_defaultOrder": 13,
    "_isFastLaunch": false,
    "category": "General purpose",
    "gpuNum": 0,
    "hideHardwareSpecs": false,
    "memoryGiB": 16,
    "name": "ml.m5d.xlarge",
    "vcpuNum": 4
   },
   {
    "_defaultOrder": 14,
    "_isFastLaunch": false,
    "category": "General purpose",
    "gpuNum": 0,
    "hideHardwareSpecs": false,
    "memoryGiB": 32,
    "name": "ml.m5d.2xlarge",
    "vcpuNum": 8
   },
   {
    "_defaultOrder": 15,
    "_isFastLaunch": false,
    "category": "General purpose",
    "gpuNum": 0,
    "hideHardwareSpecs": false,
    "memoryGiB": 64,
    "name": "ml.m5d.4xlarge",
    "vcpuNum": 16
   },
   {
    "_defaultOrder": 16,
    "_isFastLaunch": false,
    "category": "General purpose",
    "gpuNum": 0,
    "hideHardwareSpecs": false,
    "memoryGiB": 128,
    "name": "ml.m5d.8xlarge",
    "vcpuNum": 32
   },
   {
    "_defaultOrder": 17,
    "_isFastLaunch": false,
    "category": "General purpose",
    "gpuNum": 0,
    "hideHardwareSpecs": false,
    "memoryGiB": 192,
    "name": "ml.m5d.12xlarge",
    "vcpuNum": 48
   },
   {
    "_defaultOrder": 18,
    "_isFastLaunch": false,
    "category": "General purpose",
    "gpuNum": 0,
    "hideHardwareSpecs": false,
    "memoryGiB": 256,
    "name": "ml.m5d.16xlarge",
    "vcpuNum": 64
   },
   {
    "_defaultOrder": 19,
    "_isFastLaunch": false,
    "category": "General purpose",
    "gpuNum": 0,
    "hideHardwareSpecs": false,
    "memoryGiB": 384,
    "name": "ml.m5d.24xlarge",
    "vcpuNum": 96
   },
   {
    "_defaultOrder": 20,
    "_isFastLaunch": false,
    "category": "General purpose",
    "gpuNum": 0,
    "hideHardwareSpecs": true,
    "memoryGiB": 0,
    "name": "ml.geospatial.interactive",
    "supportedImageNames": [
     "sagemaker-geospatial-v1-0"
    ],
    "vcpuNum": 0
   },
   {
    "_defaultOrder": 21,
    "_isFastLaunch": true,
    "category": "Compute optimized",
    "gpuNum": 0,
    "hideHardwareSpecs": false,
    "memoryGiB": 4,
    "name": "ml.c5.large",
    "vcpuNum": 2
   },
   {
    "_defaultOrder": 22,
    "_isFastLaunch": false,
    "category": "Compute optimized",
    "gpuNum": 0,
    "hideHardwareSpecs": false,
    "memoryGiB": 8,
    "name": "ml.c5.xlarge",
    "vcpuNum": 4
   },
   {
    "_defaultOrder": 23,
    "_isFastLaunch": false,
    "category": "Compute optimized",
    "gpuNum": 0,
    "hideHardwareSpecs": false,
    "memoryGiB": 16,
    "name": "ml.c5.2xlarge",
    "vcpuNum": 8
   },
   {
    "_defaultOrder": 24,
    "_isFastLaunch": false,
    "category": "Compute optimized",
    "gpuNum": 0,
    "hideHardwareSpecs": false,
    "memoryGiB": 32,
    "name": "ml.c5.4xlarge",
    "vcpuNum": 16
   },
   {
    "_defaultOrder": 25,
    "_isFastLaunch": false,
    "category": "Compute optimized",
    "gpuNum": 0,
    "hideHardwareSpecs": false,
    "memoryGiB": 72,
    "name": "ml.c5.9xlarge",
    "vcpuNum": 36
   },
   {
    "_defaultOrder": 26,
    "_isFastLaunch": false,
    "category": "Compute optimized",
    "gpuNum": 0,
    "hideHardwareSpecs": false,
    "memoryGiB": 96,
    "name": "ml.c5.12xlarge",
    "vcpuNum": 48
   },
   {
    "_defaultOrder": 27,
    "_isFastLaunch": false,
    "category": "Compute optimized",
    "gpuNum": 0,
    "hideHardwareSpecs": false,
    "memoryGiB": 144,
    "name": "ml.c5.18xlarge",
    "vcpuNum": 72
   },
   {
    "_defaultOrder": 28,
    "_isFastLaunch": false,
    "category": "Compute optimized",
    "gpuNum": 0,
    "hideHardwareSpecs": false,
    "memoryGiB": 192,
    "name": "ml.c5.24xlarge",
    "vcpuNum": 96
   },
   {
    "_defaultOrder": 29,
    "_isFastLaunch": true,
    "category": "Accelerated computing",
    "gpuNum": 1,
    "hideHardwareSpecs": false,
    "memoryGiB": 16,
    "name": "ml.g4dn.xlarge",
    "vcpuNum": 4
   },
   {
    "_defaultOrder": 30,
    "_isFastLaunch": false,
    "category": "Accelerated computing",
    "gpuNum": 1,
    "hideHardwareSpecs": false,
    "memoryGiB": 32,
    "name": "ml.g4dn.2xlarge",
    "vcpuNum": 8
   },
   {
    "_defaultOrder": 31,
    "_isFastLaunch": false,
    "category": "Accelerated computing",
    "gpuNum": 1,
    "hideHardwareSpecs": false,
    "memoryGiB": 64,
    "name": "ml.g4dn.4xlarge",
    "vcpuNum": 16
   },
   {
    "_defaultOrder": 32,
    "_isFastLaunch": false,
    "category": "Accelerated computing",
    "gpuNum": 1,
    "hideHardwareSpecs": false,
    "memoryGiB": 128,
    "name": "ml.g4dn.8xlarge",
    "vcpuNum": 32
   },
   {
    "_defaultOrder": 33,
    "_isFastLaunch": false,
    "category": "Accelerated computing",
    "gpuNum": 4,
    "hideHardwareSpecs": false,
    "memoryGiB": 192,
    "name": "ml.g4dn.12xlarge",
    "vcpuNum": 48
   },
   {
    "_defaultOrder": 34,
    "_isFastLaunch": false,
    "category": "Accelerated computing",
    "gpuNum": 1,
    "hideHardwareSpecs": false,
    "memoryGiB": 256,
    "name": "ml.g4dn.16xlarge",
    "vcpuNum": 64
   },
   {
    "_defaultOrder": 35,
    "_isFastLaunch": false,
    "category": "Accelerated computing",
    "gpuNum": 1,
    "hideHardwareSpecs": false,
    "memoryGiB": 61,
    "name": "ml.p3.2xlarge",
    "vcpuNum": 8
   },
   {
    "_defaultOrder": 36,
    "_isFastLaunch": false,
    "category": "Accelerated computing",
    "gpuNum": 4,
    "hideHardwareSpecs": false,
    "memoryGiB": 244,
    "name": "ml.p3.8xlarge",
    "vcpuNum": 32
   },
   {
    "_defaultOrder": 37,
    "_isFastLaunch": false,
    "category": "Accelerated computing",
    "gpuNum": 8,
    "hideHardwareSpecs": false,
    "memoryGiB": 488,
    "name": "ml.p3.16xlarge",
    "vcpuNum": 64
   },
   {
    "_defaultOrder": 38,
    "_isFastLaunch": false,
    "category": "Accelerated computing",
    "gpuNum": 8,
    "hideHardwareSpecs": false,
    "memoryGiB": 768,
    "name": "ml.p3dn.24xlarge",
    "vcpuNum": 96
   },
   {
    "_defaultOrder": 39,
    "_isFastLaunch": false,
    "category": "Memory Optimized",
    "gpuNum": 0,
    "hideHardwareSpecs": false,
    "memoryGiB": 16,
    "name": "ml.r5.large",
    "vcpuNum": 2
   },
   {
    "_defaultOrder": 40,
    "_isFastLaunch": false,
    "category": "Memory Optimized",
    "gpuNum": 0,
    "hideHardwareSpecs": false,
    "memoryGiB": 32,
    "name": "ml.r5.xlarge",
    "vcpuNum": 4
   },
   {
    "_defaultOrder": 41,
    "_isFastLaunch": false,
    "category": "Memory Optimized",
    "gpuNum": 0,
    "hideHardwareSpecs": false,
    "memoryGiB": 64,
    "name": "ml.r5.2xlarge",
    "vcpuNum": 8
   },
   {
    "_defaultOrder": 42,
    "_isFastLaunch": false,
    "category": "Memory Optimized",
    "gpuNum": 0,
    "hideHardwareSpecs": false,
    "memoryGiB": 128,
    "name": "ml.r5.4xlarge",
    "vcpuNum": 16
   },
   {
    "_defaultOrder": 43,
    "_isFastLaunch": false,
    "category": "Memory Optimized",
    "gpuNum": 0,
    "hideHardwareSpecs": false,
    "memoryGiB": 256,
    "name": "ml.r5.8xlarge",
    "vcpuNum": 32
   },
   {
    "_defaultOrder": 44,
    "_isFastLaunch": false,
    "category": "Memory Optimized",
    "gpuNum": 0,
    "hideHardwareSpecs": false,
    "memoryGiB": 384,
    "name": "ml.r5.12xlarge",
    "vcpuNum": 48
   },
   {
    "_defaultOrder": 45,
    "_isFastLaunch": false,
    "category": "Memory Optimized",
    "gpuNum": 0,
    "hideHardwareSpecs": false,
    "memoryGiB": 512,
    "name": "ml.r5.16xlarge",
    "vcpuNum": 64
   },
   {
    "_defaultOrder": 46,
    "_isFastLaunch": false,
    "category": "Memory Optimized",
    "gpuNum": 0,
    "hideHardwareSpecs": false,
    "memoryGiB": 768,
    "name": "ml.r5.24xlarge",
    "vcpuNum": 96
   },
   {
    "_defaultOrder": 47,
    "_isFastLaunch": false,
    "category": "Accelerated computing",
    "gpuNum": 1,
    "hideHardwareSpecs": false,
    "memoryGiB": 16,
    "name": "ml.g5.xlarge",
    "vcpuNum": 4
   },
   {
    "_defaultOrder": 48,
    "_isFastLaunch": false,
    "category": "Accelerated computing",
    "gpuNum": 1,
    "hideHardwareSpecs": false,
    "memoryGiB": 32,
    "name": "ml.g5.2xlarge",
    "vcpuNum": 8
   },
   {
    "_defaultOrder": 49,
    "_isFastLaunch": false,
    "category": "Accelerated computing",
    "gpuNum": 1,
    "hideHardwareSpecs": false,
    "memoryGiB": 64,
    "name": "ml.g5.4xlarge",
    "vcpuNum": 16
   },
   {
    "_defaultOrder": 50,
    "_isFastLaunch": false,
    "category": "Accelerated computing",
    "gpuNum": 1,
    "hideHardwareSpecs": false,
    "memoryGiB": 128,
    "name": "ml.g5.8xlarge",
    "vcpuNum": 32
   },
   {
    "_defaultOrder": 51,
    "_isFastLaunch": false,
    "category": "Accelerated computing",
    "gpuNum": 1,
    "hideHardwareSpecs": false,
    "memoryGiB": 256,
    "name": "ml.g5.16xlarge",
    "vcpuNum": 64
   },
   {
    "_defaultOrder": 52,
    "_isFastLaunch": false,
    "category": "Accelerated computing",
    "gpuNum": 4,
    "hideHardwareSpecs": false,
    "memoryGiB": 192,
    "name": "ml.g5.12xlarge",
    "vcpuNum": 48
   },
   {
    "_defaultOrder": 53,
    "_isFastLaunch": false,
    "category": "Accelerated computing",
    "gpuNum": 4,
    "hideHardwareSpecs": false,
    "memoryGiB": 384,
    "name": "ml.g5.24xlarge",
    "vcpuNum": 96
   },
   {
    "_defaultOrder": 54,
    "_isFastLaunch": false,
    "category": "Accelerated computing",
    "gpuNum": 8,
    "hideHardwareSpecs": false,
    "memoryGiB": 768,
    "name": "ml.g5.48xlarge",
    "vcpuNum": 192
   },
   {
    "_defaultOrder": 55,
    "_isFastLaunch": false,
    "category": "Accelerated computing",
    "gpuNum": 8,
    "hideHardwareSpecs": false,
    "memoryGiB": 1152,
    "name": "ml.p4d.24xlarge",
    "vcpuNum": 96
   },
   {
    "_defaultOrder": 56,
    "_isFastLaunch": false,
    "category": "Accelerated computing",
    "gpuNum": 8,
    "hideHardwareSpecs": false,
    "memoryGiB": 1152,
    "name": "ml.p4de.24xlarge",
    "vcpuNum": 96
   },
   {
    "_defaultOrder": 57,
    "_isFastLaunch": false,
    "category": "Accelerated computing",
    "gpuNum": 0,
    "hideHardwareSpecs": false,
    "memoryGiB": 32,
    "name": "ml.trn1.2xlarge",
    "vcpuNum": 8
   },
   {
    "_defaultOrder": 58,
    "_isFastLaunch": false,
    "category": "Accelerated computing",
    "gpuNum": 0,
    "hideHardwareSpecs": false,
    "memoryGiB": 512,
    "name": "ml.trn1.32xlarge",
    "vcpuNum": 128
   },
   {
    "_defaultOrder": 59,
    "_isFastLaunch": false,
    "category": "Accelerated computing",
    "gpuNum": 0,
    "hideHardwareSpecs": false,
    "memoryGiB": 512,
    "name": "ml.trn1n.32xlarge",
    "vcpuNum": 128
   }
  ],
  "instance_type": "ml.t3.medium",
  "kernelspec": {
   "display_name": "Python 3 (ipykernel)",
   "language": "python",
   "name": "python3"
  },
  "language_info": {
   "codemirror_mode": {
    "name": "ipython",
    "version": 3
   },
   "file_extension": ".py",
   "mimetype": "text/x-python",
   "name": "python",
   "nbconvert_exporter": "python",
   "pygments_lexer": "ipython3",
   "version": "3.11.11"
  },
  "papermill": {
   "default_parameters": {},
   "duration": 326.188328,
   "end_time": "2025-03-02T21:37:49.755012",
   "environment_variables": {},
   "exception": null,
   "input_path": "Train_XGB.ipynb",
   "output_path": "executed_Train_XGB.ipynb",
   "parameters": {},
   "start_time": "2025-03-02T21:32:23.566684",
   "version": "2.6.0"
  }
 },
 "nbformat": 4,
 "nbformat_minor": 5
}