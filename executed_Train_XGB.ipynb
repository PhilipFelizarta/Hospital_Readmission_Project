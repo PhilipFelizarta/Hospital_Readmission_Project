{
 "cells": [
  {
   "cell_type": "code",
   "execution_count": 1,
   "id": "14800999",
   "metadata": {
    "execution": {
     "iopub.execute_input": "2025-03-01T23:37:56.991976Z",
     "iopub.status.busy": "2025-03-01T23:37:56.991363Z",
     "iopub.status.idle": "2025-03-01T23:37:57.002637Z",
     "shell.execute_reply": "2025-03-01T23:37:57.000381Z"
    },
    "papermill": {
     "duration": 0.024819,
     "end_time": "2025-03-01T23:37:57.007877",
     "exception": false,
     "start_time": "2025-03-01T23:37:56.983058",
     "status": "completed"
    },
    "tags": [
     "injected-parameters"
    ]
   },
   "outputs": [],
   "source": [
    "# Parameters\n",
    "N_Trials = 2\n"
   ]
  },
  {
   "cell_type": "code",
   "execution_count": 2,
   "id": "c35b8359-af28-4fb4-98f5-a4ff39fd5b52",
   "metadata": {
    "execution": {
     "iopub.execute_input": "2025-03-01T23:37:57.041701Z",
     "iopub.status.busy": "2025-03-01T23:37:57.041288Z",
     "iopub.status.idle": "2025-03-01T23:37:57.048910Z",
     "shell.execute_reply": "2025-03-01T23:37:57.048081Z"
    },
    "papermill": {
     "duration": 0.024493,
     "end_time": "2025-03-01T23:37:57.050131",
     "exception": false,
     "start_time": "2025-03-01T23:37:57.025638",
     "status": "completed"
    },
    "tags": []
   },
   "outputs": [],
   "source": [
    "import json\n",
    "\n",
    "# Load configuration from JSON\n",
    "config_file = \"pipeline_config.json\"\n",
    "\n",
    "# Read the N_Trials value\n",
    "try:\n",
    "    with open(config_file, \"r\") as f:\n",
    "        config = json.load(f)\n",
    "        N_TRIALS = config.get(\"N_Trials\", 1)  # Default to 1 if not found\n",
    "except FileNotFoundError:\n",
    "    print(f\"Config file {config_file} not found. Using default values.\")\n",
    "    N_TRIALS = 1\n",
    "except json.JSONDecodeError:\n",
    "    print(f\"Error parsing {config_file}. Using default values.\")\n",
    "    N_TRIALS = 1\n"
   ]
  },
  {
   "cell_type": "code",
   "execution_count": 3,
   "id": "cb3bdd35-ac77-435c-831b-8769a3ae297d",
   "metadata": {
    "execution": {
     "iopub.execute_input": "2025-03-01T23:37:57.109170Z",
     "iopub.status.busy": "2025-03-01T23:37:57.105137Z",
     "iopub.status.idle": "2025-03-01T23:38:01.014495Z",
     "shell.execute_reply": "2025-03-01T23:38:01.013067Z"
    },
    "papermill": {
     "duration": 3.9273,
     "end_time": "2025-03-01T23:38:01.016560",
     "exception": false,
     "start_time": "2025-03-01T23:37:57.089260",
     "status": "completed"
    },
    "tags": []
   },
   "outputs": [
    {
     "name": "stdout",
     "output_type": "stream",
     "text": [
      "Requirement already satisfied: shap in /opt/conda/lib/python3.11/site-packages (0.46.0)\r\n",
      "Requirement already satisfied: numpy in /opt/conda/lib/python3.11/site-packages (from shap) (1.26.4)\r\n",
      "Requirement already satisfied: scipy in /opt/conda/lib/python3.11/site-packages (from shap) (1.15.1)\r\n",
      "Requirement already satisfied: scikit-learn in /opt/conda/lib/python3.11/site-packages (from shap) (1.5.2)\r\n",
      "Requirement already satisfied: pandas in /opt/conda/lib/python3.11/site-packages (from shap) (2.2.3)\r\n",
      "Requirement already satisfied: tqdm>=4.27.0 in /opt/conda/lib/python3.11/site-packages (from shap) (4.67.1)\r\n",
      "Requirement already satisfied: packaging>20.9 in /opt/conda/lib/python3.11/site-packages (from shap) (24.2)\r\n",
      "Requirement already satisfied: slicer==0.0.8 in /opt/conda/lib/python3.11/site-packages (from shap) (0.0.8)\r\n",
      "Requirement already satisfied: numba in /opt/conda/lib/python3.11/site-packages (from shap) (0.61.0)\r\n",
      "Requirement already satisfied: cloudpickle in /opt/conda/lib/python3.11/site-packages (from shap) (2.2.1)\r\n",
      "Requirement already satisfied: llvmlite<0.45,>=0.44.0dev0 in /opt/conda/lib/python3.11/site-packages (from numba->shap) (0.44.0)\r\n",
      "Requirement already satisfied: python-dateutil>=2.8.2 in /opt/conda/lib/python3.11/site-packages (from pandas->shap) (2.9.0.post0)\r\n",
      "Requirement already satisfied: pytz>=2020.1 in /opt/conda/lib/python3.11/site-packages (from pandas->shap) (2024.1)\r\n",
      "Requirement already satisfied: tzdata>=2022.7 in /opt/conda/lib/python3.11/site-packages (from pandas->shap) (2025.1)\r\n",
      "Requirement already satisfied: joblib>=1.2.0 in /opt/conda/lib/python3.11/site-packages (from scikit-learn->shap) (1.4.2)\r\n",
      "Requirement already satisfied: threadpoolctl>=3.1.0 in /opt/conda/lib/python3.11/site-packages (from scikit-learn->shap) (3.5.0)\r\n"
     ]
    },
    {
     "name": "stdout",
     "output_type": "stream",
     "text": [
      "Requirement already satisfied: six>=1.5 in /opt/conda/lib/python3.11/site-packages (from python-dateutil>=2.8.2->pandas->shap) (1.17.0)\r\n"
     ]
    },
    {
     "name": "stdout",
     "output_type": "stream",
     "text": [
      "Requirement already satisfied: xgboost in /opt/conda/lib/python3.11/site-packages (2.1.4)\r\n",
      "Requirement already satisfied: numpy in /opt/conda/lib/python3.11/site-packages (from xgboost) (1.26.4)\r\n",
      "Requirement already satisfied: scipy in /opt/conda/lib/python3.11/site-packages (from xgboost) (1.15.1)\r\n"
     ]
    }
   ],
   "source": [
    "!pip install shap\n",
    "!pip install xgboost"
   ]
  },
  {
   "cell_type": "code",
   "execution_count": 4,
   "id": "7a22c632-1ac0-4dd1-ae10-93a2483ef5c9",
   "metadata": {
    "execution": {
     "iopub.execute_input": "2025-03-01T23:38:01.076623Z",
     "iopub.status.busy": "2025-03-01T23:38:01.076238Z",
     "iopub.status.idle": "2025-03-01T23:38:05.552375Z",
     "shell.execute_reply": "2025-03-01T23:38:05.551361Z"
    },
    "papermill": {
     "duration": 4.511886,
     "end_time": "2025-03-01T23:38:05.554048",
     "exception": false,
     "start_time": "2025-03-01T23:38:01.042162",
     "status": "completed"
    },
    "tags": []
   },
   "outputs": [
    {
     "name": "stdout",
     "output_type": "stream",
     "text": [
      "sagemaker.config INFO - Not applying SDK defaults from location: /etc/xdg/sagemaker/config.yaml\n"
     ]
    },
    {
     "name": "stdout",
     "output_type": "stream",
     "text": [
      "sagemaker.config INFO - Not applying SDK defaults from location: /home/sagemaker-user/.config/sagemaker/config.yaml\n"
     ]
    }
   ],
   "source": [
    "import pandas as pd\n",
    "import numpy as np\n",
    "\n",
    "import boto3\n",
    "from pyathena import connect\n",
    "import sagemaker\n",
    "from sagemaker.feature_store.feature_group import FeatureGroup, FeatureDefinition, FeatureTypeEnum\n",
    "from sagemaker.session import Session\n",
    "from sagemaker import get_execution_role\n",
    "\n",
    "from pyathena import connect\n",
    "\n",
    "import time\n",
    "import shap\n",
    "import json\n",
    "import joblib\n",
    "import io\n",
    "\n",
    "import xgboost as xgb\n",
    "import matplotlib.pyplot as plt\n",
    "from sklearn.preprocessing import OneHotEncoder, LabelEncoder\n",
    "from sklearn.model_selection import train_test_split\n",
    "from sklearn.metrics import log_loss, accuracy_score, roc_auc_score, precision_score, recall_score\n",
    "\n",
    "from itertools import combinations\n",
    "import pickle\n",
    "import warnings\n",
    "\n",
    "import model_methods\n",
    "\n",
    "\n",
    "# S3 and Athena details\n",
    "bucket_name = \"group3-project-bucket\"\n",
    "database_name = \"group_project_db\"\n",
    "table_name = \"hospital_readmissions\"\n",
    "s3_output = f\"s3://{bucket_name}/athena-results/\"\n",
    "region = \"us-east-1\"\n",
    "s3_client = boto3.client(\"s3\", region_name=region)"
   ]
  },
  {
   "cell_type": "markdown",
   "id": "0b6b1314-f8dd-4e91-bfb4-0ad4ae6b1e70",
   "metadata": {
    "papermill": {
     "duration": 0.006745,
     "end_time": "2025-03-01T23:38:05.568210",
     "exception": false,
     "start_time": "2025-03-01T23:38:05.561465",
     "status": "completed"
    },
    "tags": []
   },
   "source": [
    "## Find the latest feature store to generate a new model!"
   ]
  },
  {
   "cell_type": "code",
   "execution_count": 5,
   "id": "4d572e43-c3ad-4047-946a-c9c00167d5c3",
   "metadata": {
    "execution": {
     "iopub.execute_input": "2025-03-01T23:38:05.609115Z",
     "iopub.status.busy": "2025-03-01T23:38:05.607964Z",
     "iopub.status.idle": "2025-03-01T23:38:05.954255Z",
     "shell.execute_reply": "2025-03-01T23:38:05.952092Z"
    },
    "papermill": {
     "duration": 0.378363,
     "end_time": "2025-03-01T23:38:05.955944",
     "exception": false,
     "start_time": "2025-03-01T23:38:05.577581",
     "status": "completed"
    },
    "tags": []
   },
   "outputs": [
    {
     "name": "stdout",
     "output_type": "stream",
     "text": [
      "\n",
      "Available Databases in Glue:\n",
      "- default\n",
      "- group_project_db\n",
      "- sagemaker_featurestore\n",
      "\n",
      "Tables in `sagemaker_featurestore` database:\n",
      "- hospital_readmissions_features_1740354579\n",
      "- hospital_readmissions_features_1740867183_1740867183\n",
      "- hospital_readmissions_features_1740867247_1740867247\n",
      "- hospital_readmissions_features_1740867455_1740867455\n",
      "- hospital_readmissions_features_1740867741_1740867741\n",
      "- hospital_readmissions_features_1740868107_1740868107\n",
      "- hospital_readmissions_features_1740868421_1740868421\n",
      "- hospital_readmissions_features_1740868692_1740868692\n",
      "- hospital_readmissions_features_1740869180_1740869180\n",
      "- hospital_readmissions_features_1740869682_1740869682\n",
      "- hospital_readmissions_features_1740871225_1740871225\n",
      "- hospital_readmissions_features_1740871778_1740871779\n",
      "- hospital_readmissions_features_1740872136_1740872136\n"
     ]
    }
   ],
   "source": [
    "glue_client = boto3.client(\"glue\")\n",
    "\n",
    "# List databases in AWS Glue\n",
    "response = glue_client.get_databases()\n",
    "print(\"\\nAvailable Databases in Glue:\")\n",
    "for db in response[\"DatabaseList\"]:\n",
    "    print(f\"- {db['Name']}\")\n",
    "\n",
    "# List tables in the `sagemaker_featurestore` database (if it exists)\n",
    "database_name = \"sagemaker_featurestore\"\n",
    "\n",
    "try:\n",
    "    response = glue_client.get_tables(DatabaseName=database_name)\n",
    "    print(f\"\\nTables in `{database_name}` database:\")\n",
    "    for table in response[\"TableList\"]:\n",
    "        print(f\"- {table['Name']}\")\n",
    "except glue_client.exceptions.EntityNotFoundException:\n",
    "    print(f\"\\nDatabase `{database_name}` not found in Glue.\")"
   ]
  },
  {
   "cell_type": "markdown",
   "id": "cd9fc34f-1b05-42f8-a424-ae687ddfa81e",
   "metadata": {
    "papermill": {
     "duration": 0.009826,
     "end_time": "2025-03-01T23:38:05.974108",
     "exception": false,
     "start_time": "2025-03-01T23:38:05.964282",
     "status": "completed"
    },
    "tags": []
   },
   "source": [
    "Query Athenta Tables for Data Splitting"
   ]
  },
  {
   "cell_type": "code",
   "execution_count": 6,
   "id": "96d3ad70-65eb-4bc7-a66e-617246728924",
   "metadata": {
    "execution": {
     "iopub.execute_input": "2025-03-01T23:38:05.997569Z",
     "iopub.status.busy": "2025-03-01T23:38:05.997221Z",
     "iopub.status.idle": "2025-03-01T23:38:14.318401Z",
     "shell.execute_reply": "2025-03-01T23:38:14.317658Z"
    },
    "papermill": {
     "duration": 8.331396,
     "end_time": "2025-03-01T23:38:14.320124",
     "exception": false,
     "start_time": "2025-03-01T23:38:05.988728",
     "status": "completed"
    },
    "tags": []
   },
   "outputs": [
    {
     "name": "stderr",
     "output_type": "stream",
     "text": [
      "/tmp/ipykernel_6965/530253379.py:16: UserWarning: pandas only supports SQLAlchemy connectable (engine/connection) or database string URI or sqlite3 DBAPI2 connection. Other DBAPI2 objects are not tested. Please consider using SQLAlchemy.\n",
      "  df = pd.read_sql(query, connection)\n"
     ]
    }
   ],
   "source": [
    "# Query the feature store in Athena\n",
    "\n",
    "latest_table = response[\"TableList\"][-1]\n",
    "query = f\"\"\"\n",
    "SELECT * \n",
    "FROM \"sagemaker_featurestore\".\"{latest_table[\"Name\"]}\"\n",
    "\"\"\"\n",
    "\n",
    "# Connect to Athena\n",
    "connection = connect(\n",
    "    s3_staging_dir=f\"s3://{bucket_name}/athena-results/\",\n",
    "    region_name=\"us-east-1\"\n",
    ")\n",
    "\n",
    "# Retrieve all feature data\n",
    "df = pd.read_sql(query, connection)"
   ]
  },
  {
   "cell_type": "code",
   "execution_count": 7,
   "id": "1149d328-434f-4744-9293-e2fcb5410f47",
   "metadata": {
    "execution": {
     "iopub.execute_input": "2025-03-01T23:38:14.363013Z",
     "iopub.status.busy": "2025-03-01T23:38:14.362490Z",
     "iopub.status.idle": "2025-03-01T23:38:14.496353Z",
     "shell.execute_reply": "2025-03-01T23:38:14.495200Z"
    },
    "papermill": {
     "duration": 0.16946,
     "end_time": "2025-03-01T23:38:14.499605",
     "exception": false,
     "start_time": "2025-03-01T23:38:14.330145",
     "status": "completed"
    },
    "tags": []
   },
   "outputs": [
    {
     "data": {
      "text/html": [
       "<div>\n",
       "<style scoped>\n",
       "    .dataframe tbody tr th:only-of-type {\n",
       "        vertical-align: middle;\n",
       "    }\n",
       "\n",
       "    .dataframe tbody tr th {\n",
       "        vertical-align: top;\n",
       "    }\n",
       "\n",
       "    .dataframe thead th {\n",
       "        text-align: right;\n",
       "    }\n",
       "</style>\n",
       "<table border=\"1\" class=\"dataframe\">\n",
       "  <thead>\n",
       "    <tr style=\"text-align: right;\">\n",
       "      <th></th>\n",
       "      <th>age</th>\n",
       "      <th>time_in_hospital</th>\n",
       "      <th>n_lab_procedures</th>\n",
       "      <th>n_procedures</th>\n",
       "      <th>n_medications</th>\n",
       "      <th>n_outpatient</th>\n",
       "      <th>n_inpatient</th>\n",
       "      <th>n_emergency</th>\n",
       "      <th>medical_specialty</th>\n",
       "      <th>diag_1</th>\n",
       "      <th>diag_2</th>\n",
       "      <th>diag_3</th>\n",
       "      <th>glucose_test</th>\n",
       "      <th>a1ctest</th>\n",
       "      <th>change</th>\n",
       "      <th>diabetes_med</th>\n",
       "      <th>readmitted</th>\n",
       "    </tr>\n",
       "  </thead>\n",
       "  <tbody>\n",
       "    <tr>\n",
       "      <th>0</th>\n",
       "      <td>3</td>\n",
       "      <td>5</td>\n",
       "      <td>46</td>\n",
       "      <td>1</td>\n",
       "      <td>22</td>\n",
       "      <td>0</td>\n",
       "      <td>4</td>\n",
       "      <td>0</td>\n",
       "      <td>4</td>\n",
       "      <td>6</td>\n",
       "      <td>0</td>\n",
       "      <td>6</td>\n",
       "      <td>1</td>\n",
       "      <td>1</td>\n",
       "      <td>1</td>\n",
       "      <td>1</td>\n",
       "      <td>1</td>\n",
       "    </tr>\n",
       "    <tr>\n",
       "      <th>1</th>\n",
       "      <td>1</td>\n",
       "      <td>5</td>\n",
       "      <td>45</td>\n",
       "      <td>0</td>\n",
       "      <td>18</td>\n",
       "      <td>0</td>\n",
       "      <td>0</td>\n",
       "      <td>0</td>\n",
       "      <td>4</td>\n",
       "      <td>0</td>\n",
       "      <td>0</td>\n",
       "      <td>0</td>\n",
       "      <td>1</td>\n",
       "      <td>1</td>\n",
       "      <td>1</td>\n",
       "      <td>1</td>\n",
       "      <td>1</td>\n",
       "    </tr>\n",
       "    <tr>\n",
       "      <th>2</th>\n",
       "      <td>2</td>\n",
       "      <td>1</td>\n",
       "      <td>42</td>\n",
       "      <td>0</td>\n",
       "      <td>7</td>\n",
       "      <td>0</td>\n",
       "      <td>0</td>\n",
       "      <td>0</td>\n",
       "      <td>3</td>\n",
       "      <td>6</td>\n",
       "      <td>0</td>\n",
       "      <td>7</td>\n",
       "      <td>1</td>\n",
       "      <td>1</td>\n",
       "      <td>0</td>\n",
       "      <td>1</td>\n",
       "      <td>0</td>\n",
       "    </tr>\n",
       "    <tr>\n",
       "      <th>3</th>\n",
       "      <td>2</td>\n",
       "      <td>1</td>\n",
       "      <td>46</td>\n",
       "      <td>0</td>\n",
       "      <td>8</td>\n",
       "      <td>0</td>\n",
       "      <td>0</td>\n",
       "      <td>0</td>\n",
       "      <td>1</td>\n",
       "      <td>7</td>\n",
       "      <td>0</td>\n",
       "      <td>6</td>\n",
       "      <td>1</td>\n",
       "      <td>1</td>\n",
       "      <td>0</td>\n",
       "      <td>1</td>\n",
       "      <td>0</td>\n",
       "    </tr>\n",
       "    <tr>\n",
       "      <th>4</th>\n",
       "      <td>2</td>\n",
       "      <td>1</td>\n",
       "      <td>19</td>\n",
       "      <td>6</td>\n",
       "      <td>16</td>\n",
       "      <td>0</td>\n",
       "      <td>0</td>\n",
       "      <td>1</td>\n",
       "      <td>5</td>\n",
       "      <td>0</td>\n",
       "      <td>6</td>\n",
       "      <td>6</td>\n",
       "      <td>1</td>\n",
       "      <td>1</td>\n",
       "      <td>0</td>\n",
       "      <td>1</td>\n",
       "      <td>1</td>\n",
       "    </tr>\n",
       "  </tbody>\n",
       "</table>\n",
       "</div>"
      ],
      "text/plain": [
       "   age  time_in_hospital  n_lab_procedures  n_procedures  n_medications  \\\n",
       "0    3                 5                46             1             22   \n",
       "1    1                 5                45             0             18   \n",
       "2    2                 1                42             0              7   \n",
       "3    2                 1                46             0              8   \n",
       "4    2                 1                19             6             16   \n",
       "\n",
       "   n_outpatient  n_inpatient  n_emergency  medical_specialty  diag_1  diag_2  \\\n",
       "0             0            4            0                  4       6       0   \n",
       "1             0            0            0                  4       0       0   \n",
       "2             0            0            0                  3       6       0   \n",
       "3             0            0            0                  1       7       0   \n",
       "4             0            0            1                  5       0       6   \n",
       "\n",
       "   diag_3  glucose_test  a1ctest  change  diabetes_med  readmitted  \n",
       "0       6             1        1       1             1           1  \n",
       "1       0             1        1       1             1           1  \n",
       "2       7             1        1       0             1           0  \n",
       "3       6             1        1       0             1           0  \n",
       "4       6             1        1       0             1           1  "
      ]
     },
     "metadata": {},
     "output_type": "display_data"
    },
    {
     "name": "stdout",
     "output_type": "stream",
     "text": [
      "Base Features:  17\n",
      "Data Samples:  16459\n",
      "Identified categorical columns: ['glucose_test', 'A1Ctest', 'age', 'medical_specialty', 'diag_1', 'diag_2', 'diag_3', 'change', 'diabetes_med', 'readmitted']\n",
      "Category counts per categorical column: {'glucose_test': 3, 'A1Ctest': 3, 'age': 6, 'medical_specialty': 7, 'diag_1': 8, 'diag_2': 8, 'diag_3': 8, 'change': 2, 'diabetes_med': 2, 'readmitted': 2}\n",
      "Categorical columns:  ['glucose_test', 'A1Ctest', 'age', 'medical_specialty', 'diag_1', 'diag_2', 'diag_3', 'change', 'diabetes_med', 'readmitted']\n",
      "Num classes per category:  {'glucose_test': 3, 'A1Ctest': 3, 'age': 6, 'medical_specialty': 7, 'diag_1': 8, 'diag_2': 8, 'diag_3': 8, 'change': 2, 'diabetes_med': 2, 'readmitted': 2}\n"
     ]
    }
   ],
   "source": [
    "df = df.drop(columns=[\"event_time\", \"write_time\", \"api_invocation_time\", \"is_deleted\"])\n",
    "display(df.head())\n",
    "\n",
    "\n",
    "print(\"Base Features: \", len(df.columns))\n",
    "print(\"Data Samples: \", len(df))\n",
    "\n",
    "categorical_columns, num_cats = model_methods.get_categorical_columns_from_s3(bucket_name, s3_client)\n",
    "print(\"Categorical columns: \", categorical_columns)\n",
    "print(\"Num classes per category: \", num_cats)"
   ]
  },
  {
   "cell_type": "markdown",
   "id": "696deb1d-9946-4876-b1d8-c47bd9bec2ad",
   "metadata": {
    "papermill": {
     "duration": 0.011495,
     "end_time": "2025-03-01T23:38:14.524056",
     "exception": false,
     "start_time": "2025-03-01T23:38:14.512561",
     "status": "completed"
    },
    "tags": []
   },
   "source": [
    "Train an XGB model raw, use SHAP to visual feature importance."
   ]
  },
  {
   "cell_type": "code",
   "execution_count": 8,
   "id": "07779d43-4bdf-4d8e-8cb1-7c02ee9c4015",
   "metadata": {
    "execution": {
     "iopub.execute_input": "2025-03-01T23:38:14.545100Z",
     "iopub.status.busy": "2025-03-01T23:38:14.544434Z",
     "iopub.status.idle": "2025-03-01T23:38:14.805726Z",
     "shell.execute_reply": "2025-03-01T23:38:14.804792Z"
    },
    "papermill": {
     "duration": 0.276223,
     "end_time": "2025-03-01T23:38:14.808796",
     "exception": false,
     "start_time": "2025-03-01T23:38:14.532573",
     "status": "completed"
    },
    "tags": []
   },
   "outputs": [
    {
     "name": "stdout",
     "output_type": "stream",
     "text": [
      "✅ Test Log Loss: 0.7275\n",
      "✅ Test Accuracy: 0.5844\n",
      "✅ Test AUC: 0.6101\n",
      "✅ Test Precision: 0.5540\n",
      "✅ Test Recall: 0.5191\n"
     ]
    },
    {
     "data": {
      "text/plain": [
       "(0.5844471445929527, 0.6101011900784724, 0.5539971949509116, 0.519053876478318)"
      ]
     },
     "execution_count": 8,
     "metadata": {},
     "output_type": "execute_result"
    }
   ],
   "source": [
    "# Split data into train (50%), test (10%), production (40%)\n",
    "train_df, temp_df = train_test_split(df, test_size=0.5, random_state=42)\n",
    "test_df, prod_df = train_test_split(temp_df, test_size=0.8, random_state=42)\n",
    "\n",
    "# Separate features and target variable\n",
    "target_column = \"readmitted\"\n",
    "X_train = train_df.drop(columns=[target_column])\n",
    "y_train = train_df[target_column]\n",
    "X_test = test_df.drop(columns=[target_column])\n",
    "y_test = test_df[target_column]\n",
    "\n",
    "# Train XGBoost model on production dataset\n",
    "dmatrix_train = xgb.DMatrix(X_train, label=y_train)\n",
    "params = {\n",
    "    \"objective\": \"binary:logistic\",\n",
    "    \"eval_metric\": \"logloss\",\n",
    "    \"seed\": 42\n",
    "}\n",
    "model = xgb.train(params, dmatrix_train, num_boost_round=100)\n",
    "\n",
    "def eval_model(model, X_test, y_test):\n",
    "    \"\"\"\n",
    "    Evaluates the XGBoost model and returns evaluation metrics.\n",
    "    Ensures all relevant metrics are logged for the model card.\n",
    "    \"\"\"\n",
    "    # Convert test data into DMatrix\n",
    "    dmatrix_test = xgb.DMatrix(X_test, label=y_test, enable_categorical=True)\n",
    "    \n",
    "    # Make predictions\n",
    "    y_pred_proba = model.predict(dmatrix_test)\n",
    "    y_pred = (y_pred_proba >= 0.5).astype(int)  # Convert probabilities to binary predictions\n",
    "    \n",
    "    # Compute evaluation metrics\n",
    "    test_log_loss = log_loss(y_test, y_pred_proba)\n",
    "    test_accuracy = accuracy_score(y_test, y_pred)\n",
    "    test_auc = roc_auc_score(y_test, y_pred_proba)\n",
    "    test_precision = precision_score(y_test, y_pred)\n",
    "    test_recall = recall_score(y_test, y_pred)\n",
    "\n",
    "    # Print evaluation metrics\n",
    "    print(f\"✅ Test Log Loss: {test_log_loss:.4f}\")\n",
    "    print(f\"✅ Test Accuracy: {test_accuracy:.4f}\")\n",
    "    print(f\"✅ Test AUC: {test_auc:.4f}\")\n",
    "    print(f\"✅ Test Precision: {test_precision:.4f}\")\n",
    "    print(f\"✅ Test Recall: {test_recall:.4f}\")\n",
    "\n",
    "    return test_accuracy, test_auc, test_precision, test_recall\n",
    "\n",
    "\n",
    "eval_model(model, X_test, y_test)"
   ]
  },
  {
   "cell_type": "markdown",
   "id": "695f75d6-85bb-4150-a8a0-d11e51e1ebe7",
   "metadata": {
    "papermill": {
     "duration": 0.013759,
     "end_time": "2025-03-01T23:38:14.835234",
     "exception": false,
     "start_time": "2025-03-01T23:38:14.821475",
     "status": "completed"
    },
    "tags": []
   },
   "source": [
    "Extract Important Features from XGBoost Model.. create interacting features from statistitically most important features."
   ]
  },
  {
   "cell_type": "code",
   "execution_count": 9,
   "id": "ade02a7e-dfe9-45e0-b75e-ddfe7e10fafd",
   "metadata": {
    "execution": {
     "iopub.execute_input": "2025-03-01T23:38:14.863779Z",
     "iopub.status.busy": "2025-03-01T23:38:14.863138Z",
     "iopub.status.idle": "2025-03-01T23:38:24.658895Z",
     "shell.execute_reply": "2025-03-01T23:38:24.657325Z"
    },
    "papermill": {
     "duration": 9.81136,
     "end_time": "2025-03-01T23:38:24.660056",
     "exception": false,
     "start_time": "2025-03-01T23:38:14.848696",
     "status": "completed"
    },
    "tags": []
   },
   "outputs": [
    {
     "name": "stdout",
     "output_type": "stream",
     "text": [
      "Identified categorical columns: ['glucose_test', 'A1Ctest', 'age', 'medical_specialty', 'diag_1', 'diag_2', 'diag_3', 'change', 'diabetes_med', 'readmitted']\n",
      "Category counts per categorical column: {'glucose_test': 3, 'A1Ctest': 3, 'age': 6, 'medical_specialty': 7, 'diag_1': 8, 'diag_2': 8, 'diag_3': 8, 'change': 2, 'diabetes_med': 2, 'readmitted': 2}\n"
     ]
    },
    {
     "name": "stdout",
     "output_type": "stream",
     "text": [
      "Top Features: ['n_inpatient', 'n_lab_procedures', 'n_medications', 'time_in_hospital', 'n_outpatient', 'medical_specialty', 'n_procedures', 'age', 'diag_3', 'diag_1', 'diag_2', 'n_emergency', 'diabetes_med', 'glucose_test', 'change', 'a1ctest']\n",
      "Interaction features saved to s3://group3-project-bucket/config/interaction_features.json\n"
     ]
    },
    {
     "data": {
      "text/html": [
       "<div>\n",
       "<style scoped>\n",
       "    .dataframe tbody tr th:only-of-type {\n",
       "        vertical-align: middle;\n",
       "    }\n",
       "\n",
       "    .dataframe tbody tr th {\n",
       "        vertical-align: top;\n",
       "    }\n",
       "\n",
       "    .dataframe thead th {\n",
       "        text-align: right;\n",
       "    }\n",
       "</style>\n",
       "<table border=\"1\" class=\"dataframe\">\n",
       "  <thead>\n",
       "    <tr style=\"text-align: right;\">\n",
       "      <th></th>\n",
       "      <th>n_inpatient</th>\n",
       "      <th>n_lab_procedures</th>\n",
       "      <th>n_medications</th>\n",
       "      <th>time_in_hospital</th>\n",
       "      <th>n_outpatient</th>\n",
       "      <th>medical_specialty</th>\n",
       "      <th>n_procedures</th>\n",
       "      <th>age</th>\n",
       "      <th>diag_3</th>\n",
       "      <th>diag_1</th>\n",
       "      <th>...</th>\n",
       "      <th>n_inpatient_x_n_lab_procedures</th>\n",
       "      <th>n_inpatient_x_n_medications</th>\n",
       "      <th>n_inpatient_x_time_in_hospital</th>\n",
       "      <th>n_inpatient_x_n_outpatient</th>\n",
       "      <th>n_lab_procedures_x_n_medications</th>\n",
       "      <th>n_lab_procedures_x_time_in_hospital</th>\n",
       "      <th>n_lab_procedures_x_n_outpatient</th>\n",
       "      <th>n_medications_x_time_in_hospital</th>\n",
       "      <th>n_medications_x_n_outpatient</th>\n",
       "      <th>time_in_hospital_x_n_outpatient</th>\n",
       "    </tr>\n",
       "  </thead>\n",
       "  <tbody>\n",
       "    <tr>\n",
       "      <th>1603</th>\n",
       "      <td>0</td>\n",
       "      <td>80</td>\n",
       "      <td>35</td>\n",
       "      <td>3</td>\n",
       "      <td>0</td>\n",
       "      <td>4</td>\n",
       "      <td>6</td>\n",
       "      <td>3</td>\n",
       "      <td>7</td>\n",
       "      <td>0</td>\n",
       "      <td>...</td>\n",
       "      <td>0</td>\n",
       "      <td>0</td>\n",
       "      <td>0</td>\n",
       "      <td>0</td>\n",
       "      <td>2800</td>\n",
       "      <td>240</td>\n",
       "      <td>0</td>\n",
       "      <td>105</td>\n",
       "      <td>0</td>\n",
       "      <td>0</td>\n",
       "    </tr>\n",
       "    <tr>\n",
       "      <th>8014</th>\n",
       "      <td>0</td>\n",
       "      <td>75</td>\n",
       "      <td>20</td>\n",
       "      <td>2</td>\n",
       "      <td>0</td>\n",
       "      <td>3</td>\n",
       "      <td>0</td>\n",
       "      <td>2</td>\n",
       "      <td>1</td>\n",
       "      <td>6</td>\n",
       "      <td>...</td>\n",
       "      <td>0</td>\n",
       "      <td>0</td>\n",
       "      <td>0</td>\n",
       "      <td>0</td>\n",
       "      <td>1500</td>\n",
       "      <td>150</td>\n",
       "      <td>0</td>\n",
       "      <td>40</td>\n",
       "      <td>0</td>\n",
       "      <td>0</td>\n",
       "    </tr>\n",
       "    <tr>\n",
       "      <th>4065</th>\n",
       "      <td>0</td>\n",
       "      <td>30</td>\n",
       "      <td>12</td>\n",
       "      <td>3</td>\n",
       "      <td>0</td>\n",
       "      <td>4</td>\n",
       "      <td>0</td>\n",
       "      <td>3</td>\n",
       "      <td>6</td>\n",
       "      <td>7</td>\n",
       "      <td>...</td>\n",
       "      <td>0</td>\n",
       "      <td>0</td>\n",
       "      <td>0</td>\n",
       "      <td>0</td>\n",
       "      <td>360</td>\n",
       "      <td>90</td>\n",
       "      <td>0</td>\n",
       "      <td>36</td>\n",
       "      <td>0</td>\n",
       "      <td>0</td>\n",
       "    </tr>\n",
       "    <tr>\n",
       "      <th>1294</th>\n",
       "      <td>1</td>\n",
       "      <td>41</td>\n",
       "      <td>40</td>\n",
       "      <td>1</td>\n",
       "      <td>1</td>\n",
       "      <td>6</td>\n",
       "      <td>1</td>\n",
       "      <td>2</td>\n",
       "      <td>0</td>\n",
       "      <td>0</td>\n",
       "      <td>...</td>\n",
       "      <td>41</td>\n",
       "      <td>40</td>\n",
       "      <td>1</td>\n",
       "      <td>1</td>\n",
       "      <td>1640</td>\n",
       "      <td>41</td>\n",
       "      <td>41</td>\n",
       "      <td>40</td>\n",
       "      <td>40</td>\n",
       "      <td>1</td>\n",
       "    </tr>\n",
       "    <tr>\n",
       "      <th>15494</th>\n",
       "      <td>1</td>\n",
       "      <td>69</td>\n",
       "      <td>17</td>\n",
       "      <td>6</td>\n",
       "      <td>0</td>\n",
       "      <td>3</td>\n",
       "      <td>0</td>\n",
       "      <td>3</td>\n",
       "      <td>0</td>\n",
       "      <td>0</td>\n",
       "      <td>...</td>\n",
       "      <td>69</td>\n",
       "      <td>17</td>\n",
       "      <td>6</td>\n",
       "      <td>0</td>\n",
       "      <td>1173</td>\n",
       "      <td>414</td>\n",
       "      <td>0</td>\n",
       "      <td>102</td>\n",
       "      <td>0</td>\n",
       "      <td>0</td>\n",
       "    </tr>\n",
       "  </tbody>\n",
       "</table>\n",
       "<p>5 rows × 26 columns</p>\n",
       "</div>"
      ],
      "text/plain": [
       "       n_inpatient  n_lab_procedures  n_medications  time_in_hospital  \\\n",
       "1603             0                80             35                 3   \n",
       "8014             0                75             20                 2   \n",
       "4065             0                30             12                 3   \n",
       "1294             1                41             40                 1   \n",
       "15494            1                69             17                 6   \n",
       "\n",
       "       n_outpatient  medical_specialty  n_procedures  age  diag_3  diag_1  \\\n",
       "1603              0                  4             6    3       7       0   \n",
       "8014              0                  3             0    2       1       6   \n",
       "4065              0                  4             0    3       6       7   \n",
       "1294              1                  6             1    2       0       0   \n",
       "15494             0                  3             0    3       0       0   \n",
       "\n",
       "       ...  n_inpatient_x_n_lab_procedures  n_inpatient_x_n_medications  \\\n",
       "1603   ...                               0                            0   \n",
       "8014   ...                               0                            0   \n",
       "4065   ...                               0                            0   \n",
       "1294   ...                              41                           40   \n",
       "15494  ...                              69                           17   \n",
       "\n",
       "       n_inpatient_x_time_in_hospital  n_inpatient_x_n_outpatient  \\\n",
       "1603                                0                           0   \n",
       "8014                                0                           0   \n",
       "4065                                0                           0   \n",
       "1294                                1                           1   \n",
       "15494                               6                           0   \n",
       "\n",
       "       n_lab_procedures_x_n_medications  n_lab_procedures_x_time_in_hospital  \\\n",
       "1603                               2800                                  240   \n",
       "8014                               1500                                  150   \n",
       "4065                                360                                   90   \n",
       "1294                               1640                                   41   \n",
       "15494                              1173                                  414   \n",
       "\n",
       "       n_lab_procedures_x_n_outpatient  n_medications_x_time_in_hospital  \\\n",
       "1603                                 0                               105   \n",
       "8014                                 0                                40   \n",
       "4065                                 0                                36   \n",
       "1294                                41                                40   \n",
       "15494                                0                               102   \n",
       "\n",
       "       n_medications_x_n_outpatient  time_in_hospital_x_n_outpatient  \n",
       "1603                              0                                0  \n",
       "8014                              0                                0  \n",
       "4065                              0                                0  \n",
       "1294                             40                                1  \n",
       "15494                             0                                0  \n",
       "\n",
       "[5 rows x 26 columns]"
      ]
     },
     "metadata": {},
     "output_type": "display_data"
    },
    {
     "data": {
      "text/html": [
       "<div>\n",
       "<style scoped>\n",
       "    .dataframe tbody tr th:only-of-type {\n",
       "        vertical-align: middle;\n",
       "    }\n",
       "\n",
       "    .dataframe tbody tr th {\n",
       "        vertical-align: top;\n",
       "    }\n",
       "\n",
       "    .dataframe thead th {\n",
       "        text-align: right;\n",
       "    }\n",
       "</style>\n",
       "<table border=\"1\" class=\"dataframe\">\n",
       "  <thead>\n",
       "    <tr style=\"text-align: right;\">\n",
       "      <th></th>\n",
       "      <th>n_inpatient</th>\n",
       "      <th>n_lab_procedures</th>\n",
       "      <th>n_medications</th>\n",
       "      <th>time_in_hospital</th>\n",
       "      <th>n_outpatient</th>\n",
       "      <th>medical_specialty</th>\n",
       "      <th>n_procedures</th>\n",
       "      <th>age</th>\n",
       "      <th>diag_3</th>\n",
       "      <th>diag_1</th>\n",
       "      <th>...</th>\n",
       "      <th>n_inpatient_x_n_lab_procedures</th>\n",
       "      <th>n_inpatient_x_n_medications</th>\n",
       "      <th>n_inpatient_x_time_in_hospital</th>\n",
       "      <th>n_inpatient_x_n_outpatient</th>\n",
       "      <th>n_lab_procedures_x_n_medications</th>\n",
       "      <th>n_lab_procedures_x_time_in_hospital</th>\n",
       "      <th>n_lab_procedures_x_n_outpatient</th>\n",
       "      <th>n_medications_x_time_in_hospital</th>\n",
       "      <th>n_medications_x_n_outpatient</th>\n",
       "      <th>time_in_hospital_x_n_outpatient</th>\n",
       "    </tr>\n",
       "  </thead>\n",
       "  <tbody>\n",
       "    <tr>\n",
       "      <th>5064</th>\n",
       "      <td>5</td>\n",
       "      <td>55</td>\n",
       "      <td>23</td>\n",
       "      <td>2</td>\n",
       "      <td>2</td>\n",
       "      <td>2</td>\n",
       "      <td>1</td>\n",
       "      <td>1</td>\n",
       "      <td>6</td>\n",
       "      <td>6</td>\n",
       "      <td>...</td>\n",
       "      <td>275</td>\n",
       "      <td>115</td>\n",
       "      <td>10</td>\n",
       "      <td>10</td>\n",
       "      <td>1265</td>\n",
       "      <td>110</td>\n",
       "      <td>110</td>\n",
       "      <td>46</td>\n",
       "      <td>46</td>\n",
       "      <td>4</td>\n",
       "    </tr>\n",
       "    <tr>\n",
       "      <th>6561</th>\n",
       "      <td>1</td>\n",
       "      <td>54</td>\n",
       "      <td>25</td>\n",
       "      <td>3</td>\n",
       "      <td>0</td>\n",
       "      <td>4</td>\n",
       "      <td>0</td>\n",
       "      <td>3</td>\n",
       "      <td>0</td>\n",
       "      <td>0</td>\n",
       "      <td>...</td>\n",
       "      <td>54</td>\n",
       "      <td>25</td>\n",
       "      <td>3</td>\n",
       "      <td>0</td>\n",
       "      <td>1350</td>\n",
       "      <td>162</td>\n",
       "      <td>0</td>\n",
       "      <td>75</td>\n",
       "      <td>0</td>\n",
       "      <td>0</td>\n",
       "    </tr>\n",
       "    <tr>\n",
       "      <th>14458</th>\n",
       "      <td>3</td>\n",
       "      <td>54</td>\n",
       "      <td>12</td>\n",
       "      <td>5</td>\n",
       "      <td>0</td>\n",
       "      <td>2</td>\n",
       "      <td>0</td>\n",
       "      <td>3</td>\n",
       "      <td>6</td>\n",
       "      <td>0</td>\n",
       "      <td>...</td>\n",
       "      <td>162</td>\n",
       "      <td>36</td>\n",
       "      <td>15</td>\n",
       "      <td>0</td>\n",
       "      <td>648</td>\n",
       "      <td>270</td>\n",
       "      <td>0</td>\n",
       "      <td>60</td>\n",
       "      <td>0</td>\n",
       "      <td>0</td>\n",
       "    </tr>\n",
       "    <tr>\n",
       "      <th>13293</th>\n",
       "      <td>0</td>\n",
       "      <td>61</td>\n",
       "      <td>35</td>\n",
       "      <td>4</td>\n",
       "      <td>0</td>\n",
       "      <td>4</td>\n",
       "      <td>6</td>\n",
       "      <td>2</td>\n",
       "      <td>0</td>\n",
       "      <td>0</td>\n",
       "      <td>...</td>\n",
       "      <td>0</td>\n",
       "      <td>0</td>\n",
       "      <td>0</td>\n",
       "      <td>0</td>\n",
       "      <td>2135</td>\n",
       "      <td>244</td>\n",
       "      <td>0</td>\n",
       "      <td>140</td>\n",
       "      <td>0</td>\n",
       "      <td>0</td>\n",
       "    </tr>\n",
       "    <tr>\n",
       "      <th>10114</th>\n",
       "      <td>1</td>\n",
       "      <td>41</td>\n",
       "      <td>3</td>\n",
       "      <td>1</td>\n",
       "      <td>0</td>\n",
       "      <td>4</td>\n",
       "      <td>0</td>\n",
       "      <td>1</td>\n",
       "      <td>0</td>\n",
       "      <td>7</td>\n",
       "      <td>...</td>\n",
       "      <td>41</td>\n",
       "      <td>3</td>\n",
       "      <td>1</td>\n",
       "      <td>0</td>\n",
       "      <td>123</td>\n",
       "      <td>41</td>\n",
       "      <td>0</td>\n",
       "      <td>3</td>\n",
       "      <td>0</td>\n",
       "      <td>0</td>\n",
       "    </tr>\n",
       "  </tbody>\n",
       "</table>\n",
       "<p>5 rows × 26 columns</p>\n",
       "</div>"
      ],
      "text/plain": [
       "       n_inpatient  n_lab_procedures  n_medications  time_in_hospital  \\\n",
       "5064             5                55             23                 2   \n",
       "6561             1                54             25                 3   \n",
       "14458            3                54             12                 5   \n",
       "13293            0                61             35                 4   \n",
       "10114            1                41              3                 1   \n",
       "\n",
       "       n_outpatient  medical_specialty  n_procedures  age  diag_3  diag_1  \\\n",
       "5064              2                  2             1    1       6       6   \n",
       "6561              0                  4             0    3       0       0   \n",
       "14458             0                  2             0    3       6       0   \n",
       "13293             0                  4             6    2       0       0   \n",
       "10114             0                  4             0    1       0       7   \n",
       "\n",
       "       ...  n_inpatient_x_n_lab_procedures  n_inpatient_x_n_medications  \\\n",
       "5064   ...                             275                          115   \n",
       "6561   ...                              54                           25   \n",
       "14458  ...                             162                           36   \n",
       "13293  ...                               0                            0   \n",
       "10114  ...                              41                            3   \n",
       "\n",
       "       n_inpatient_x_time_in_hospital  n_inpatient_x_n_outpatient  \\\n",
       "5064                               10                          10   \n",
       "6561                                3                           0   \n",
       "14458                              15                           0   \n",
       "13293                               0                           0   \n",
       "10114                               1                           0   \n",
       "\n",
       "       n_lab_procedures_x_n_medications  n_lab_procedures_x_time_in_hospital  \\\n",
       "5064                               1265                                  110   \n",
       "6561                               1350                                  162   \n",
       "14458                               648                                  270   \n",
       "13293                              2135                                  244   \n",
       "10114                               123                                   41   \n",
       "\n",
       "       n_lab_procedures_x_n_outpatient  n_medications_x_time_in_hospital  \\\n",
       "5064                               110                                46   \n",
       "6561                                 0                                75   \n",
       "14458                                0                                60   \n",
       "13293                                0                               140   \n",
       "10114                                0                                 3   \n",
       "\n",
       "       n_medications_x_n_outpatient  time_in_hospital_x_n_outpatient  \n",
       "5064                             46                                4  \n",
       "6561                              0                                0  \n",
       "14458                             0                                0  \n",
       "13293                             0                                0  \n",
       "10114                             0                                0  \n",
       "\n",
       "[5 rows x 26 columns]"
      ]
     },
     "metadata": {},
     "output_type": "display_data"
    },
    {
     "name": "stdout",
     "output_type": "stream",
     "text": [
      "n_inpatient                            int64\n",
      "n_lab_procedures                       int64\n",
      "n_medications                          int64\n",
      "time_in_hospital                       int64\n",
      "n_outpatient                           int64\n",
      "medical_specialty                      int64\n",
      "n_procedures                           int64\n",
      "age                                    int64\n",
      "diag_3                                 int64\n",
      "diag_1                                 int64\n",
      "diag_2                                 int64\n",
      "n_emergency                            int64\n",
      "diabetes_med                           int64\n",
      "glucose_test                           int64\n",
      "change                                 int64\n",
      "a1ctest                                int64\n",
      "n_inpatient_x_n_lab_procedures         int64\n",
      "n_inpatient_x_n_medications            int64\n",
      "n_inpatient_x_time_in_hospital         int64\n",
      "n_inpatient_x_n_outpatient             int64\n",
      "n_lab_procedures_x_n_medications       int64\n",
      "n_lab_procedures_x_time_in_hospital    int64\n",
      "n_lab_procedures_x_n_outpatient        int64\n",
      "n_medications_x_time_in_hospital       int64\n",
      "n_medications_x_n_outpatient           int64\n",
      "time_in_hospital_x_n_outpatient        int64\n",
      "dtype: object\n"
     ]
    }
   ],
   "source": [
    "X_train_final, X_test_final = model_methods.shap_feature_engineering(model, X_train, X_test, bucket_name, s3_client)\n",
    "display(X_train_final.head())\n",
    "display(X_test_final.head())\n",
    "\n",
    "print(X_train_final.dtypes)"
   ]
  },
  {
   "cell_type": "markdown",
   "id": "7bed330f-5856-4862-8bea-47a8049ff2cb",
   "metadata": {
    "papermill": {
     "duration": 0.010138,
     "end_time": "2025-03-01T23:38:24.680628",
     "exception": false,
     "start_time": "2025-03-01T23:38:24.670490",
     "status": "completed"
    },
    "tags": []
   },
   "source": [
    "## Save Production Data to an s3 bucket for Later"
   ]
  },
  {
   "cell_type": "code",
   "execution_count": 10,
   "id": "6c6f8b4d-90e1-4abc-9d85-e9dec672820c",
   "metadata": {
    "execution": {
     "iopub.execute_input": "2025-03-01T23:38:24.697040Z",
     "iopub.status.busy": "2025-03-01T23:38:24.696591Z",
     "iopub.status.idle": "2025-03-01T23:38:24.741837Z",
     "shell.execute_reply": "2025-03-01T23:38:24.740874Z"
    },
    "papermill": {
     "duration": 0.056047,
     "end_time": "2025-03-01T23:38:24.744407",
     "exception": false,
     "start_time": "2025-03-01T23:38:24.688360",
     "status": "completed"
    },
    "tags": []
   },
   "outputs": [
    {
     "name": "stdout",
     "output_type": "stream",
     "text": [
      "Index(['age', 'time_in_hospital', 'n_lab_procedures', 'n_procedures',\n",
      "       'n_medications', 'n_outpatient', 'n_inpatient', 'n_emergency',\n",
      "       'medical_specialty', 'diag_1', 'diag_2', 'diag_3', 'glucose_test',\n",
      "       'a1ctest', 'change', 'diabetes_med', 'n_inpatient_x_n_lab_procedures',\n",
      "       'n_inpatient_x_n_medications', 'n_inpatient_x_time_in_hospital',\n",
      "       'n_inpatient_x_n_outpatient', 'n_lab_procedures_x_n_medications',\n",
      "       'n_lab_procedures_x_time_in_hospital',\n",
      "       'n_lab_procedures_x_n_outpatient', 'n_medications_x_time_in_hospital',\n",
      "       'n_medications_x_n_outpatient', 'time_in_hospital_x_n_outpatient'],\n",
      "      dtype='object')\n"
     ]
    }
   ],
   "source": [
    "X_prod = prod_df.drop(columns=[target_column])\n",
    "y_prod = prod_df[target_column]\n",
    "\n",
    "X_prod_final = model_methods.apply_interaction_features(X_prod, bucket_name, s3_client)\n",
    "print(X_prod_final.columns)"
   ]
  },
  {
   "cell_type": "code",
   "execution_count": 11,
   "id": "671dd1a6-1a75-49bf-ad16-497fc955cfa2",
   "metadata": {
    "execution": {
     "iopub.execute_input": "2025-03-01T23:38:24.764228Z",
     "iopub.status.busy": "2025-03-01T23:38:24.763634Z",
     "iopub.status.idle": "2025-03-01T23:38:25.290251Z",
     "shell.execute_reply": "2025-03-01T23:38:25.289332Z"
    },
    "papermill": {
     "duration": 0.538253,
     "end_time": "2025-03-01T23:38:25.292113",
     "exception": false,
     "start_time": "2025-03-01T23:38:24.753860",
     "status": "completed"
    },
    "tags": []
   },
   "outputs": [
    {
     "name": "stdout",
     "output_type": "stream",
     "text": [
      "Data saved to S3: s3://group3-project-bucket/production_data/X_prod_final.csv\n"
     ]
    },
    {
     "name": "stdout",
     "output_type": "stream",
     "text": [
      "Data saved to S3: s3://group3-project-bucket/production_data/y_prod.csv\n"
     ]
    },
    {
     "name": "stdout",
     "output_type": "stream",
     "text": [
      "Data saved to S3: s3://group3-project-bucket/production_data/X_train_final.csv\n",
      "Data saved to S3: s3://group3-project-bucket/production_data/y_train.csv\n"
     ]
    }
   ],
   "source": [
    "# Define S3 bucket and file path\n",
    "def save_to_prod(df, name):\n",
    "    s3_filename = f\"production_data/{name}.csv\"\n",
    "    s3_uri = f\"s3://{bucket_name}/{s3_filename}\"\n",
    "    \n",
    "    # Convert DataFrame to CSV in memory\n",
    "    csv_buffer = io.StringIO()\n",
    "    df.to_csv(csv_buffer, index=False)\n",
    "    \n",
    "    # Upload CSV file to S3\n",
    "    s3_client.put_object(\n",
    "        Bucket=bucket_name,\n",
    "        Key=s3_filename,\n",
    "        Body=csv_buffer.getvalue()\n",
    "    )\n",
    "    \n",
    "    print(f\"Data saved to S3: {s3_uri}\")\n",
    "\n",
    "save_to_prod(X_prod_final, \"X_prod_final\")\n",
    "save_to_prod(y_prod, \"y_prod\")\n",
    "save_to_prod(X_train_final, \"X_train_final\")\n",
    "save_to_prod(y_train, \"y_train\")"
   ]
  },
  {
   "cell_type": "markdown",
   "id": "c2b73533-c29c-4fc3-a7d7-231617871b61",
   "metadata": {
    "papermill": {
     "duration": 0.00996,
     "end_time": "2025-03-01T23:38:25.313159",
     "exception": false,
     "start_time": "2025-03-01T23:38:25.303199",
     "status": "completed"
    },
    "tags": []
   },
   "source": [
    "Bayesian Optimization Procedure to find best XGB model"
   ]
  },
  {
   "cell_type": "code",
   "execution_count": 12,
   "id": "11b0d03a-a550-4855-82b3-38818be0948d",
   "metadata": {
    "execution": {
     "iopub.execute_input": "2025-03-01T23:38:25.344968Z",
     "iopub.status.busy": "2025-03-01T23:38:25.344572Z",
     "iopub.status.idle": "2025-03-01T23:38:27.831755Z",
     "shell.execute_reply": "2025-03-01T23:38:27.830720Z"
    },
    "papermill": {
     "duration": 2.503343,
     "end_time": "2025-03-01T23:38:27.833421",
     "exception": false,
     "start_time": "2025-03-01T23:38:25.330078",
     "status": "completed"
    },
    "tags": []
   },
   "outputs": [
    {
     "name": "stdout",
     "output_type": "stream",
     "text": [
      "Requirement already satisfied: optuna in /opt/conda/lib/python3.11/site-packages (4.2.0)\r\n",
      "Requirement already satisfied: alembic>=1.5.0 in /opt/conda/lib/python3.11/site-packages (from optuna) (1.14.1)\r\n",
      "Requirement already satisfied: colorlog in /opt/conda/lib/python3.11/site-packages (from optuna) (6.9.0)\r\n",
      "Requirement already satisfied: numpy in /opt/conda/lib/python3.11/site-packages (from optuna) (1.26.4)\r\n",
      "Requirement already satisfied: packaging>=20.0 in /opt/conda/lib/python3.11/site-packages (from optuna) (24.2)\r\n",
      "Requirement already satisfied: sqlalchemy>=1.4.2 in /opt/conda/lib/python3.11/site-packages (from optuna) (2.0.38)\r\n",
      "Requirement already satisfied: tqdm in /opt/conda/lib/python3.11/site-packages (from optuna) (4.67.1)\r\n",
      "Requirement already satisfied: PyYAML in /opt/conda/lib/python3.11/site-packages (from optuna) (6.0.2)\r\n",
      "Requirement already satisfied: Mako in /opt/conda/lib/python3.11/site-packages (from alembic>=1.5.0->optuna) (1.3.9)\r\n",
      "Requirement already satisfied: typing-extensions>=4 in /opt/conda/lib/python3.11/site-packages (from alembic>=1.5.0->optuna) (4.12.2)\r\n",
      "Requirement already satisfied: greenlet!=0.4.17 in /opt/conda/lib/python3.11/site-packages (from sqlalchemy>=1.4.2->optuna) (3.1.1)\r\n"
     ]
    },
    {
     "name": "stdout",
     "output_type": "stream",
     "text": [
      "Requirement already satisfied: MarkupSafe>=0.9.2 in /opt/conda/lib/python3.11/site-packages (from Mako->alembic>=1.5.0->optuna) (3.0.2)\r\n"
     ]
    }
   ],
   "source": [
    "!pip install optuna"
   ]
  },
  {
   "cell_type": "code",
   "execution_count": 13,
   "id": "8cad3fef-96c0-441d-bdee-1be4a6ecc7b2",
   "metadata": {
    "execution": {
     "iopub.execute_input": "2025-03-01T23:38:27.854782Z",
     "iopub.status.busy": "2025-03-01T23:38:27.854335Z",
     "iopub.status.idle": "2025-03-01T23:38:28.316494Z",
     "shell.execute_reply": "2025-03-01T23:38:28.315823Z"
    },
    "papermill": {
     "duration": 0.475407,
     "end_time": "2025-03-01T23:38:28.318143",
     "exception": false,
     "start_time": "2025-03-01T23:38:27.842736",
     "status": "completed"
    },
    "tags": []
   },
   "outputs": [
    {
     "name": "stderr",
     "output_type": "stream",
     "text": [
      "[I 2025-03-01 23:38:27,924] A new study created in memory with name: no-name-e10505d5-23b5-43b2-9c40-29932e4f220e\n"
     ]
    },
    {
     "name": "stderr",
     "output_type": "stream",
     "text": [
      "[I 2025-03-01 23:38:28,131] Trial 0 finished with value: 0.636236887235796 and parameters: {'learning_rate': 0.12814659213672713, 'max_depth': 3, 'min_child_weight': 3.39169650276958, 'colsample_bytree': 0.7013061936518623, 'subsample': 0.8578374600384551}. Best is trial 0 with value: 0.636236887235796.\n"
     ]
    },
    {
     "name": "stderr",
     "output_type": "stream",
     "text": [
      "[I 2025-03-01 23:38:28,309] Trial 1 finished with value: 0.640182780611298 and parameters: {'learning_rate': 0.07789396025065895, 'max_depth': 4, 'min_child_weight': 5.839027129641953, 'colsample_bytree': 0.36736223525411443, 'subsample': 0.9401445339946572}. Best is trial 1 with value: 0.640182780611298.\n"
     ]
    }
   ],
   "source": [
    "import optuna\n",
    "from sklearn.metrics import roc_auc_score\n",
    "\n",
    "def xgb_objective(trial):\n",
    "    params = {\n",
    "        'objective': 'binary:logistic',\n",
    "        'eval_metric': 'logloss',\n",
    "        'learning_rate': trial.suggest_float('learning_rate', 0.01, 0.3),\n",
    "        'max_depth': trial.suggest_int('max_depth', 3, 10),\n",
    "        'min_child_weight': trial.suggest_float('min_child_weight', 1, 10),\n",
    "        'colsample_bytree': trial.suggest_float('colsample_bytree', 0.3, 1.0),\n",
    "        'subsample': trial.suggest_float('subsample', 0.5, 1.0),\n",
    "        'seed': 42\n",
    "    }\n",
    "    \n",
    "    dtrain = xgb.DMatrix(X_train_final, label=y_train, enable_categorical=True)\n",
    "    dtest = xgb.DMatrix(X_test_final, label=y_test, enable_categorical=True)\n",
    "    model = xgb.train(params, dtrain, num_boost_round=100)\n",
    "    preds = model.predict(dtest)\n",
    "    \n",
    "    return roc_auc_score(y_test, preds)\n",
    "\n",
    "study = optuna.create_study(direction=\"maximize\")\n",
    "study.optimize(xgb_objective, n_trials=N_TRIALS)\n",
    "\n",
    "best_params = study.best_params\n",
    "best_params['max_depth'] = int(best_params['max_depth'])"
   ]
  },
  {
   "cell_type": "code",
   "execution_count": 14,
   "id": "118c2559-f1a8-4431-937a-015cbe5178fa",
   "metadata": {
    "execution": {
     "iopub.execute_input": "2025-03-01T23:38:28.348783Z",
     "iopub.status.busy": "2025-03-01T23:38:28.348325Z",
     "iopub.status.idle": "2025-03-01T23:38:29.019080Z",
     "shell.execute_reply": "2025-03-01T23:38:29.017391Z"
    },
    "papermill": {
     "duration": 0.688458,
     "end_time": "2025-03-01T23:38:29.021368",
     "exception": false,
     "start_time": "2025-03-01T23:38:28.332910",
     "status": "completed"
    },
    "tags": []
   },
   "outputs": [],
   "source": [
    "# Train the best model\n",
    "dmatrix_train = xgb.DMatrix(X_train_final, label=y_train, enable_categorical=True)\n",
    "model = xgb.train(best_params, dmatrix_train, num_boost_round=500)"
   ]
  },
  {
   "cell_type": "code",
   "execution_count": 15,
   "id": "0e8965b0-3741-43f7-b075-49ebb9c34ba6",
   "metadata": {
    "execution": {
     "iopub.execute_input": "2025-03-01T23:38:29.069285Z",
     "iopub.status.busy": "2025-03-01T23:38:29.068777Z",
     "iopub.status.idle": "2025-03-01T23:38:29.901411Z",
     "shell.execute_reply": "2025-03-01T23:38:29.900679Z"
    },
    "papermill": {
     "duration": 0.858489,
     "end_time": "2025-03-01T23:38:29.903038",
     "exception": false,
     "start_time": "2025-03-01T23:38:29.044549",
     "status": "completed"
    },
    "tags": []
   },
   "outputs": [
    {
     "name": "stderr",
     "output_type": "stream",
     "text": [
      "/tmp/ipykernel_6965/737199464.py:2: ExperimentalWarning: plot_optimization_history is experimental (supported from v2.2.0). The interface can change in the future.\n",
      "  fig = optuna.visualization.matplotlib.plot_optimization_history(study)\n"
     ]
    },
    {
     "name": "stderr",
     "output_type": "stream",
     "text": [
      "/tmp/ipykernel_6965/737199464.py:6: ExperimentalWarning: plot_param_importances is experimental (supported from v2.2.0). The interface can change in the future.\n",
      "  fig = optuna.visualization.matplotlib.plot_param_importances(study)\n"
     ]
    }
   ],
   "source": [
    "# Visualize Optuna Trials\n",
    "fig = optuna.visualization.matplotlib.plot_optimization_history(study)\n",
    "plt.savefig(\"figures/optuna_optimization_history.png\")\n",
    "plt.close()\n",
    "\n",
    "fig = optuna.visualization.matplotlib.plot_param_importances(study)\n",
    "plt.savefig(\"figures/optuna_param_importance.png\")\n",
    "plt.close()"
   ]
  },
  {
   "cell_type": "code",
   "execution_count": 16,
   "id": "51fccbcc-923e-4861-a186-4f6fb7407b38",
   "metadata": {
    "execution": {
     "iopub.execute_input": "2025-03-01T23:38:29.930815Z",
     "iopub.status.busy": "2025-03-01T23:38:29.930475Z",
     "iopub.status.idle": "2025-03-01T23:38:51.574863Z",
     "shell.execute_reply": "2025-03-01T23:38:51.574177Z"
    },
    "papermill": {
     "duration": 21.663155,
     "end_time": "2025-03-01T23:38:51.576189",
     "exception": false,
     "start_time": "2025-03-01T23:38:29.913034",
     "status": "completed"
    },
    "tags": []
   },
   "outputs": [
    {
     "name": "stderr",
     "output_type": "stream",
     "text": [
      "\r",
      " 58%|============        | 956/1646 [00:11<00:07]       "
     ]
    },
    {
     "name": "stderr",
     "output_type": "stream",
     "text": [
      "\r",
      " 64%|=============       | 1049/1646 [00:12<00:06]       "
     ]
    },
    {
     "name": "stderr",
     "output_type": "stream",
     "text": [
      "\r",
      " 70%|==============      | 1147/1646 [00:13<00:05]       "
     ]
    },
    {
     "name": "stderr",
     "output_type": "stream",
     "text": [
      "\r",
      " 75%|===============     | 1235/1646 [00:14<00:04]       "
     ]
    },
    {
     "name": "stderr",
     "output_type": "stream",
     "text": [
      "\r",
      " 79%|================    | 1307/1646 [00:15<00:03]       "
     ]
    },
    {
     "name": "stderr",
     "output_type": "stream",
     "text": [
      "\r",
      " 84%|=================   | 1385/1646 [00:16<00:03]       "
     ]
    },
    {
     "name": "stderr",
     "output_type": "stream",
     "text": [
      "\r",
      " 89%|==================  | 1468/1646 [00:17<00:02]       "
     ]
    },
    {
     "name": "stderr",
     "output_type": "stream",
     "text": [
      "\r",
      " 95%|=================== | 1562/1646 [00:18<00:00]       "
     ]
    },
    {
     "data": {
      "text/plain": [
       "<Figure size 640x480 with 0 Axes>"
      ]
     },
     "metadata": {},
     "output_type": "display_data"
    }
   ],
   "source": [
    "explainer = shap.Explainer(model, X_test_final)\n",
    "shap_values = explainer(X_test_final)\n",
    "\n",
    "# Save SHAP summary plot\n",
    "plt.figure()\n",
    "shap.summary_plot(shap_values, X_test_final, show=False)\n",
    "plt.savefig(\"figures/final_shap_summary.png\")\n",
    "plt.close()\n",
    "\n",
    "# Save SHAP dependence plot for the first feature\n",
    "plt.figure()\n",
    "shap.dependence_plot(0, shap_values.values, X_test_final, show=False)\n",
    "plt.savefig(\"figures/final_shap_dependence_0.png\")\n",
    "plt.close()"
   ]
  },
  {
   "cell_type": "code",
   "execution_count": 17,
   "id": "5f9d9130-04fe-4ce4-a29a-ff3354c20fa8",
   "metadata": {
    "execution": {
     "iopub.execute_input": "2025-03-01T23:38:51.599594Z",
     "iopub.status.busy": "2025-03-01T23:38:51.599199Z",
     "iopub.status.idle": "2025-03-01T23:38:51.773262Z",
     "shell.execute_reply": "2025-03-01T23:38:51.772223Z"
    },
    "papermill": {
     "duration": 0.188141,
     "end_time": "2025-03-01T23:38:51.775221",
     "exception": false,
     "start_time": "2025-03-01T23:38:51.587080",
     "status": "completed"
    },
    "tags": []
   },
   "outputs": [
    {
     "name": "stdout",
     "output_type": "stream",
     "text": [
      "TEST\n",
      "✅ Test Log Loss: 0.7012\n",
      "✅ Test Accuracy: 0.6021\n",
      "✅ Test AUC: 0.6308\n",
      "✅ Test Precision: 0.5808\n",
      "✅ Test Recall: 0.5007\n",
      "TRAIN\n",
      "✅ Test Log Loss: 0.5142\n",
      "✅ Test Accuracy: 0.7695\n",
      "✅ Test AUC: 0.8607\n",
      "✅ Test Precision: 0.8135\n",
      "✅ Test Recall: 0.6649\n"
     ]
    }
   ],
   "source": [
    "print(\"TEST\")\n",
    "acc, roc, precision, recall = eval_model(model, X_test_final, y_test)\n",
    "\n",
    "print(\"TRAIN\")\n",
    "acc_train, roc_train, precision_train, recall_train = eval_model(model, X_train_final, y_train)"
   ]
  },
  {
   "cell_type": "code",
   "execution_count": 18,
   "id": "fb0f0fb6-3f0d-4d23-bca9-599b7adb4185",
   "metadata": {
    "execution": {
     "iopub.execute_input": "2025-03-01T23:38:51.818497Z",
     "iopub.status.busy": "2025-03-01T23:38:51.818035Z",
     "iopub.status.idle": "2025-03-01T23:38:51.840838Z",
     "shell.execute_reply": "2025-03-01T23:38:51.839469Z"
    },
    "papermill": {
     "duration": 0.045129,
     "end_time": "2025-03-01T23:38:51.842460",
     "exception": false,
     "start_time": "2025-03-01T23:38:51.797331",
     "status": "completed"
    },
    "tags": []
   },
   "outputs": [
    {
     "name": "stdout",
     "output_type": "stream",
     "text": [
      "Model saved to models/tuned_xgboost_model.model\n"
     ]
    },
    {
     "name": "stderr",
     "output_type": "stream",
     "text": [
      "/opt/conda/lib/python3.11/site-packages/xgboost/core.py:158: UserWarning: [23:38:51] WARNING: /home/conda/feedstock_root/build_artifacts/xgboost-split_1738880431132/work/src/c_api/c_api.cc:1374: Saving model in the UBJSON format as default.  You can use file extension: `json`, `ubj` or `deprecated` to choose between formats.\n",
      "  warnings.warn(smsg, UserWarning)\n"
     ]
    }
   ],
   "source": [
    "# Save the model\n",
    "model.save_model(\"models/tuned_xgboost_model.model\")\n",
    "print(\"Model saved to models/tuned_xgboost_model.model\")"
   ]
  },
  {
   "cell_type": "markdown",
   "id": "5822bdbe-d0e1-486e-9575-a5b254b206e2",
   "metadata": {
    "papermill": {
     "duration": 0.016147,
     "end_time": "2025-03-01T23:38:51.877513",
     "exception": false,
     "start_time": "2025-03-01T23:38:51.861366",
     "status": "completed"
    },
    "tags": []
   },
   "source": [
    "## PUT XGBOOST MODEL IN MODEL STORE"
   ]
  },
  {
   "cell_type": "code",
   "execution_count": 19,
   "id": "60b32a79-dada-445f-ba20-a41f0e0a7982",
   "metadata": {
    "execution": {
     "iopub.execute_input": "2025-03-01T23:38:51.911918Z",
     "iopub.status.busy": "2025-03-01T23:38:51.911498Z",
     "iopub.status.idle": "2025-03-01T23:38:53.837903Z",
     "shell.execute_reply": "2025-03-01T23:38:53.836988Z"
    },
    "papermill": {
     "duration": 1.946242,
     "end_time": "2025-03-01T23:38:53.840256",
     "exception": false,
     "start_time": "2025-03-01T23:38:51.894014",
     "status": "completed"
    },
    "tags": []
   },
   "outputs": [
    {
     "name": "stdout",
     "output_type": "stream",
     "text": [
      "✅ ModelPackageGroup Arn: arn:aws:sagemaker:us-east-1:321261761338:model-package-group/xgboost-hospital-readmissions-1740872332\n"
     ]
    },
    {
     "name": "stdout",
     "output_type": "stream",
     "text": [
      "✅ Model artifact uploaded to: s3://group3-project-bucket/hospital-readmissions-xgboost/model-1740872332.tar.gz\n"
     ]
    },
    {
     "name": "stdout",
     "output_type": "stream",
     "text": [
      "✅ Model Package ARN: arn:aws:sagemaker:us-east-1:321261761338:model-package/xgboost-hospital-readmissions-1740872332/1\n",
      "Model Package Details: {'ModelPackageGroupName': 'xgboost-hospital-readmissions-1740872332', 'ModelPackageVersion': 1, 'ModelPackageArn': 'arn:aws:sagemaker:us-east-1:321261761338:model-package/xgboost-hospital-readmissions-1740872332/1', 'ModelPackageDescription': 'XGBoost model for predicting hospital readmissions.', 'CreationTime': datetime.datetime(2025, 3, 1, 23, 38, 52, 998000, tzinfo=tzlocal()), 'InferenceSpecification': {'Containers': [{'Image': '683313688378.dkr.ecr.us-east-1.amazonaws.com/sagemaker-xgboost:1.5-1', 'ImageDigest': 'sha256:c764382b16cd0c921f1b2e66de8684fb999ccbd0c042c95679f0b69bc9cdd12c', 'ModelDataUrl': 's3://group3-project-bucket/hospital-readmissions-xgboost/model-1740872332.tar.gz', 'ModelDataETag': '6f5e58b70ceca54362e6ec55d9863b15'}], 'SupportedTransformInstanceTypes': ['ml.m5.large', 'ml.m5.xlarge'], 'SupportedRealtimeInferenceInstanceTypes': ['ml.m5.large', 'ml.m5.xlarge'], 'SupportedContentTypes': ['text/csv'], 'SupportedResponseMIMETypes': ['text/csv', 'application/json']}, 'ModelPackageStatus': 'Completed', 'ModelPackageStatusDetails': {'ValidationStatuses': [], 'ImageScanStatuses': []}, 'CertifyForMarketplace': False, 'ModelApprovalStatus': 'PendingManualApproval', 'CreatedBy': {'UserProfileArn': 'arn:aws:sagemaker:us-east-1:321261761338:user-profile/d-ojigadb1wzup/pfelizarta', 'UserProfileName': 'pfelizarta', 'DomainId': 'd-ojigadb1wzup', 'IamIdentity': {'Arn': 'arn:aws:sts::321261761338:assumed-role/LabRole/SageMaker', 'PrincipalId': 'AROAUVTFROM5FL7RQGG5J:SageMaker'}}, 'ResponseMetadata': {'RequestId': '20711b48-6dd7-4978-8ba9-4283fd9b79d1', 'HTTPStatusCode': 200, 'HTTPHeaders': {'x-amzn-requestid': '20711b48-6dd7-4978-8ba9-4283fd9b79d1', 'content-type': 'application/x-amz-json-1.1', 'content-length': '1405', 'date': 'Sat, 01 Mar 2025 23:38:53 GMT'}, 'RetryAttempts': 0}}\n"
     ]
    },
    {
     "name": "stdout",
     "output_type": "stream",
     "text": [
      "✅ Model Card ARN: arn:aws:sagemaker:us-east-1:321261761338:model-card/xgboost-hospital-readmissions-card-1740872333\n",
      "✅ Model Card Name: xgboost-hospital-readmissions-card-1740872333\n"
     ]
    },
    {
     "name": "stdout",
     "output_type": "stream",
     "text": [
      "{'ModelCardArn': 'arn:aws:sagemaker:us-east-1:321261761338:model-card/xgboost-hospital-readmissions-card-1740872333', 'ModelCardName': 'xgboost-hospital-readmissions-card-1740872333', 'ModelCardVersion': 1, 'Content': '{\"model_overview\": {\"model_description\": \"XGBoost model predicting hospital readmissions.\", \"model_creator\": \"Your Team\", \"model_artifact\": [\"s3://group3-project-bucket/hospital-readmissions-xgboost/model-1740872332.tar.gz\"], \"algorithm_type\": \"XGBoost\", \"problem_type\": \"Binary Classification\", \"model_owner\": \"Group 3\"}, \"intended_uses\": {\"purpose_of_model\": \"Predict likelihood of hospital readmission within 30 days.\", \"intended_uses\": \"Hospital decision support, optimizing patient care.\", \"risk_rating\": \"Medium\", \"explanations_for_risk_rating\": \"Incorrect predictions may lead to unnecessary interventions or missed readmissions.\"}, \"business_details\": {\"business_problem\": \"Reducing hospital readmission rates.\", \"business_stakeholders\": \"Healthcare providers, insurers, hospital administrators.\"}, \"training_details\": {\"training_observations\": \"Model trained on historical patient admission data.\", \"training_job_details\": {\"training_datasets\": [\"sagemaker_featurestore.hospital_readmissions_features_1740872136_1740872136\"], \"training_environment\": {\"container_image\": [\"683313688378.dkr.ecr.us-east-1.amazonaws.com/sagemaker-xgboost:1.5-1\"]}, \"training_metrics\": [{\"name\": \"accuracy\", \"value\": 0.7694738121278406}, {\"name\": \"roc_auc\", \"value\": 0.8607489484961276}, {\"name\": \"precision\", \"value\": 0.8135220125786163}, {\"name\": \"recall\", \"value\": 0.6648676432793627}], \"hyper_parameters\": [{\"name\": \"learning_rate\", \"value\": \"0.07789396025065895\"}, {\"name\": \"max_depth\", \"value\": \"4\"}, {\"name\": \"min_child_weight\", \"value\": \"5.839027129641953\"}, {\"name\": \"colsample_bytree\", \"value\": \"0.36736223525411443\"}, {\"name\": \"subsample\", \"value\": \"0.9401445339946572\"}]}}, \"evaluation_details\": [{\"name\": \"evaluation-1\", \"datasets\": [\"sagemaker_featurestore.hospital_readmissions_features_1740872136_1740872136\"], \"metric_groups\": [{\"name\": \"readmission-metrics\", \"metric_data\": [{\"name\": \"accuracy\", \"type\": \"number\", \"value\": 0.6020656136087484}, {\"name\": \"roc_auc\", \"type\": \"number\", \"value\": 0.6308358760774182}, {\"name\": \"precision\", \"type\": \"number\", \"value\": 0.5807926829268293}, {\"name\": \"recall\", \"type\": \"number\", \"value\": 0.5006570302233903}]}], \"evaluation_observation\": \"Evaluated on a holdout test dataset.\"}], \"additional_information\": {\"ethical_considerations\": \"Model should not be used to make final medical decisions.\", \"caveats_and_recommendations\": \"Should be used alongside physician assessment.\"}}', 'ModelCardStatus': 'Draft', 'CreationTime': datetime.datetime(2025, 3, 1, 23, 38, 53, 259000, tzinfo=tzlocal()), 'CreatedBy': {'UserProfileArn': 'arn:aws:sagemaker:us-east-1:321261761338:user-profile/d-ojigadb1wzup/pfelizarta', 'UserProfileName': 'pfelizarta', 'DomainId': 'd-ojigadb1wzup'}, 'LastModifiedTime': datetime.datetime(2025, 3, 1, 23, 38, 53, 259000, tzinfo=tzlocal()), 'LastModifiedBy': {'UserProfileArn': 'arn:aws:sagemaker:us-east-1:321261761338:user-profile/d-ojigadb1wzup/pfelizarta', 'UserProfileName': 'pfelizarta', 'DomainId': 'd-ojigadb1wzup'}, 'ResponseMetadata': {'RequestId': '1979cdf0-c456-4d80-b8f2-429944d2749f', 'HTTPStatusCode': 200, 'HTTPHeaders': {'x-amzn-requestid': '1979cdf0-c456-4d80-b8f2-429944d2749f', 'content-type': 'application/x-amz-json-1.1', 'content-length': '3290', 'date': 'Sat, 01 Mar 2025 23:38:53 GMT'}, 'RetryAttempts': 0}}\n"
     ]
    }
   ],
   "source": [
    "import tarfile\n",
    "import json\n",
    "\n",
    "region = boto3.Session().region_name\n",
    "role = get_execution_role()\n",
    "sagemaker_session = sagemaker.Session()\n",
    "\n",
    "best_params = study.best_params\n",
    "\n",
    "# ✅ SageMaker client\n",
    "sm_client = boto3.client(\"sagemaker\", region_name=region)\n",
    "s3_client = boto3.client(\"s3\", region_name=region)\n",
    "\n",
    "# ✅ **Model Package Group Name (Unique Identifier)**\n",
    "model_package_group_name = \"xgboost-hospital-readmissions-\" + str(int(time.time()))\n",
    "with open(\"pipeline_model_package.json\", \"w\") as json_file:\n",
    "        json.dump({\n",
    "            \"model_package\": model_package_group_name\n",
    "        },json_file, indent=4)\n",
    "\n",
    "model_package_group_description = \"XGBoost model for predicting hospital readmissions.\"\n",
    "\n",
    "\n",
    "# ✅ **Create Model Package Group**\n",
    "create_model_package_group_response = sm_client.create_model_package_group(\n",
    "    ModelPackageGroupName=model_package_group_name,\n",
    "    ModelPackageGroupDescription=model_package_group_description,\n",
    ")\n",
    "\n",
    "print(\"✅ ModelPackageGroup Arn:\", create_model_package_group_response[\"ModelPackageGroupArn\"])\n",
    "\n",
    "# ✅ **Save the trained XGBoost model**\n",
    "joblib.dump(model, \"model.joblib\")\n",
    "\n",
    "# ✅ **Save the model as a compressed `.tar.gz` file**\n",
    "tar_filename = \"model.tar.gz\"\n",
    "with tarfile.open(tar_filename, \"w:gz\") as tar:\n",
    "    tar.add(\"model.joblib\")\n",
    "\n",
    "# ✅ **Upload model to S3**\n",
    "timestamp = int(time.time())\n",
    "prefix = \"hospital-readmissions-xgboost\"\n",
    "s3_key = f\"{prefix}/model-{timestamp}.tar.gz\"\n",
    "model_s3_uri = f\"s3://{bucket_name}/{s3_key}\"\n",
    "\n",
    "s3_client.upload_file(tar_filename, bucket_name, s3_key)\n",
    "print(f\"✅ Model artifact uploaded to: {model_s3_uri}\")\n",
    "\n",
    "# ✅ **Define SageMaker Model Package**\n",
    "model_package_name = \"xgboost-hospital-readmissions-package-\" + str(int(time.time()))\n",
    "xgboost_image_uri = \"683313688378.dkr.ecr.us-east-1.amazonaws.com/sagemaker-xgboost:1.5-1\"\n",
    "\n",
    "inference_spec = {\n",
    "    \"Containers\": [\n",
    "        {\n",
    "            \"Image\": xgboost_image_uri,\n",
    "            \"ModelDataUrl\": model_s3_uri,\n",
    "        }\n",
    "    ],\n",
    "    \"SupportedTransformInstanceTypes\": [\"ml.m5.large\", \"ml.m5.xlarge\"],\n",
    "    \"SupportedRealtimeInferenceInstanceTypes\": [\"ml.m5.large\", \"ml.m5.xlarge\"],\n",
    "    \"SupportedContentTypes\": [\"text/csv\"],\n",
    "    \"SupportedResponseMIMETypes\": [\"text/csv\", \"application/json\"],\n",
    "}\n",
    "\n",
    "create_model_package_response = sm_client.create_model_package(\n",
    "    ModelPackageGroupName=model_package_group_name,\n",
    "    ModelPackageDescription=\"XGBoost model for predicting hospital readmissions.\",\n",
    "    InferenceSpecification=inference_spec,\n",
    "    ModelApprovalStatus=\"PendingManualApproval\",\n",
    ")\n",
    "\n",
    "print(\"✅ Model Package ARN:\", create_model_package_response[\"ModelPackageArn\"])\n",
    "\n",
    "# ✅ **Describe the Model Package**\n",
    "response = sm_client.describe_model_package(\n",
    "    ModelPackageName=create_model_package_response[\"ModelPackageArn\"]\n",
    ")\n",
    "\n",
    "print(\"Model Package Details:\", response)\n",
    "\n",
    "# ✅ **Create a Model Card**\n",
    "model_card_name = f\"xgboost-hospital-readmissions-card-{int(time.time())}\"\n",
    "\n",
    "# ✅ Update Model Card with **full evaluation details**\n",
    "model_card_content = {\n",
    "    \"model_overview\": {\n",
    "        \"model_description\": \"XGBoost model predicting hospital readmissions.\",\n",
    "        \"model_creator\": \"Your Team\",\n",
    "        \"model_artifact\": [model_s3_uri],\n",
    "        \"algorithm_type\": \"XGBoost\",\n",
    "        \"problem_type\": \"Binary Classification\",\n",
    "        \"model_owner\": \"Group 3\",\n",
    "    },\n",
    "    \"intended_uses\": {\n",
    "        \"purpose_of_model\": \"Predict likelihood of hospital readmission within 30 days.\",\n",
    "        \"intended_uses\": \"Hospital decision support, optimizing patient care.\",\n",
    "        \"risk_rating\": \"Medium\",\n",
    "        \"explanations_for_risk_rating\": \"Incorrect predictions may lead to unnecessary interventions or missed readmissions.\",\n",
    "    },\n",
    "    \"business_details\": {\n",
    "        \"business_problem\": \"Reducing hospital readmission rates.\",\n",
    "        \"business_stakeholders\": \"Healthcare providers, insurers, hospital administrators.\",\n",
    "    },\n",
    "    \"training_details\": {\n",
    "        \"training_observations\": \"Model trained on historical patient admission data.\",\n",
    "        \"training_job_details\": {\n",
    "            \"training_datasets\": [f\"sagemaker_featurestore.{latest_table['Name']}\"],\n",
    "            \"training_environment\": {\n",
    "                \"container_image\": [xgboost_image_uri],\n",
    "            },\n",
    "            \"training_metrics\": [\n",
    "                {\"name\": \"accuracy\", \"value\": acc_train},\n",
    "                {\"name\": \"roc_auc\", \"value\": roc_train},\n",
    "                {\"name\": \"precision\", \"value\": precision_train},\n",
    "                {\"name\": \"recall\", \"value\": recall_train},\n",
    "            ],\n",
    "            \"hyper_parameters\": [\n",
    "                {\"name\": k, \"value\": str(v)} for k, v in best_params.items()\n",
    "            ],\n",
    "        },\n",
    "    },\n",
    "    \"evaluation_details\": [\n",
    "        {\n",
    "            \"name\": \"evaluation-1\",\n",
    "            \"datasets\": [f\"sagemaker_featurestore.{latest_table['Name']}\"],\n",
    "            \"metric_groups\": [\n",
    "                {\n",
    "                    \"name\": \"readmission-metrics\",\n",
    "                    \"metric_data\": [\n",
    "                        {\"name\": \"accuracy\", \"type\": \"number\", \"value\": acc},\n",
    "                        {\"name\": \"roc_auc\", \"type\": \"number\", \"value\": roc},\n",
    "                        {\"name\": \"precision\", \"type\": \"number\", \"value\": precision},\n",
    "                        {\"name\": \"recall\", \"type\": \"number\", \"value\": recall},\n",
    "                    ],\n",
    "                }\n",
    "            ],\n",
    "            \"evaluation_observation\": \"Evaluated on a holdout test dataset.\",\n",
    "        }\n",
    "    ],\n",
    "    \"additional_information\": {\n",
    "        \"ethical_considerations\": \"Model should not be used to make final medical decisions.\",\n",
    "        \"caveats_and_recommendations\": \"Should be used alongside physician assessment.\",\n",
    "    },\n",
    "}\n",
    "\n",
    "\n",
    "# ✅ **Create the Model Card**\n",
    "response = sm_client.create_model_card(\n",
    "    ModelCardName=model_card_name,\n",
    "    Content=json.dumps(model_card_content),\n",
    "    ModelCardStatus=\"Draft\",\n",
    ")\n",
    "\n",
    "print(\"✅ Model Card ARN:\", response[\"ModelCardArn\"])\n",
    "print(\"✅ Model Card Name:\", model_card_name)\n",
    "\n",
    "# ✅ **Describe the Model Card**\n",
    "describe_response = sm_client.describe_model_card(ModelCardName=model_card_name)\n",
    "print(describe_response)"
   ]
  }
 ],
 "metadata": {
  "availableInstances": [
   {
    "_defaultOrder": 0,
    "_isFastLaunch": true,
    "category": "General purpose",
    "gpuNum": 0,
    "hideHardwareSpecs": false,
    "memoryGiB": 4,
    "name": "ml.t3.medium",
    "vcpuNum": 2
   },
   {
    "_defaultOrder": 1,
    "_isFastLaunch": false,
    "category": "General purpose",
    "gpuNum": 0,
    "hideHardwareSpecs": false,
    "memoryGiB": 8,
    "name": "ml.t3.large",
    "vcpuNum": 2
   },
   {
    "_defaultOrder": 2,
    "_isFastLaunch": false,
    "category": "General purpose",
    "gpuNum": 0,
    "hideHardwareSpecs": false,
    "memoryGiB": 16,
    "name": "ml.t3.xlarge",
    "vcpuNum": 4
   },
   {
    "_defaultOrder": 3,
    "_isFastLaunch": false,
    "category": "General purpose",
    "gpuNum": 0,
    "hideHardwareSpecs": false,
    "memoryGiB": 32,
    "name": "ml.t3.2xlarge",
    "vcpuNum": 8
   },
   {
    "_defaultOrder": 4,
    "_isFastLaunch": true,
    "category": "General purpose",
    "gpuNum": 0,
    "hideHardwareSpecs": false,
    "memoryGiB": 8,
    "name": "ml.m5.large",
    "vcpuNum": 2
   },
   {
    "_defaultOrder": 5,
    "_isFastLaunch": false,
    "category": "General purpose",
    "gpuNum": 0,
    "hideHardwareSpecs": false,
    "memoryGiB": 16,
    "name": "ml.m5.xlarge",
    "vcpuNum": 4
   },
   {
    "_defaultOrder": 6,
    "_isFastLaunch": false,
    "category": "General purpose",
    "gpuNum": 0,
    "hideHardwareSpecs": false,
    "memoryGiB": 32,
    "name": "ml.m5.2xlarge",
    "vcpuNum": 8
   },
   {
    "_defaultOrder": 7,
    "_isFastLaunch": false,
    "category": "General purpose",
    "gpuNum": 0,
    "hideHardwareSpecs": false,
    "memoryGiB": 64,
    "name": "ml.m5.4xlarge",
    "vcpuNum": 16
   },
   {
    "_defaultOrder": 8,
    "_isFastLaunch": false,
    "category": "General purpose",
    "gpuNum": 0,
    "hideHardwareSpecs": false,
    "memoryGiB": 128,
    "name": "ml.m5.8xlarge",
    "vcpuNum": 32
   },
   {
    "_defaultOrder": 9,
    "_isFastLaunch": false,
    "category": "General purpose",
    "gpuNum": 0,
    "hideHardwareSpecs": false,
    "memoryGiB": 192,
    "name": "ml.m5.12xlarge",
    "vcpuNum": 48
   },
   {
    "_defaultOrder": 10,
    "_isFastLaunch": false,
    "category": "General purpose",
    "gpuNum": 0,
    "hideHardwareSpecs": false,
    "memoryGiB": 256,
    "name": "ml.m5.16xlarge",
    "vcpuNum": 64
   },
   {
    "_defaultOrder": 11,
    "_isFastLaunch": false,
    "category": "General purpose",
    "gpuNum": 0,
    "hideHardwareSpecs": false,
    "memoryGiB": 384,
    "name": "ml.m5.24xlarge",
    "vcpuNum": 96
   },
   {
    "_defaultOrder": 12,
    "_isFastLaunch": false,
    "category": "General purpose",
    "gpuNum": 0,
    "hideHardwareSpecs": false,
    "memoryGiB": 8,
    "name": "ml.m5d.large",
    "vcpuNum": 2
   },
   {
    "_defaultOrder": 13,
    "_isFastLaunch": false,
    "category": "General purpose",
    "gpuNum": 0,
    "hideHardwareSpecs": false,
    "memoryGiB": 16,
    "name": "ml.m5d.xlarge",
    "vcpuNum": 4
   },
   {
    "_defaultOrder": 14,
    "_isFastLaunch": false,
    "category": "General purpose",
    "gpuNum": 0,
    "hideHardwareSpecs": false,
    "memoryGiB": 32,
    "name": "ml.m5d.2xlarge",
    "vcpuNum": 8
   },
   {
    "_defaultOrder": 15,
    "_isFastLaunch": false,
    "category": "General purpose",
    "gpuNum": 0,
    "hideHardwareSpecs": false,
    "memoryGiB": 64,
    "name": "ml.m5d.4xlarge",
    "vcpuNum": 16
   },
   {
    "_defaultOrder": 16,
    "_isFastLaunch": false,
    "category": "General purpose",
    "gpuNum": 0,
    "hideHardwareSpecs": false,
    "memoryGiB": 128,
    "name": "ml.m5d.8xlarge",
    "vcpuNum": 32
   },
   {
    "_defaultOrder": 17,
    "_isFastLaunch": false,
    "category": "General purpose",
    "gpuNum": 0,
    "hideHardwareSpecs": false,
    "memoryGiB": 192,
    "name": "ml.m5d.12xlarge",
    "vcpuNum": 48
   },
   {
    "_defaultOrder": 18,
    "_isFastLaunch": false,
    "category": "General purpose",
    "gpuNum": 0,
    "hideHardwareSpecs": false,
    "memoryGiB": 256,
    "name": "ml.m5d.16xlarge",
    "vcpuNum": 64
   },
   {
    "_defaultOrder": 19,
    "_isFastLaunch": false,
    "category": "General purpose",
    "gpuNum": 0,
    "hideHardwareSpecs": false,
    "memoryGiB": 384,
    "name": "ml.m5d.24xlarge",
    "vcpuNum": 96
   },
   {
    "_defaultOrder": 20,
    "_isFastLaunch": false,
    "category": "General purpose",
    "gpuNum": 0,
    "hideHardwareSpecs": true,
    "memoryGiB": 0,
    "name": "ml.geospatial.interactive",
    "supportedImageNames": [
     "sagemaker-geospatial-v1-0"
    ],
    "vcpuNum": 0
   },
   {
    "_defaultOrder": 21,
    "_isFastLaunch": true,
    "category": "Compute optimized",
    "gpuNum": 0,
    "hideHardwareSpecs": false,
    "memoryGiB": 4,
    "name": "ml.c5.large",
    "vcpuNum": 2
   },
   {
    "_defaultOrder": 22,
    "_isFastLaunch": false,
    "category": "Compute optimized",
    "gpuNum": 0,
    "hideHardwareSpecs": false,
    "memoryGiB": 8,
    "name": "ml.c5.xlarge",
    "vcpuNum": 4
   },
   {
    "_defaultOrder": 23,
    "_isFastLaunch": false,
    "category": "Compute optimized",
    "gpuNum": 0,
    "hideHardwareSpecs": false,
    "memoryGiB": 16,
    "name": "ml.c5.2xlarge",
    "vcpuNum": 8
   },
   {
    "_defaultOrder": 24,
    "_isFastLaunch": false,
    "category": "Compute optimized",
    "gpuNum": 0,
    "hideHardwareSpecs": false,
    "memoryGiB": 32,
    "name": "ml.c5.4xlarge",
    "vcpuNum": 16
   },
   {
    "_defaultOrder": 25,
    "_isFastLaunch": false,
    "category": "Compute optimized",
    "gpuNum": 0,
    "hideHardwareSpecs": false,
    "memoryGiB": 72,
    "name": "ml.c5.9xlarge",
    "vcpuNum": 36
   },
   {
    "_defaultOrder": 26,
    "_isFastLaunch": false,
    "category": "Compute optimized",
    "gpuNum": 0,
    "hideHardwareSpecs": false,
    "memoryGiB": 96,
    "name": "ml.c5.12xlarge",
    "vcpuNum": 48
   },
   {
    "_defaultOrder": 27,
    "_isFastLaunch": false,
    "category": "Compute optimized",
    "gpuNum": 0,
    "hideHardwareSpecs": false,
    "memoryGiB": 144,
    "name": "ml.c5.18xlarge",
    "vcpuNum": 72
   },
   {
    "_defaultOrder": 28,
    "_isFastLaunch": false,
    "category": "Compute optimized",
    "gpuNum": 0,
    "hideHardwareSpecs": false,
    "memoryGiB": 192,
    "name": "ml.c5.24xlarge",
    "vcpuNum": 96
   },
   {
    "_defaultOrder": 29,
    "_isFastLaunch": true,
    "category": "Accelerated computing",
    "gpuNum": 1,
    "hideHardwareSpecs": false,
    "memoryGiB": 16,
    "name": "ml.g4dn.xlarge",
    "vcpuNum": 4
   },
   {
    "_defaultOrder": 30,
    "_isFastLaunch": false,
    "category": "Accelerated computing",
    "gpuNum": 1,
    "hideHardwareSpecs": false,
    "memoryGiB": 32,
    "name": "ml.g4dn.2xlarge",
    "vcpuNum": 8
   },
   {
    "_defaultOrder": 31,
    "_isFastLaunch": false,
    "category": "Accelerated computing",
    "gpuNum": 1,
    "hideHardwareSpecs": false,
    "memoryGiB": 64,
    "name": "ml.g4dn.4xlarge",
    "vcpuNum": 16
   },
   {
    "_defaultOrder": 32,
    "_isFastLaunch": false,
    "category": "Accelerated computing",
    "gpuNum": 1,
    "hideHardwareSpecs": false,
    "memoryGiB": 128,
    "name": "ml.g4dn.8xlarge",
    "vcpuNum": 32
   },
   {
    "_defaultOrder": 33,
    "_isFastLaunch": false,
    "category": "Accelerated computing",
    "gpuNum": 4,
    "hideHardwareSpecs": false,
    "memoryGiB": 192,
    "name": "ml.g4dn.12xlarge",
    "vcpuNum": 48
   },
   {
    "_defaultOrder": 34,
    "_isFastLaunch": false,
    "category": "Accelerated computing",
    "gpuNum": 1,
    "hideHardwareSpecs": false,
    "memoryGiB": 256,
    "name": "ml.g4dn.16xlarge",
    "vcpuNum": 64
   },
   {
    "_defaultOrder": 35,
    "_isFastLaunch": false,
    "category": "Accelerated computing",
    "gpuNum": 1,
    "hideHardwareSpecs": false,
    "memoryGiB": 61,
    "name": "ml.p3.2xlarge",
    "vcpuNum": 8
   },
   {
    "_defaultOrder": 36,
    "_isFastLaunch": false,
    "category": "Accelerated computing",
    "gpuNum": 4,
    "hideHardwareSpecs": false,
    "memoryGiB": 244,
    "name": "ml.p3.8xlarge",
    "vcpuNum": 32
   },
   {
    "_defaultOrder": 37,
    "_isFastLaunch": false,
    "category": "Accelerated computing",
    "gpuNum": 8,
    "hideHardwareSpecs": false,
    "memoryGiB": 488,
    "name": "ml.p3.16xlarge",
    "vcpuNum": 64
   },
   {
    "_defaultOrder": 38,
    "_isFastLaunch": false,
    "category": "Accelerated computing",
    "gpuNum": 8,
    "hideHardwareSpecs": false,
    "memoryGiB": 768,
    "name": "ml.p3dn.24xlarge",
    "vcpuNum": 96
   },
   {
    "_defaultOrder": 39,
    "_isFastLaunch": false,
    "category": "Memory Optimized",
    "gpuNum": 0,
    "hideHardwareSpecs": false,
    "memoryGiB": 16,
    "name": "ml.r5.large",
    "vcpuNum": 2
   },
   {
    "_defaultOrder": 40,
    "_isFastLaunch": false,
    "category": "Memory Optimized",
    "gpuNum": 0,
    "hideHardwareSpecs": false,
    "memoryGiB": 32,
    "name": "ml.r5.xlarge",
    "vcpuNum": 4
   },
   {
    "_defaultOrder": 41,
    "_isFastLaunch": false,
    "category": "Memory Optimized",
    "gpuNum": 0,
    "hideHardwareSpecs": false,
    "memoryGiB": 64,
    "name": "ml.r5.2xlarge",
    "vcpuNum": 8
   },
   {
    "_defaultOrder": 42,
    "_isFastLaunch": false,
    "category": "Memory Optimized",
    "gpuNum": 0,
    "hideHardwareSpecs": false,
    "memoryGiB": 128,
    "name": "ml.r5.4xlarge",
    "vcpuNum": 16
   },
   {
    "_defaultOrder": 43,
    "_isFastLaunch": false,
    "category": "Memory Optimized",
    "gpuNum": 0,
    "hideHardwareSpecs": false,
    "memoryGiB": 256,
    "name": "ml.r5.8xlarge",
    "vcpuNum": 32
   },
   {
    "_defaultOrder": 44,
    "_isFastLaunch": false,
    "category": "Memory Optimized",
    "gpuNum": 0,
    "hideHardwareSpecs": false,
    "memoryGiB": 384,
    "name": "ml.r5.12xlarge",
    "vcpuNum": 48
   },
   {
    "_defaultOrder": 45,
    "_isFastLaunch": false,
    "category": "Memory Optimized",
    "gpuNum": 0,
    "hideHardwareSpecs": false,
    "memoryGiB": 512,
    "name": "ml.r5.16xlarge",
    "vcpuNum": 64
   },
   {
    "_defaultOrder": 46,
    "_isFastLaunch": false,
    "category": "Memory Optimized",
    "gpuNum": 0,
    "hideHardwareSpecs": false,
    "memoryGiB": 768,
    "name": "ml.r5.24xlarge",
    "vcpuNum": 96
   },
   {
    "_defaultOrder": 47,
    "_isFastLaunch": false,
    "category": "Accelerated computing",
    "gpuNum": 1,
    "hideHardwareSpecs": false,
    "memoryGiB": 16,
    "name": "ml.g5.xlarge",
    "vcpuNum": 4
   },
   {
    "_defaultOrder": 48,
    "_isFastLaunch": false,
    "category": "Accelerated computing",
    "gpuNum": 1,
    "hideHardwareSpecs": false,
    "memoryGiB": 32,
    "name": "ml.g5.2xlarge",
    "vcpuNum": 8
   },
   {
    "_defaultOrder": 49,
    "_isFastLaunch": false,
    "category": "Accelerated computing",
    "gpuNum": 1,
    "hideHardwareSpecs": false,
    "memoryGiB": 64,
    "name": "ml.g5.4xlarge",
    "vcpuNum": 16
   },
   {
    "_defaultOrder": 50,
    "_isFastLaunch": false,
    "category": "Accelerated computing",
    "gpuNum": 1,
    "hideHardwareSpecs": false,
    "memoryGiB": 128,
    "name": "ml.g5.8xlarge",
    "vcpuNum": 32
   },
   {
    "_defaultOrder": 51,
    "_isFastLaunch": false,
    "category": "Accelerated computing",
    "gpuNum": 1,
    "hideHardwareSpecs": false,
    "memoryGiB": 256,
    "name": "ml.g5.16xlarge",
    "vcpuNum": 64
   },
   {
    "_defaultOrder": 52,
    "_isFastLaunch": false,
    "category": "Accelerated computing",
    "gpuNum": 4,
    "hideHardwareSpecs": false,
    "memoryGiB": 192,
    "name": "ml.g5.12xlarge",
    "vcpuNum": 48
   },
   {
    "_defaultOrder": 53,
    "_isFastLaunch": false,
    "category": "Accelerated computing",
    "gpuNum": 4,
    "hideHardwareSpecs": false,
    "memoryGiB": 384,
    "name": "ml.g5.24xlarge",
    "vcpuNum": 96
   },
   {
    "_defaultOrder": 54,
    "_isFastLaunch": false,
    "category": "Accelerated computing",
    "gpuNum": 8,
    "hideHardwareSpecs": false,
    "memoryGiB": 768,
    "name": "ml.g5.48xlarge",
    "vcpuNum": 192
   },
   {
    "_defaultOrder": 55,
    "_isFastLaunch": false,
    "category": "Accelerated computing",
    "gpuNum": 8,
    "hideHardwareSpecs": false,
    "memoryGiB": 1152,
    "name": "ml.p4d.24xlarge",
    "vcpuNum": 96
   },
   {
    "_defaultOrder": 56,
    "_isFastLaunch": false,
    "category": "Accelerated computing",
    "gpuNum": 8,
    "hideHardwareSpecs": false,
    "memoryGiB": 1152,
    "name": "ml.p4de.24xlarge",
    "vcpuNum": 96
   },
   {
    "_defaultOrder": 57,
    "_isFastLaunch": false,
    "category": "Accelerated computing",
    "gpuNum": 0,
    "hideHardwareSpecs": false,
    "memoryGiB": 32,
    "name": "ml.trn1.2xlarge",
    "vcpuNum": 8
   },
   {
    "_defaultOrder": 58,
    "_isFastLaunch": false,
    "category": "Accelerated computing",
    "gpuNum": 0,
    "hideHardwareSpecs": false,
    "memoryGiB": 512,
    "name": "ml.trn1.32xlarge",
    "vcpuNum": 128
   },
   {
    "_defaultOrder": 59,
    "_isFastLaunch": false,
    "category": "Accelerated computing",
    "gpuNum": 0,
    "hideHardwareSpecs": false,
    "memoryGiB": 512,
    "name": "ml.trn1n.32xlarge",
    "vcpuNum": 128
   }
  ],
  "instance_type": "ml.t3.medium",
  "kernelspec": {
   "display_name": "Python 3 (ipykernel)",
   "language": "python",
   "name": "python3"
  },
  "language_info": {
   "codemirror_mode": {
    "name": "ipython",
    "version": 3
   },
   "file_extension": ".py",
   "mimetype": "text/x-python",
   "name": "python",
   "nbconvert_exporter": "python",
   "pygments_lexer": "ipython3",
   "version": "3.11.11"
  },
  "papermill": {
   "default_parameters": {},
   "duration": 61.086519,
   "end_time": "2025-03-01T23:38:57.007069",
   "environment_variables": {},
   "exception": null,
   "input_path": "Train_XGB.ipynb",
   "output_path": "executed_Train_XGB.ipynb",
   "parameters": {
    "N_Trials": 2
   },
   "start_time": "2025-03-01T23:37:55.920550",
   "version": "2.6.0"
  }
 },
 "nbformat": 4,
 "nbformat_minor": 5
}